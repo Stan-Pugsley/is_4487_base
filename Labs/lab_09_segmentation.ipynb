{
  "cells": [
    {
      "cell_type": "markdown",
      "metadata": {
        "id": "08QqEJtqNsQ0"
      },
      "source": [
        "> ### Note on Labs and Assigments:\n",
        ">\n",
        "> 🔧 Look for the **wrench emoji** 🔧 — it highlights where you're expected to take action!\n",
        ">\n",
        "> These sections are graded and are not optional.\n",
        ">"
      ]
    },
    {
      "cell_type": "markdown",
      "metadata": {
        "id": "j9EbVdTfM5u6"
      },
      "source": [
        "# IS 4487 Lab 9: Segmentation\n",
        "\n",
        "In this lab, we return to the **SF Rent** dataset that we used in **Lab 4: Data Understanding** and **Lab 5: Exploratory Data Analysis (EDA)**.\n",
        "\n",
        "This time, we’ll explore how to segment the counties using both:\n",
        "- **Manual segmentation** based on business rules\n",
        "- **Automatic segmentation** using KMeans clustering\n",
        "\n",
        "Segmentation helps identify meaningful groups within data, such as counties with high rent burden or low affordability. This is valuable for making targeted decisions in housing policy, urban planning, and social support.\n",
        "\n",
        "\n",
        "## Outline\n",
        "\n",
        "- Load and inspect the SF Rents dataset  \n",
        "- Engineer and prepare features  \n",
        "- Create manual segments using binning  \n",
        "- Perform KMeans clustering for automatic segments  \n",
        "- Visualize and compare results  \n",
        "\n",
        "<a href=\"https://colab.research.google.com/github/Stan-Pugsley/is_4487_base/blob/main/Labs/lab_09_segmentation.ipynb\" target=\"_parent\">\n",
        "  <img src=\"https://colab.research.google.com/assets/colab-badge.svg\" alt=\"Open In Colab\"/>\n",
        "</a>\n"
      ]
    },
    {
      "cell_type": "markdown",
      "metadata": {
        "id": "ccIOW6-_M4Oj"
      },
      "source": [
        "## Dataset Overview\n",
        "\n",
        "**Dataset:** `rent.csv`  \n",
        "Source: [TidyTuesday – 2022-07-05](https://github.com/rfordatascience/tidytuesday/blob/main/data/2022/2022-07-05/rent.csv)\n",
        "\n",
        "| Variable       | Type       | Description |\n",
        "|----------------|------------|-------------|\n",
        "| `post_id`      | Categorical| Unique listing ID |\n",
        "| `date`         | Numeric    | Listing date (numeric format) |\n",
        "| `year`         | Integer    | Year of listing |\n",
        "| `nhood`        | Categorical| Neighborhood |\n",
        "| `city`         | Categorical| City |\n",
        "| `county`       | Categorical| County |\n",
        "| `price`        | Numeric    | Listing price (USD) |\n",
        "| `beds`         | Numeric    | Number of bedrooms |\n",
        "| `baths`        | Numeric    | Number of bathrooms |\n",
        "| `sqft`         | Numeric    | Square footage |\n",
        "| `room_in_apt`  | Binary     | 1 = room in apartment |\n",
        "| `address`      | Categorical| Street address |\n",
        "| `lat`          | Numeric    | Latitude |\n",
        "| `lon`          | Numeric    | Longitude |\n",
        "| `title`        | Text       | Listing title |\n",
        "| `descr`        | Text       | Listing description |\n",
        "| `details`      | Text       | Additional details |\n"
      ]
    },
    {
      "cell_type": "markdown",
      "metadata": {
        "id": "4Tppwsz5hny8"
      },
      "source": [
        "## Part 1: Importing the Data + Prepare for Segmentation\n",
        "\n",
        "### Instructions:\n",
        "- Import the `pandas` library.\n",
        "- Import data from the rent.csv into a dataframe from the tidytuesday link.\n",
        "- Use `.info()` and `.head()` to inspect the structure and preview the data.e structure and preview the data.\n",
        "- Remove duplicates\n",
        "- Handle missing values\n",
        "- Remove outliers (for price, beds, baths, sqft)\n",
        "- Fix data types\n",
        "- Optionally impute or filter variables"
      ]
    },
    {
      "cell_type": "code",
      "execution_count": null,
      "metadata": {
        "id": "vm_oELROkyD2"
      },
      "outputs": [],
      "source": [
        "import pandas as pd\n",
        "\n",
        "# Load the dataset\n",
        "url = 'https://raw.githubusercontent.com/rfordatascience/tidytuesday/main/data/2022/2022-07-05/rent.csv'\n",
        "df = pd.read_csv(url)\n",
        "\n",
        "# Get a quick overview\n",
        "df.info()\n",
        "df.head()\n"
      ]
    },
    {
      "cell_type": "code",
      "execution_count": null,
      "metadata": {
        "id": "tWgwSXOqm3Ze"
      },
      "outputs": [],
      "source": [
        "# STEP 1: Drop duplicates\n",
        "df = df.drop_duplicates(subset='post_id')\n",
        "\n",
        "# STEP 2: Drop rows with nulls in essential columns\n",
        "essential = ['price', 'beds', 'baths', 'sqft', 'lat', 'lon']\n",
        "df = df.dropna(subset=essential)\n",
        "\n",
        "# STEP 3: Remove outliers (common-sense filtering)\n",
        "df = df[df['price'].between(500, 20000)]\n",
        "df = df[df['beds'].between(0, 10)]\n",
        "df = df[df['baths'].between(0.5, 10)]\n",
        "df = df[df['sqft'].between(100, 5000)]\n",
        "\n",
        "# STEP 4: Convert data types if needed\n",
        "df['beds'] = df['beds'].astype(int)\n",
        "df['baths'] = df['baths'].astype(float)  # decimal values allowed\n",
        "df['sqft'] = df['sqft'].astype(int)\n",
        "df['price'] = df['price'].astype(int)\n",
        "\n",
        "# STEP 5: Reset index\n",
        "df = df.reset_index(drop=True)\n",
        "\n",
        "# Preview cleaned data\n",
        "df.info()\n",
        "df.head()\n"
      ]
    },
    {
      "cell_type": "markdown",
      "metadata": {
        "id": "Ai1ViC54k08U"
      },
      "source": [
        "## Part 2: Engineer and Prepare Features\n",
        "\n",
        "We’ll select features for clustering:\n",
        "- Property: `price`, `beds`, `baths`, `sqft`\n",
        "- Geographic: `lat`, `lon`\n",
        "\n",
        "We’ll standardize features to ensure fair weighting in distance-based clustering.\n",
        "\n",
        "### Why This Matters:\n",
        "Standardization avoids giving larger-scale variables (like `price`) more influence.\n",
        "\n",
        "### Things to think about:\n",
        "- Should all variables be scaled?\n",
        "- Do geographic coordinates need standardization?\n"
      ]
    },
    {
      "cell_type": "code",
      "execution_count": null,
      "metadata": {
        "id": "gNdgEO-Wk4In"
      },
      "outputs": [],
      "source": [
        "from sklearn.preprocessing import StandardScaler\n",
        "\n",
        "# Select and scale features\n",
        "features = ['price', 'beds', 'baths', 'sqft', 'lat', 'lon']\n",
        "segment_df = df[features].copy()\n",
        "\n",
        "scaler = StandardScaler()\n",
        "scaled_data = scaler.fit_transform(segment_df)\n",
        "\n",
        "# Convert back to DataFrame\n",
        "scaled_df = pd.DataFrame(scaled_data, columns=features)\n",
        "scaled_df.head()\n"
      ]
    },
    {
      "cell_type": "markdown",
      "metadata": {
        "id": "EkH_pwB2oG99"
      },
      "source": [
        "### 🔧 Try It Yourself – Part 2\n",
        "\n",
        "1. Why should lat/lon be scaled before clustering? What would happen if they weren’t?"
      ]
    },
    {
      "cell_type": "markdown",
      "metadata": {
        "id": "A53s6RX3oK91"
      },
      "source": [
        "🔧 Add comment here:"
      ]
    },
    {
      "cell_type": "markdown",
      "metadata": {
        "id": "tddqw9lpoOvD"
      },
      "source": [
        "## Part 3: Create Manual Segments Using Binning\n",
        "\n",
        "Let’s group listings by price into:\n",
        "- **Low**: < $2,000\n",
        "- **Mid**: $2,000–$4,000\n",
        "- **High**: > $4,000\n",
        "\n",
        "### Why This Matters:\n",
        "Manual bins based on thresholds offer simple segmentation — useful when business rules exist.\n",
        "\n",
        "### Things to think about:\n",
        "- Are fixed cutoffs better than percentiles?\n",
        "- Should you also bin square footage?\n"
      ]
    },
    {
      "cell_type": "code",
      "execution_count": null,
      "metadata": {
        "id": "_oBJ8WjtoTPt"
      },
      "outputs": [],
      "source": [
        "# Create price segments\n",
        "df['price_segment'] = pd.cut(\n",
        "    df['price'],\n",
        "    bins=[0, 2000, 4000, float('inf')],\n",
        "    labels=['Low', 'Mid', 'High']\n",
        ")\n",
        "\n",
        "df['price_segment'].value_counts()\n"
      ]
    },
    {
      "cell_type": "markdown",
      "metadata": {
        "id": "UvEqjg-hokIZ"
      },
      "source": [
        "### 🔧 Try It Yourself – Part 3\n",
        "\n",
        "1. Create a column called `sqft_segment` using bins:  \n",
        "  - Small: `< 800`, Medium: `800–1400`, Large: `>1400`  \n",
        "2. Count how many listings fall into each `sqft_segment` using `.value_counts()`  \n",
        "3. Use `.head()` to preview both `price_segment` and `sqft_segment`"
      ]
    },
    {
      "cell_type": "code",
      "execution_count": null,
      "metadata": {
        "id": "54QKZr8iowQ5"
      },
      "outputs": [],
      "source": [
        "# 🔧 Add code here"
      ]
    },
    {
      "cell_type": "markdown",
      "metadata": {
        "id": "VvjA_keroy7f"
      },
      "source": [
        "## Part 4: Perform KMeans Clustering\n",
        "\n",
        "We’ll create two sets of clusters:\n",
        "1. **Feature-based** (price, beds, baths, sqft)\n",
        "2. **Geographic-based** (lat, lon)\n",
        "\n",
        "### Why This Matters:\n",
        "Unsupervised clustering finds hidden patterns — useful for market segmentation, targeting, etc.\n",
        "\n",
        "### Things to think about:\n",
        "- How many clusters should you use?\n",
        "- How do results differ between property and location clusters?\n"
      ]
    },
    {
      "cell_type": "code",
      "execution_count": null,
      "metadata": {
        "id": "LYwdX8gepEFQ"
      },
      "outputs": [],
      "source": [
        "from sklearn.cluster import KMeans\n",
        "\n",
        "# Select only the standardized property features\n",
        "X_feat = scaled_df[['price', 'beds', 'baths', 'sqft']]\n",
        "\n",
        "# Apply KMeans clustering with 4 clusters\n",
        "kmeans_feat = KMeans(n_clusters=4, random_state=1)\n",
        "scaled_df['feature_cluster'] = kmeans_feat.fit_predict(X_feat)\n",
        "\n",
        "# Show number of listings in each cluster\n",
        "scaled_df['feature_cluster'].value_counts()\n"
      ]
    },
    {
      "cell_type": "code",
      "execution_count": null,
      "metadata": {
        "id": "rPT8ixi0pE3M"
      },
      "outputs": [],
      "source": [
        "# Select only standardized geographic coordinates\n",
        "X_geo = scaled_df[['lat', 'lon']]\n",
        "\n",
        "# Apply KMeans clustering with 5 clusters\n",
        "kmeans_geo = KMeans(n_clusters=5, random_state=1)\n",
        "scaled_df['geo_cluster'] = kmeans_geo.fit_predict(X_geo)\n",
        "\n",
        "# Show number of listings in each geographic cluster\n",
        "scaled_df['geo_cluster'].value_counts()"
      ]
    },
    {
      "cell_type": "markdown",
      "metadata": {
        "id": "d18KChETpKEc"
      },
      "source": [
        "### 🔧 Try It Yourself – Part 4\n",
        "\n",
        "1. Run KMeans again using `k=3` and compare the cluster counts  \n",
        "2. Plot a histogram of `price` grouped by `feature_cluster`  "
      ]
    },
    {
      "cell_type": "code",
      "execution_count": null,
      "metadata": {
        "id": "odDHop_JpN5O"
      },
      "outputs": [],
      "source": [
        "# 🔧 Add code here"
      ]
    },
    {
      "cell_type": "markdown",
      "metadata": {
        "id": "Ej-sJdrWpPKn"
      },
      "source": [
        "## Part 5: Visualize and Compare Results\n",
        "\n",
        "We’ll now visualize:\n",
        "- Clusters on a map (lat/lon)\n",
        "- Clusters in price vs sqft space\n",
        "\n",
        "### Why This Matters:\n",
        "Visual validation helps determine if clusters are interpretable and useful.\n",
        "\n",
        "### Things to think about:\n",
        "- Are location clusters geographically meaningful?\n",
        "- Do property clusters separate by price or size?"
      ]
    },
    {
      "cell_type": "code",
      "execution_count": null,
      "metadata": {
        "id": "SwqZ0dWMpa9r"
      },
      "outputs": [],
      "source": [
        "import matplotlib.pyplot as plt\n",
        "import seaborn as sns\n",
        "\n",
        "# Plot latitude vs longitude colored by geographic cluster\n",
        "plt.figure(figsize=(10,6))\n",
        "sns.scatterplot(data=scaled_df,\n",
        "                x='lon',\n",
        "                y='lat',\n",
        "                hue='geo_cluster',\n",
        "                palette='tab10')\n",
        "\n",
        "plt.title(\"KMeans Geographic Clusters (lat/lon)\")\n",
        "plt.xlabel(\"Longitude\")\n",
        "plt.ylabel(\"Latitude\")\n",
        "plt.legend(title='Geo Cluster')\n",
        "plt.show()"
      ]
    },
    {
      "cell_type": "code",
      "execution_count": null,
      "metadata": {
        "id": "qd44Iy-xpdVB"
      },
      "outputs": [],
      "source": [
        "# Plot price vs square footage colored by feature cluster\n",
        "plt.figure(figsize=(10,6))\n",
        "sns.scatterplot(data=scaled_df,\n",
        "                x='price',\n",
        "                y='sqft',\n",
        "                hue='feature_cluster',\n",
        "                palette='Set2')\n",
        "\n",
        "plt.title(\"KMeans Property Clusters (Price vs Sqft)\")\n",
        "plt.xlabel(\"Price\")\n",
        "plt.ylabel(\"Square Footage\")\n",
        "plt.legend(title='Feature Cluster')\n",
        "plt.show()"
      ]
    },
    {
      "cell_type": "markdown",
      "metadata": {
        "id": "0pIKsxVyp8fG"
      },
      "source": [
        "### 🔧 Try It Yourself – Part 5\n",
        "\n",
        "1. Add `beds` as the **point size** in your scatterplot of `price` vs `sqft`  \n",
        "2. Add `baths` as the **point style** in your `sns.scatterplot()`  \n",
        "3. Group by `feature_cluster` and calculate:\n",
        "  - Average `price`\n",
        "  - Average `sqft`\n",
        "  - Average `beds`  \n"
      ]
    },
    {
      "cell_type": "code",
      "execution_count": null,
      "metadata": {
        "id": "DyROXB3YqHiZ"
      },
      "outputs": [],
      "source": [
        "# 🔧 Add code here"
      ]
    },
    {
      "cell_type": "markdown",
      "metadata": {
        "id": "aVdkEpAbqK_W"
      },
      "source": [
        "## 🔧 Part 6: Reflection (100 words or less per question)\n",
        "\n",
        "1. Which method—manual binning or KMeans clustering—gave you more useful insights?\n",
        "2. How might missing data or outliers affect your segmentation results?\n"
      ]
    },
    {
      "cell_type": "markdown",
      "metadata": {
        "id": "um-GtobuqYWM"
      },
      "source": [
        "🔧 Add comment here"
      ]
    },
    {
      "cell_type": "markdown",
      "metadata": {},
      "source": [
        "## Export Your Notebook to Submit in Canvas\n",
        "- Use the instructions from Lab 1"
      ]
    },
    {
      "cell_type": "code",
      "execution_count": null,
      "metadata": {},
      "outputs": [],
      "source": [
        "!jupyter nbconvert --to html \"lab_09_LastnameFirstname.ipynb\""
      ]
    }
  ],
  "metadata": {
    "colab": {
      "provenance": []
    },
    "kernelspec": {
      "display_name": "Python 3",
      "name": "python3"
    },
    "language_info": {
      "name": "python"
    }
  },
  "nbformat": 4,
  "nbformat_minor": 0
}
