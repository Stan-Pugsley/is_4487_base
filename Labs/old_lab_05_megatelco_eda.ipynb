{
  "cells": [
    {
      "cell_type": "markdown",
      "metadata": {
        "id": "p_Yu45OYdj3Y"
      },
      "source": [
        "# IS 4487 Module 5\n",
        "\n",
        "## Outline\n",
        "\n",
        " - Identify the target variable for an analysis based on the business problem.\n",
        " - Compute the mean of a binary variable.\n",
        " - Plot a numeric (or count) variable against a categorical \n",
        "    variable.\n",
        " - Calculate a count (and a proportion) for a categorical variable \n",
        "    and visualize the result into a plot.\n",
        "\n",
        "<a href=\"https://colab.research.google.com/github/Stan-Pugsley/is_4487_base/blob/main/Labs/Scripts/lab_05_megatelco_eda.ipynb\" target=\"_parent\"><img src=\"https://colab.research.google.com/assets/colab-badge.svg\" alt=\"Open In Colab\"/></a> "
      ]
    },
    {
      "cell_type": "markdown",
      "metadata": {},
      "source": [
        "## Megatelco Data Dictionary \n",
        "\n",
        " DEMOGRAPHIC VARIABLES:\n",
        " - College - has the customer attended some college (one, zero)\n",
        " - Income - annual income of customer\n",
        " - House - estimated price of the customer's home (if applicable)\n",
        "\n",
        " USAGE VARIABLES:\n",
        " - Data Overage Mb - Average number of megabytes that the customer used in excess of the plan limit (over last 12 months)\n",
        " - Data Leftover Mb - Average number of megabytes that the customer use was below the plan limit (over last 12 months)\n",
        " - Data Mb Used - Average number of megabytes used per month (over last 12 months)\n",
        " - Text Message Count - Average number of texts per month (over last 12 months)\n",
        " - Over 15 Minute Calls Per Month - Average number of calls over 15 minutes in duration per month (over last 12 months)\n",
        " - Average Call Duration- Average call duration (over last 12 months)\n",
        "\n",
        "PHONE VARIABLES:\n",
        " - Operating System - Current operating system of phone\n",
        " - Handset Price - Retail price of the phone used by the customer\n",
        "\n",
        "ATTITUDINAL VARIABLES:\n",
        " - Reported Satisfaction - Survey response to \"How satisfied are you with your current phone plan?\" (high, med, low)\n",
        " - Reported Usage Level - Survey response to \"How much do your use your phone?\" (high, med, low)\n",
        " - Considering Change of Plan - Survey response to \"Are you currently planning to change companies when your contract expires?\" (high, med, low)\n",
        "\n",
        "OTHER VARIABLES\n",
        " - Leave - Did this customer churn with the last contract expiration? (LEAVE, STAY)\n",
        " - ID - Customer identifier"
      ]
    },
    {
      "cell_type": "markdown",
      "metadata": {
        "id": "UE93RwXhgiJS"
      },
      "source": [
        "##Load Libraries\n",
        "\n",
        "In this class we will be using \n",
        "- Pandas\n",
        "- Scikitlearn\n",
        "- Matplotlib\n"
      ]
    },
    {
      "cell_type": "code",
      "execution_count": 8,
      "metadata": {
        "id": "JYRZY5n0gfNe"
      },
      "outputs": [],
      "source": [
        "import pandas as pd\n",
        "import matplotlib as mpl\n",
        "import sklearn as sl"
      ]
    },
    {
      "cell_type": "markdown",
      "metadata": {
        "id": "bREaXo8jfu-O"
      },
      "source": [
        "## Import Data into Dataframe\n",
        "\n",
        "➡️ Assignment Tasks\n",
        "- Import data from the Megatelco dataset into a dataframe (in GitHub go to Labs > DataSets)\n",
        "- Describe or profile the dataframe\n"
      ]
    },
    {
      "cell_type": "code",
      "execution_count": null,
      "metadata": {
        "colab": {
          "base_uri": "https://localhost:8080/"
        },
        "id": "6_FwprxVgR0e",
        "outputId": "0a1e22f0-b6aa-4023-e018-c1d89134fe1a"
      },
      "outputs": [],
      "source": []
    },
    {
      "cell_type": "markdown",
      "metadata": {},
      "source": [
        "## Clean up the dataset  "
      ]
    },
    {
      "cell_type": "code",
      "execution_count": null,
      "metadata": {},
      "outputs": [],
      "source": [
        "df_clean = df[(df['house'] > 0) & (df['income'] > 0) & (df['handset_price'] < 10000)]\n",
        "df_clean.describe()"
      ]
    },
    {
      "cell_type": "markdown",
      "metadata": {
        "id": "uathUi6xfDPf"
      },
      "source": [
        "## Calculate distribution of the outcome  \n",
        "\n",
        "What is the proportion of people who churned?"
      ]
    },
    {
      "cell_type": "code",
      "execution_count": null,
      "metadata": {
        "colab": {
          "base_uri": "https://localhost:8080/",
          "height": 143
        },
        "id": "bC93rEgNfFNh",
        "outputId": "a0afa4bb-ad21-4aa1-f17f-0178363d7509"
      },
      "outputs": [],
      "source": [
        "df_clean[['house','leave']].groupby('leave').mean().round(2) "
      ]
    },
    {
      "cell_type": "markdown",
      "metadata": {
        "id": "SoJLJMlceORN"
      },
      "source": [
        "# Create basic charts\n",
        "\n",
        "- Bar chart\n",
        "- Histogram\n",
        "- Box plot\n",
        "- Scatter plot"
      ]
    },
    {
      "cell_type": "code",
      "execution_count": null,
      "metadata": {
        "colab": {
          "base_uri": "https://localhost:8080/",
          "height": 317
        },
        "id": "WBH7aRXbOUf4",
        "outputId": "1ccf9089-fd89-463d-cde7-966061c7412d"
      },
      "outputs": [],
      "source": [
        "#Bar chart\n",
        "df_clean[['house','leave']].groupby('leave').mean('house').plot.bar()\n"
      ]
    },
    {
      "cell_type": "code",
      "execution_count": null,
      "metadata": {
        "colab": {
          "base_uri": "https://localhost:8080/",
          "height": 294
        },
        "id": "eVOSIP8SeYg3",
        "outputId": "0184ba95-c8da-4769-d571-a271581d7009"
      },
      "outputs": [],
      "source": [
        "#Histogram\n",
        "hist = df_clean['house'].plot.hist(bins=10,title='House Price (in millions)')\n"
      ]
    },
    {
      "cell_type": "code",
      "execution_count": null,
      "metadata": {
        "colab": {
          "base_uri": "https://localhost:8080/",
          "height": 373
        },
        "id": "SFOTNW70MbI9",
        "outputId": "d5e15ccb-f5f7-4306-9ecb-9931ba470685"
      },
      "outputs": [],
      "source": [
        "#Boxplot\n",
        "df_clean[['leave','house']].boxplot(by='leave')"
      ]
    },
    {
      "cell_type": "markdown",
      "metadata": {
        "id": "YIfa0vJiMquy"
      },
      "source": [
        "# Explore Relationships\n",
        "\n",
        "###How does College affect leaving?"
      ]
    },
    {
      "cell_type": "code",
      "execution_count": null,
      "metadata": {
        "colab": {
          "base_uri": "https://localhost:8080/",
          "height": 317
        },
        "id": "F9kP2CPAMdQy",
        "outputId": "52d65111-fa3f-460e-8381-db8fe0ea5351"
      },
      "outputs": [],
      "source": [
        "#Bar chart with counts\n",
        "df_clean[['college','leave']].groupby('leave').count().plot.bar()"
      ]
    },
    {
      "cell_type": "code",
      "execution_count": null,
      "metadata": {
        "colab": {
          "base_uri": "https://localhost:8080/",
          "height": 317
        },
        "id": "TpUqqg_rND1c",
        "outputId": "b078dcc3-8183-4884-d50e-4eb363fa20f5"
      },
      "outputs": [],
      "source": [
        "#Bar chart with percentage\n",
        "college_summary = df_clean[['college','leave']].groupby('leave').count()\n",
        "\n",
        "college_summary['college'] = (college_summary['college'] / college_summary['college'].sum()) * 100\n",
        "#college_summary.head()\n",
        "college_summary.plot.bar()"
      ]
    },
    {
      "cell_type": "markdown",
      "metadata": {
        "id": "V7Rj5IqGP0kL"
      },
      "source": [
        "### How does phone price affect leaving?"
      ]
    },
    {
      "cell_type": "code",
      "execution_count": null,
      "metadata": {
        "colab": {
          "base_uri": "https://localhost:8080/",
          "height": 317
        },
        "id": "rnls4KjPP4jW",
        "outputId": "74890808-8d64-41ad-dd2c-6825a1b2bd3a"
      },
      "outputs": [],
      "source": [
        "#Bar chart with mean price\n",
        "handset_price_summary = df_clean[['handset_price','leave']].groupby('leave').mean(['handset_price'])\n",
        "#handset_price_summary.head()\n",
        "\n",
        "handset_price_summary.plot.bar()"
      ]
    },
    {
      "cell_type": "markdown",
      "metadata": {
        "id": "jDzW72IVQPkW"
      },
      "source": [
        "### How about considering leaving?"
      ]
    },
    {
      "cell_type": "code",
      "execution_count": null,
      "metadata": {
        "colab": {
          "base_uri": "https://localhost:8080/",
          "height": 317
        },
        "id": "Ht12Gx13QSzO",
        "outputId": "b5acbd27-6149-49e6-ea67-af4a10532cbc"
      },
      "outputs": [],
      "source": [
        "#Bar chart with percentage\n",
        "plan = df_clean[['considering_change_of_plan','leave']].groupby('leave').count()\n",
        "\n",
        "plan['considering_change_of_plan'] = (plan['considering_change_of_plan'] / plan['considering_change_of_plan'].sum()) * 100\n",
        "\n",
        "plan.plot.bar()"
      ]
    },
    {
      "cell_type": "markdown",
      "metadata": {
        "id": "_SdetdcOj7po"
      },
      "source": [
        "## Create a Pair Plot\n",
        "➡️ Assignment Tasks\n",
        "- Import seaborn\n",
        "- Create a Seaborn \"pairplot\" using all variables, with the color determine by \"leave\"\n",
        "- Display the plot"
      ]
    },
    {
      "cell_type": "code",
      "execution_count": null,
      "metadata": {},
      "outputs": [],
      "source": [
        "#pair plot"
      ]
    },
    {
      "cell_type": "markdown",
      "metadata": {},
      "source": [
        "## Additional Cleanup\n",
        "\n",
        "➡️ Assignment Tasks\n",
        "- Remove any records with null values from the dataframe"
      ]
    },
    {
      "cell_type": "code",
      "execution_count": null,
      "metadata": {},
      "outputs": [],
      "source": []
    },
    {
      "cell_type": "markdown",
      "metadata": {},
      "source": [
        "## Summarize Data\n",
        "\n",
        "➡️ Assignment Tasks\n",
        "- Create a second set of charts that include the outlier values (house, income, price).   How do the outliers affect the values in the charts?"
      ]
    },
    {
      "cell_type": "code",
      "execution_count": null,
      "metadata": {},
      "outputs": [],
      "source": [
        "#house price"
      ]
    },
    {
      "cell_type": "code",
      "execution_count": null,
      "metadata": {},
      "outputs": [],
      "source": [
        "#income"
      ]
    },
    {
      "cell_type": "code",
      "execution_count": null,
      "metadata": {},
      "outputs": [],
      "source": [
        "#price"
      ]
    },
    {
      "cell_type": "markdown",
      "metadata": {},
      "source": [
        "## Covariance\n",
        "\n",
        "➡️ Assignment Task\n",
        "- Create a covariance matrix using all of the applicable independent variables"
      ]
    },
    {
      "cell_type": "code",
      "execution_count": null,
      "metadata": {},
      "outputs": [],
      "source": [
        "#matrix"
      ]
    },
    {
      "cell_type": "markdown",
      "metadata": {},
      "source": [
        "➡️ Assignment Task\n",
        "- In 100 words or less, describe what insight you can derive from the covariance matrix.  What does it tell us about the data?  "
      ]
    },
    {
      "cell_type": "markdown",
      "metadata": {},
      "source": []
    }
  ],
  "metadata": {
    "colab": {
      "name": "Module3_Script_v1.2.ipynb",
      "provenance": []
    },
    "kernelspec": {
      "display_name": "Python 3",
      "name": "python3"
    },
    "language_info": {
      "name": "python"
    }
  },
  "nbformat": 4,
  "nbformat_minor": 0
}
