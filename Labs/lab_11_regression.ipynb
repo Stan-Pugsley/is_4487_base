{
  "cells": [
    {
      "cell_type": "markdown",
      "metadata": {
        "id": "MGF9KN3311v9"
      },
      "source": [
        "> ### Note on Labs and Assignments:\n",
        ">\n",
        "> 🔧 Look for the **wrench emoji** 🔧 — it highlights where you're expected to take action!\n",
        ">\n",
        "> These sections are graded and are not optional.\n",
        ">"
      ]
    },
    {
      "cell_type": "markdown",
      "metadata": {
        "id": "mjw0KP6b2M9i"
      },
      "source": [
        "# Lab 11: Linear Regression for HR\n",
        "\n",
        "In this lab, we’ll use the merged HR dataset to build a **linear regression model** to predict the number of years that an employee will work for the company (job tenure).\n",
        "\n",
        "### Problem Statement\n",
        "A large company employs, at any given point of time, around 4000 employees. However, every year, around 15% of its employees leave the company and need to be replaced with the talent pool available in the job market. The management believes that this employee turnover is bad for the company, because of the following reasons -\n",
        "\n",
        "- The former employees’ projects get delayed, which makes it difficult to meet timelines, resulting in a reputation loss among consumers and partners\n",
        "- A sizeable department has to be maintained, for the purposes of recruiting new talent\n",
        "- More often than not, the new employees have to be trained for the job and/or given time to acclimatise themselves to the company\n",
        "\n",
        "Hence, the management has contracted an HR analytics firm to understand what factors they should focus on, in order to increase the number of years that employees stay with the company. In other words, they want to know what changes they should make to their workplace, in order to get most of their employees to stay. Also, they want to know which of these variables is most important and needs to be addressed right away.\n",
        "\n",
        "Since you are one of the star analysts at the firm, this project has been given to you.\n",
        "\n",
        "### Goal of the case study\n",
        "You are required to model the number of years employees work for the company using a llinear regression. The results thus obtained will be used by the management to understand what changes they should make to their workplace, in order to get most of their employees to stay.\n",
        "\n",
        "\n",
        "### Analytics Objectives:\n",
        "1. Load and explore the dataset\n",
        "2. Clean and prepare features\n",
        "3. Encode categorical variables\n",
        "4. Split the data into training and test sets\n",
        "5. Train and evaluate a linear regression model\n",
        "6. Reflect on variable importance and model fit\n",
        "\n",
        "**Target Variable:** `YearsAtCompany` \n",
        "\n",
        "\n",
        "<a href=\"https://colab.research.google.com/github/Stan-Pugsley/is_4487_base/blob/main/Labs/lab_11_regression.ipynb\" target=\"_parent\">\n",
        "  <img src=\"https://colab.research.google.com/assets/colab-badge.svg\" alt=\"Open In Colab\"/>\n",
        "</a>\n"
      ]
    },
    {
      "cell_type": "markdown",
      "metadata": {
        "id": "7EenZ8qDCZnB"
      },
      "source": [
        "## Dataset Overview\n",
        "\n",
        "**Dataset:** `merged_hr_data.csv`  \n",
        "Source: [Kaggle HR Analytics Case Study](https://www.kaggle.com/datasets/vjchoudhary7/hr-analytics-case-study)\n",
        "\n",
        "| Variable                      | Type        | Description |\n",
        "|-------------------------------|-------------|-------------|\n",
        "| `Age`                         | Numeric     | Age of the employee |\n",
        "| `Attrition`                   | Categorical | Whether the employee has left the company (Yes/No) |\n",
        "| `BusinessTravel`              | Categorical | Frequency of business travel |\n",
        "| `Department`                  | Categorical | Department name |\n",
        "| `DistanceFromHome`           | Numeric     | Distance from home to work (in km) |\n",
        "| `Education`                  | Ordinal     | Employee education level (1–5) |\n",
        "| `EducationField`             | Categorical | Field of education |\n",
        "| `EmployeeID`                 | Identifier  | Unique identifier for employee |\n",
        "| `EmployeeCount`              | Constant    | Always 1 (not useful for modeling) |\n",
        "| `EnvironmentSatisfaction`    | Ordinal     | Satisfaction with the environment (1–4) |\n",
        "| `Gender`                     | Categorical | Gender of the employee |\n",
        "| `JobInvolvement`             | Ordinal     | Level of involvement with job (1–4) |\n",
        "| `JobLevel`                   | Ordinal     | Employee level (1–5) |\n",
        "| `JobRole`                    | Categorical | Job title |\n",
        "| `JobSatisfaction`            | Ordinal     | Satisfaction with the job (1–4) |\n",
        "| `MaritalStatus`              | Categorical | Marital status |\n",
        "| `MonthlyIncome`              | Numeric     | Monthly salary in USD |\n",
        "| `NumCompaniesWorked`         | Numeric     | Number of companies previously worked for |\n",
        "| `Over18`                     | Constant    | Always \"Y\" (not useful) |\n",
        "| `PercentSalaryHike`          | Numeric     | Percentage salary increase |\n",
        "| `PerformanceRating`          | Ordinal     | Performance rating (1–4) |\n",
        "| `StandardHours`              | Constant    | Always 80 (not useful) |\n",
        "| `StockOptionLevel`           | Ordinal     | Stock options level (0–3) |\n",
        "| `TotalWorkingYears`          | Numeric     | Total years of professional experience |\n",
        "| `TrainingTimesLastYear`      | Numeric     | Number of training sessions attended last year |\n",
        "| `WorkLifeBalance`            | Ordinal     | Work-life balance rating (1–4) |\n",
        "| `YearsAtCompany`             | Numeric     | Years spent at the current company |\n",
        "| `YearsInCurrentRole`         | Numeric     | Years spent in current role |\n",
        "| `YearsSinceLastPromotion`    | Numeric     | Years since last promotion |\n",
        "| `YearsWithCurrManager`       | Numeric     | Years with current manager |\n",
        "| `JobSatisfaction`            | Ordinal     | Self-reported job satisfaction (1–4) |\n",
        "| `EnvironmentSatisfaction`    | Ordinal     | Satisfaction with the work environment (1–4) |\n",
        "| `WorkLifeBalance`            | Ordinal     | Work-life balance rating (1–4) |\n",
        "| `JobInvolvement`             | Ordinal     | Employee’s job involvement level (1–4) |\n",
        "| `PerformanceRating`          | Ordinal     | Most recent performance rating |\n",
        "\n"
      ]
    },
    {
      "cell_type": "markdown",
      "metadata": {
        "id": "63A8bxtoDHZl"
      },
      "source": [
        "## Part 1: Load data and packages\n",
        "\n",
        "\n"
      ]
    },
    {
      "cell_type": "code",
      "execution_count": null,
      "metadata": {
        "id": "LBi6IsGR2MZa"
      },
      "outputs": [],
      "source": [
        "import pandas as pd\n",
        "\n",
        "# Load the merged HR dataset\n",
        "url = \"https://raw.githubusercontent.com/Stan-Pugsley/is_4487_base/refs/heads/main/DataSets/merged_hr_data.csv\"\n",
        "df = pd.read_csv(url)\n",
        "\n",
        "# Preview structure\n",
        "print(\"Shape:\", df.shape)\n",
        "df.head()\n"
      ]
    },
    {
      "cell_type": "markdown",
      "metadata": {
        "id": "pCXh3rZEDDqA"
      },
      "source": [
        "## Part 2: Data Cleaning\n",
        "\n",
        "Real-world HR data often contains administrative fields (e.g., ID numbers), constants (same value for all rows), or missing values.\n",
        "\n",
        "### What We’re Doing:\n",
        "- Remove irrelevant or constant columns: `EmployeeCount`, `Over18`, `StandardHours`, `EmployeeID`\n",
        "- Drop rows with missing data\n",
        "\n",
        "### Why It Matters:\n",
        "- Non-informative or redundant features can reduce model accuracy and interpretability.\n",
        "- Regression does not handle missing values natively, so we need a clean dataset.\n",
        "- Dropping some rows is reasonable here due to the relatively small number of nulls.\n",
        "\n",
        "> Ethical Note: In practice, dropping rows may disproportionately exclude certain groups—so this step should be handled with caution.\n"
      ]
    },
    {
      "cell_type": "code",
      "execution_count": null,
      "metadata": {
        "id": "WKbOk3wnyI6x"
      },
      "outputs": [],
      "source": [
        "# Drop unnecessary columns\n",
        "drop_cols = ['EmployeeCount', 'Over18', 'StandardHours', 'EmployeeID', 'Attrition']\n",
        "df.drop(columns=drop_cols, inplace=True)\n",
        "\n",
        "# Drop rows with any missing values\n",
        "df.dropna(inplace=True)\n",
        "\n",
        "# Check result\n",
        "print(\"After cleaning:\", df.shape)\n"
      ]
    },
    {
      "cell_type": "markdown",
      "metadata": {
        "id": "ELOsb3sJDieS"
      },
      "source": [
        "## Part 3: Encode Categorical Variables\n",
        "\n",
        "Machine learning algorithms like linear regression require **numeric inputs**. To use categorical data like `Gender` or `JobRole`, we convert them into **dummy variables** using one-hot encoding.\n",
        "\n",
        "### Key Steps:\n",
        "- Use `pd.get_dummies()` with `drop_first=True` to avoid multicollinearity\n",
        "\n",
        "### Why It Matters:\n",
        "- Ensures model can interpret categorical inputs numerically\n",
        "- Dropping the first dummy prevents the \"dummy variable trap\" where one variable is a linear combination of others\n",
        "- Accurate encoding helps ensure model fairness and interpretability\n",
        "\n",
        "> Reminder: Avoid encoding identifiers or columns with too many unique levels without reduction.\n",
        "\n"
      ]
    },
    {
      "cell_type": "code",
      "execution_count": null,
      "metadata": {
        "id": "xi1kZ7ewDhfJ"
      },
      "outputs": [],
      "source": [
        "# One-hot encode categorical features\n",
        "df_encoded = pd.get_dummies(df, drop_first=True)\n",
        "\n",
        "# Preview encoded columns\n",
        "df_encoded.info()"
      ]
    },
    {
      "cell_type": "markdown",
      "metadata": {
        "id": "Kh7PpONDDrVT"
      },
      "source": [
        "### 🔧 Try It Yourself - Part 3\n",
        "\n",
        "1. How many new columns were created during one-hot encoding?  \n",
        "2. Why is it important to avoid including columns like `EmployeeID` in modeling?\n",
        "3. Our model is trying to predict employment longevity.  Why is `Attrition` problematic for predicting years at the company? \n",
        "\n",
        "Write a few sentences on each of the questions above. No coding is required here. \n"
      ]
    },
    {
      "cell_type": "markdown",
      "metadata": {
        "id": "5tRDHPJbD8yv"
      },
      "source": [
        "🔧 Add comment here:"
      ]
    },
    {
      "cell_type": "markdown",
      "metadata": {
        "id": "baWjA4QAcq3i"
      },
      "source": [
        "### Part 4: Standardizing Features for Regression\n",
        "\n",
        "When using models like **linear regression**, it's highly recommended to ensure all numeric features are on a similar scale. This helps the model converge more reliably and prevents features with larger magnitudes from dominating the learning process.\n",
        "\n",
        "In this step, we'll use `StandardScaler` from `sklearn` to scale all feature columns to have a mean of 0 and a standard deviation of 1.\n",
        "\n",
        "This is especially important your dataset includes variables with vastly different units or scales (e.g., \"Age\" vs. \"MonthlyIncome\")\n",
        "\n",
        "> **Note:** The target variable (`YearsAtCompany`) should **not** be scaled — only the input features.\n",
        "\n",
        "---\n"
      ]
    },
    {
      "cell_type": "code",
      "execution_count": null,
      "metadata": {
        "id": "GqJpzo0TcqQp"
      },
      "outputs": [],
      "source": [
        "from sklearn.preprocessing import StandardScaler\n",
        "\n",
        "# Separate the features and the target\n",
        "X = df_encoded.drop(columns=['YearsAtCompany'])\n",
        "y = df_encoded['YearsAtCompany']\n",
        "\n",
        "# Apply standardization\n",
        "scaler = StandardScaler()\n",
        "X_scaled = scaler.fit_transform(X)\n",
        "\n",
        "# Reconstruct scaled DataFrame\n",
        "X = pd.DataFrame(X_scaled, columns=X.columns)\n",
        "\n",
        "# Preview the scaled features\n",
        "X.head()"
      ]
    },
    {
      "cell_type": "markdown",
      "metadata": {
        "id": "FEsXIv2ddXgq"
      },
      "source": [
        "### 🔧 Try It Yourself - Part 4\n",
        "\n",
        "You've now scaled your features using `StandardScaler`, which makes each feature have a mean of 0 and a standard deviation of 1.\n",
        "\n",
        "**Think about this:**\n",
        "Suppose we didn't standardize the features and trained a regression model using raw input data instead. What might happen to the interpretation or relative importance of the coefficients?\n",
        "\n",
        "**Write one or two sentences** explaining how not standardizing the data could affect the model's performance or interpretability.\n"
      ]
    },
    {
      "cell_type": "markdown",
      "metadata": {
        "id": "ScvQyZZsdYiT"
      },
      "source": [
        "🔧 Add comment here:"
      ]
    },
    {
      "cell_type": "markdown",
      "metadata": {
        "id": "WijlP1IqDvig"
      },
      "source": [
        "## Part 5: Train-Test Split\n",
        "\n",
        "We'll split the dataset into:\n",
        "- 80% for training\n",
        "- 20% for testing\n",
        "\n",
        "To preserve class proportions, we **stratify on our target variable**. This ensures fair evaluation.\n",
        "\n",
        "> This step helps avoid training/test imbalance especially in classification tasks.\n",
        "\n"
      ]
    },
    {
      "cell_type": "code",
      "execution_count": null,
      "metadata": {
        "id": "HyxzBtcWD3So"
      },
      "outputs": [],
      "source": [
        "from sklearn.model_selection import train_test_split\n",
        "\n",
        "# Use already standardized features in X, and original target y\n",
        "X_train, X_test, y_train, y_test = train_test_split(\n",
        "    X, y, test_size=0.2, stratify=y, random_state=42\n",
        ")\n",
        "\n",
        "# Check the shapes of the splits\n",
        "X_train.shape, X_test.shape\n",
        "\n"
      ]
    },
    {
      "cell_type": "markdown",
      "metadata": {
        "id": "DBVnTW3SD7YH"
      },
      "source": [
        "### 🔧 Try It Yourself - Part 5\n",
        "\n",
        "1. In the code cell below, calculate what average `YearsAtCompany` for all employees \n",
        "2. Then answer the following question in the markdown cell: Why is stratified sampling especially important for classification?\n"
      ]
    },
    {
      "cell_type": "code",
      "execution_count": null,
      "metadata": {
        "id": "BP5ri11tD6pL"
      },
      "outputs": [],
      "source": [
        "# 🔧 Add code here"
      ]
    },
    {
      "cell_type": "markdown",
      "metadata": {
        "id": "5pE6rsE5EEJ1"
      },
      "source": [
        "🔧 Add comment here:"
      ]
    },
    {
      "cell_type": "markdown",
      "metadata": {
        "id": "4gIDp7J0EDly"
      },
      "source": [
        "## Part 6: Train the Regression\n",
        "\n",
        "Now we fit a linear regression model using the training data.  "
      ]
    },
    {
      "cell_type": "code",
      "execution_count": null,
      "metadata": {
        "id": "K63xKIS5H2kR"
      },
      "outputs": [],
      "source": [
        "from sklearn.linear_model import LinearRegression \n",
        "from sklearn.metrics import mean_squared_error, r2_score\n",
        "\n",
        "# Initialize and train the Linear Regression model\n",
        "linear_model = LinearRegression()\n",
        "linear_model.fit(X_train, y_train)\n",
        "\n",
        "# Display coefficients in order of highest to lowest correlation\n",
        "coefficients_linear = pd.Series(linear_model.coef_, index=X.columns)\n",
        "print(\"\\nLinear Regression Coefficients (ordered):\")\n",
        "print(coefficients_linear.sort_values(ascending=False))\n"
      ]
    },
    {
      "cell_type": "markdown",
      "metadata": {
        "id": "kWqpju5JH9QG"
      },
      "source": [
        "### 🔧 Try It Yourself - Part 6\n",
        "\n",
        "1. Which features are most positively associated with high job tenure (years at company)?\n",
        "2. Which features are most negatively associated with staying?\n",
        "\n",
        "Write a few sentences on each of the questions above. No coding is required here. "
      ]
    },
    {
      "cell_type": "markdown",
      "metadata": {
        "id": "O8qEItqL2ViE"
      },
      "source": [
        "🔧 Add comment here:"
      ]
    },
    {
      "cell_type": "markdown",
      "metadata": {
        "id": "g7aMoWFTIELd"
      },
      "source": [
        "## Part 7: Evaluate Model Performance\n",
        "\n",
        "First lets visualize the model output"
      ]
    },
    {
      "cell_type": "code",
      "execution_count": null,
      "metadata": {},
      "outputs": [],
      "source": [
        "import matplotlib.pyplot as plt\n",
        "import seaborn as sns\n",
        "\n",
        "# Create a scatter plot of predicted vs actual YearsAtCompany\n",
        "plt.figure(figsize=(10, 6))\n",
        "sns.regplot(x=y_test_linear, y=y_pred_linear, scatter_kws={'alpha':0.6}, line_kws={\"color\": \"red\"})\n",
        "plt.xlabel(\"Actual YearsAtCompany\")\n",
        "plt.ylabel(\"Predicted YearsAtCompany\")\n",
        "plt.title(\"Actual vs. Predicted YearsAtCompany with Regression Line\")\n",
        "plt.grid(True)\n",
        "plt.show()"
      ]
    },
    {
      "cell_type": "markdown",
      "metadata": {},
      "source": [
        "Now let’s test how well our model generalizes to unseen data. We'll compute:\n",
        "- Mean Squared Error (MSE)\n",
        "- R-Squared"
      ]
    },
    {
      "cell_type": "code",
      "execution_count": null,
      "metadata": {
        "id": "wIwpnLp1H6US"
      },
      "outputs": [],
      "source": [
        "# Make predictions on the test set\n",
        "y_pred_linear = linear_model.predict(X_test_linear)\n",
        "\n",
        "# Evaluate the model\n",
        "mse = mean_squared_error(y_test_linear, y_pred_linear)\n",
        "r2 = r2_score(y_test_linear, y_pred_linear)\n",
        "\n",
        "# Print the evaluation metrics\n",
        "print(f\"Mean Squared Error (MSE): {mse:.2f}\")\n",
        "print(f\"R-squared (R2): {r2:.2f}\")"
      ]
    },
    {
      "cell_type": "markdown",
      "metadata": {
        "id": "2J1SQjG9IYug"
      },
      "source": [
        "### 🔧 Try It Yourself - Part 7\n",
        "\n",
        "1. Is this R-squared fit good? \n",
        "2. How could we improve the fit?"
      ]
    },
    {
      "cell_type": "markdown",
      "metadata": {
        "id": "efDTagytJGXc"
      },
      "source": [
        "🔧 Add comment here:"
      ]
    },
    {
      "cell_type": "markdown",
      "metadata": {
        "id": "olFZzAwzJKUc"
      },
      "source": [
        "## Part 8: Feature Selection for Accuracy Improvement\n",
        "\n",
        "Not all features equally influence `YearsAtCompany`. By identifying and using only the most important predictors, we can:\n",
        "- Simplify the model\n",
        "- Potentially improve performance or interpretability\n",
        "- Reduce overfitting\n",
        "\n",
        "We’ll use the linear regression model’s coefficients to rank feature importance.\n"
      ]
    },
    {
      "cell_type": "code",
      "execution_count": null,
      "metadata": {
        "id": "MGlsrGrHIKEa"
      },
      "outputs": [],
      "source": [
        "# Get top 10 features based on absolute coefficient magnitude\n",
        "top_features = coefficients_linear.abs().sort_values(ascending=False).head(10)\n",
        "\n",
        "# Print the top features and their weights\n",
        "top_features"
      ]
    },
    {
      "cell_type": "markdown",
      "metadata": {
        "id": "aQf0yeujJYdZ"
      },
      "source": [
        "### 🔧 Try It Yourself – Part 8\n",
        "\n",
        "1. Create a new training and test set using only the 10 most important features.\n",
        "2. Retrain the linear regression model on this reduced dataset.\n",
        "3. Evaluate performance of the new version\n"
      ]
    },
    {
      "cell_type": "code",
      "execution_count": null,
      "metadata": {
        "id": "yJKGxi_vJZ3q"
      },
      "outputs": [],
      "source": [
        "# 🔧 Step 1: Identify the top 10 most important features using absolute value of regression coefficients\n",
        "\n",
        "# 🔧 Step 2: Create new versions of X_train and X_test with only those top features\n",
        "\n",
        "# 🔧 Step 3: Initialize and fit a new Regression model on the reduced feature set\n",
        "\n",
        "# 🔧 Step 4: Use the new model to predict on the test set\n",
        "\n",
        "# 🔧 Step 5: Create a chart to visualize the new model\n",
        "\n",
        "# 🔧 Step 6: Evaluate the reduced model using R-squared"
      ]
    },
    {
      "cell_type": "markdown",
      "metadata": {
        "id": "4WTUyNSZJqOP"
      },
      "source": [
        "## 🔧 Part 9: Reflection\n",
        "\n",
        "1. How did the reduced-feature model compare to the full model?\n",
        "2. Would this version be easier to explain or use in an HR meeting?\n",
        "\n",
        "Write a few sentences on each of the questions above. No coding is required here. "
      ]
    },
    {
      "cell_type": "markdown",
      "metadata": {
        "id": "0vWE_lz0Jx5j"
      },
      "source": [
        "🔧 Add comment here:"
      ]
    },
    {
      "cell_type": "markdown",
      "metadata": {},
      "source": [
        "## Export Your Notebook to Submit in Canvas\n",
        "- Use the instructions from Lab 1"
      ]
    },
    {
      "cell_type": "code",
      "execution_count": null,
      "metadata": {},
      "outputs": [],
      "source": [
        "!jupyter nbconvert --to html \"lab_11_LastnameFirstname.ipynb\""
      ]
    }
  ],
  "metadata": {
    "colab": {
      "provenance": []
    },
    "kernelspec": {
      "display_name": "Python 3",
      "name": "python3"
    },
    "language_info": {
      "name": "python"
    }
  },
  "nbformat": 4,
  "nbformat_minor": 0
}
