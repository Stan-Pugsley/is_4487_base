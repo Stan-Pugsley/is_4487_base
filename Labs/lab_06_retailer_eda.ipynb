{
 "cells": [
  {
   "cell_type": "markdown",
   "metadata": {},
   "source": [
    "# IS 4487 Lab 6\n",
    "\n",
    "## Outline\n",
    "\n",
    "Repeat exercises from Lab 5, but with the *SuperStore Retail Orders* dataset.  Your target variable is total sales revenue.  \n",
    "\n",
    "\n",
    "<a href=\"https://colab.research.google.com/github/Stan-Pugsley/is_4487_base/blob/main/Labs/Scripts/lab_06_retailer_eda.ipynb\" target=\"_parent\"><img src=\"https://colab.research.google.com/assets/colab-badge.svg\" alt=\"Open In Colab\"/></a> "
   ]
  },
  {
   "cell_type": "markdown",
   "metadata": {},
   "source": [
    "## Superstore Data Dictionary \n",
    "\n",
    " ORDER VARIABLES:\n",
    " - Order ID\n",
    " - Order Date\n",
    " - Order Year Month - Year and month of the order\n",
    " - Order Type - Was the order completed at a store or online? (Retail, Online)\n",
    " - Quantity - Quantity ordered for the product\n",
    "\n",
    " CUSTOMER VARIABLES:\n",
    " - Customer Name\n",
    " - City\n",
    " - State Province\n",
    " - Email\n",
    "\n",
    "\n",
    "PRODUCT VARIABLES:\n",
    " - Product Name\n",
    " - Product Line - Category of the product (i.e. Bikes Phones)\n",
    " - Product Price - Price in US Dollars\n",
    " - Product Status - Current status of the product (Active, Inactive)"
   ]
  },
  {
   "cell_type": "markdown",
   "metadata": {},
   "source": [
    "## Load Libraries\n",
    "\n",
    "➡️ Assignment Tasks\n",
    "- Load any necessary libraries"
   ]
  },
  {
   "cell_type": "code",
   "execution_count": null,
   "metadata": {
    "vscode": {
     "languageId": "plaintext"
    }
   },
   "outputs": [],
   "source": []
  },
  {
   "cell_type": "markdown",
   "metadata": {},
   "source": [
    "## Import Data into Dataframe\n",
    "\n",
    "➡️ Assignment Tasks\n",
    "- Import data from the SuperStore retail dataset into a dataframe (in GitHub go to Labs > DataSets)\n",
    "- Describe or profile the dataframe.  \n",
    "- If your record count doesn't match the source file, then resolve the issue"
   ]
  },
  {
   "cell_type": "code",
   "execution_count": null,
   "metadata": {
    "vscode": {
     "languageId": "plaintext"
    }
   },
   "outputs": [],
   "source": []
  },
  {
   "cell_type": "markdown",
   "metadata": {},
   "source": [
    "## Prepare Data\n",
    "\n",
    "➡️ Assignment Tasks\n",
    "- Convert any numbers into the correct datatype if they are not already numeric\n",
    "- Convert any character variables in to categories if they are appropriate for that datatype\n",
    "- Check for outliers.   Remove any outliers that appear to be mistakes\n",
    "- Remove rows with empty (NULL) values \n",
    "- Create a total_amount variable, based on the product price and quantity"
   ]
  },
  {
   "cell_type": "code",
   "execution_count": null,
   "metadata": {
    "vscode": {
     "languageId": "plaintext"
    }
   },
   "outputs": [],
   "source": []
  },
  {
   "cell_type": "markdown",
   "metadata": {},
   "source": [
    "## Create Basic Charts\n",
    "\n",
    "➡️ Assignment Tasks\n",
    "Your target variable is Total Sales Revenue\n",
    "\n",
    "Create at least three charts showing revenue broken out by another variable.  \n",
    "\n",
    "Each visualization should bring some insight into the total sales. You can use any variables for these sample plots. "
   ]
  },
  {
   "cell_type": "code",
   "execution_count": null,
   "metadata": {
    "vscode": {
     "languageId": "plaintext"
    }
   },
   "outputs": [],
   "source": [
    "#chart 1"
   ]
  },
  {
   "cell_type": "code",
   "execution_count": null,
   "metadata": {
    "vscode": {
     "languageId": "plaintext"
    }
   },
   "outputs": [],
   "source": [
    "#chart 2"
   ]
  },
  {
   "cell_type": "code",
   "execution_count": null,
   "metadata": {
    "vscode": {
     "languageId": "plaintext"
    }
   },
   "outputs": [],
   "source": [
    "#chart 3"
   ]
  },
  {
   "cell_type": "markdown",
   "metadata": {},
   "source": [
    "## Covariance\n",
    "\n",
    "➡️ Assignment Task\n",
    "- Create a covariance matrix using all of the applicable independent variables\n",
    "- In 100 words or less, describe what insight you can derive from the covariance matrix.  What does it tell us about the data?  \n"
   ]
  },
  {
   "cell_type": "code",
   "execution_count": null,
   "metadata": {
    "vscode": {
     "languageId": "plaintext"
    }
   },
   "outputs": [],
   "source": [
    "#matrix"
   ]
  }
 ],
 "metadata": {
  "language_info": {
   "name": "python"
  }
 },
 "nbformat": 4,
 "nbformat_minor": 2
}
