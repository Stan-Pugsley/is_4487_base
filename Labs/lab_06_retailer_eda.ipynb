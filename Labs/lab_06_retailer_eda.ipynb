{
 "cells": [
  {
   "cell_type": "markdown",
   "metadata": {},
   "source": [
    "# IS 4487 Lab 6\n",
    "\n",
    "## Outline\n",
    "\n",
    "Repeat exercises from Lab 5, but with the *SuperStore Retail Orders* dataset.  Your target variable is total sales revenue.  \n",
    "\n",
    "\n",
    "<a href=\"https://colab.research.google.com/github/Stan-Pugsley/is_4487_base/blob/main/Labs/Scripts/lab_06_retailer_eda.ipynb\" target=\"_parent\"><img src=\"https://colab.research.google.com/assets/colab-badge.svg\" alt=\"Open In Colab\"/></a> "
   ]
  },
  {
   "cell_type": "markdown",
   "metadata": {},
   "source": [
    "## Superstore Data Dictionary \n",
    "\n",
    " ORDER VARIABLES:\n",
    " - Order ID\n",
    " - Order Date\n",
    " - Order Year Month - Year and month of the order\n",
    " - Order Type - Was the order completed at a store or online? (Retail, Online)\n",
    " - Quantity - Quantity ordered for the product\n",
    "\n",
    " CUSTOMER VARIABLES:\n",
    " - Customer Name\n",
    " - City\n",
    " - State Province\n",
    " - Email\n",
    "\n",
    "\n",
    "PRODUCT VARIABLES:\n",
    " - Product Name\n",
    " - Product Line - Category of the product (i.e. Bikes Phones)\n",
    " - Product Price - Price in US Dollars\n",
    " - Product Status - Current status of the product (Active, Inactive)"
   ]
  },
  {
   "cell_type": "markdown",
   "metadata": {},
   "source": [
    "## Load Libraries\n",
    "\n",
    "➡️ Assignment Tasks\n",
    "- Load any necessary libraries"
   ]
  },
  {
   "cell_type": "code",
   "execution_count": null,
   "metadata": {
    "vscode": {
     "languageId": "plaintext"
    }
   },
   "outputs": [],
   "source": []
  },
  {
   "cell_type": "markdown",
   "metadata": {},
   "source": [
    "## Import Data into Dataframe\n",
    "\n",
    "➡️ Assignment Tasks\n",
    "- Import data from the SuperStore retail dataset into a dataframe (in GitHub go to Labs > DataSets)\n",
    "- Describe or profile the dataframe.  \n",
    "- If your record count doesn't match the source file, then resolve the issue"
   ]
  },
  {
   "cell_type": "code",
   "execution_count": null,
   "metadata": {
    "vscode": {
     "languageId": "plaintext"
    }
   },
   "outputs": [],
   "source": []
  },
  {
   "cell_type": "code",
   "execution_count": null,
   "metadata": {
    "vscode": {
     "languageId": "plaintext"
    }
   },
   "outputs": [],
   "source": []
  },
  {
   "cell_type": "markdown",
   "metadata": {},
   "source": [
    "## Prepare Data\n",
    "\n",
    "➡️ Assignment Tasks\n",
    "- Convert any numbers into the correct datatype if they are not already numeric\n",
    "- Convert any character variables in to categories if they are appropriate for that datatype\n",
    "- Check for outliers.   Remove any outliers that appear to be mistakes\n",
    "- Remove rows with empty (NULL) values \n",
    "- Identify at least one variable with a missing value that can be imputed.   Fill in those empty values. \n",
    "- Add a \"total_amount\" variable based on the quantity and price"
   ]
  },
  {
   "cell_type": "code",
   "execution_count": null,
   "metadata": {
    "vscode": {
     "languageId": "plaintext"
    }
   },
   "outputs": [],
   "source": []
  },
  {
   "cell_type": "markdown",
   "metadata": {},
   "source": [
    "## Explore Correlations\n",
    "\n",
    "➡️ Assignment Tasks\n",
    "Your target variable is Total Sales Revenue\n",
    "\n",
    "Create at least three charts showing revenue broken out by another variable.  \n",
    "\n",
    "Each visualization should bring some insight into the total sales. You can use any variables for these sample plots. "
   ]
  },
  {
   "cell_type": "code",
   "execution_count": null,
   "metadata": {
    "vscode": {
     "languageId": "plaintext"
    }
   },
   "outputs": [],
   "source": [
    "#chart 1"
   ]
  },
  {
   "cell_type": "code",
   "execution_count": null,
   "metadata": {
    "vscode": {
     "languageId": "plaintext"
    }
   },
   "outputs": [],
   "source": [
    "#chart 2"
   ]
  },
  {
   "cell_type": "code",
   "execution_count": null,
   "metadata": {
    "vscode": {
     "languageId": "plaintext"
    }
   },
   "outputs": [],
   "source": [
    "#chart 3"
   ]
  },
  {
   "cell_type": "markdown",
   "metadata": {},
   "source": [
    "### Explore Product Categories\n",
    "\n",
    "➡️ Assignment Tasks\n",
    "- Create a variable that will group product lines into \"Outdoor\" versus \"Indoor\" products.\n",
    "- Create a plot to show the correlation between outdoor/indoor versus season  "
   ]
  },
  {
   "cell_type": "code",
   "execution_count": null,
   "metadata": {
    "vscode": {
     "languageId": "plaintext"
    }
   },
   "outputs": [],
   "source": []
  },
  {
   "cell_type": "markdown",
   "metadata": {},
   "source": [
    "### Explore Seasonality\n",
    "\n",
    "➡️ Assignment Tasks\n",
    "- Create seasonal buckets for Winter, Spring, Summer, Fall\n",
    "- Create a chart to show revenue by season\n",
    "- Create a chart to show revenue by year"
   ]
  },
  {
   "cell_type": "code",
   "execution_count": null,
   "metadata": {
    "vscode": {
     "languageId": "plaintext"
    }
   },
   "outputs": [],
   "source": []
  },
  {
   "cell_type": "markdown",
   "metadata": {},
   "source": [
    "### Explore Customer Profiles\n",
    "\n",
    "➡️ Assignment Tasks\n",
    "- Create a variable called \"complete_customer_info\".   Use \"1\" for True and \"2\" for False.  All customer fields must be valid and not empty before this variable is True.\n",
    "- Create a bar chart showing the count of customers with complete informaiton versus incomplete information"
   ]
  },
  {
   "cell_type": "code",
   "execution_count": null,
   "metadata": {
    "vscode": {
     "languageId": "plaintext"
    }
   },
   "outputs": [],
   "source": []
  },
  {
   "cell_type": "markdown",
   "metadata": {},
   "source": [
    "## Covariance\n",
    "\n",
    "➡️ Assignment Task\n",
    "- Create a covariance matrix using all of the applicable independent variables\n",
    "- In 100 words or less, describe what insight you can derive from the covariance matrix.  What does it tell us about the data?  \n"
   ]
  },
  {
   "cell_type": "code",
   "execution_count": null,
   "metadata": {
    "vscode": {
     "languageId": "plaintext"
    }
   },
   "outputs": [],
   "source": []
  }
 ],
 "metadata": {
  "language_info": {
   "name": "python"
  }
 },
 "nbformat": 4,
 "nbformat_minor": 2
}
