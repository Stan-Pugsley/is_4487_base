{
  "cells": [
    {
      "cell_type": "markdown",
      "metadata": {},
      "source": [
        "> ### Note on Labs and Assignments:\n",
        ">\n",
        "> 🔧 Look for the **wrench emoji** 🔧 — it highlights where you're expected to take action!\n",
        ">\n",
        "> These sections are graded and are not optional.\n",
        ">"
      ]
    },
    {
      "cell_type": "markdown",
      "metadata": {},
      "source": [
        "# IS 4487 Lab 13: Sentiment Analysis\n",
        "\n",
        "## Outline\n",
        "\n",
        "- Conduct simple Sentiment Analysis\n",
        "- Learn about Multi-Class Logistic Regression models\n",
        "- Applying TF and IDF to turn text into numerical data\n",
        "- Predict the sentiment of some test data \n",
        "\n",
        "In this lab, you will explore **sentiment analysis** techniques to determine the positivity/negativity of certain sentences. \n",
        "\n",
        "<a href=\"https://colab.research.google.com/github/Stan-Pugsley/is_4487_base/blob/main/Labs/lab_13_text_analytics.ipynb\" target=\"_parent\">\n",
        "  <img src=\"https://colab.research.google.com/assets/colab-badge.svg\" alt=\"Open In Colab\"/>\n",
        "</a>\n"
      ]
    },
    {
      "cell_type": "markdown",
      "metadata": {},
      "source": [
        "# Data Description\n",
        "\n",
        "\n",
        "\n",
        "\n",
        "### Dataset 1 Description: train.tsv\n",
        "\n",
        "The dataset comes with pre-labelled data about the sentiment of certain phrases.\n",
        "\n",
        "| Column                        | Data Type       | Description                                                  |\n",
        "|------------------------------|------------------|--------------------------------------------------------------|\n",
        "| `PhraseID`                   | Integer           | ID of an entry                                               |\n",
        "| `SentenceID`                 | Integer           | Shows which phrases belong to which sentence                                      |\n",
        "| `Phrase`             | String       | A sentence/phrase                       |\n",
        "| `Sentiment`                 | Categorical       | 0 = Very Negative, 1 = Negative, 2 = Neutral, 3 = Positive, 4= Highly Positive        |"
      ]
    },
    {
      "cell_type": "markdown",
      "metadata": {},
      "source": [
        "### Dataset 2 Description: test.tsv\n",
        "\n",
        "This dataset is used to test a predictive model. Notice how the target variable is missing.\n",
        "\n",
        "| Column                        | Data Type       | Description                                                  |\n",
        "|------------------------------|------------------|--------------------------------------------------------------|\n",
        "| `PhraseID`                   | Integer           | ID of an entry                                               |\n",
        "| `SentenceID`                 | Integer           | Shows which phrases belong to which sentence                                      |\n",
        "| `Phrase`             | String       | A sentence/phrase                       |"
      ]
    },
    {
      "cell_type": "markdown",
      "metadata": {},
      "source": [
        "## Part 1: Load and Prepare the Data\n",
        "\n",
        "What you are going to do:\n",
        "- Load the dataset\n",
        "- Preview the data \n",
        "\n",
        "Why this matters:\n",
        "<br>\n",
        "All throughout the semester you've mainly dealt with data that had a wide variety of types. But what if we only have a few variables and one of them has tons of data?\n",
        "\n",
        "Things to notice:\n",
        "- Which variables are actually important? \n",
        "- Why are there so few variables? Which variable(s) has the most data?\n"
      ]
    },
    {
      "cell_type": "markdown",
      "metadata": {},
      "source": [
        "### 🔧 Try It Yourself — Part 0\n",
        "To download the data \n",
        "- go to https://www.kaggle.com/datasets/satwikdondapati/moviereviewsentimentalanalysis \n",
        "- click 'download' then 'download as a zip'\n",
        "- unzip the folder \n",
        "- import the two files onto collab. "
      ]
    },
    {
      "cell_type": "code",
      "execution_count": null,
      "metadata": {},
      "outputs": [],
      "source": [
        "import pandas as pd\n",
        "\n",
        "# load the training data \n",
        "file_path = 'train.tsv'\n",
        "df = pd.read_csv(file_path, sep='\\t')\n",
        "display(df.head())\n"
      ]
    },
    {
      "cell_type": "markdown",
      "metadata": {},
      "source": [
        "# Part 2 : Split the data\n",
        "What you are going to do:\n",
        "- Load the necessary libraries \n",
        "- Store the 2 most important columns into variables\n",
        "\n",
        "Why this matters:\n",
        "<br>\n",
        "It is important to have a feature and target variable for a logistic regression model. \n",
        "\n",
        "Things to notice:\n",
        "- Why are there only 2 variables total?"
      ]
    },
    {
      "cell_type": "code",
      "execution_count": null,
      "metadata": {},
      "outputs": [],
      "source": [
        "# load all the libraries \n",
        "from sklearn.model_selection import train_test_split\n",
        "from sklearn.feature_extraction.text import TfidfVectorizer\n",
        "from sklearn.linear_model import LogisticRegression\n",
        "from sklearn.metrics import classification_report, accuracy_score\n",
        "\n",
        "# extract and store the Phrase and Sentiment columns into their own variable\n",
        "X = df['Phrase']          \n",
        "y = df['Sentiment']       "
      ]
    },
    {
      "cell_type": "markdown",
      "metadata": {},
      "source": [
        "### 🔧 Try It Yourself — Part 2\n",
        "\n",
        "1. Just like in past assignments, split the data so that 80% of it is training data and 20% is testing data. Make sure to use variable names such as X_train, X_test, y_train, and y_test or else the later code won't work!"
      ]
    },
    {
      "cell_type": "code",
      "execution_count": null,
      "metadata": {},
      "outputs": [],
      "source": [
        "# 🔧 Enter your code here"
      ]
    },
    {
      "cell_type": "markdown",
      "metadata": {},
      "source": [
        "# Part 3: TF and IDF\n",
        "What you are going to do:\n",
        "- Vectorize the data \n",
        "- Calculate a TF and IDF\n",
        "\n",
        "Why this matters:\n",
        "<br>\n",
        "You'll notice that the Phrase variable has lots of data but none of it is numerical. For logistical regression to work, the inputs need to be converted into numbers. \n",
        "\n",
        "Things to notice: \n",
        "- take a look at the paramters for the vectorizor, what are they for?\n",
        "- why are X_test and X_train the only variables vectorized? "
      ]
    },
    {
      "cell_type": "code",
      "execution_count": null,
      "metadata": {},
      "outputs": [],
      "source": [
        "# need to vectorize the string data into numbers\n",
        "vectorizer = TfidfVectorizer(\n",
        "    stop_words='english',       \n",
        "    max_features=10000,         \n",
        "    ngram_range=(1,2)           \n",
        ")\n",
        "\n",
        "# vectorize the training and test datasets \n",
        "X_train_tfidf = vectorizer.fit_transform(X_train)\n",
        "X_test_tfidf = vectorizer.transform(X_test)"
      ]
    },
    {
      "cell_type": "markdown",
      "metadata": {},
      "source": [
        "### 🔧 Try It Yourself — Part 3\n",
        "You may have noticed already that all of our training data is just strings. But logistic regression only takes numbers as inputs. How do data scientists turn strings into numbers? Through two formulas called TF and IDF. In this step you will be calculating both TF and IDF for the word \"cat\" for the following documents:\n",
        "\n",
        "Document 1\n",
        "<br>\n",
        "\"There is an orange cat and a grey cat.\"\n",
        "\n",
        "Document 2\n",
        "<br>\n",
        "\"A cat is there\"\n",
        "\n",
        "Before you do that though let's go through an example of how to calculate TF and IDF. Let's look at some actual data from the train.tsv: \n",
        "\n",
        "Document 1\n",
        "<br>\n",
        "\"A series\" \n",
        "\n",
        "Document 2\n",
        "<br>\n",
        "\"A\"\n",
        "\n",
        "Document 3\n",
        "<br>\n",
        "\"series\" \n",
        "\n",
        "Let's calculate TF and IDF for the word \"series.\" \n",
        "\n",
        "TF = number of times word \"series\" appears in a given document / the total number of words in a document \n",
        "\n",
        "So for document 1 the calculation goes like this:\n",
        "TF = 1/2 = 0.5\n",
        "And for document 2 it would look like this:\n",
        "TF = 0/1 = 0 \n",
        "And for document 3 it looks like this:\n",
        "TF = 1/1 = 1\n",
        "\n",
        "Now let's calcualte the IDF. \n",
        "\n",
        "IDF = log(total number of documents / number of documents with the word \"series\")\n",
        "\n",
        "There are 3 documents. Documents 1 and 3 have the word \"series\" in them. Therefore our IDF is...\n",
        "IDF = log(3/2) = 0.176\n",
        "\n",
        "1. Calculate the TF for Document 1 and Document 2 using the word \"cat\"\n",
        "2. Calculate the IDF for all 2 documents using the word \"cat\""
      ]
    },
    {
      "cell_type": "code",
      "execution_count": null,
      "metadata": {},
      "outputs": [],
      "source": [
        "# 🔧 Enter your calculations here"
      ]
    },
    {
      "cell_type": "markdown",
      "metadata": {},
      "source": [
        "# Part 4: Evaluate the model\n",
        "What you are going to do:\n",
        "- fit the logistic regression model\n",
        "\n",
        "Why this matters:\n",
        "<br>\n",
        "Sentiment analysis can use a variety of different models. In this case, we are using a logstic regression model. \n",
        "\n",
        "Things to notice: \n",
        "- why does this logistic regression model use multi_class?"
      ]
    },
    {
      "cell_type": "code",
      "execution_count": null,
      "metadata": {},
      "outputs": [],
      "source": [
        "model = LogisticRegression(multi_class='multinomial')\n",
        "model.fit(X_train_tfidf, y_train)"
      ]
    },
    {
      "cell_type": "markdown",
      "metadata": {},
      "source": [
        "### 🔧 Try It Yourself — Part 4\n",
        "1. use the test data to find the accuracy of this model\n",
        "2. generate a classification report on the model \n",
        "3. In a markdown cell, write down why we used a multi-class logistic regression. (Hint: you are conducting sentiment analysis using a logistic regression model. Sentiment analysis gives a sentiment score. There are 5 total sentiment scores. BUT regular logistic regression only has 2 outputs)"
      ]
    },
    {
      "cell_type": "code",
      "execution_count": null,
      "metadata": {},
      "outputs": [],
      "source": [
        "# 🔧 Enter your code here"
      ]
    },
    {
      "cell_type": "markdown",
      "metadata": {},
      "source": [
        "🔧 Add comment here"
      ]
    },
    {
      "cell_type": "markdown",
      "metadata": {},
      "source": [
        "# Part 5: Apply the model\n",
        "What you are going to do:\n",
        "- Create some sample text\n",
        "- Run the model through the sample text to determine sentiment\n",
        "\n",
        "Why this matters:\n",
        "<br>\n",
        "Being able to determine the sentiment of a sentence helps us know how \"positive\" or \"negative\" it sounds. \n",
        "\n",
        "Things to notice: \n",
        "- what scores did you end up with?\n",
        "- do these scores look correct?"
      ]
    },
    {
      "cell_type": "code",
      "execution_count": null,
      "metadata": {},
      "outputs": [],
      "source": [
        "sample_text = [\"I love this lab!\", \n",
        "               \"This lab is a waste of time.\"]\n",
        "sample_features = vectorizer.transform(sample_text)\n",
        "predictions = model.predict(sample_features)\n",
        "\n",
        "for text, pred in zip(sample_text, predictions):\n",
        "    print(f\"Text: {text}\\nPredicted Sentiment: {pred}\\n\")"
      ]
    },
    {
      "cell_type": "markdown",
      "metadata": {},
      "source": [
        "### 🔧 Try It Yourself — Part 5\n",
        "In sentiment analysis, \n",
        "1. create 2-3 more sentences and run them through the model. Print out the predicted sentiment score of each sentence"
      ]
    },
    {
      "cell_type": "code",
      "execution_count": null,
      "metadata": {},
      "outputs": [],
      "source": [
        "# 🔧 Enter your code here"
      ]
    },
    {
      "cell_type": "markdown",
      "metadata": {},
      "source": [
        "## 🔧 Part 6: Reflection (100 words or less)\n",
        "\n",
        "In this lab you built a mulitclass logistic regression model and learned how data analysts turn sentences into numbers. Using these techniques, you were able to build a sentiment analysis model which could look at a sentence and determine how positive or negative it was.  \n",
        "\n",
        "Use the cell below to answer the following questions:\n",
        "\n",
        "1. Why is it important to know how positive or negative a sentence is? \n",
        "2. How could a business use sentiment analysis and customer reviews to improve customer service? "
      ]
    },
    {
      "cell_type": "markdown",
      "metadata": {},
      "source": [
        "🔧 Add comment here:"
      ]
    },
    {
      "cell_type": "markdown",
      "metadata": {},
      "source": [
        "# Export Your Notebook to Submit in Canvas\n",
        "Use the instructions from Lab 1"
      ]
    },
    {
      "cell_type": "code",
      "execution_count": null,
      "metadata": {},
      "outputs": [],
      "source": [
        "!jupyter nbconvert --to html \"lab_13_LastnameFirstname.ipynb\""
      ]
    }
  ],
  "metadata": {
    "colab": {
      "provenance": []
    },
    "kernelspec": {
      "display_name": "Python 3",
      "name": "python3"
    },
    "language_info": {
      "name": "python"
    }
  },
  "nbformat": 4,
  "nbformat_minor": 0
}
