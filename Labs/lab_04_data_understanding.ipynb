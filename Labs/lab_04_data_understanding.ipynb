{
  "nbformat": 4,
  "nbformat_minor": 0,
  "metadata": {
    "colab": {
      "provenance": []
    },
    "kernelspec": {
      "name": "python3",
      "display_name": "Python 3"
    },
    "language_info": {
      "name": "python"
    }
  },
  "cells": [
    {
      "cell_type": "markdown",
      "source": [
        "> # ⚠️ **IMPORTANT: READ BEFORE STARTING THIS LAB**\n",
        ">\n",
        "> ### Throughout this lab, you will see **🔧 Try It Yourself**\n",
        ">\n",
        "> ✅ You are expected to:\n",
        "> - Complete each **\"🔧 Try It Yourself”** section by writing and running your own code or answering the prompted questions in a markdown or python cell below the section.\n",
        ">\n",
        ">\n",
        "> 🔧 Look for the **wrench emoji** 🔧 — it highlights where you're expected to take action!\n",
        ">\n",
        "> ### These sections are **graded** and are **not optional**. Skipping them will impact your lab score.\n",
        ">\n",
        "> ---\n",
        "\n"
      ],
      "metadata": {
        "id": "amh-zatRQei3"
      }
    },
    {
      "cell_type": "markdown",
      "source": [
        "# IS 4487 Lab 4: Data Understanding\n",
        "\n",
        "## Outline\n",
        "\n",
        "- Load and preview a real-world dataset\n",
        "- Inspect structure and identify missing or unusual data\n",
        "- Perform basic grouped summaries\n",
        "\n",
        "<a href=\"https://colab.research.google.com/github/Stan-Pugsley/is_4487_base/blob/main/Labs/lab_04_data_understanding_v2.ipynb\" target=\"_parent\">\n",
        "  <img src=\"https://colab.research.google.com/assets/colab-badge.svg\" alt=\"Open In Colab\"/>\n",
        "</a>\n",
        "\n",
        "If you have any questions about Colab, you can read more here:  \n",
        "https://research.google.com/colaboratory/faq.html\n"
      ],
      "metadata": {
        "id": "v37brnQDKQj4"
      }
    },
    {
      "cell_type": "markdown",
      "source": [
        "## Dataset Overview\n",
        "\n",
        "**Dataset:** `rent.csv`  \n",
        "Source: [TidyTuesday – 2022-07-05](https://github.com/rfordatascience/tidytuesday/blob/main/data/2022/2022-07-05/rent.csv)\n",
        "\n",
        "| Variable       | Type       | Description |\n",
        "|----------------|------------|-------------|\n",
        "| `post_id`      | Categorical| Unique listing ID |\n",
        "| `date`         | Numeric    | Listing date (numeric format) |\n",
        "| `year`         | Integer    | Year of listing |\n",
        "| `nhood`        | Categorical| Neighborhood |\n",
        "| `city`         | Categorical| City |\n",
        "| `county`       | Categorical| County |\n",
        "| `price`        | Numeric    | Listing price (USD) |\n",
        "| `beds`         | Numeric    | Number of bedrooms |\n",
        "| `baths`        | Numeric    | Number of bathrooms |\n",
        "| `sqft`         | Numeric    | Square footage |\n",
        "| `room_in_apt`  | Binary     | 1 = room in apartment |\n",
        "| `address`      | Categorical| Street address |\n",
        "| `lat`          | Numeric    | Latitude |\n",
        "| `lon`          | Numeric    | Longitude |\n",
        "| `title`        | Text       | Listing title |\n",
        "| `descr`        | Text       | Listing description |\n",
        "| `details`      | Text       | Additional details |\n"
      ],
      "metadata": {
        "id": "JWQ8j5tOKezP"
      }
    },
    {
      "cell_type": "markdown",
      "source": [
        "## Part 1: Importing the Data\n",
        "\n",
        "### Instructions:\n",
        "- Import the `pandas` library.\n",
        "- Import data from the rent.csv into a dataframe from the tidytuesday link.\n",
        "- Use `.info()` and `.head()` to inspect the structure and preview the data."
      ],
      "metadata": {
        "id": "kYVS2S1qKoYm"
      }
    },
    {
      "cell_type": "code",
      "execution_count": null,
      "metadata": {
        "id": "33vaVxotH3-i"
      },
      "outputs": [],
      "source": [
        "import pandas as pd\n",
        "\n",
        "url = 'https://raw.githubusercontent.com/rfordatascience/tidytuesday/main/data/2022/2022-07-05/rent.csv'\n",
        "df = pd.read_csv(url)\n",
        "\n",
        "df.info()\n",
        "df.head()\n"
      ]
    },
    {
      "cell_type": "markdown",
      "source": [
        "### 🔧 Try It Yourself – Part 1\n",
        "\n",
        "1. Add one line of code to print the number of rows and columns."
      ],
      "metadata": {
        "id": "LRR8uf6_M7ze"
      }
    },
    {
      "cell_type": "code",
      "source": [
        "# Add code here 🔧"
      ],
      "metadata": {
        "id": "4WRz1cxkM9O3"
      },
      "execution_count": null,
      "outputs": []
    },
    {
      "cell_type": "markdown",
      "source": [
        "## Part 2: Inspecting, Cleaning & Removing Outliers\n",
        "\n",
        "### Instructions:\n",
        "- Identify missing values.\n",
        "- Check data types are correct(e.g., dates, numeric columns).\n",
        "- Check for outliers key numeric variables like `price`, `sqft`, `beds`, or `baths`.\n",
        "\n",
        "### Think about:\n",
        "- Are there missing values?\n",
        "- Do the data types look appropriate?\n",
        "- Do any numeric variables contain extreme or unusual values?\n",
        "\n"
      ],
      "metadata": {
        "id": "LTcsPUAxK7tz"
      }
    },
    {
      "cell_type": "code",
      "source": [
        "# Check for missing values\n",
        "df.isnull().sum()"
      ],
      "metadata": {
        "id": "q9Eccob9LgAL"
      },
      "execution_count": null,
      "outputs": []
    },
    {
      "cell_type": "code",
      "source": [
        "# Basic summary statistics\n",
        "df[['price', 'beds', 'baths', 'sqft']].describe()"
      ],
      "metadata": {
        "id": "zA6m2sUVLgkW"
      },
      "execution_count": null,
      "outputs": []
    },
    {
      "cell_type": "code",
      "source": [
        "# Check data types\n",
        "df.dtypes"
      ],
      "metadata": {
        "id": "CPdtXYamLkPQ"
      },
      "execution_count": null,
      "outputs": []
    },
    {
      "cell_type": "code",
      "source": [
        "import matplotlib.pyplot as plt\n",
        "import seaborn as sns\n",
        "\n",
        "# Boxplot of price\n",
        "sns.boxplot(x=df['price'])\n",
        "plt.title(\"Boxplot of Rental Price\")\n",
        "plt.show()"
      ],
      "metadata": {
        "id": "-xYt1QWgMQRP"
      },
      "execution_count": null,
      "outputs": []
    },
    {
      "cell_type": "code",
      "source": [
        "# Remove price outliers (1st–99th percentile)\n",
        "q_low = df['price'].quantile(0.01)\n",
        "q_high = df['price'].quantile(0.99)\n",
        "df = df[(df['price'] >= q_low) & (df['price'] <= q_high)]"
      ],
      "metadata": {
        "id": "HxH96RSZMWTF"
      },
      "execution_count": null,
      "outputs": []
    },
    {
      "cell_type": "markdown",
      "source": [
        "### 🔧 Try It Yourself – Part 2\n",
        "\n",
        "1. Use `.describe()` and a boxplot to check for outliers in **square footage (`sqft`)**.\n",
        "\n",
        "2. What patterns or issues do you see with square footage values? Is there anything unusual?\n"
      ],
      "metadata": {
        "id": "Dr_fml6uMZQj"
      }
    },
    {
      "cell_type": "code",
      "source": [
        "# Add code here 🔧"
      ],
      "metadata": {
        "id": "it-Qoh9GMw5p"
      },
      "execution_count": null,
      "outputs": []
    },
    {
      "cell_type": "markdown",
      "source": [
        "🔧 Add comment here:"
      ],
      "metadata": {
        "id": "7t4H5zYYNEX3"
      }
    },
    {
      "cell_type": "markdown",
      "source": [
        "## Part 3: Basic Exploration\n",
        "\n",
        "Use `groupby` and `value_counts` to summarize trends across neighborhoods and cities.\n"
      ],
      "metadata": {
        "id": "KVYBR3qEMe93"
      }
    },
    {
      "cell_type": "code",
      "source": [
        "# Average price by neighborhood\n",
        "df.groupby('nhood')['price'].mean().sort_values(ascending=False).head(10)"
      ],
      "metadata": {
        "id": "MTXDO5Q7Midp"
      },
      "execution_count": null,
      "outputs": []
    },
    {
      "cell_type": "code",
      "source": [
        "# Top cities by count\n",
        "df['city'].value_counts().head(10)"
      ],
      "metadata": {
        "id": "d4VPc9bbMnnf"
      },
      "execution_count": null,
      "outputs": []
    },
    {
      "cell_type": "markdown",
      "source": [
        "### 🔧 Try It Yourself – Part 3\n",
        "\n",
        "Explore the data by performing both of the following:\n",
        "\n",
        "1. Group the listings by `year` and calculate the average price for each year.\n",
        "2. Use `.value_counts()` on the `room_in_apt` column to see how common room rentals are.\n",
        "\n",
        "3. Add a short comment or markdown cell describing any trends or insights you found.\n"
      ],
      "metadata": {
        "id": "_NN-83MbMtlh"
      }
    },
    {
      "cell_type": "code",
      "source": [
        "# Add code here 🔧"
      ],
      "metadata": {
        "id": "gQbcYcOPNMws"
      },
      "execution_count": null,
      "outputs": []
    },
    {
      "cell_type": "markdown",
      "source": [
        "🔧 Add comment here:"
      ],
      "metadata": {
        "id": "HBM7HwzkNPTW"
      }
    }
  ]
}
