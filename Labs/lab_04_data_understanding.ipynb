{
  "cells": [
    {
      "cell_type": "markdown",
      "metadata": {
        "id": "amh-zatRQei3"
      },
      "source": [
        "> ### Note on Labs and Assigments:\n",
        ">\n",
        "> 🔧 Look for the **wrench emoji** 🔧 — it highlights where you're expected to take action!\n",
        ">\n",
        "> These sections are graded and are not optional.\n",
        ">"
      ]
    },
    {
      "cell_type": "markdown",
      "metadata": {
        "id": "v37brnQDKQj4"
      },
      "source": [
        "# IS 4487 Lab 4: Data Understanding\n",
        "\n",
        "## Outline\n",
        "\n",
        "- Load and preview a real-world dataset\n",
        "- Inspect structure and identify missing or unusual data\n",
        "- Perform basic grouped summaries\n",
        "\n",
        "<a href=\"https://colab.research.google.com/github/Stan-Pugsley/is_4487_base/blob/main/Labs/lab_04_data_understanding.ipynb\" target=\"_parent\">\n",
        "  <img src=\"https://colab.research.google.com/assets/colab-badge.svg\" alt=\"Open In Colab\"/>\n",
        "</a>\n",
        "\n",
        "If you have any questions about Colab, you can read more here:  \n",
        "https://research.google.com/colaboratory/faq.html\n"
      ]
    },
    {
      "cell_type": "markdown",
      "metadata": {
        "id": "JWQ8j5tOKezP"
      },
      "source": [
        "## Dataset Overview\n",
        "\n",
        "**Dataset:** `rent.csv`  \n",
        "Source: [TidyTuesday – 2022-07-05](https://github.com/rfordatascience/tidytuesday/blob/main/data/2022/2022-07-05/rent.csv)\n",
        "\n",
        "| Variable       | Type       | Description |\n",
        "|----------------|------------|-------------|\n",
        "| `post_id`      | Categorical| Unique listing ID |\n",
        "| `date`         | Numeric    | Listing date (numeric format) |\n",
        "| `year`         | Integer    | Year of listing |\n",
        "| `nhood`        | Categorical| Neighborhood |\n",
        "| `city`         | Categorical| City |\n",
        "| `county`       | Categorical| County |\n",
        "| `price`        | Numeric    | Listing price (USD) |\n",
        "| `beds`         | Numeric    | Number of bedrooms |\n",
        "| `baths`        | Numeric    | Number of bathrooms |\n",
        "| `sqft`         | Numeric    | Square footage |\n",
        "| `room_in_apt`  | Binary     |  Indicates whether the rental listing is for an entire apartment (0) or a single room within an apartment (1). |\n",
        "| `address`      | Categorical| Street address |\n",
        "| `lat`          | Numeric    | Latitude |\n",
        "| `lon`          | Numeric    | Longitude |\n",
        "| `title`        | Text       | Listing title |\n",
        "| `descr`        | Text       | Listing description |\n",
        "| `details`      | Text       | Additional details |\n"
      ]
    },
    {
      "cell_type": "markdown",
      "metadata": {
        "id": "kYVS2S1qKoYm"
      },
      "source": [
        "## Part 1: Importing the Data\n",
        "\n",
        "### Instructions:\n",
        "- Import the `pandas` library.\n",
        "- Import data from the rent.csv into a dataframe from the tidytuesday link.\n",
        "- Use `.info()` and `.head()` to inspect the structure and preview the data."
      ]
    },
    {
      "cell_type": "code",
      "execution_count": null,
      "metadata": {
        "id": "33vaVxotH3-i"
      },
      "outputs": [],
      "source": [
        "import pandas as pd\n",
        "\n",
        "url = 'https://raw.githubusercontent.com/rfordatascience/tidytuesday/main/data/2022/2022-07-05/rent.csv'\n",
        "df = pd.read_csv(url)\n",
        "\n",
        "df.info()"
      ]
    },
    {
      "cell_type": "code",
      "execution_count": null,
      "metadata": {},
      "outputs": [],
      "source": [
        "df.head()"
      ]
    },
    {
      "cell_type": "markdown",
      "metadata": {
        "id": "LRR8uf6_M7ze"
      },
      "source": [
        "### 🔧 Try It Yourself – Part 1\n",
        "\n",
        "1. Add one line of code to print the number of rows and columns."
      ]
    },
    {
      "cell_type": "code",
      "execution_count": null,
      "metadata": {
        "id": "4WRz1cxkM9O3"
      },
      "outputs": [],
      "source": [
        "# Add code here 🔧"
      ]
    },
    {
      "cell_type": "markdown",
      "metadata": {
        "id": "LTcsPUAxK7tz"
      },
      "source": [
        "## Part 2: Inspecting the Data\n",
        "\n",
        "### Instructions:\n",
        "- Identify missing values.\n",
        "- Check data types are correct(e.g., dates, numeric columns).\n",
        "- Check for outliers key numeric variables like `price`, `sqft`, `beds`, or `baths`. The concept of outliers will be covered more in week 6.  This week we will do only a very basic filter for outlier values.   \n",
        "\n",
        "### Think about:\n",
        "- Are there missing values?\n",
        "- Do the data types look appropriate?\n",
        "- Do any numeric variables contain extreme or unusual values?\n",
        "\n"
      ]
    },
    {
      "cell_type": "code",
      "execution_count": null,
      "metadata": {
        "id": "q9Eccob9LgAL"
      },
      "outputs": [],
      "source": [
        "# Check for missing values\n",
        "df.isnull().sum()"
      ]
    },
    {
      "cell_type": "code",
      "execution_count": null,
      "metadata": {
        "id": "zA6m2sUVLgkW"
      },
      "outputs": [],
      "source": [
        "# Basic summary statistics\n",
        "df[['price', 'beds', 'baths', 'sqft']].describe()"
      ]
    },
    {
      "cell_type": "code",
      "execution_count": null,
      "metadata": {
        "id": "CPdtXYamLkPQ"
      },
      "outputs": [],
      "source": [
        "# Check data types\n",
        "df.dtypes"
      ]
    },
    {
      "cell_type": "code",
      "execution_count": null,
      "metadata": {
        "id": "-xYt1QWgMQRP"
      },
      "outputs": [],
      "source": [
        "import matplotlib.pyplot as plt\n",
        "import seaborn as sns\n",
        "\n",
        "# Boxplot of price\n",
        "sns.boxplot(x=df['price'])\n",
        "plt.title(\"Boxplot of Rental Price\")\n",
        "plt.show()"
      ]
    },
    {
      "cell_type": "markdown",
      "metadata": {
        "id": "Dr_fml6uMZQj"
      },
      "source": [
        "### 🔧 Try It Yourself – Part 2\n",
        "\n",
        "1. Use `.describe()` and a boxplot to check for outliers in **square footage (`sqft`)**.\n",
        "\n",
        "2. What patterns or issues do you see with square footage values? Is there anything unusual?\n"
      ]
    },
    {
      "cell_type": "code",
      "execution_count": null,
      "metadata": {
        "id": "it-Qoh9GMw5p"
      },
      "outputs": [],
      "source": [
        "# Add code here 🔧"
      ]
    },
    {
      "cell_type": "markdown",
      "metadata": {
        "id": "7t4H5zYYNEX3"
      },
      "source": [
        "🔧 Add comment here:"
      ]
    },
    {
      "cell_type": "markdown",
      "metadata": {
        "id": "KVYBR3qEMe93"
      },
      "source": [
        "## Part 3: Basic Exploration\n",
        "\n",
        "Use `groupby` and `value_counts` to summarize trends across neighborhoods and cities.  The concept of data exploration will be covered more in week 5.\n"
      ]
    },
    {
      "cell_type": "code",
      "execution_count": null,
      "metadata": {
        "id": "MTXDO5Q7Midp"
      },
      "outputs": [],
      "source": [
        "# Average price by neighborhood\n",
        "df.groupby('nhood')['price'].mean().sort_values(ascending=False).head(10)"
      ]
    },
    {
      "cell_type": "code",
      "execution_count": null,
      "metadata": {
        "id": "d4VPc9bbMnnf"
      },
      "outputs": [],
      "source": [
        "# Top cities by count\n",
        "df['city'].value_counts().head(10)"
      ]
    },
    {
      "cell_type": "markdown",
      "metadata": {
        "id": "_NN-83MbMtlh"
      },
      "source": [
        "### 🔧 Try It Yourself – Part 3\n",
        "\n",
        "Explore the data by performing both of the following:\n",
        "\n",
        "1. Group the listings by `year` and calculate the average price for each year.\n",
        "2. Use `.value_counts()` on the `room_in_apt` column to see how common room rentals are.\n",
        "\n",
        "3. Add a short comment or markdown cell describing any trends or insights you found.\n"
      ]
    },
    {
      "cell_type": "code",
      "execution_count": null,
      "metadata": {
        "id": "gQbcYcOPNMws"
      },
      "outputs": [],
      "source": [
        "# Add code here 🔧"
      ]
    },
    {
      "cell_type": "markdown",
      "metadata": {
        "id": "HBM7HwzkNPTW"
      },
      "source": [
        "🔧 Add comment here:"
      ]
    },
    {
      "cell_type": "markdown",
      "metadata": {},
      "source": [
        "## Export Your Notebook to Submit in Canvas\n",
        "- Use the instructions from Lab 1"
      ]
    },
    {
      "cell_type": "code",
      "execution_count": null,
      "metadata": {},
      "outputs": [],
      "source": [
        "!jupyter nbconvert --to html \"lab_04_LastnameFirstname.ipynb\""
      ]
    }
  ],
  "metadata": {
    "colab": {
      "provenance": []
    },
    "kernelspec": {
      "display_name": "Python 3",
      "name": "python3"
    },
    "language_info": {
      "name": "python"
    }
  },
  "nbformat": 4,
  "nbformat_minor": 0
}
