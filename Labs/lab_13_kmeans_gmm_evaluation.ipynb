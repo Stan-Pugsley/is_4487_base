{
  "cells": [
    {
      "cell_type": "markdown",
      "metadata": {
        "id": "Bgl7VsgwZVlo"
      },
      "source": [
        "> ### Note on Labs and Assigments:\n",
        ">\n",
        "> 🔧 Look for the **wrench emoji** 🔧 — it highlights where you're expected to take action!\n",
        ">\n",
        "> These sections are graded and are not optional.\n",
        ">"
      ]
    },
    {
      "cell_type": "markdown",
      "metadata": {
        "id": "N8ew-IkxZfyy"
      },
      "source": [
        "# IS 4487 Lab 13: Customer Segmentation with K-Means, GMM, and Text Clustering\n",
        "\n",
        "## Outline\n",
        "\n",
        "- Apply K-Means clustering on demographic and geographic data  \n",
        "- Use Gaussian Mixture Models (GMM) for soft clustering  \n",
        "- Perform text clustering with TF-IDF and K-Means  \n",
        "- Explore both structured and unstructured customer data  \n",
        "- Evaluate the quality and meaning of clusters  \n",
        "\n",
        "In this lab, you will explore **unsupervised learning** techniques to uncover natural groupings in customer data using both numerical and text-based features.\n",
        "\n",
        "We’ll practice segmentation using the **K-Means algorithm**, **Gaussian Mixture Models**, and **TF-IDF-based text clustering** on customer feedback.\n",
        "\n",
        "<a href=\"https://colab.research.google.com/github/Stan-Pugsley/is_4487_base/blob/main/Labs/lab_13_kmeans_gmm_evaluation.ipynb\" target=\"_parent\">\n",
        "  <img src=\"https://colab.research.google.com/assets/colab-badge.svg\" alt=\"Open In Colab\"/>\n",
        "</a>\n"
      ]
    },
    {
      "cell_type": "markdown",
      "metadata": {
        "id": "2maIc7AGZhgM"
      },
      "source": [
        "### Dataset 1 Description: Online Food Orders\n",
        "\n",
        "The dataset comes from an online food ordering platform and includes structured demographic, geographic, and behavioral data, along with feedback sentiment\n",
        "\n",
        "The following table outlines the main attributes:\n",
        "\n",
        "| Column                        | Data Type       | Description                                                  |\n",
        "|------------------------------|------------------|--------------------------------------------------------------|\n",
        "| `Age`                        | Integer           | Customer's age                                               |\n",
        "| `Gender`                     | Categorical       | Gender of the customer                                       |\n",
        "| `Marital Status`             | Categorical       | Marital status (e.g., Single, Married)                       |\n",
        "| `Occupation`                 | Categorical       | Job category (e.g., Student, Employee, Self-employed)        |\n",
        "| `Monthly Income`             | Categorical       | Income group (e.g., No Income, Lower, Middle, Upper)         |\n",
        "| `Educational Qualifications` | Categorical       | Education level (e.g., High School, Graduate)                |\n",
        "| `Family size`                | Integer           | Number of individuals in the household                       |\n",
        "| `latitude`                   | Float             | Latitude of customer location                                |\n",
        "| `longitude`                  | Float             | Longitude of customer location                               |\n",
        "| `Output`                     | Categorical       | Order status (e.g., Confirmed, Delivered, Pending)           |\n",
        "| `Feedback`                   | Categorical     | Sentiment (Positive, Negative, Neutral)                 |\n",
        "| `Pin code`                   | Integer           | Postal code of customer address (not used in this lab)       |\n",
        "\n",
        "### Dataset 2 Description: Restaurant Reviews\n",
        "\n",
        "This dataset contains short text reviews from customers about their restaurant experiences. It is used for unsupervised text clustering with K-Means and TF-IDF.\n",
        "\n",
        "| Column   | Data Type | Description                                                  |\n",
        "|----------|-----------|--------------------------------------------------------------|\n",
        "| Review   | Text      | Review written by the customer about their food experience   |\n",
        "| Liked    | Integer   | Indicates whether the customer liked the food (1 = Yes, 0 = No) |\n",
        "\n",
        "- Only the `Review` column is used in Part 4 for clustering.\n",
        "- The `Liked` column is **not used**, as the focus is unsupervised learning.\n",
        "\n",
        "**Source**: [Restaurant Reviews Dataset – Kaggle](https://www.kaggle.com/datasets/d4rklucif3r/restaurant-reviews?select=Restaurant_Reviews.tsv)\n",
        "\n",
        "**Note**: Categorical columns are encoded numerically for modeling. Textual feedback is vectorized using TF-IDF in the final section of the lab.\n"
      ]
    },
    {
      "cell_type": "markdown",
      "metadata": {
        "id": "_wJYTBknZtq6"
      },
      "source": [
        "## Part 1: Load and Prepare the Data\n",
        "\n",
        "What you are going to do:\n",
        "- Load the dataset\n",
        "- Encode categorical variables\n",
        "- Standardize numeric features for clustering\n",
        "\n",
        "Why this matters:\n",
        "Clustering models are sensitive to scale and format. Encoding and standardization ensure fair distance calculations.\n",
        "\n",
        "Things to notice:\n",
        "- Which variables need encoding?\n",
        "- How does the data look before and after scaling?\n"
      ]
    },
    {
      "cell_type": "code",
      "execution_count": null,
      "metadata": {
        "id": "L0Wm4oekbMUb"
      },
      "outputs": [],
      "source": [
        "import pandas as pd\n",
        "from sklearn.preprocessing import LabelEncoder, StandardScaler\n",
        "\n",
        "url = 'https://raw.githubusercontent.com/Stan-Pugsley/is_4487_base/87a54cf1ee5fefcb5d58db405f58f3628810ae51/DataSets/onlinefoods.csv'\n",
        "df = pd.read_csv(url)\n",
        "\n",
        "# View first 5 rows of data\n",
        "df.head()\n",
        "df.info()"
      ]
    },
    {
      "cell_type": "code",
      "execution_count": null,
      "metadata": {
        "id": "4SQIdfoSZwUg"
      },
      "outputs": [],
      "source": [
        "# Drop unused or irrelevant columns\n",
        "df.drop(columns=['Unnamed: 12', 'Pin code'], inplace=True)\n",
        "\n",
        "# Encode categorical columns\n",
        "categorical_cols = ['Gender', 'Marital Status', 'Occupation',\n",
        "                    'Monthly Income', 'Educational Qualifications',\n",
        "                    'Output', 'Feedback']\n",
        "\n",
        "le = LabelEncoder()\n",
        "for col in categorical_cols:\n",
        "    df[col] = le.fit_transform(df[col])\n",
        "\n",
        "# Select features for clustering\n",
        "features = ['Age', 'Gender', 'Marital Status', 'Occupation',\n",
        "            'Monthly Income', 'Educational Qualifications',\n",
        "            'Family size', 'latitude', 'longitude']\n",
        "\n",
        "X = df[features]\n",
        "\n",
        "# Standardize features\n",
        "scaler = StandardScaler()\n",
        "X_scaled = scaler.fit_transform(X)\n"
      ]
    },
    {
      "cell_type": "markdown",
      "metadata": {
        "id": "gpaNFtqLZybX"
      },
      "source": [
        "## Part 2: K-Means Clustering\n",
        "\n",
        "What you are going to do:\n",
        "- Apply K-Means with different numbers of clusters\n",
        "- Use the elbow method to select the best value of K\n",
        "- Visualize clusters using PCA\n",
        "\n",
        "Why this matters:\n",
        "K-Means finds distinct groups based on feature similarity. Evaluating K helps avoid overfitting or underfitting clusters.\n",
        "\n",
        "Things to notice:\n",
        "- Where is the \"elbow\" in the inertia plot?\n",
        "- Are the clusters clearly separated?\n"
      ]
    },
    {
      "cell_type": "code",
      "execution_count": null,
      "metadata": {
        "id": "PgLto-KKZ1Lx"
      },
      "outputs": [],
      "source": [
        "from sklearn.cluster import KMeans\n",
        "import matplotlib.pyplot as plt\n",
        "from sklearn.decomposition import PCA\n",
        "\n",
        "# Elbow method\n",
        "inertias = []\n",
        "K_range = range(2, 11)\n",
        "for k in K_range:\n",
        "    kmeans = KMeans(n_clusters=k, random_state=42)\n",
        "    kmeans.fit(X_scaled)\n",
        "    inertias.append(kmeans.inertia_)\n",
        "\n",
        "plt.plot(K_range, inertias, marker='o')\n",
        "plt.title(\"Elbow Method for K\")\n",
        "plt.xlabel(\"Number of Clusters\")\n",
        "plt.ylabel(\"Inertia\")\n",
        "plt.grid(True)\n",
        "plt.show()\n"
      ]
    },
    {
      "cell_type": "code",
      "execution_count": null,
      "metadata": {
        "id": "v9U8qgRiZ5IC"
      },
      "outputs": [],
      "source": [
        "# Final KMeans model\n",
        "kmeans = KMeans(n_clusters=4, random_state=42)\n",
        "kmeans_labels = kmeans.fit_predict(X_scaled)\n",
        "\n",
        "# PCA for 2D projection\n",
        "pca = PCA(n_components=2)\n",
        "X_pca = pca.fit_transform(X_scaled)\n",
        "\n",
        "plt.scatter(X_pca[:, 0], X_pca[:, 1], c=kmeans_labels, cmap='Set2', s=50)\n",
        "plt.title(\"K-Means Clusters (PCA Projection)\")\n",
        "plt.xlabel(\"PCA 1\")\n",
        "plt.ylabel(\"PCA 2\")\n",
        "plt.show()\n"
      ]
    },
    {
      "cell_type": "markdown",
      "metadata": {
        "id": "IMtZ-b-iZ_lY"
      },
      "source": [
        "### 🔧 Try It Yourself - Part 2\n",
        "\n",
        "1. Try different values for `n_clusters` (e.g., 3 or 5) and rerun the PCA visualization.\n",
        "2. Analyze the cluster characteristics:\n",
        "\n",
        "```\n",
        "   df['Cluster'] = kmeans_labels\n",
        "   df.groupby('Cluster')[['Age', 'Monthly Income', 'Family size']].mean()\n",
        "```\n",
        "\n",
        "3. What types of customers are grouped together? Are the clusters interpretable?"
      ]
    },
    {
      "cell_type": "code",
      "execution_count": null,
      "metadata": {
        "id": "SkcCfwIkZ7kb"
      },
      "outputs": [],
      "source": [
        "# 🔧 ADD CODE HERE"
      ]
    },
    {
      "cell_type": "markdown",
      "metadata": {
        "id": "YAnAs9yiwELx"
      },
      "source": [
        "🔧 Add comments here"
      ]
    },
    {
      "cell_type": "markdown",
      "metadata": {
        "id": "3xkHvdEEaEeV"
      },
      "source": [
        "## Part 3: Gaussian Mixture Model (GMM)\n",
        "\n",
        "What you are going to do:\n",
        "- Fit a GMM using the same features\n",
        "- Compare it with K-Means using silhouette score\n",
        "\n",
        "Why this matters:\n",
        "\n",
        "GMM supports soft clustering and overlapping groups, which can reveal nuanced patterns.\n",
        "\n",
        "Things to notice:\n",
        "- How does the cluster structure differ from K-Means?\n",
        "- Which model performs better on internal metrics?"
      ]
    },
    {
      "cell_type": "code",
      "execution_count": null,
      "metadata": {
        "id": "CeU7zi7UZAqd"
      },
      "outputs": [],
      "source": [
        "from sklearn.mixture import GaussianMixture\n",
        "from sklearn.metrics import silhouette_score\n",
        "\n",
        "# GMM clustering\n",
        "gmm = GaussianMixture(n_components=4, random_state=42)\n",
        "gmm_labels = gmm.fit_predict(X_scaled)\n",
        "\n",
        "# Evaluate performance\n",
        "print(\"Silhouette Score (KMeans):\", silhouette_score(X_scaled, kmeans_labels))\n",
        "print(\"Silhouette Score (GMM):\", silhouette_score(X_scaled, gmm_labels))\n"
      ]
    },
    {
      "cell_type": "code",
      "execution_count": null,
      "metadata": {
        "id": "JTQ3I6Z5R1aM"
      },
      "outputs": [],
      "source": [
        "# GMM cluster visualization\n",
        "plt.scatter(X_pca[:, 0], X_pca[:, 1], c=gmm_labels, cmap='Set1', s=50)\n",
        "plt.title(\"GMM Clusters (PCA Projection)\")\n",
        "plt.xlabel(\"PCA 1\")\n",
        "plt.ylabel(\"PCA 2\")\n",
        "plt.show()"
      ]
    },
    {
      "cell_type": "markdown",
      "metadata": {
        "id": "1VzvFYlsaMQP"
      },
      "source": [
        "### 🔧 Try It Yourself — Part 3\n",
        "\n",
        "1. Try a different number of components (e.g., 3 or 5) in the GMM and rerun\n",
        "2. Group by GMM cluster and summarize:\n",
        "\n",
        "\n",
        "```\n",
        "df['GMM_Cluster'] = gmm_labels\n",
        "df.groupby('GMM_Cluster')[['Age', 'Family size']].mean()\n",
        "```\n",
        "\n",
        "\n",
        "3. Which clustering approach gave more distinct groupings?"
      ]
    },
    {
      "cell_type": "code",
      "execution_count": null,
      "metadata": {
        "id": "KM1DNLwpaTnQ"
      },
      "outputs": [],
      "source": [
        "#🔧 Add code here"
      ]
    },
    {
      "cell_type": "markdown",
      "metadata": {
        "id": "EFGz-Pr_wPbv"
      },
      "source": [
        "🔧 Add comment here"
      ]
    },
    {
      "cell_type": "markdown",
      "metadata": {
        "id": "MeNN3lTqaV4_"
      },
      "source": [
        "## Part 4: K-Means Text Clustering on Restaurant Reviews\n",
        "\n",
        "What you are going to do:\n",
        "- Load the Restaurant Reviews dataset\n",
        "- Extract and preprocess the review text\n",
        "- Convert text to numeric form using TF-IDF\n",
        "- Apply K-Means to find review clusters\n",
        "- Interpret each cluster by identifying key terms\n",
        "\n",
        "Why this matters:\n",
        "Customer feedback contains rich information that is often underutilized. Text clustering lets us uncover themes—like satisfaction, complaints, or food quality—that can guide business decisions.\n",
        "\n",
        "Things to notice:\n",
        "- Are some clusters clearly positive or negative?\n",
        "- What recurring words or issues appear in the review groups?\n"
      ]
    },
    {
      "cell_type": "code",
      "execution_count": null,
      "metadata": {
        "id": "nxbKj5aFh7t2"
      },
      "outputs": [],
      "source": [
        "# Load the restaurant reviews dataset\n",
        "url = 'https://raw.githubusercontent.com/Stan-Pugsley/is_4487_base/87a54cf1ee5fefcb5d58db405f58f3628810ae51/DataSets/Restaurant_Reviews.tsv'\n",
        "restaurant_reviews = pd.read_csv(url, sep='\\t')\n",
        "\n",
        "\n",
        "# Inspect the data\n",
        "restaurant_reviews.head()"
      ]
    },
    {
      "cell_type": "code",
      "execution_count": null,
      "metadata": {
        "id": "FkZw1wNgacZL"
      },
      "outputs": [],
      "source": [
        "from sklearn.feature_extraction.text import TfidfVectorizer\n",
        "from sklearn.cluster import KMeans\n",
        "from sklearn.metrics import silhouette_score\n",
        "\n",
        "# Extract text column\n",
        "text_data = restaurant_reviews['Review'].astype(str)\n",
        "\n",
        "# TF-IDF Vectorization\n",
        "vectorizer = TfidfVectorizer(stop_words='english', max_df=0.9)\n",
        "X_text = vectorizer.fit_transform(text_data)\n",
        "\n",
        "# K-Means Clustering\n",
        "kmeans_text = KMeans(n_clusters=3, random_state=42)\n",
        "text_labels = kmeans_text.fit_predict(X_text)\n",
        "\n",
        "# Evaluate clustering performance\n",
        "print(\"Silhouette Score (Review Clustering):\", silhouette_score(X_text, text_labels))\n",
        "\n"
      ]
    },
    {
      "cell_type": "code",
      "execution_count": null,
      "metadata": {
        "id": "SWu9bpDqeRHQ"
      },
      "outputs": [],
      "source": [
        "# Top terms in each cluster\n",
        "terms = vectorizer.get_feature_names_out()\n",
        "centroids = kmeans_text.cluster_centers_.argsort()[:, ::-1]\n",
        "\n",
        "for i in range(3):\n",
        "    print(f\"\\nTop words in Cluster {i}:\")\n",
        "    print(\", \".join([terms[ind] for ind in centroids[i, :10]]))\n"
      ]
    },
    {
      "cell_type": "markdown",
      "metadata": {
        "id": "td8RmrKJaS2-"
      },
      "source": [
        "### 🔧 Try It Yourself - Part 4\n",
        "\n",
        "1. Change the number of clusters to 4 or 5 and rerun the model.\n",
        "2. Use the following code to generate a word cloud for one of the clusters:\n",
        "\n",
        "```\n",
        "from wordcloud import WordCloud\n",
        "   import matplotlib.pyplot as plt\n",
        "\n",
        "   cluster_num = 0  # Choose from 0 to N-1\n",
        "   cluster_text = restaurant_reviews[text_labels == cluster_num]['Review']\n",
        "   combined_text = \" \".join(cluster_text)\n",
        "\n",
        "   wc = WordCloud(background_color='white', max_words=100).generate(combined_text)\n",
        "\n",
        "   plt.imshow(wc, interpolation='bilinear')\n",
        "   plt.axis('off')\n",
        "   plt.title(f\"Word Cloud for Cluster {cluster_num}\")\n",
        "   plt.show()\n",
        "```\n",
        "\n",
        "3. What topics or phrases stand out in the word cloud?\n",
        "4. Could these insights inform marketing or support messaging?\n",
        "\n"
      ]
    },
    {
      "cell_type": "code",
      "execution_count": null,
      "metadata": {
        "id": "3qRDFhEBetMJ"
      },
      "outputs": [],
      "source": [
        "# 🔧 add code here"
      ]
    },
    {
      "cell_type": "markdown",
      "metadata": {
        "id": "DCWO_T_8fOiS"
      },
      "source": [
        "🔧 Add comment here:"
      ]
    },
    {
      "cell_type": "markdown",
      "metadata": {
        "id": "I5m6M1LBapIQ"
      },
      "source": [
        "## 🔧 Part 5: Reflection (100 words or less)\n",
        "\n",
        "In this lab, you applied clustering techniques to both structured customer data and unstructured restaurant reviews. You prepared each data type for analysis, applied appropriate clustering methods, and interpreted the results using visualizations and top features.\n",
        "\n",
        "In Part 4, you explored how customer feedback can be grouped by themes or sentiment—without labeled outcomes—using TF-IDF and word clouds.\n",
        "\n",
        "Use the cell below to answer the following questions:\n",
        "\n",
        "1. What insights did the text clusters reveal about customer priorities or concerns?\n",
        "2. How could a restaurant or food platform use these insights to improve service?\n"
      ]
    },
    {
      "cell_type": "markdown",
      "metadata": {
        "id": "9kcYoH36fblH"
      },
      "source": [
        "🔧 Add comment here:"
      ]
    },
    {
      "cell_type": "markdown",
      "metadata": {},
      "source": [
        "## Export Your Notebook to Submit in Canvas\n",
        "- Use the instructions from Lab 1"
      ]
    },
    {
      "cell_type": "code",
      "execution_count": null,
      "metadata": {},
      "outputs": [],
      "source": [
        "!jupyter nbconvert --to html \"lab_13_LastnameFirstname.ipynb\""
      ]
    }
  ],
  "metadata": {
    "colab": {
      "provenance": []
    },
    "kernelspec": {
      "display_name": "Python 3",
      "name": "python3"
    },
    "language_info": {
      "name": "python"
    }
  },
  "nbformat": 4,
  "nbformat_minor": 0
}
