{
  "nbformat": 4,
  "nbformat_minor": 0,
  "metadata": {
    "colab": {
      "provenance": []
    },
    "kernelspec": {
      "name": "python3",
      "display_name": "Python 3"
    },
    "language_info": {
      "name": "python"
    }
  },
  "cells": [
    {
      "cell_type": "markdown",
      "source": [
        "> # ⚠️ **IMPORTANT: READ BEFORE STARTING THIS LAB**\n",
        ">\n",
        "> ### Throughout this lab, you will see **🔧 Try It Yourself** sections and a final 🔧 **Reflection** section\n",
        ">\n",
        "> ✅ You are expected to:\n",
        "> - Complete each **\"🔧 Try It Yourself”** section by writing and running your own code or answering the prompted questions in a markdown or python cell below the section.\n",
        "> - Answer the **Reflection** section at the end of the lab in your own words. This is your opportunity to summarize what you learned and connect the concepts.\n",
        "\n",
        ">\n",
        ">\n",
        "> 🔧 Look for the **wrench emoji** 🔧 — it highlights where you're expected to take action!\n",
        ">\n",
        "> ### These sections are **graded** and are **not optional**. Skipping them will impact your lab score.\n",
        ">\n",
        "> ---"
      ],
      "metadata": {
        "id": "_WbVr6TXSjPK"
      }
    },
    {
      "cell_type": "markdown",
      "source": [
        "# IS 4487 Lab 5: EDA\n",
        "\n",
        "## Outline\n",
        "\n",
        "- Univariate analysis (distributions, histograms, counts)\n",
        "- Bivariate analysis (correlations, scatterplots, group comparisons)\n",
        "- Reflections and insights\n",
        "\n",
        "This lab builds on the cleaned dataset from **Lab 4**. Make sure you've removed outliers and handled missing values before beginning.\n",
        "\n",
        "<a href=\"https://colab.research.google.com/github/Stan-Pugsley/is_4487_base/blob/main/Labs/lab_05_eda.ipynb\" target=\"_parent\">\n",
        "  <img src=\"https://colab.research.google.com/assets/colab-badge.svg\" alt=\"Open In Colab\"/>\n",
        "</a>\n",
        "\n",
        "If you have any questions about Colab, you can read more here:  \n",
        "https://research.google.com/colaboratory/faq.html\n"
      ],
      "metadata": {
        "id": "v37brnQDKQj4"
      }
    },
    {
      "cell_type": "markdown",
      "source": [
        "## Dataset Overview\n",
        "\n",
        "**Dataset:** `rent.csv`  \n",
        "Source: [TidyTuesday – 2022-07-05](https://github.com/rfordatascience/tidytuesday/blob/main/data/2022/2022-07-05/rent.csv)\n",
        "\n",
        "| Variable       | Type       | Description |\n",
        "|----------------|------------|-------------|\n",
        "| `post_id`      | Categorical| Unique listing ID |\n",
        "| `date`         | Numeric    | Listing date (numeric format) |\n",
        "| `year`         | Integer    | Year of listing |\n",
        "| `nhood`        | Categorical| Neighborhood |\n",
        "| `city`         | Categorical| City |\n",
        "| `county`       | Categorical| County |\n",
        "| `price`        | Numeric    | Listing price (USD) |\n",
        "| `beds`         | Numeric    | Number of bedrooms |\n",
        "| `baths`        | Numeric    | Number of bathrooms |\n",
        "| `sqft`         | Numeric    | Square footage |\n",
        "| `room_in_apt`  | Binary     | 1 = room in apartment |\n",
        "| `address`      | Categorical| Street address |\n",
        "| `lat`          | Numeric    | Latitude |\n",
        "| `lon`          | Numeric    | Longitude |\n",
        "| `title`        | Text       | Listing title |\n",
        "| `descr`        | Text       | Listing description |\n",
        "| `details`      | Text       | Additional details |\n"
      ],
      "metadata": {
        "id": "JWQ8j5tOKezP"
      }
    },
    {
      "cell_type": "markdown",
      "source": [
        "## Part 1: Importing the Data\n",
        "\n",
        "### Instructions:\n",
        "- Import the `pandas` library.\n",
        "- Import data from the rent.csv into a dataframe from the tidytuesday link.\n",
        "- Use `.info()` and `.head()` to inspect the structure and preview the data."
      ],
      "metadata": {
        "id": "kYVS2S1qKoYm"
      }
    },
    {
      "cell_type": "code",
      "execution_count": null,
      "metadata": {
        "id": "33vaVxotH3-i"
      },
      "outputs": [],
      "source": [
        "import pandas as pd\n",
        "\n",
        "url = 'https://raw.githubusercontent.com/rfordatascience/tidytuesday/main/data/2022/2022-07-05/rent.csv'\n",
        "df = pd.read_csv(url)\n",
        "\n",
        "df.info()\n",
        "df.head()\n"
      ]
    },
    {
      "cell_type": "markdown",
      "source": [
        "## Part 2: Inspecting, Cleaning & Removing Outliers\n",
        "\n",
        "### Instructions:\n",
        "- Identify missing values.\n",
        "- Check data types are correct(e.g., dates, numeric columns).\n",
        "- Check for outliers key numeric variables like `price`, `sqft`, `beds`, or `baths`.\n",
        "\n",
        "### Think about:\n",
        "- Are there missing values?\n",
        "- Do the data types look appropriate?\n",
        "- Do any numeric variables contain extreme or unusual values?\n"
      ],
      "metadata": {
        "id": "LTcsPUAxK7tz"
      }
    },
    {
      "cell_type": "code",
      "source": [
        "# Check for missing values\n",
        "df.isnull().sum()"
      ],
      "metadata": {
        "id": "q9Eccob9LgAL"
      },
      "execution_count": null,
      "outputs": []
    },
    {
      "cell_type": "code",
      "source": [
        "# Basic summary statistics\n",
        "df[['price', 'beds', 'baths', 'sqft']].describe()"
      ],
      "metadata": {
        "id": "zA6m2sUVLgkW"
      },
      "execution_count": null,
      "outputs": []
    },
    {
      "cell_type": "code",
      "source": [
        "# Check data types\n",
        "df.dtypes"
      ],
      "metadata": {
        "id": "CPdtXYamLkPQ"
      },
      "execution_count": null,
      "outputs": []
    },
    {
      "cell_type": "code",
      "source": [
        "# Remove price outliers (1st–99th percentile)\n",
        "q_low = df['price'].quantile(0.01)\n",
        "q_high = df['price'].quantile(0.99)\n",
        "df = df[(df['price'] >= q_low) & (df['price'] <= q_high)]"
      ],
      "metadata": {
        "id": "HxH96RSZMWTF"
      },
      "execution_count": null,
      "outputs": []
    },
    {
      "cell_type": "markdown",
      "source": [
        "## Part 3: Basic Exploration\n",
        "\n",
        "Use `groupby` and `value_counts` to summarize trends across neighborhoods and cities.\n"
      ],
      "metadata": {
        "id": "KVYBR3qEMe93"
      }
    },
    {
      "cell_type": "code",
      "source": [
        "# Average price by neighborhood\n",
        "df.groupby('nhood')['price'].mean().sort_values(ascending=False).head(10)"
      ],
      "metadata": {
        "id": "MTXDO5Q7Midp"
      },
      "execution_count": null,
      "outputs": []
    },
    {
      "cell_type": "code",
      "source": [
        "# Top cities by count\n",
        "df['city'].value_counts().head(10)"
      ],
      "metadata": {
        "id": "d4VPc9bbMnnf"
      },
      "execution_count": null,
      "outputs": []
    },
    {
      "cell_type": "markdown",
      "source": [
        "## Part 4: Univariate Analysis\n",
        "\n",
        "Explore individual variables to understand their distributions and frequency.\n",
        "\n",
        "### Tasks:\n",
        "- Plot histograms for numeric variables (`price`, `sqft`)\n",
        "- Plot countplots for categorical variables (`beds`, `nhood`)\n"
      ],
      "metadata": {
        "id": "trheWfn6Q66e"
      }
    },
    {
      "cell_type": "code",
      "source": [
        "# Histogram: Price\n",
        "plt.hist(df['price'], bins=30)\n",
        "plt.title(\"Distribution of Rental Prices\")\n",
        "plt.xlabel(\"Price ($)\")\n",
        "plt.ylabel(\"Count\")\n",
        "plt.show()"
      ],
      "metadata": {
        "id": "6VGLKackQ471"
      },
      "execution_count": null,
      "outputs": []
    },
    {
      "cell_type": "code",
      "source": [
        "# Histogram: Square Footage\n",
        "plt.hist(df['sqft'].dropna(), bins=30)\n",
        "plt.title(\"Distribution of Square Footage\")\n",
        "plt.xlabel(\"Sqft\")\n",
        "plt.ylabel(\"Count\")\n",
        "plt.show()\n"
      ],
      "metadata": {
        "id": "UjP2FNnFQ__J"
      },
      "execution_count": null,
      "outputs": []
    },
    {
      "cell_type": "code",
      "source": [
        "# Bar plot of top 10 neighborhoods by number of listings\n",
        "top_nhoods = df['nhood'].value_counts().head(10)\n",
        "\n",
        "sns.barplot(x=top_nhoods.values, y=top_nhoods.index)\n",
        "plt.title(\"Top 10 Neighborhoods by Listing Count\")\n",
        "plt.xlabel(\"Number of Listings\")\n",
        "plt.ylabel(\"Neighborhood\")\n",
        "plt.show()"
      ],
      "metadata": {
        "id": "hxadDLPJRMOk"
      },
      "execution_count": null,
      "outputs": []
    },
    {
      "cell_type": "markdown",
      "source": [
        "### 🔧 Try It Yourself – Part 4\n",
        "\n",
        "1. Create two new visualizations using different variables than the ones already shown above.\n",
        "\n",
        ">Suggestions:\n",
        "- A **histogram** of the `baths` variable\n",
        "- A **bar chart** showing the **average square footage by number of bathrooms**\n",
        "- A **countplot** for `room_in_apt` or `city`\n",
        "\n",
        "> Be sure to label your axes and include a title for each chart.\n",
        "\n",
        "2. After creating the visuals, write 1–2 sentences explaining what you notice in each.\n"
      ],
      "metadata": {
        "id": "6uH8zp9xRa-T"
      }
    },
    {
      "cell_type": "code",
      "source": [
        "# Visual 1 🔧"
      ],
      "metadata": {
        "id": "OTJGNTRAR8Vo"
      },
      "execution_count": null,
      "outputs": []
    },
    {
      "cell_type": "markdown",
      "source": [
        "🔧 Visual 1 comment:"
      ],
      "metadata": {
        "id": "e92fOS_nSAOi"
      }
    },
    {
      "cell_type": "code",
      "source": [
        "# Visual 2 🔧"
      ],
      "metadata": {
        "id": "NIxXfseqR-SJ"
      },
      "execution_count": null,
      "outputs": []
    },
    {
      "cell_type": "markdown",
      "source": [
        "🔧 Visual 2 comment:"
      ],
      "metadata": {
        "id": "LMczop5eSDwE"
      }
    },
    {
      "cell_type": "markdown",
      "source": [
        "## Part 5: Bivariate Analysis\n",
        "\n",
        "Explore relationships between two variables to understand how features like square footage or bedrooms influence price.\n"
      ],
      "metadata": {
        "id": "p88je8ncSOr9"
      }
    },
    {
      "cell_type": "code",
      "source": [
        "# Correlation matrix\n",
        "corr_matrix = df[['price', 'beds', 'baths', 'sqft']].corr()\n",
        "corr_matrix\n"
      ],
      "metadata": {
        "id": "9YuFrLCFSRCE"
      },
      "execution_count": null,
      "outputs": []
    },
    {
      "cell_type": "code",
      "source": [
        "# Heatmap of correlation matrix\n",
        "sns.heatmap(corr_matrix, annot=True, cmap='coolwarm')\n",
        "plt.title(\"Correlation Matrix Heatmap\")\n",
        "plt.show()"
      ],
      "metadata": {
        "id": "5-5d1v9ASR3S"
      },
      "execution_count": null,
      "outputs": []
    },
    {
      "cell_type": "code",
      "source": [
        "# Scatterplot: Square Footage vs Price\n",
        "sns.scatterplot(x='sqft', y='price', data=df)\n",
        "plt.title(\"Square Footage vs Price\")\n",
        "plt.xlabel(\"Square Feet\")\n",
        "plt.ylabel(\"Price ($)\")\n",
        "plt.show()"
      ],
      "metadata": {
        "id": "PovGX1AnSUx1"
      },
      "execution_count": null,
      "outputs": []
    },
    {
      "cell_type": "code",
      "source": [
        "# Average price by number of bedrooms\n",
        "avg_price_beds = df.groupby('beds')['price'].mean().sort_index()\n",
        "sns.barplot(x=avg_price_beds.index, y=avg_price_beds.values)\n",
        "plt.title(\"Average Rental Price by Number of Bedrooms\")\n",
        "plt.xlabel(\"Bedrooms\")\n",
        "plt.ylabel(\"Average Price ($)\")\n",
        "plt.show()"
      ],
      "metadata": {
        "id": "ZEkr_l75SZzz"
      },
      "execution_count": null,
      "outputs": []
    },
    {
      "cell_type": "markdown",
      "source": [
        "### 🔧 Try It Yourself – Part 5\n",
        "\n",
        "1. Create a scatterplot of `baths` vs `price`.  \n",
        "2. Group by `year` and plot the average price over time.\n",
        "3. What trends or outliers do you see?"
      ],
      "metadata": {
        "id": "HD2KOM6xSdsi"
      }
    },
    {
      "cell_type": "code",
      "source": [
        "#1 🔧"
      ],
      "metadata": {
        "id": "YjW1vWb9SfI2"
      },
      "execution_count": null,
      "outputs": []
    },
    {
      "cell_type": "code",
      "source": [
        "#2 🔧"
      ],
      "metadata": {
        "id": "UlMAYDunShWN"
      },
      "execution_count": null,
      "outputs": []
    },
    {
      "cell_type": "markdown",
      "source": [
        "🔧 Add comment here:"
      ],
      "metadata": {
        "id": "gJQaPrVQSlxr"
      }
    },
    {
      "cell_type": "markdown",
      "source": [
        "## 🔧  Part 6: Reflection\n",
        "\n",
        "Answer the following questions in the markdown cell below (no more than a few sentences per question required)\n",
        "\n",
        "1. Which variables are most strongly correlated with rental price?\n",
        "2. Are there patterns in how size (sqft) or number of bedrooms affects price?\n",
        "3. Which neighborhoods or years show the highest prices?\n",
        "4. What other visualizations or groupings might improve this analysis?\n",
        "\n",
        "Use this section to summarize insights from both Labs 4 and 5."
      ],
      "metadata": {
        "id": "c2qlC2HYSsGZ"
      }
    },
    {
      "cell_type": "markdown",
      "source": [
        "🔧 Add refections here:"
      ],
      "metadata": {
        "id": "Qdtzv9UcSv37"
      }
    }
  ]
}
