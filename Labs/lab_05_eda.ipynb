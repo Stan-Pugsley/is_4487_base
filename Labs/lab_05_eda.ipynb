{
  "cells": [
    {
      "cell_type": "markdown",
      "metadata": {
        "id": "_WbVr6TXSjPK"
      },
      "source": [
        "> ### Note on Labs and Assignments:\n",
        ">\n",
        "> 🔧 Look for the **wrench emoji** 🔧 — it highlights where you're expected to take action!\n",
        ">\n",
        "> These sections are graded and are not optional.\n",
        ">"
      ]
    },
    {
      "cell_type": "markdown",
      "metadata": {
        "id": "v37brnQDKQj4"
      },
      "source": [
        "# IS 4487 Lab 5: EDA\n",
        "\n",
        "## Outline\n",
        "\n",
        "- Univariate analysis (distributions, histograms, counts)\n",
        "- Bivariate analysis (correlations, scatterplots, group comparisons)\n",
        "- Reflections and insights\n",
        "\n",
        "This lab uses the same dataset from **Lab 4**. You will see some overlap in the initial tasks as the data is cleaned.  \n",
        "\n",
        "<a href=\"https://colab.research.google.com/github/Stan-Pugsley/is_4487_base/blob/main/Labs/lab_05_eda.ipynb\" target=\"_parent\">\n",
        "  <img src=\"https://colab.research.google.com/assets/colab-badge.svg\" alt=\"Open In Colab\"/>\n",
        "</a>\n",
        "\n",
        "If you have any questions about Colab, you can read more here:  \n",
        "https://research.google.com/colaboratory/faq.html\n"
      ]
    },
    {
      "cell_type": "markdown",
      "metadata": {
        "id": "JWQ8j5tOKezP"
      },
      "source": [
        "## Dataset Overview\n",
        "\n",
        "**Dataset:** `rent.csv`  \n",
        "Source: [TidyTuesday – 2022-07-05](https://github.com/rfordatascience/tidytuesday/blob/main/data/2022/2022-07-05/rent.csv)\n",
        "\n",
        "| Variable       | Type       | Description |\n",
        "|----------------|------------|-------------|\n",
        "| `post_id`      | Categorical| Unique listing ID |\n",
        "| `date`         | Numeric    | Listing date (numeric format) |\n",
        "| `year`         | Integer    | Year of listing |\n",
        "| `nhood`        | Categorical| Neighborhood |\n",
        "| `city`         | Categorical| City |\n",
        "| `county`       | Categorical| County |\n",
        "| `price`        | Numeric    | Listing price (USD) |\n",
        "| `beds`         | Numeric    | Number of bedrooms |\n",
        "| `baths`        | Numeric    | Number of bathrooms |\n",
        "| `sqft`         | Numeric    | Square footage |\n",
        "| `room_in_apt`  | Binary     | Indicates whether the rental listing is for an entire apartment (0) or a single room within an apartment (1)|\n",
        "| `address`      | Categorical| Street address |\n",
        "| `lat`          | Numeric    | Latitude |\n",
        "| `lon`          | Numeric    | Longitude |\n",
        "| `title`        | Text       | Listing title |\n",
        "| `descr`        | Text       | Listing description |\n",
        "| `details`      | Text       | Additional details |\n"
      ]
    },
    {
      "cell_type": "markdown",
      "metadata": {
        "id": "kYVS2S1qKoYm"
      },
      "source": [
        "## Part 1: Importing the Data\n",
        "\n",
        "### Instructions:\n",
        "- Import the `pandas` library for dataframes.  Then `Matplotlib` and `Seaborn` for data visualization.\n",
        "- Import data from the rent.csv into a dataframe from the tidytuesday link.\n",
        "- Use `.info()` and `.head()` to inspect the structure and preview the data."
      ]
    },
    {
      "cell_type": "code",
      "execution_count": null,
      "metadata": {},
      "outputs": [],
      "source": [
        "import pandas as pd\n",
        "import matplotlib.pyplot as plt\n",
        "import seaborn as sns"
      ]
    },
    {
      "cell_type": "code",
      "execution_count": null,
      "metadata": {
        "id": "33vaVxotH3-i"
      },
      "outputs": [],
      "source": [
        "url = 'https://raw.githubusercontent.com/rfordatascience/tidytuesday/main/data/2022/2022-07-05/rent.csv'\n",
        "df = pd.read_csv(url)"
      ]
    },
    {
      "cell_type": "code",
      "execution_count": null,
      "metadata": {},
      "outputs": [],
      "source": [
        "df.info()"
      ]
    },
    {
      "cell_type": "code",
      "execution_count": null,
      "metadata": {},
      "outputs": [],
      "source": [
        "df.head()"
      ]
    },
    {
      "cell_type": "markdown",
      "metadata": {
        "id": "LTcsPUAxK7tz"
      },
      "source": [
        "## Part 2: Inspecting & Basic Cleaning\n",
        "\n",
        "### Instructions:\n",
        "- Identify missing values.\n",
        "- Check data types are correct(e.g., dates, numeric columns).\n",
        "- Check for outliers key numeric variables like `price`, `sqft`, `beds`, or `baths`.  The concept of outliers will be covered more in week 6.  This week we will do only a very basic filter for outlier values.   \n",
        "\n",
        "### Think about:\n",
        "- Are there missing values?\n",
        "- Do the data types look appropriate?\n",
        "- Do any numeric variables contain extreme or unusual values?\n"
      ]
    },
    {
      "cell_type": "code",
      "execution_count": null,
      "metadata": {
        "id": "q9Eccob9LgAL"
      },
      "outputs": [],
      "source": [
        "# Check for missing values\n",
        "df.isnull().sum()"
      ]
    },
    {
      "cell_type": "code",
      "execution_count": null,
      "metadata": {
        "id": "zA6m2sUVLgkW"
      },
      "outputs": [],
      "source": [
        "# Basic summary statistics\n",
        "df[['price', 'beds', 'baths', 'sqft']].describe()"
      ]
    },
    {
      "cell_type": "code",
      "execution_count": null,
      "metadata": {
        "id": "CPdtXYamLkPQ"
      },
      "outputs": [],
      "source": [
        "# Check data types\n",
        "df.dtypes"
      ]
    },
    {
      "cell_type": "code",
      "execution_count": null,
      "metadata": {
        "id": "HxH96RSZMWTF"
      },
      "outputs": [],
      "source": [
        "# Remove price outliers (1st–99th percentile)\n",
        "q_low = df['price'].quantile(0.01)\n",
        "q_high = df['price'].quantile(0.99)\n",
        "df = df[(df['price'] >= q_low) & (df['price'] <= q_high)]"
      ]
    },
    {
      "cell_type": "markdown",
      "metadata": {
        "id": "KVYBR3qEMe93"
      },
      "source": [
        "## Part 3: Basic Exploration\n",
        "\n",
        "Use `groupby` and `value_counts` to summarize trends across neighborhoods and cities.\n"
      ]
    },
    {
      "cell_type": "code",
      "execution_count": null,
      "metadata": {
        "id": "MTXDO5Q7Midp"
      },
      "outputs": [],
      "source": [
        "# Average price by neighborhood\n",
        "df.groupby('nhood')['price'].mean().sort_values(ascending=False).head(10)"
      ]
    },
    {
      "cell_type": "code",
      "execution_count": null,
      "metadata": {
        "id": "d4VPc9bbMnnf"
      },
      "outputs": [],
      "source": [
        "# Top cities by count\n",
        "df['city'].value_counts().head(10)"
      ]
    },
    {
      "cell_type": "markdown",
      "metadata": {
        "id": "trheWfn6Q66e"
      },
      "source": [
        "## Part 4: Univariate Analysis\n",
        "\n",
        "Explore individual variables to understand their distributions and frequency.\n",
        "\n",
        "### Tasks:\n",
        "- Plot histograms for numeric variables (`price`, `sqft`)\n",
        "- Plot countplots for categorical variables (`beds`, `nhood`)\n"
      ]
    },
    {
      "cell_type": "code",
      "execution_count": null,
      "metadata": {
        "id": "6VGLKackQ471"
      },
      "outputs": [],
      "source": [
        "# Histogram: Price\n",
        "plt.hist(df['price'], bins=30)\n",
        "plt.title(\"Distribution of Rental Prices\")\n",
        "plt.xlabel(\"Price ($)\")\n",
        "plt.ylabel(\"Count\")\n",
        "plt.show()"
      ]
    },
    {
      "cell_type": "code",
      "execution_count": null,
      "metadata": {
        "id": "UjP2FNnFQ__J"
      },
      "outputs": [],
      "source": [
        "# Histogram: Square Footage\n",
        "plt.hist(df['sqft'].dropna(), bins=30)\n",
        "plt.title(\"Distribution of Square Footage\")\n",
        "plt.xlabel(\"Sqft\")\n",
        "plt.ylabel(\"Count\")\n",
        "plt.show()\n"
      ]
    },
    {
      "cell_type": "code",
      "execution_count": null,
      "metadata": {
        "id": "hxadDLPJRMOk"
      },
      "outputs": [],
      "source": [
        "# Bar plot of top 10 neighborhoods by number of listings\n",
        "top_nhoods = df['nhood'].value_counts().head(10)\n",
        "\n",
        "sns.barplot(x=top_nhoods.values, y=top_nhoods.index)\n",
        "plt.title(\"Top 10 Neighborhoods by Listing Count\")\n",
        "plt.xlabel(\"Number of Listings\")\n",
        "plt.ylabel(\"Neighborhood\")\n",
        "plt.show()"
      ]
    },
    {
      "cell_type": "markdown",
      "metadata": {
        "id": "6uH8zp9xRa-T"
      },
      "source": [
        "### 🔧 Try It Yourself – Part 4\n",
        "\n",
        "1. Create two new visualizations using different variables than the ones already shown above.\n",
        "\n",
        ">Suggestions:\n",
        "- A **histogram** of the `baths` variable\n",
        "- A **bar chart** showing the **average square footage by number of bathrooms**\n",
        "\n",
        "> Be sure to label your axes and include a title for each chart.\n",
        "\n",
        "2. After creating the visuals, write 1–2 sentences explaining what you notice in each.\n"
      ]
    },
    {
      "cell_type": "code",
      "execution_count": null,
      "metadata": {
        "id": "OTJGNTRAR8Vo"
      },
      "outputs": [],
      "source": [
        "# Visual 1 🔧"
      ]
    },
    {
      "cell_type": "markdown",
      "metadata": {
        "id": "e92fOS_nSAOi"
      },
      "source": [
        "🔧 Visual 1 comment:"
      ]
    },
    {
      "cell_type": "code",
      "execution_count": null,
      "metadata": {
        "id": "NIxXfseqR-SJ"
      },
      "outputs": [],
      "source": [
        "# Visual 2 🔧"
      ]
    },
    {
      "cell_type": "markdown",
      "metadata": {
        "id": "LMczop5eSDwE"
      },
      "source": [
        "🔧 Visual 2 comment:"
      ]
    },
    {
      "cell_type": "markdown",
      "metadata": {
        "id": "p88je8ncSOr9"
      },
      "source": [
        "## Part 5: Bivariate Analysis\n",
        "\n",
        "Explore relationships between two variables to understand how features like square footage or bedrooms influence price.\n"
      ]
    },
    {
      "cell_type": "code",
      "execution_count": null,
      "metadata": {
        "id": "9YuFrLCFSRCE"
      },
      "outputs": [],
      "source": [
        "# Correlation matrix\n",
        "corr_matrix = df[['price', 'beds', 'baths', 'sqft']].corr()\n",
        "corr_matrix\n"
      ]
    },
    {
      "cell_type": "code",
      "execution_count": null,
      "metadata": {
        "id": "5-5d1v9ASR3S"
      },
      "outputs": [],
      "source": [
        "# Heatmap of correlation matrix\n",
        "sns.heatmap(corr_matrix, annot=True, cmap='coolwarm')\n",
        "plt.title(\"Correlation Matrix Heatmap\")\n",
        "plt.show()"
      ]
    },
    {
      "cell_type": "code",
      "execution_count": null,
      "metadata": {
        "id": "PovGX1AnSUx1"
      },
      "outputs": [],
      "source": [
        "# Scatterplot: Square Footage vs Price\n",
        "sns.scatterplot(x='sqft', y='price', data=df)\n",
        "plt.title(\"Square Footage vs Price\")\n",
        "plt.xlabel(\"Square Feet\")\n",
        "plt.ylabel(\"Price ($)\")\n",
        "plt.show()"
      ]
    },
    {
      "cell_type": "code",
      "execution_count": null,
      "metadata": {
        "id": "ZEkr_l75SZzz"
      },
      "outputs": [],
      "source": [
        "# Average price by number of bedrooms\n",
        "avg_price_beds = df.groupby('beds')['price'].mean().sort_index()\n",
        "sns.barplot(x=avg_price_beds.index, y=avg_price_beds.values)\n",
        "plt.title(\"Average Rental Price by Number of Bedrooms\")\n",
        "plt.xlabel(\"Bedrooms\")\n",
        "plt.ylabel(\"Average Price ($)\")\n",
        "plt.show()"
      ]
    },
    {
      "cell_type": "markdown",
      "metadata": {
        "id": "HD2KOM6xSdsi"
      },
      "source": [
        "### 🔧 Try It Yourself – Part 5\n",
        "\n",
        "1. Create a scatterplot of `baths` vs `price`.  \n",
        "2. Group by `year` and plot the average price over time.\n",
        "3. What trends or outliers do you see?"
      ]
    },
    {
      "cell_type": "code",
      "execution_count": null,
      "metadata": {
        "id": "YjW1vWb9SfI2"
      },
      "outputs": [],
      "source": [
        "#1 🔧"
      ]
    },
    {
      "cell_type": "code",
      "execution_count": null,
      "metadata": {
        "id": "UlMAYDunShWN"
      },
      "outputs": [],
      "source": [
        "#2 🔧"
      ]
    },
    {
      "cell_type": "markdown",
      "metadata": {
        "id": "gJQaPrVQSlxr"
      },
      "source": [
        "🔧 Add comment here:"
      ]
    },
    {
      "cell_type": "markdown",
      "metadata": {
        "id": "c2qlC2HYSsGZ"
      },
      "source": [
        "## 🔧  Part 6: Reflection\n",
        "\n",
        "Answer the following questions in the markdown cell below (no more than a few sentences per question required)\n",
        "\n",
        "1. Which variables are most strongly correlated with rental price?\n",
        "2. Are there patterns in how size (sqft) or number of bedrooms affects price?\n",
        "3. Which neighborhoods or years show the highest prices?\n",
        "4. What other visualizations or groupings might improve this analysis?\n",
        "\n",
        "Use this section to summarize insights from both Labs 4 and 5."
      ]
    },
    {
      "cell_type": "markdown",
      "metadata": {
        "id": "Qdtzv9UcSv37"
      },
      "source": [
        "🔧 Add refections here:"
      ]
    },
    {
      "cell_type": "markdown",
      "metadata": {},
      "source": [
        "## Export Your Notebook to Submit in Canvas\n",
        "- Use the instructions from Lab 1"
      ]
    },
    {
      "cell_type": "code",
      "execution_count": null,
      "metadata": {},
      "outputs": [],
      "source": [
        "!jupyter nbconvert --to html \"lab_05_LastnameFirstname.ipynb\""
      ]
    }
  ],
  "metadata": {
    "colab": {
      "provenance": []
    },
    "kernelspec": {
      "display_name": "Python 3",
      "name": "python3"
    },
    "language_info": {
      "name": "python"
    }
  },
  "nbformat": 4,
  "nbformat_minor": 0
}
