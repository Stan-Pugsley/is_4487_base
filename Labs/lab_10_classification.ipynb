{
  "cells": [
    {
      "cell_type": "markdown",
      "metadata": {
        "id": "BVo4JdoRsDOI"
      },
      "source": [
        "> ### Note on Labs and Assignments:\n",
        ">\n",
        "> 🔧 Look for the **wrench emoji** 🔧 — it highlights where you're expected to take action!\n",
        ">\n",
        "> These sections are graded and are not optional.\n",
        ">"
      ]
    },
    {
      "cell_type": "markdown",
      "metadata": {
        "id": "lvkQEioZr4Xr"
      },
      "source": [
        "# IS 4487 Lab 10: Classification Trees with SF Rent Data\n",
        "\n",
        "## Outline\n",
        "\n",
        "- Define a binary classification target based on rental price  \n",
        "- Split the dataset into training and testing sets  \n",
        "- Fit a Decision Tree Classifier  \n",
        "- Visualize the decision tree structure  \n",
        "- Evaluate model accuracy and feature importance  \n",
        "\n",
        "In this lab, we’ll build a classification model to predict whether a rental listing in San Francisco is considered **\"expensive\"** based on its features.\n",
        "\n",
        "We are continuing with the **SF Rent dataset** used in **Lab 9**, and will explore how classification trees can uncover patterns in rental prices.\n",
        "\n",
        "<a href=\"https://colab.research.google.com/github/Stan-Pugsley/is_4487_base/blob/main/Labs/lab_10_classification.ipynb\" target=\"_parent\">\n",
        "  <img src=\"https://colab.research.google.com/assets/colab-badge.svg\" alt=\"Open In Colab\"/>\n",
        "</a>\n",
        "\n"
      ]
    },
    {
      "cell_type": "markdown",
      "metadata": {
        "id": "QbBFTLhyw6V8"
      },
      "source": [
        "## Dataset Overview\n",
        "\n",
        "**Dataset:** `rent.csv`  \n",
        "Source: [TidyTuesday-2022-7-05](https://github.com/rfordatascience/tidytuesday/blob/main/data/2022/2022-07-05/rent.csv)\n",
        "\n",
        "| Variable       | Type       | Description |\n",
        "|----------------|------------|-------------|\n",
        "| `post_id`      | Categorical| Unique listing ID |\n",
        "| `date`         | Numeric    | Listing date (numeric format) |\n",
        "| `year`         | Integer    | Year of listing |\n",
        "| `nhood`        | Categorical| Neighborhood |\n",
        "| `city`         | Categorical| City |\n",
        "| `county`       | Categorical| County |\n",
        "| `price`        | Numeric    | Listing price (USD) |\n",
        "| `beds`         | Numeric    | Number of bedrooms |\n",
        "| `baths`        | Numeric    | Number of bathrooms |\n",
        "| `sqft`         | Numeric    | Square footage |\n",
        "| `room_in_apt`  | Binary     | 1 = room in apartment |\n",
        "| `address`      | Categorical| Street address |\n",
        "| `lat`          | Numeric    | Latitude |\n",
        "| `lon`          | Numeric    | Longitude |\n",
        "| `title`        | Text       | Listing title |\n",
        "| `descr`        | Text       | Listing description |\n",
        "| `details`      | Text       | Additional details |"
      ]
    },
    {
      "cell_type": "markdown",
      "metadata": {
        "id": "z7WFZYEvsttt"
      },
      "source": [
        "## Part 1: Clean and Prepare the Data\n",
        "\n",
        "We'll repeat the cleaning process from Lab 9, including:\n",
        "- Removing duplicates\n",
        "- Dropping missing values in key columns\n",
        "- Filtering out extreme outliers\n",
        "- Converting data types\n",
        "\n",
        "### Why This Matters:\n",
        "Good models depend on clean, reliable inputs.\n"
      ]
    },
    {
      "cell_type": "code",
      "execution_count": null,
      "metadata": {
        "id": "es7TPVmKsOQi"
      },
      "outputs": [],
      "source": [
        "import pandas as pd\n",
        "\n",
        "# Load dataset\n",
        "url = 'https://raw.githubusercontent.com/rfordatascience/tidytuesday/main/data/2022/2022-07-05/rent.csv'\n",
        "df = pd.read_csv(url)\n",
        "\n",
        "# Drop duplicate listings using post_id\n",
        "df = df.drop_duplicates(subset='post_id')\n",
        "\n",
        "# Drop rows missing essential features\n",
        "required_cols = ['price', 'beds', 'baths', 'sqft', 'lat', 'lon']\n",
        "df = df.dropna(subset=required_cols)\n",
        "\n",
        "# Remove outliers\n",
        "df = df[df['price'].between(500, 20000)]\n",
        "df = df[df['beds'].between(0, 10)]\n",
        "df = df[df['baths'].between(0.5, 10)]\n",
        "df = df[df['sqft'].between(100, 5000)]\n",
        "\n",
        "# Convert columns to appropriate data types\n",
        "df['beds'] = df['beds'].astype(int)\n",
        "df['baths'] = df['baths'].astype(float)\n",
        "df['sqft'] = df['sqft'].astype(int)\n",
        "df['price'] = df['price'].astype(int)\n",
        "\n",
        "# Reset index\n",
        "df = df.reset_index(drop=True)\n",
        "\n",
        "# Quick check\n",
        "df.info()\n",
        "df.head()\n"
      ]
    },
    {
      "cell_type": "markdown",
      "metadata": {
        "id": "ATRRDafQs489"
      },
      "source": [
        "## Part 2: Create a Binary Target Variable\n",
        "\n",
        "We'll classify whether a listing is **expensive** (price > $4,000).\n",
        "\n",
        "- 1 = Expensive\n",
        "- 0 = Not expensive\n",
        "\n",
        "### Why This Matters:\n",
        "To use classification trees, we need a target variable with exactly two classes.\n"
      ]
    },
    {
      "cell_type": "code",
      "execution_count": null,
      "metadata": {
        "id": "r85W0yOqs9Qz"
      },
      "outputs": [],
      "source": [
        "# Create binary target variable\n",
        "df['expensive'] = (df['price'] > 4000).astype(int)\n",
        "\n",
        "# Check target class distribution\n",
        "df['expensive'].value_counts(normalize=True)\n"
      ]
    },
    {
      "cell_type": "markdown",
      "metadata": {
        "id": "yVQlUBA9tEhe"
      },
      "source": [
        "### 🔧 Try It Yourself – Part 2\n",
        "\n",
        "1. Adjust the expensive threshold to $5,000 and check the class balance again  \n",
        "2. Calculate what percentage of listings are labeled as expensive\n",
        "\n"
      ]
    },
    {
      "cell_type": "code",
      "execution_count": null,
      "metadata": {
        "id": "5bCTtyi-tRuU"
      },
      "outputs": [],
      "source": [
        "# Add code here"
      ]
    },
    {
      "cell_type": "markdown",
      "metadata": {
        "id": "GpRE04rztTaF"
      },
      "source": [
        "Add comment here"
      ]
    },
    {
      "cell_type": "code",
      "execution_count": null,
      "metadata": {
        "id": "FiQ8E7U5tUvp"
      },
      "outputs": [],
      "source": [
        "# Reset binary target back to 4000\n",
        "\n",
        "# Create binary target variable\n",
        "df['expensive'] = (df['price'] > 4000).astype(int)"
      ]
    },
    {
      "cell_type": "markdown",
      "metadata": {
        "id": "2E886XDstcXA"
      },
      "source": [
        "## Part 3: Select Features and Split Data\n",
        "\n",
        "We'll use property characteristics as predictors:\n",
        "- `beds`, `baths`, `sqft`\n",
        "\n",
        "Then split the data into 70% training and 30% testing.\n",
        "\n",
        "### Why This Matters:\n",
        "Train/test splitting ensures our model is evaluated on unseen data."
      ]
    },
    {
      "cell_type": "code",
      "execution_count": null,
      "metadata": {
        "id": "Rd_XLv4MtlqJ"
      },
      "outputs": [],
      "source": [
        "from sklearn.model_selection import train_test_split\n",
        "\n",
        "# Select features and target\n",
        "X = df[['beds', 'baths', 'sqft']]\n",
        "y = df['expensive']\n",
        "\n",
        "# Create train/test sets\n",
        "X_train, X_test, y_train, y_test = train_test_split(\n",
        "    X, y, test_size=0.3, random_state=42\n",
        ")\n",
        "\n",
        "# Check dimensions\n",
        "X_train.shape, X_test.shape\n"
      ]
    },
    {
      "cell_type": "markdown",
      "metadata": {
        "id": "kievPciStn1_"
      },
      "source": [
        "### 🔧 Try It Yourself – Part 3\n",
        "\n",
        "1. Add `lat` or `price_segment` as an additional feature in the x variable\n",
        "2. Now add `price` as a feature/predictor.  What changes have occurred?"
      ]
    },
    {
      "cell_type": "code",
      "execution_count": null,
      "metadata": {
        "id": "t7pZ9vMPttpP"
      },
      "outputs": [],
      "source": [
        "# 🔧 Add code here"
      ]
    },
    {
      "cell_type": "markdown",
      "metadata": {
        "id": "9MCsFbVitvXV"
      },
      "source": [
        "🔧 Add comment here"
      ]
    },
    {
      "cell_type": "markdown",
      "metadata": {
        "id": "6n_VYiOAt1yE"
      },
      "source": [
        "## Part 4: Build and Fit the Decision Tree Classifier\n",
        "\n",
        "We'll train a `DecisionTreeClassifier` on our data.\n",
        "\n",
        "### Why This Matters:\n",
        "Decision trees make predictions by splitting data into branches using rules that reduce impurity.\n"
      ]
    },
    {
      "cell_type": "code",
      "execution_count": null,
      "metadata": {
        "id": "5eS5C9lut6ef"
      },
      "outputs": [],
      "source": [
        "from sklearn.tree import DecisionTreeClassifier\n",
        "\n",
        "# Initialize classifier\n",
        "clf = DecisionTreeClassifier(random_state=42)\n",
        "\n",
        "# Train model on training data\n",
        "clf.fit(X_train, y_train)"
      ]
    },
    {
      "cell_type": "markdown",
      "metadata": {
        "id": "MHkVZjAJuUX_"
      },
      "source": [
        "### 🔧 Try It Yourself – Part 4\n",
        "\n",
        "1. Create a second model called `clf_limited` with `max_depth=3`  \n",
        "2. Fit it on the same training data  \n",
        "> You’ll compare the accuracy of this smaller tree in the next section\n"
      ]
    },
    {
      "cell_type": "code",
      "execution_count": null,
      "metadata": {
        "id": "eRLKuIDhvPOd"
      },
      "outputs": [],
      "source": [
        "# 🔧 Add code here"
      ]
    },
    {
      "cell_type": "markdown",
      "metadata": {
        "id": "s18HsXttvVPF"
      },
      "source": [
        "## 5. Evaluate the Model\n",
        "\n",
        "We’ll check how well the tree performed on the test data using:\n",
        "- Accuracy score\n",
        "- Confusion matrix\n",
        "\n",
        "### Why This Matters:\n",
        "We want to know how often the model is right and what kind of mistakes it makes.\n"
      ]
    },
    {
      "cell_type": "code",
      "execution_count": null,
      "metadata": {
        "id": "NSUZFFBcvY8S"
      },
      "outputs": [],
      "source": [
        "from sklearn.metrics import accuracy_score, confusion_matrix\n",
        "\n",
        "# Predict on test set\n",
        "y_pred = clf.predict(X_test)\n",
        "\n",
        "# Accuracy\n",
        "acc = accuracy_score(y_test, y_pred)\n",
        "print(\"Test Accuracy:\", acc)\n",
        "\n",
        "# Confusion matrix\n",
        "print(\"Confusion Matrix:\\n\", confusion_matrix(y_test, y_pred))\n"
      ]
    },
    {
      "cell_type": "markdown",
      "metadata": {
        "id": "jzY3mjWMvdyg"
      },
      "source": [
        "### 🔧 Try It Yourself – Part 5\n",
        "\n",
        "1. Use the `clf_limited` model you created in Part 4 to predict on the test set  \n",
        "2. Calculate and print the **test accuracy** for `clf_limited`  \n",
        "3. Compare the test accuracy of `clf_limited` to the original `clf`. Which performs better?\n"
      ]
    },
    {
      "cell_type": "code",
      "execution_count": null,
      "metadata": {
        "id": "cjtt3-CNvgV8"
      },
      "outputs": [],
      "source": [
        "# 🔧 Add code here"
      ]
    },
    {
      "cell_type": "markdown",
      "metadata": {
        "id": "B2Tj9mlUviFZ"
      },
      "source": [
        "🔧 Add comment here:"
      ]
    },
    {
      "cell_type": "markdown",
      "metadata": {
        "id": "fwIkbZZ7vkaz"
      },
      "source": [
        "## Part 6: Visualize Tree and Feature Importance\n",
        "\n",
        "We’ll plot the tree and rank the most important predictors.\n",
        "\n",
        "### Why This Matters:\n",
        "Tree plots explain the model's logic. Feature importance shows what drives predictions.\n"
      ]
    },
    {
      "cell_type": "code",
      "execution_count": null,
      "metadata": {
        "id": "mIGozawDvpNg"
      },
      "outputs": [],
      "source": [
        "import matplotlib.pyplot as plt\n",
        "from sklearn.tree import plot_tree\n",
        "\n",
        "# Plot decision tree\n",
        "plt.figure(figsize=(14, 8))\n",
        "plot_tree(clf, feature_names=X.columns, class_names=['Not Expensive', 'Expensive'], filled=True)\n",
        "plt.title(\"Decision Tree for Expensive Listings\")\n",
        "plt.show()\n"
      ]
    },
    {
      "cell_type": "code",
      "execution_count": null,
      "metadata": {
        "id": "TY3Rd_x9vro2"
      },
      "outputs": [],
      "source": [
        "import seaborn as sns\n",
        "\n",
        "# Plot feature importance\n",
        "feat_imp = pd.Series(clf.feature_importances_, index=X.columns)\n",
        "sns.barplot(x=feat_imp.values, y=feat_imp.index)\n",
        "plt.title(\"Feature Importance Scores\")\n",
        "plt.xlabel(\"Importance\")\n",
        "plt.ylabel(\"Feature\")\n",
        "plt.show()\n"
      ]
    },
    {
      "cell_type": "markdown",
      "metadata": {
        "id": "Rnte9QBiwDX9"
      },
      "source": [
        "### 🔧 Try It Yourself – Part 6\n",
        "\n",
        "1. Plot the decision tree for `clf_limited` using `plot_tree()`  \n",
        "2. Which feature does it split on first?  \n",
        "3. Is the structure simpler or more complex than the original `clf` tree?"
      ]
    },
    {
      "cell_type": "code",
      "execution_count": null,
      "metadata": {
        "id": "XMI6jjiMwGmT"
      },
      "outputs": [],
      "source": [
        "# 🔧 Add code here"
      ]
    },
    {
      "cell_type": "markdown",
      "metadata": {
        "id": "7tTQxme4wHD1"
      },
      "source": [
        "🔧 Add comment here:"
      ]
    },
    {
      "cell_type": "markdown",
      "metadata": {
        "id": "VnubgZg8wOiv"
      },
      "source": [
        "## 🔧 Part 7: Reflection (100 words or less per question)\n",
        "\n",
        "1. Which feature was most useful in identifying expensive listings?  \n",
        "2. Would you trust this model to recommend pricing to landlords?\n"
      ]
    },
    {
      "cell_type": "markdown",
      "metadata": {
        "id": "QQ_ix4rlwQk6"
      },
      "source": [
        "🔧 Add comment here:"
      ]
    },
    {
      "cell_type": "markdown",
      "metadata": {},
      "source": [
        "## Export Your Notebook to Submit in Canvas\n",
        "- Use the instructions from Lab 1"
      ]
    },
    {
      "cell_type": "code",
      "execution_count": null,
      "metadata": {},
      "outputs": [],
      "source": [
        "!jupyter nbconvert --to html \"lab_10_LastnameFirstname.ipynb\""
      ]
    }
  ],
  "metadata": {
    "colab": {
      "provenance": []
    },
    "kernelspec": {
      "display_name": "Python 3",
      "name": "python3"
    },
    "language_info": {
      "name": "python"
    }
  },
  "nbformat": 4,
  "nbformat_minor": 0
}
