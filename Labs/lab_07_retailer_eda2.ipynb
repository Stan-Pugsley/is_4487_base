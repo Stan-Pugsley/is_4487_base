{
 "cells": [
  {
   "cell_type": "markdown",
   "metadata": {},
   "source": [
    "# IS 4487 Lab 7\n",
    "\n",
    "## Outline\n",
    "\n",
    "Begin where you left on in Lab 6 with the *SuperStore Retail Orders* dataset. \n",
    "This lab will ask you to do a deeper data exploration\n",
    "\n",
    "<a href=\"https://colab.research.google.com/github/Stan-Pugsley/is_4487_base/blob/main/Labs/Scripts/lab_07_retailer_eda2.ipynb\" target=\"_parent\"><img src=\"https://colab.research.google.com/assets/colab-badge.svg\" alt=\"Open In Colab\"/></a> "
   ]
  },
  {
   "cell_type": "markdown",
   "metadata": {},
   "source": [
    "## Superstore Data Dictionary \n",
    "\n",
    " ORDER VARIABLES:\n",
    " - Order ID\n",
    " - Order Date\n",
    " - Order Year Month - Year and month of the order\n",
    " - Order Type - Was the order completed at a store or online? (Retail, Online)\n",
    " - Quantity - Quantity ordered for the product\n",
    "\n",
    " CUSTOMER VARIABLES:\n",
    " - Customer Name\n",
    " - City\n",
    " - State Province\n",
    " - Email\n",
    "\n",
    "PRODUCT VARIABLES:\n",
    " - Product Name\n",
    " - Product Line - Category of the product (i.e. Bikes Phones)\n",
    " - Product Price - Price in US Dollars\n",
    " - Product Status - Current status of the product (Active, Inactive)"
   ]
  },
  {
   "cell_type": "markdown",
   "metadata": {},
   "source": [
    "## Load Libraries\n",
    "\n",
    "➡️ Assignment Tasks\n",
    "- Load any necessary libraries"
   ]
  },
  {
   "cell_type": "markdown",
   "metadata": {},
   "source": []
  },
  {
   "cell_type": "code",
   "execution_count": null,
   "metadata": {
    "vscode": {
     "languageId": "plaintext"
    }
   },
   "outputs": [],
   "source": []
  },
  {
   "cell_type": "markdown",
   "metadata": {},
   "source": [
    "## Import Data into Dataframe\n",
    "\n",
    "➡️ Assignment Tasks\n",
    "- Import data from the SuperStore retail dataset into a dataframe (in GitHub go to Labs > DataSets)\n",
    "- Describe or profile the dataframe"
   ]
  },
  {
   "cell_type": "code",
   "execution_count": null,
   "metadata": {
    "vscode": {
     "languageId": "plaintext"
    }
   },
   "outputs": [],
   "source": []
  },
  {
   "cell_type": "markdown",
   "metadata": {},
   "source": [
    "## Prepare Data\n",
    "\n",
    "➡️ Assignment Tasks\n",
    "- Convert any numbers into the correct datatype if they are not already numeric\n",
    "- Convert any character variables in to categories if they are appropriate for that datatype\n",
    "- Check for outliers.   Remove any outliers that appear to be mistakes\n",
    "- Remove rows with empty (NULL) values \n",
    "- Identify at least one variable with a missing value that can be imputed.   Fill in those empty values. \n",
    "- Add a \"total_amount\" variable based on the quantity and price"
   ]
  },
  {
   "cell_type": "code",
   "execution_count": null,
   "metadata": {
    "vscode": {
     "languageId": "plaintext"
    }
   },
   "outputs": [],
   "source": [
    "#data preparation"
   ]
  },
  {
   "cell_type": "code",
   "execution_count": null,
   "metadata": {
    "vscode": {
     "languageId": "plaintext"
    }
   },
   "outputs": [],
   "source": [
    "#outlier check and cleanup"
   ]
  },
  {
   "cell_type": "code",
   "execution_count": null,
   "metadata": {
    "vscode": {
     "languageId": "plaintext"
    }
   },
   "outputs": [],
   "source": [
    "#impute values"
   ]
  },
  {
   "cell_type": "markdown",
   "metadata": {},
   "source": [
    "## Prepare Data - Continued\n",
    "\n",
    "➡️ Assignment Tasks\n",
    "- Create a variable called \"complete_customer_info\".   Use \"1\" for True and \"2\" for False.  All customer fields must be valid and not empty before this variable is True.\n",
    "- Create a bar chart showing the count of customers with complete informaiton versus incomplete information"
   ]
  },
  {
   "cell_type": "code",
   "execution_count": null,
   "metadata": {
    "vscode": {
     "languageId": "plaintext"
    }
   },
   "outputs": [],
   "source": [
    "#create variable"
   ]
  },
  {
   "cell_type": "code",
   "execution_count": null,
   "metadata": {
    "vscode": {
     "languageId": "plaintext"
    }
   },
   "outputs": [],
   "source": [
    "#create chart"
   ]
  },
  {
   "cell_type": "markdown",
   "metadata": {},
   "source": [
    "## Prepare Data - Continued\n",
    "\n",
    "➡️ Assignment Tasks\n",
    "- Create seasonal buckets for Winter, Spring, Summer, Fall\n",
    "- Create a chart to show revenue by season\n",
    "- Create a chart to show revenue by year"
   ]
  },
  {
   "cell_type": "code",
   "execution_count": null,
   "metadata": {
    "vscode": {
     "languageId": "plaintext"
    }
   },
   "outputs": [],
   "source": [
    "#seasonality"
   ]
  },
  {
   "cell_type": "code",
   "execution_count": null,
   "metadata": {
    "vscode": {
     "languageId": "plaintext"
    }
   },
   "outputs": [],
   "source": [
    "#revenue over time"
   ]
  },
  {
   "cell_type": "markdown",
   "metadata": {},
   "source": [
    "## Prepare Data - Continued\n",
    "\n",
    "➡️ Assignment Tasks\n",
    "- Create a variable that will group product lines into \"Outdoor\" versus \"Indoor\" products.\n",
    "- Create a plot to show the correlation between outdoor/indoor versus season  "
   ]
  },
  {
   "cell_type": "code",
   "execution_count": null,
   "metadata": {
    "vscode": {
     "languageId": "plaintext"
    }
   },
   "outputs": [],
   "source": [
    "#indoor/outdoor variable"
   ]
  }
 ],
 "metadata": {
  "language_info": {
   "name": "python"
  }
 },
 "nbformat": 4,
 "nbformat_minor": 2
}
