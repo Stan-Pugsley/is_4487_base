{
 "cells": [
  {
   "cell_type": "markdown",
   "metadata": {
    "id": "p_Yu45OYdj3Y"
   },
   "source": [
    "# IS 4487 Lab 12\n",
    "\n",
    "## Outline\n",
    "\n",
    "Learning Objectives:\n",
    "1. Compare results between multiple models\n",
    "2. Create a recommendation for the best model for the business need\n",
    "\n",
    "Assignment Tasks:\n",
    "1.  Create a basic decision tree (from previous labs)\n",
    "2.  Create an XGBoost model (combining multiple trees and correcting errors from previous trees)\n",
    "3.  Create a Naive Bayes model (probabilistic model)\n",
    "4.  Compare the output from each of the models\n",
    "5.  Make a recommendation for the best model\n",
    "\n",
    "<a href=\"https://colab.research.google.com/github/Stan-Pugsley/is_4487_base/blob/main/Labs/Scripts/lab_12_megatelco_xgboost_bayes.ipynb\" target=\"_parent\"><img src=\"https://colab.research.google.com/assets/colab-badge.svg\" alt=\"Open In Colab\"/></a> "
   ]
  },
  {
   "cell_type": "markdown",
   "metadata": {},
   "source": [
    "## Megatelco Data Dictionary \n",
    "\n",
    " DEMOGRAPHIC VARIABLES:\n",
    " - College - has the customer attended some college (one, zero)\n",
    " - Income - annual income of customer\n",
    " - House - estimated price of the customer's home (if applicable)\n",
    "\n",
    " USAGE VARIABLES:\n",
    " - Data Overage Mb - Average number of megabytes that the customer used in excess of the plan limit (over last 12 months)\n",
    " - Data Leftover Mb - Average number of megabytes that the customer use was below the plan limit (over last 12 months)\n",
    " - Data Mb Used - Average number of megabytes used per month (over last 12 months)\n",
    " - Text Message Count - Average number of texts per month (over last 12 months)\n",
    " - Over 15 Minute Calls Per Month - Average number of calls over 15 minutes in duration per month (over last 12 months)\n",
    " - Average Call Duration- Average call duration (over last 12 months)\n",
    "\n",
    "PHONE VARIABLES:\n",
    " - Operating System - Current operating system of phone\n",
    " - Handset Price - Retail price of the phone used by the customer\n",
    "\n",
    "ATTITUDINAL VARIABLES:\n",
    " - Reported Satisfaction - Survey response to \"How satisfied are you with your current phone plan?\" (high, med, low)\n",
    " - Reported Usage Level - Survey response to \"How much do your use your phone?\" (high, med, low)\n",
    " - Considering Change of Plan - Survey response to \"Are you currently planning to change companies when your contract expires?\" (high, med, low)\n",
    "\n",
    "OTHER VARIABLES\n",
    " - Leave - Did this customer churn with the last contract expiration? (LEAVE, STAY)\n",
    " - ID - Customer identifier"
   ]
  },
  {
   "cell_type": "markdown",
   "metadata": {
    "id": "UE93RwXhgiJS"
   },
   "source": [
    "#Load Libraries\n",
    "\n",
    "In this class we will be using \n",
    "- Pandas\n",
    "- Scikitlearn\n",
    "- Matplotlib\n"
   ]
  },
  {
   "cell_type": "code",
   "execution_count": 2,
   "metadata": {
    "id": "JYRZY5n0gfNe"
   },
   "outputs": [],
   "source": [
    "import pandas as pd\n",
    "import matplotlib as mpl\n",
    "import seaborn as sns\n",
    "\n",
    "from sklearn.tree import DecisionTreeClassifier, export_graphviz # Import Decision Tree Classifier\n",
    "from sklearn.model_selection import train_test_split # Import train_test_split function\n",
    "from sklearn import metrics  #Import scikit-learn metrics module for accuracy calculation\n",
    "from sklearn.metrics import confusion_matrix\n"
   ]
  },
  {
   "cell_type": "markdown",
   "metadata": {
    "id": "bREaXo8jfu-O"
   },
   "source": [
    "## Import Data into Dataframe\n",
    "\n",
    "➡️ Assignment Tasks\n",
    "- Import data from the Megatelco dataset into a dataframe (in GitHub go to Labs > DataSets)\n",
    "- Describe or profile the dataframe\n"
   ]
  },
  {
   "cell_type": "code",
   "execution_count": null,
   "metadata": {},
   "outputs": [],
   "source": []
  },
  {
   "cell_type": "markdown",
   "metadata": {
    "id": "BtxOWvFlKzgE"
   },
   "source": [
    "## Clean up the data\n",
    "Did you notice anything unusual about the \"house\" amounts? \n",
    "\n",
    "How about the handset price and income?\n",
    "\n",
    "Clean up the data in a  new datafram named \"df_clean\"\n"
   ]
  },
  {
   "cell_type": "code",
   "execution_count": null,
   "metadata": {
    "colab": {
     "base_uri": "https://localhost:8080/",
     "height": 300
    },
    "id": "7KXLvMcBK8Za",
    "outputId": "948fa2c9-b3bf-441a-fb0a-14bd97f60673"
   },
   "outputs": [],
   "source": [
    "#delete rows with outlier data; put it in a new dataframe\n",
    "df_clean = df[(df['house'] > 0) & (df['income'] > 0) & (df['handset_price'] < 10000)]\n",
    "\n",
    "#delete any rows with missing values in the clean dataframe\n",
    "df_clean = df_clean.dropna() \n",
    "\n",
    "df_clean.describe()"
   ]
  },
  {
   "cell_type": "markdown",
   "metadata": {
    "id": "Zp7wGDqJ4iuL"
   },
   "source": [
    "# Standardize attributes\n",
    "\n",
    "- Convert \"college\" to 0,1\n",
    "- Convert reported_satisfaction to 1,2,3\n",
    "- Convert reported_usage_level to 1,2,3\n",
    "- Convert considering_change_of_plan to 0,1\n",
    "- Convert leave to 0,1\n",
    "\n",
    "I'm going to leave the \"leave\" variable in place, just in case I need the original value"
   ]
  },
  {
   "cell_type": "code",
   "execution_count": null,
   "metadata": {
    "colab": {
     "base_uri": "https://localhost:8080/",
     "height": 427
    },
    "id": "gvMekcKg4y5X",
    "outputId": "d189fcde-c0d4-49e3-809c-d5482cba8d6b"
   },
   "outputs": [],
   "source": [
    "df_clean.loc[df_clean['college'] == 'one', 'college'] = \"1\" \n",
    "df_clean.loc[df_clean['college'] == 'zero', 'college'] = \"0\"\n",
    "df_clean.loc[df_clean['reported_satisfaction'] == 'low', 'reported_satisfaction'] = \"1\"\n",
    "df_clean.loc[df_clean['reported_satisfaction'] == 'avg', 'reported_satisfaction'] = \"2\"\n",
    "df_clean.loc[df_clean['reported_satisfaction'] == 'high', 'reported_satisfaction'] = \"3\"\n",
    "df_clean.loc[df_clean['reported_usage_level'] == 'low', 'reported_usage_level'] = \"1\"\n",
    "df_clean.loc[df_clean['reported_usage_level'] == 'avg', 'reported_usage_level'] = \"2\"\n",
    "df_clean.loc[df_clean['reported_usage_level'] == 'high', 'reported_usage_level'] = \"3\"\n",
    "df_clean.loc[df_clean['considering_change_of_plan'] == 'yes', 'considering_change_of_plan'] = \"1\"\n",
    "df_clean.loc[df_clean['considering_change_of_plan'] == 'no', 'considering_change_of_plan'] = \"0\"\n",
    "df_clean.loc[df_clean['considering_change_of_plan'] == 'maybe', 'considering_change_of_plan'] = \"0.5\"\n",
    "\n",
    "df_clean['college'] = df_clean['college'].astype('int') \n",
    "df_clean['reported_satisfaction'] = df_clean['reported_satisfaction'].astype('int') \n",
    "df_clean['reported_usage_level'] = df_clean['reported_usage_level'].astype('int') \n",
    "df_clean['considering_change_of_plan'] = df_clean['considering_change_of_plan'].astype('float') \n",
    "\n",
    "#Add new field with binary value for leave  \n",
    "df_clean['leave_flag'] = df_clean['leave'].str.replace('STAY','0')  \n",
    "df_clean['leave_flag'] = df_clean['leave_flag'].str.replace('LEAVE','1')\n",
    "df_clean['leave_flag'] = df_clean['leave_flag'].astype('int')\n",
    "df_clean['leave_flag'] = df_clean['leave_flag'].astype('bool')\n",
    "\n",
    "df_clean.head(10) "
   ]
  },
  {
   "cell_type": "markdown",
   "metadata": {
    "id": "AuB0G9gJt7gn"
   },
   "source": [
    "# Convert attributes to categories\n",
    "\n",
    "- Leave\n",
    "- College\n",
    "- Reported satisfaction\n",
    "- Reported usage level\n",
    "- Considering change of plan"
   ]
  },
  {
   "cell_type": "code",
   "execution_count": null,
   "metadata": {
    "colab": {
     "base_uri": "https://localhost:8080/"
    },
    "id": "inCqTVMDt6ex",
    "outputId": "0d69c530-cffc-43bb-bb58-48e3983e0405"
   },
   "outputs": [],
   "source": [
    "df_clean['leave'] = df_clean['leave'].astype('category')\n",
    "df_clean['college'] = df_clean['college'].astype('category')\n",
    "df_clean['reported_satisfaction'] = df_clean['reported_satisfaction'].astype('category')\n",
    "df_clean['reported_usage_level'] = df_clean['reported_usage_level'].astype('category')\n",
    "df_clean['considering_change_of_plan'] = df_clean['considering_change_of_plan'].astype('category')\n",
    "\n",
    "df_clean.info()"
   ]
  },
  {
   "cell_type": "markdown",
   "metadata": {
    "id": "SxpDe4NWKb3H"
   },
   "source": [
    "# What is the base probability of leaving?\n",
    "\n",
    "If we use no model at all, how good is our chance of predicting someone leaving?"
   ]
  },
  {
   "cell_type": "code",
   "execution_count": null,
   "metadata": {
    "colab": {
     "base_uri": "https://localhost:8080/"
    },
    "id": "g6JlH3TiKk16",
    "outputId": "74fd2b13-3dd4-45dd-b96a-aa51b21e05fd"
   },
   "outputs": [],
   "source": [
    "df_clean['leave_flag'].mean()"
   ]
  },
  {
   "cell_type": "markdown",
   "metadata": {
    "id": "ugHnYvK4R1ie"
   },
   "source": [
    "## Split the dataset \n",
    "\n",
    "Split dataset into 80% training data and 20% test data\n"
   ]
  },
  {
   "cell_type": "code",
   "execution_count": null,
   "metadata": {
    "id": "k1dUpi_aR-Yi"
   },
   "outputs": [],
   "source": [
    "# split the datafram into independent (x) and dependent (predicted) attributes (y)\n",
    "x = df_clean[['income','house','college','data_overage_mb','data_leftover_mb','text_message_count','handset_price','over_15mins_calls_per_month','average_call_duration','reported_satisfaction','reported_usage_level','considering_change_of_plan']]\n",
    "y = df_clean['leave_flag']\n",
    "\n",
    "x_train, x_test, y_train, y_test = train_test_split(x, y, test_size=0.2)  \n"
   ]
  },
  {
   "cell_type": "markdown",
   "metadata": {
    "id": "SoJLJMlceORN"
   },
   "source": [
    "## Fit a basic tree model and create a confusion matrix\n",
    "\n",
    "Use all available attributes"
   ]
  },
  {
   "cell_type": "code",
   "execution_count": 12,
   "metadata": {
    "id": "WBH7aRXbOUf4"
   },
   "outputs": [],
   "source": [
    "full_tree = DecisionTreeClassifier(criterion=\"entropy\", max_depth=4)\n",
    "\n",
    "# Create Decision Tree Classifer\n",
    "full_tree = full_tree.fit(x_train,y_train)\n",
    "\n",
    "# Use the tree to predict \"leave\"\n",
    "y_predict = full_tree.predict(x_test)\n",
    "\n"
   ]
  },
  {
   "cell_type": "markdown",
   "metadata": {
    "id": "V99Hbp9GTUBj"
   },
   "source": [
    "## What is the accuracy on the test dataset?"
   ]
  },
  {
   "cell_type": "code",
   "execution_count": null,
   "metadata": {
    "colab": {
     "base_uri": "https://localhost:8080/"
    },
    "id": "ksfZRymATY5H",
    "outputId": "7f1fb671-b23f-41e6-cd5b-8a1834bfc1cc"
   },
   "outputs": [],
   "source": [
    "print(\"Accuracy:\",metrics.accuracy_score(y_test, y_predict))"
   ]
  },
  {
   "cell_type": "markdown",
   "metadata": {
    "id": "sSNfQKZA3jg2"
   },
   "source": [
    "## View the confusion matrix\n",
    "\n"
   ]
  },
  {
   "cell_type": "code",
   "execution_count": null,
   "metadata": {
    "colab": {
     "base_uri": "https://localhost:8080/",
     "height": 347
    },
    "id": "eVOSIP8SeYg3",
    "outputId": "367811ec-4acd-4d4d-c1d4-0728016cd544"
   },
   "outputs": [],
   "source": [
    "# create a confusion matrix\n",
    "full_tree_matrix = confusion_matrix(y_test, y_predict)\n",
    "print(full_tree_matrix)\n",
    "\n",
    "#Create a heatmap from our confusion matrix\n",
    "cm = sns.heatmap(full_tree_matrix, annot=True, fmt='d',cmap='Reds')\n",
    "\n",
    "cm.set_title('Confusion Matrix');\n",
    "cm.set_xlabel('Predicted')\n",
    "cm.set_ylabel('Observered (Actual)');\n",
    "\n",
    "cm.xaxis.set_ticklabels(['Stay','Leave'])\n",
    "cm.yaxis.set_ticklabels(['Stay','Leave'])"
   ]
  },
  {
   "cell_type": "markdown",
   "metadata": {
    "id": "Duj1AtbDmMdg"
   },
   "source": [
    "# Apply the model to a new dataset\n",
    "\n",
    "In this dataset, we don't know answer.  We need to predict if they will stay or leave"
   ]
  },
  {
   "cell_type": "code",
   "execution_count": null,
   "metadata": {
    "id": "iVCBV2IzLF_4"
   },
   "outputs": [],
   "source": [
    "#Import the new data from megatelco_new_customer_data.csv\n",
    "df_new = pd.read_csv('https://github.com/Stan-Pugsley/is_4487_base/blob/main/Labs/DataSets/megatelco_new_customer_data.csv?raw=true')\n",
    "print (df)"
   ]
  },
  {
   "cell_type": "code",
   "execution_count": null,
   "metadata": {
    "colab": {
     "base_uri": "https://localhost:8080/",
     "height": 300
    },
    "id": "u8uMHA2rN9fo",
    "outputId": "34915e28-bf03-42c3-8553-1878d5b93a96"
   },
   "outputs": [],
   "source": [
    "#Preview the new data\n",
    "df_new.describe()"
   ]
  },
  {
   "cell_type": "code",
   "execution_count": null,
   "metadata": {
    "colab": {
     "base_uri": "https://localhost:8080/",
     "height": 363
    },
    "id": "WiNyqOvyMYf0",
    "outputId": "92148611-d21a-4583-8dd6-6df85b20a371"
   },
   "outputs": [],
   "source": [
    "#delete rows with outlier data; put it in a new dataframe\n",
    "df_clean_new = df_new[(df_new['house'] > 0) & (df_new['income'] > 0) & (df_new['handset_price'] < 1000)]\n",
    "\n",
    "#delete any rows with missing values in the clean dataframe\n",
    "df_clean_new = df_clean_new.dropna() \n",
    "\n",
    "#standardize attributes\n",
    "df_clean_new.loc[df_clean_new['college'] == 'one', 'college'] = \"1\" \n",
    "df_clean_new.loc[df_clean_new['college'] == 'zero', 'college'] = \"0\"\n",
    "df_clean_new.loc[df_clean_new['reported_satisfaction'] == 'low', 'reported_satisfaction'] = \"1\"\n",
    "df_clean_new.loc[df_clean_new['reported_satisfaction'] == 'avg', 'reported_satisfaction'] = \"2\"\n",
    "df_clean_new.loc[df_clean_new['reported_satisfaction'] == 'high', 'reported_satisfaction'] = \"3\"\n",
    "df_clean_new.loc[df_clean_new['reported_usage_level'] == 'low', 'reported_usage_level'] = \"1\"\n",
    "df_clean_new.loc[df_clean_new['reported_usage_level'] == 'avg', 'reported_usage_level'] = \"2\"\n",
    "df_clean_new.loc[df_clean_new['reported_usage_level'] == 'high', 'reported_usage_level'] = \"3\"\n",
    "df_clean_new.loc[df_clean_new['considering_change_of_plan'] == 'yes', 'considering_change_of_plan'] = \"1\"\n",
    "df_clean_new.loc[df_clean_new['considering_change_of_plan'] == 'no', 'considering_change_of_plan'] = \"0\"\n",
    "df_clean_new.loc[df_clean_new['considering_change_of_plan'] == 'maybe', 'considering_change_of_plan'] = \"0.5\"\n",
    "\n",
    "#There is no \"leave\" or \"leave_flag\"\n",
    "\n",
    "df_clean_new.head(10) \n",
    "\n",
    "\n"
   ]
  },
  {
   "cell_type": "code",
   "execution_count": 18,
   "metadata": {
    "id": "J5nPIkEBOPKz"
   },
   "outputs": [],
   "source": [
    "# split the datafram into independent (x) and dependent (predicted) attributes (y)\n",
    "x_new = df_clean_new[['income','house','college','data_overage_mb','data_leftover_mb','text_message_count','handset_price','over_15mins_calls_per_month','average_call_duration','reported_satisfaction','reported_usage_level','considering_change_of_plan']]\n"
   ]
  },
  {
   "cell_type": "markdown",
   "metadata": {
    "id": "mNS9xVdiS3iq"
   },
   "source": [
    "## Predict the customers\n",
    "\n",
    "- Use the tree that we created earlier\n",
    "- Take the customers one by one and pass it to the model, or create a mailing by passing a batch"
   ]
  },
  {
   "cell_type": "code",
   "execution_count": null,
   "metadata": {
    "colab": {
     "base_uri": "https://localhost:8080/",
     "height": 81
    },
    "id": "C9BX83gPOYpl",
    "outputId": "92a4f69c-3b3f-4f98-db00-b62d18c253c8"
   },
   "outputs": [],
   "source": [
    "# Use the tree to predict \"leave\" for the first customer\n",
    "y_new_predict = full_tree.predict(x_new.iloc[:1])\n",
    "\n",
    "#Convert it to a dataframe\n",
    "df_new_predict = pd.DataFrame(y_new_predict)\n",
    "\n",
    "df_new_predict.head()"
   ]
  },
  {
   "cell_type": "markdown",
   "metadata": {},
   "source": [
    "## XGBoost\n",
    "\n",
    "Refer to this page for information on XGBoost models: https://machinelearningmastery.com/develop-first-xgboost-model-python-scikit-learn/\n",
    "\n",
    "➡️ Assignment Tasks\n",
    "- Import XGBoost \n",
    "- Use the training dataframe to fit the model\n",
    "- Calculate the accuracy and show a confusion matrix"
   ]
  },
  {
   "cell_type": "code",
   "execution_count": null,
   "metadata": {},
   "outputs": [],
   "source": [
    "#import"
   ]
  },
  {
   "cell_type": "code",
   "execution_count": null,
   "metadata": {},
   "outputs": [],
   "source": [
    "#fit tree"
   ]
  },
  {
   "cell_type": "code",
   "execution_count": null,
   "metadata": {},
   "outputs": [],
   "source": [
    "#display confusion matrix and accuracy"
   ]
  },
  {
   "cell_type": "markdown",
   "metadata": {},
   "source": [
    "## Naive Bayes\n",
    "\n",
    "Refer to this page for information on Naive Bayes models: https://www.geeksforgeeks.org/ml-naive-bayes-scratch-implementation-using-python/ \n",
    "\n",
    "➡️ Assignment Tasks\n",
    "- Import the Multinomial Naive Bayes classifier from scikit-learn (MultinomialNB)\n",
    "- Use the training dataframe to fit the model\n",
    "- Calculate the accuracy and show a confusion matrix"
   ]
  },
  {
   "cell_type": "code",
   "execution_count": null,
   "metadata": {},
   "outputs": [],
   "source": [
    "#import"
   ]
  },
  {
   "cell_type": "code",
   "execution_count": null,
   "metadata": {},
   "outputs": [],
   "source": [
    "#create model"
   ]
  },
  {
   "cell_type": "code",
   "execution_count": null,
   "metadata": {},
   "outputs": [],
   "source": [
    "#display confusion matrix and accuracy"
   ]
  },
  {
   "cell_type": "markdown",
   "metadata": {},
   "source": [
    "## Make a recommendation\n",
    "Review the accuracy for the three models above.   Compare the numbers in the three confusion matrix versions.\n",
    "\n",
    "➡️ Assignment Tasks\n",
    "- In the space below, explain which model you would recommend to use and the reasons for that choice.  "
   ]
  },
  {
   "cell_type": "markdown",
   "metadata": {},
   "source": [
    "### Your recommendation\n",
    ">add your text here<"
   ]
  }
 ],
 "metadata": {
  "colab": {
   "name": "Module7_Script_v1.5.ipynb",
   "provenance": []
  },
  "kernelspec": {
   "display_name": "Python 3",
   "name": "python3"
  },
  "language_info": {
   "name": "python"
  }
 },
 "nbformat": 4,
 "nbformat_minor": 0
}
