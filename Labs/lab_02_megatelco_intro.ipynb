{
 "cells": [
  {
   "cell_type": "markdown",
   "metadata": {},
   "source": [
    "# IS 4487 Lab 2\n",
    "\n",
    "## Outline\n",
    "\n",
    "- Loading installed packages\n",
    "- Inspect data\n",
    "- Explore plot types \n",
    "\n",
    "<a href=\"https://colab.research.google.com/github/Stan-Pugsley/is_4487_base/blob/main/Labs/Scripts/lab_02_megatelco_intro.ipynb\" target=\"_parent\"><img src=\"https://colab.research.google.com/assets/colab-badge.svg\" alt=\"Open In Colab\"/></a>\n",
    " "
   ]
  },
  {
   "cell_type": "markdown",
   "metadata": {},
   "source": [
    "##Load Libraries\n",
    "\n",
    "In this class we will be using \n",
    "- Pandas\n",
    "- Scikitlearn\n",
    "- Matplotlib\n"
   ]
  },
  {
   "cell_type": "code",
   "execution_count": null,
   "metadata": {},
   "outputs": [],
   "source": [
    "import pandas as pd\n",
    "import matplotlib as mpl\n",
    "import sklearn as sl"
   ]
  },
  {
   "cell_type": "markdown",
   "metadata": {},
   "source": [
    "## Megatelco Data Dictionary \n",
    "\n",
    " DEMOGRAPHIC VARIABLES:\n",
    " - College - has the customer attended some college (one, zero)\n",
    " - Income - annual income of customer\n",
    " - House - estimated price of the customer's home (if applicable)\n",
    "\n",
    " USAGE VARIABLES:\n",
    " - Data Overage Mb - Average number of megabytes that the customer used in excess of the plan limit (over last 12 months)\n",
    " - Data Leftover Mb - Average number of megabytes that the customer use was below the plan limit (over last 12 months)\n",
    " - Data Mb Used - Average number of megabytes used per month (over last 12 months)\n",
    " - Text Message Count - Average number of texts per month (over last 12 months)\n",
    " - Over 15 Minute Calls Per Month - Average number of calls over 15 minutes in duration per month (over last 12 months)\n",
    " - Average Call Duration- Average call duration (over last 12 months)\n",
    "\n",
    "PHONE VARIABLES:\n",
    " - Operating System - Current operating system of phone\n",
    " - Handset Price - Retail price of the phone used by the customer\n",
    "\n",
    "ATTITUDINAL VARIABLES:\n",
    " - Reported Satisfaction - Survey response to \"How satisfied are you with your current phone plan?\" (high, med, low)\n",
    " - Reported Usage Level - Survey response to \"How much do your use your phone?\" (high, med, low)\n",
    " - Considering Change of Plan - Survey response to \"Are you currently planning to change companies when your contract expires?\" (high, med, low)\n",
    "\n",
    "OTHER VARIABLES\n",
    " - Leave - Did this customer churn with the last contract expiration? (LEAVE, STAY)\n",
    " - ID - Customer identifier"
   ]
  },
  {
   "cell_type": "markdown",
   "metadata": {},
   "source": [
    "## Getting data into Pandas\n",
    "See the Canvas assignments and lectures for a description of the Megatelco data\n"
   ]
  },
  {
   "cell_type": "code",
   "execution_count": null,
   "metadata": {},
   "outputs": [],
   "source": [
    "df = pd.read_csv('https://github.com/Stan-Pugsley/is_4487_base/blob/main/Labs/DataSets/megatelco_leave_survey.csv?raw=true')\n",
    "print (df)"
   ]
  },
  {
   "cell_type": "code",
   "execution_count": null,
   "metadata": {},
   "outputs": [],
   "source": [
    "#look at the top rows\n",
    "df.head(10) "
   ]
  },
  {
   "cell_type": "code",
   "execution_count": null,
   "metadata": {},
   "outputs": [],
   "source": [
    "#look at last rows\n",
    "df.tail(10) "
   ]
  },
  {
   "cell_type": "code",
   "execution_count": null,
   "metadata": {},
   "outputs": [],
   "source": [
    "#get a summary of the dataset\n",
    "df.describe()"
   ]
  },
  {
   "cell_type": "code",
   "execution_count": null,
   "metadata": {},
   "outputs": [],
   "source": [
    "#look at the datatypes\n",
    "df.info()"
   ]
  },
  {
   "cell_type": "markdown",
   "metadata": {},
   "source": [
    "## Selecting Specific Columns\n",
    "Square bracket subsetting, or indexing, is a way to access specific rows and columns of a DataFrame. When you use square brackets, [], with a DataFrame you can pass in:\n",
    "\n",
    "A single column name to select a single column (returns a Series)\n",
    "A list of column names to select multiple columns (returns a DataFrame)\n",
    "A boolean mask to select rows based on a condition\n",
    "A slice to select a range of rows\n",
    "For example, df['college'] selects the college column as a Series, while df[['college', 'income']] selects the college and income columns as a DataFrame."
   ]
  },
  {
   "cell_type": "code",
   "execution_count": null,
   "metadata": {},
   "outputs": [],
   "source": [
    "df['college']"
   ]
  },
  {
   "cell_type": "code",
   "execution_count": null,
   "metadata": {},
   "outputs": [],
   "source": [
    "df[['college', 'income']]"
   ]
  },
  {
   "cell_type": "markdown",
   "metadata": {},
   "source": [
    "## Filtering Rows\n",
    "You create a boolean mask by applying a logical condition to a DataFrame, which returns True/False values. You can then use this mask to select the rows where the condition is True."
   ]
  },
  {
   "cell_type": "code",
   "execution_count": null,
   "metadata": {},
   "outputs": [],
   "source": [
    "df[\"handset_price\"] > 1000"
   ]
  },
  {
   "cell_type": "markdown",
   "metadata": {},
   "source": [
    "## Clean up the data\n",
    "Did you notice anything unusual about the \"house\" amounts? \n",
    "\n",
    "How about the handset price and income?"
   ]
  },
  {
   "cell_type": "code",
   "execution_count": null,
   "metadata": {},
   "outputs": [],
   "source": [
    "df_clean = df[(df['house'] > 0) & (df['income'] > 0) & (df['handset_price'] < 1000)]\n",
    "df_clean.describe()"
   ]
  },
  {
   "cell_type": "markdown",
   "metadata": {},
   "source": [
    "# Add Derived Attribute\n",
    "\n",
    "Add a column with the income in K (thousands)"
   ]
  },
  {
   "cell_type": "code",
   "execution_count": null,
   "metadata": {},
   "outputs": [],
   "source": [
    "df_clean['income_k'] = (df_clean['income']/1000).round(2)\n",
    "df_clean.head()"
   ]
  },
  {
   "cell_type": "markdown",
   "metadata": {},
   "source": [
    "## Summarize the Data \n",
    " What is average house price at the two levels of leave?\n",
    "\n",
    " Conclusion?  Stayers have substantially more expensive homes."
   ]
  },
  {
   "cell_type": "code",
   "execution_count": null,
   "metadata": {},
   "outputs": [],
   "source": [
    "df_clean[['house','leave']].groupby('leave').mean().round(2) "
   ]
  },
  {
   "cell_type": "markdown",
   "metadata": {},
   "source": [
    "## Additional Data Preparation\n",
    "\n",
    "➡️ Assignment Tasks\n",
    "- Add at least two additional steps to clean or filter the dataset.  Are there any empty values that should be removed?  Can any variables be converted to numbers?"
   ]
  },
  {
   "cell_type": "code",
   "execution_count": null,
   "metadata": {},
   "outputs": [],
   "source": []
  },
  {
   "cell_type": "markdown",
   "metadata": {},
   "source": [
    "## Data Visualization\n",
    "\n",
    "➡️ Assignment Tasks\n",
    "- Add at least two charts to show a summary of any major trends"
   ]
  },
  {
   "cell_type": "code",
   "execution_count": null,
   "metadata": {},
   "outputs": [],
   "source": []
  }
 ],
 "metadata": {
  "language_info": {
   "name": "python"
  }
 },
 "nbformat": 4,
 "nbformat_minor": 2
}
