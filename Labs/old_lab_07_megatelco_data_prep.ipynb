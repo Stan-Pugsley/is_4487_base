{
 "cells": [
  {
   "cell_type": "markdown",
   "metadata": {
    "id": "p_Yu45OYdj3Y"
   },
   "source": [
    "# IS 4487 Lab 8\n",
    "\n",
    "## Outline\n",
    "\n",
    "*   Deal with nulls\n",
    "*   Standardize/transform attributes\n",
    "*   Convert attributes to categories\n",
    "*   Encode attributes\n",
    "\n",
    "<a href=\"https://colab.research.google.com/github/Stan-Pugsley/is_4487_base/blob/main/Labs/Scripts/lab_08_megatelco_data_prep.ipynb\" target=\"_parent\"><img src=\"https://colab.research.google.com/assets/colab-badge.svg\" alt=\"Open In Colab\"/></a> "
   ]
  },
  {
   "cell_type": "markdown",
   "metadata": {},
   "source": [
    "## Megatelco Data Dictionary \n",
    "\n",
    " DEMOGRAPHIC VARIABLES:\n",
    " - College - has the customer attended some college (one, zero)\n",
    " - Income - annual income of customer\n",
    " - House - estimated price of the customer's home (if applicable)\n",
    "\n",
    " USAGE VARIABLES:\n",
    " - Data Overage Mb - Average number of megabytes that the customer used in excess of the plan limit (over last 12 months)\n",
    " - Data Leftover Mb - Average number of megabytes that the customer use was below the plan limit (over last 12 months)\n",
    " - Data Mb Used - Average number of megabytes used per month (over last 12 months)\n",
    " - Text Message Count - Average number of texts per month (over last 12 months)\n",
    " - Over 15 Minute Calls Per Month - Average number of calls over 15 minutes in duration per month (over last 12 months)\n",
    " - Average Call Duration- Average call duration (over last 12 months)\n",
    "\n",
    "PHONE VARIABLES:\n",
    " - Operating System - Current operating system of phone\n",
    " - Handset Price - Retail price of the phone used by the customer\n",
    "\n",
    "ATTITUDINAL VARIABLES:\n",
    " - Reported Satisfaction - Survey response to \"How satisfied are you with your current phone plan?\" (high, med, low)\n",
    " - Reported Usage Level - Survey response to \"How much do your use your phone?\" (high, med, low)\n",
    " - Considering Change of Plan - Survey response to \"Are you currently planning to change companies when your contract expires?\" (high, med, low)\n",
    "\n",
    "OTHER VARIABLES\n",
    " - Leave - Did this customer churn with the last contract expiration? (LEAVE, STAY)\n",
    " - ID - Customer identifier"
   ]
  },
  {
   "cell_type": "markdown",
   "metadata": {
    "id": "UE93RwXhgiJS"
   },
   "source": [
    "##Load Libraries\n",
    "\n",
    "In this class we will be using \n",
    "- Pandas\n",
    "- Scikitlearn\n",
    "- Matplotlib\n"
   ]
  },
  {
   "cell_type": "code",
   "execution_count": null,
   "metadata": {
    "id": "JYRZY5n0gfNe"
   },
   "outputs": [],
   "source": [
    "import pandas as pd\n",
    "import matplotlib as mpl\n",
    "import numpy as np\n",
    "\n",
    "from sklearn.tree import DecisionTreeClassifier, export_graphviz # Import Decision Tree Classifier\n",
    "from sklearn.model_selection import train_test_split # Import train_test_split function\n",
    "from sklearn import metrics #Import scikit-learn metrics module for accuracy calculation\n",
    "from sklearn import tree\n"
   ]
  },
  {
   "cell_type": "markdown",
   "metadata": {
    "id": "bREaXo8jfu-O"
   },
   "source": [
    "## Import Data into Dataframe\n",
    "\n",
    "➡️ Assignment Tasks\n",
    "- Import data from the Megatelco_leave_survey dataset into a dataframe (in GitHub go to Labs > DataSets)\n",
    "- Describe or profile the dataframe"
   ]
  },
  {
   "cell_type": "code",
   "execution_count": null,
   "metadata": {
    "id": "6_FwprxVgR0e"
   },
   "outputs": [],
   "source": []
  },
  {
   "cell_type": "markdown",
   "metadata": {
    "id": "BtxOWvFlKzgE"
   },
   "source": [
    "## Clean up the data\n",
    "Did you notice anything unusual about the \"house\" amounts? \n",
    "\n",
    "How about the handset price and income?\n",
    "\n",
    "Clean up the data in a  new datafram named \"df_clean\"\n"
   ]
  },
  {
   "cell_type": "code",
   "execution_count": null,
   "metadata": {
    "id": "7KXLvMcBK8Za"
   },
   "outputs": [],
   "source": [
    "#delete rows with outlier data; put it in a new dataframe\n",
    "df_clean = df[(df['house'] > 0) & (df['income'] > 0) & (df['handset_price'] < 10000)]\n",
    "\n",
    "#delete any rows with missing values in the clean dataframe\n",
    "df_clean = df_clean.dropna() \n",
    "\n",
    "df_clean.describe()"
   ]
  },
  {
   "cell_type": "markdown",
   "metadata": {
    "id": "Zp7wGDqJ4iuL"
   },
   "source": [
    "# Standardize attributes\n",
    "\n",
    "- Convert the \"college\" variable to 0 or 1\n",
    "- Convert ordinal, non-numeric attributes to ordered values on a scale of 1-3\n",
    "- Convert all of these values to categories since they are not continuous numeric values\n"
   ]
  },
  {
   "cell_type": "code",
   "execution_count": null,
   "metadata": {
    "id": "xNDR1xg5dVzm"
   },
   "outputs": [],
   "source": [
    "#Get distinct values to preview the data\n",
    "df_clean['college'].unique() "
   ]
  },
  {
   "cell_type": "code",
   "execution_count": null,
   "metadata": {
    "id": "cw6i_45td0JC"
   },
   "outputs": [],
   "source": [
    "df_clean['reported_satisfaction'] .unique()"
   ]
  },
  {
   "cell_type": "code",
   "execution_count": null,
   "metadata": {
    "id": "YhFAu2W4dz_6"
   },
   "outputs": [],
   "source": [
    "df_clean['reported_usage_level'].unique()"
   ]
  },
  {
   "cell_type": "code",
   "execution_count": null,
   "metadata": {
    "id": "rmJbiN8rdzxJ"
   },
   "outputs": [],
   "source": [
    "df_clean['considering_change_of_plan'].unique()"
   ]
  },
  {
   "cell_type": "code",
   "execution_count": null,
   "metadata": {
    "id": "gvMekcKg4y5X"
   },
   "outputs": [],
   "source": [
    "#Convert to numbers to ensure the values are ordered (ordinal)\n",
    "df_clean.loc[df_clean['college'] == 'one', 'college'] = \"1\" \n",
    "df_clean.loc[df_clean['college'] == 'zero', 'college'] = \"0\"\n",
    "df_clean.loc[df_clean['reported_satisfaction'] == 'low', 'reported_satisfaction'] = \"1\"\n",
    "df_clean.loc[df_clean['reported_satisfaction'] == 'avg', 'reported_satisfaction'] = \"2\"\n",
    "df_clean.loc[df_clean['reported_satisfaction'] == 'high', 'reported_satisfaction'] = \"3\"\n",
    "df_clean.loc[df_clean['reported_usage_level'] == 'low', 'reported_usage_level'] = \"1\"\n",
    "df_clean.loc[df_clean['reported_usage_level'] == 'avg', 'reported_usage_level'] = \"2\"\n",
    "df_clean.loc[df_clean['reported_usage_level'] == 'high', 'reported_usage_level'] = \"3\"\n",
    "df_clean.loc[df_clean['considering_change_of_plan'] == 'yes', 'considering_change_of_plan'] = \"1\"\n",
    "df_clean.loc[df_clean['considering_change_of_plan'] == 'no', 'considering_change_of_plan'] = \"0\"\n",
    "df_clean.loc[df_clean['considering_change_of_plan'] == 'maybe', 'considering_change_of_plan'] = \"0.5\"\n",
    " \n",
    "df_clean.head(10) "
   ]
  },
  {
   "cell_type": "markdown",
   "metadata": {
    "id": "AuB0G9gJt7gn"
   },
   "source": [
    "# Convert attributes to categories\n",
    "\n",
    "- Leave\n",
    "- College\n",
    "- Reported satisfaction\n",
    "- Reported usage level\n",
    "- Considering change of plan"
   ]
  },
  {
   "cell_type": "code",
   "execution_count": null,
   "metadata": {
    "id": "inCqTVMDt6ex"
   },
   "outputs": [],
   "source": [
    "#Method #1\n",
    "#df_clean['leave'] = pd.Categorical(df_clean['leave'])\n",
    "\n",
    "#Method #2\n",
    "df_clean['leave'] = df_clean['leave'].astype('category')\n",
    "df_clean['college'] = df_clean['college'].astype('category')\n",
    "df_clean['reported_satisfaction'] = df_clean['reported_satisfaction'].astype('category')\n",
    "df_clean['reported_usage_level'] = df_clean['reported_usage_level'].astype('category')\n",
    "df_clean['considering_change_of_plan'] = df_clean['considering_change_of_plan'].astype('category')\n",
    "\n",
    "df_clean.info()"
   ]
  },
  {
   "cell_type": "markdown",
   "metadata": {
    "id": "uathUi6xfDPf"
   },
   "source": [
    "## Calculate distribution of the outcome  \n",
    "What is the proportion of people who churned?\n",
    "\n",
    "Why should we care about this proportion?\n",
    "\n",
    "1. An important step in EDA is to understand the distribution of the target variable.\n",
    "\n",
    "2. The majority class in the target variable will serve as an important benchmark for model performance. If we used what we'll call a \"majority class classifier\"---this consists in always predicting the majority class, which in this case is `STAY`---we would be correct 1 - .49 or 51% of the time.  Another way of saying this is that majority class classifier in the MegaTelCo case would result in accuracy of .51.  \n",
    "\n",
    "Accuracy is defined as the proportion of correctly predicted labels. It is a commonly used error metric for evaluating classifier performance.\n",
    "\n",
    "Think about why a majority class model in this case would have an accuracy of .51.\n",
    "\n",
    "Whatever later model we develop should have better accuracy than this performance benchmark."
   ]
  },
  {
   "cell_type": "code",
   "execution_count": null,
   "metadata": {
    "id": "bC93rEgNfFNh"
   },
   "outputs": [],
   "source": [
    "#Add new field with binary value for leave  \n",
    "df_clean['leave_flag'] = df_clean['leave'].str.replace('STAY','0')  \n",
    "df_clean['leave_flag'] = df_clean['leave_flag'].str.replace('LEAVE','1')\n",
    "\n",
    "#Convert to integer\n",
    "df_clean['leave_flag'] = df_clean['leave_flag'].astype('int')\n",
    "\n",
    "#Find the mean value\n",
    "df_clean['leave_flag'].mean()\n"
   ]
  },
  {
   "cell_type": "markdown",
   "metadata": {},
   "source": [
    "## Prepare Data \n",
    "\n",
    "➡️ Assignment Tasks\n",
    "- Create a new variable called \"Income_Level\".   Use the income variable to put customers in to groups from $0-$100K, $101-200K, etc.\n",
    "- Create a new variable called \"High_Risk\".  If the satisfaction level is low and the customer is considering a plan change, then the use \"1\" for high_risk; otherwise use zero.  Make this a categorical variable.  "
   ]
  },
  {
   "cell_type": "markdown",
   "metadata": {},
   "source": []
  },
  {
   "cell_type": "code",
   "execution_count": null,
   "metadata": {},
   "outputs": [],
   "source": [
    "#income level"
   ]
  },
  {
   "cell_type": "code",
   "execution_count": null,
   "metadata": {},
   "outputs": [],
   "source": [
    "#high risk"
   ]
  },
  {
   "cell_type": "markdown",
   "metadata": {},
   "source": [
    "## Visualize Relationships\n",
    "\n",
    "➡️ Assignment Tasks\n",
    "- Create a bar chart, histogram, or scatter for at least three variables, showing their relationship with the target variable.  \n",
    "- Choose the appropriate chart type for the variable\n",
    "- Don't use home price, calls over 15 minutes or satisfaction since those were already used in the lectures.  "
   ]
  },
  {
   "cell_type": "code",
   "execution_count": null,
   "metadata": {},
   "outputs": [],
   "source": [
    "#chart 1"
   ]
  },
  {
   "cell_type": "code",
   "execution_count": null,
   "metadata": {},
   "outputs": [],
   "source": [
    "#chart 2"
   ]
  },
  {
   "cell_type": "code",
   "execution_count": null,
   "metadata": {},
   "outputs": [],
   "source": [
    "#chart 3"
   ]
  }
 ],
 "metadata": {
  "colab": {
   "authorship_tag": "ABX9TyOZNkv+/X8iMhrdlPK/4MsC",
   "name": "Module4_Script_v1.2.ipynb",
   "provenance": [
    {
     "file_id": "1PLcZXMYPcrheEBMcEN-fpDPlCdd5ch2s",
     "timestamp": 1639612330249
    },
    {
     "file_id": "1GJV045fhk-RezuvweFQIBSOQekKHQUcI",
     "timestamp": 1638909932719
    },
    {
     "file_id": "1ifjIIgAvgQltWQQRqlfPMMmaWZ7AN8gz",
     "timestamp": 1638828331858
    },
    {
     "file_id": "1lpmLyAHUgS7eJm-Ytt_CrkzBA1RHX5MI",
     "timestamp": 1638488760132
    }
   ]
  },
  "kernelspec": {
   "display_name": "Python 3",
   "name": "python3"
  },
  "language_info": {
   "name": "python"
  }
 },
 "nbformat": 4,
 "nbformat_minor": 0
}
