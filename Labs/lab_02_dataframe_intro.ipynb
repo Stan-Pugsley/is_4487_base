{
 "cells": [
  {
   "cell_type": "markdown",
   "metadata": {
    "id": "xJxWWBkrp-JF"
   },
   "source": [
    "# IS 4487 Lab 2\n",
    "\n",
    "## Outline\n",
    "\n",
    "- Loading installed packages\n",
    "- Inspect data\n",
    "- Filter and aggregate the data\n",
    "\n",
    "<a href=\"https://colab.research.google.com/github/Stan-Pugsley/is_4487_base/blob/main/Labs/Scripts/lab_02_dataframe_intro.ipynb\" target=\"_parent\"><img src=\"https://colab.research.google.com/assets/colab-badge.svg\" alt=\"Open In Colab\"/></a>\n",
    "\n",
    "If you have any questions about Colab, you can read more here:  https://research.google.com/colaboratory/faq.html"
   ]
  },
  {
   "cell_type": "markdown",
   "metadata": {
    "id": "6oton5Aop-JI"
   },
   "source": [
    "\n",
    "## Load Libraries\n",
    "\n",
    "In this assignment we will be using\n",
    "- Pandas\n",
    "\n",
    "We can pull sample data from\n",
    "- statsmodels.api"
   ]
  },
  {
   "cell_type": "code",
   "execution_count": null,
   "metadata": {
    "id": "2FcIocglp-JJ"
   },
   "outputs": [],
   "source": [
    "import pandas as pd\n",
    "import statsmodels.api as sm"
   ]
  },
  {
   "cell_type": "markdown",
   "metadata": {
    "id": "MEKKSHfIp-JK"
   },
   "source": [
    "## Getting data into Pandas\n",
    "\n",
    "In this case we will load data from the statsmodels.org library\n",
    "\n",
    "MTCARS is a traditional dataset used for learning.\n",
    "\n"
   ]
  },
  {
   "cell_type": "code",
   "execution_count": null,
   "metadata": {
    "id": "7zYWJwwUp-JK"
   },
   "outputs": [],
   "source": [
    "mtcars = sm.datasets.get_rdataset(\"mtcars\", \"datasets\", cache=True).data\n",
    "df = pd.DataFrame(mtcars)\n",
    "df['carmodel'] = df.index\n",
    "print(df)"
   ]
  },
  {
   "cell_type": "markdown",
   "metadata": {
    "id": "pZaRi1-Yp-JL"
   },
   "source": [
    "## Preview Data\n",
    "\n",
    "Use the following data dictionary to understand the attributes available\n",
    "\n",
    "|Attribute | Description |\n",
    "|---------|--------------|\n",
    "|\tmpg\t|Miles/(US) gallon|\n",
    "|\tcyl|\tNumber of cylinders|\n",
    "|\tdisp|\tDisplacement (cu.in.)|\n",
    "|hp|\tGross horsepower|\n",
    "|drat|\tRear axle ratio|\n",
    "|wt|\tWeight (1000 lbs)|\n",
    "|qsec|\t1/4 mile time|\n",
    "|vs|\tEngine (0 = V-shaped, 1 = straight)|\n",
    "|am|\tTransmission (0 = automatic, 1 = manual)|\n",
    "|gear|\tNumber of forward gears|"
   ]
  },
  {
   "cell_type": "code",
   "execution_count": null,
   "metadata": {
    "id": "CcYrA6hRp-JL"
   },
   "outputs": [],
   "source": [
    "#look at data types\n",
    "df.info()"
   ]
  },
  {
   "cell_type": "code",
   "execution_count": null,
   "metadata": {
    "id": "rR2UKvmxp-JL"
   },
   "outputs": [],
   "source": [
    "#look at top rows\n",
    "df.head(10)"
   ]
  },
  {
   "cell_type": "code",
   "execution_count": null,
   "metadata": {
    "id": "ewcqdjlnp-JM"
   },
   "outputs": [],
   "source": [
    "#get a summary of the dataset\n",
    "df.describe()"
   ]
  },
  {
   "cell_type": "markdown",
   "metadata": {
    "id": "_rJzE7Nep-JM"
   },
   "source": [
    "## Your Turn: Work with DataFrame\n",
    "\n",
    "➡️ Assignment Tasks - Practice selecting specific rows and columns.\n",
    "- Extract the mpg (miles per gallon) column and calculate its mean.\n",
    "- Filter out rows where mpg is greater than 25.\n",
    "- Select rows where the number of cylinders (cyl) is 4 and only display the columns mpg and hp.\n",
    "\n"
   ]
  },
  {
   "cell_type": "code",
   "execution_count": null,
   "metadata": {
    "id": "q9D9aAk_p-JN"
   },
   "outputs": [],
   "source": [
    "#Your code goes here"
   ]
  },
  {
   "cell_type": "markdown",
   "metadata": {},
   "source": [
    "\n",
    "➡️ Assignment Tasks - Introduce derived columns.\n",
    "- Create a new column power_to_weight_ratio as hp / wt (horsepower divided by weight)."
   ]
  },
  {
   "cell_type": "code",
   "execution_count": null,
   "metadata": {},
   "outputs": [],
   "source": [
    "#Your code goes here"
   ]
  },
  {
   "cell_type": "markdown",
   "metadata": {},
   "source": [
    "➡️ Assignment Tasks - Summarize data.\n",
    "- Group the data by the number of cylinders (cyl) and calculate the average mpg for each group.\n",
    "- Find the maximum horsepower (hp) for cars in each gear group."
   ]
  },
  {
   "cell_type": "code",
   "execution_count": null,
   "metadata": {},
   "outputs": [],
   "source": [
    "#Your code goes here"
   ]
  },
  {
   "cell_type": "markdown",
   "metadata": {},
   "source": [
    "➡️ Assignment Tasks - Sorting Data\n",
    "- Sort the dataframe by mpg in descending order.\n",
    "- Sort the dataframe first by cyl and then by hp."
   ]
  },
  {
   "cell_type": "code",
   "execution_count": null,
   "metadata": {},
   "outputs": [],
   "source": [
    "#Your code goes here"
   ]
  },
  {
   "cell_type": "markdown",
   "metadata": {},
   "source": [
    "## Export Your Notebook to Submit in Canvas\n",
    "- In the top menu, go to File > Download, click \"Download .ipynb\"\n",
    "- In the left side menu, click the Folder icon, then click the \"Upload to Session Storage\" icon\n",
    "- Convert the file to HTML using the code below.  You will be asked to approve access to the files \n",
    "- Find the output file in your Google Drive under the Colab Notebooks folder.  This is the file for you to upload to Canvas.\n",
    "- Download your HTML file as your completed assignment"
   ]
  },
  {
   "cell_type": "code",
   "execution_count": null,
   "metadata": {},
   "outputs": [],
   "source": [
    "from google.colab import drive\n",
    "drive.mount('/content/drive')\n",
    "\n",
    "!jupyter nbconvert --to html \"lab_02_dataframe_intro.ipynb\""
   ]
  },
  {
   "cell_type": "markdown",
   "metadata": {},
   "source": [
    "## Submit your assignment\n",
    "\n",
    "- Make sure that all of your output is shown.  If you get the “unable to render code block” error, try refreshing the cache or downloading raw data to manually upload into Colab as a workaround.\n",
    "- Upload your HTML file to Canvas\n",
    "- Optionally, save your file in your own GitHub account for future use\n"
   ]
  }
 ],
 "metadata": {
  "colab": {
   "provenance": []
  },
  "kernelspec": {
   "display_name": "Python 3",
   "name": "python3"
  },
  "language_info": {
   "name": "python"
  }
 },
 "nbformat": 4,
 "nbformat_minor": 0
}
