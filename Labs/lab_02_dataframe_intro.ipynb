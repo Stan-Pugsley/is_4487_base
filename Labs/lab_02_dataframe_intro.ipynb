{
  "cells": [
    {
      "cell_type": "markdown",
      "metadata": {},
      "source": [
        "> ### Note on Labs and Assignments:\n",
        ">\n",
        "> 🔧 Look for the **wrench emoji** 🔧 — it highlights where you're expected to take action!\n",
        ">\n",
        "> These sections are graded and are not optional.\n",
        ">"
      ]
    },
    {
      "cell_type": "markdown",
      "metadata": {
        "id": "xJxWWBkrp-JF"
      },
      "source": [
        "# IS 4487 Lab 2\n",
        "\n",
        "## Outline\n",
        "\n",
        "- Loading installed packages\n",
        "- Inspect data\n",
        "- Filter, sort and aggregate the data\n",
        "\n",
        "<a href=\"https://colab.research.google.com/github/Stan-Pugsley/is_4487_base/blob/main/Labs/lab_02_dataframe_intro.ipynb\" target=\"_parent\"><img src=\"https://colab.research.google.com/assets/colab-badge.svg\" alt=\"Open In Colab\"/></a>\n",
        "\n",
        "More information:\n",
        "- Learn more about Colab here:  https://research.google.com/colaboratory/faq.html\n",
        "- Learn more about Pandas here: https://pandas.pydata.org/docs/user_guide/10min.html"
      ]
    },
    {
      "cell_type": "markdown",
      "metadata": {
        "id": "3KBbNsiV2iNq"
      },
      "source": [
        "### Context: Motor Trend Car Road Tests\n",
        "This example uses a small set of data from the 1970s with road tests from cars.  This is the classic dataset that statisticians have been using for the last 50 years to learn to work with data.  \n",
        "\n",
        "| Column | Description                              |\n",
        "| ------ | ---------------------------------------- |\n",
        "| mpg    | Miles per gallon (fuel efficiency)       |\n",
        "| cyl    | Number of cylinders                      |\n",
        "| disp   | Displacement (cu. in.)                   |\n",
        "| hp     | Gross horsepower                         |\n",
        "| drat   | Rear axle ratio                          |\n",
        "| wt     | Weight (1000 lbs)                        |\n",
        "| qsec   | ¼ mile time                              |\n",
        "| vs     | Engine type (0 = V-shaped, 1 = straight) |\n",
        "| am     | Transmission (0 = automatic, 1 = manual) |\n",
        "| gear   | Number of forward gears                  |\n",
        "| carb   | Number of carburetors                    |\n",
        "\n",
        "\n",
        "Your task is to import the data into a dataframe and learn to work with it as you would an Excel sheet."
      ]
    },
    {
      "cell_type": "markdown",
      "metadata": {
        "id": "6oton5Aop-JI"
      },
      "source": [
        "\n",
        "## Load Libraries\n",
        "\n",
        "In this assignment we will be using\n",
        "- Pandas\n",
        "\n",
        "We can pull sample data from\n",
        "- statsmodels.api"
      ]
    },
    {
      "cell_type": "code",
      "execution_count": null,
      "metadata": {
        "id": "2FcIocglp-JJ"
      },
      "outputs": [],
      "source": [
        "import pandas as pd\n",
        "import statsmodels.api as sm"
      ]
    },
    {
      "cell_type": "markdown",
      "metadata": {
        "id": "MEKKSHfIp-JK"
      },
      "source": [
        "## Getting data into Pandas\n",
        "\n",
        "In this case we will load data from the statsmodels.org library\n",
        "\n",
        "MTCARS is a traditional dataset used for learning.\n",
        "\n"
      ]
    },
    {
      "cell_type": "code",
      "execution_count": null,
      "metadata": {
        "id": "7zYWJwwUp-JK"
      },
      "outputs": [],
      "source": [
        "mtcars = sm.datasets.get_rdataset(\"mtcars\", \"datasets\", cache=True).data\n",
        "df = pd.DataFrame(mtcars)\n",
        "df['carmodel'] = df.index\n",
        "print(df)"
      ]
    },
    {
      "cell_type": "markdown",
      "metadata": {
        "id": "pZaRi1-Yp-JL"
      },
      "source": [
        "## Preview Data"
      ]
    },
    {
      "cell_type": "code",
      "execution_count": null,
      "metadata": {
        "id": "CcYrA6hRp-JL"
      },
      "outputs": [],
      "source": [
        "#look at data types\n",
        "df.info()"
      ]
    },
    {
      "cell_type": "code",
      "execution_count": null,
      "metadata": {
        "id": "rR2UKvmxp-JL"
      },
      "outputs": [],
      "source": [
        "#look at top rows\n",
        "df.head(10)"
      ]
    },
    {
      "cell_type": "code",
      "execution_count": null,
      "metadata": {
        "id": "ewcqdjlnp-JM"
      },
      "outputs": [],
      "source": [
        "#get a summary of the dataset\n",
        "df.describe()"
      ]
    },
    {
      "cell_type": "markdown",
      "metadata": {
        "id": "_rJzE7Nep-JM"
      },
      "source": [
        "### 🔧 Try It Yourself: Task 1 - Work with DataFrame\n",
        "\n",
        "🔧 Assignment Tasks - Practice selecting specific rows and columns.\n",
        "- 1.1 Extract the mpg (miles per gallon) column and calculate its mean.\n",
        "- 1.2 Create a new dataframe containing only the rows where mpg is greater than 25.\n",
        "- 1.3 Create a new dataframe with rows with the number of cylinders (cyl) is 4.  Include only the columns mpg and hp.\n",
        "\n"
      ]
    },
    {
      "cell_type": "code",
      "execution_count": null,
      "metadata": {
        "id": "q9D9aAk_p-JN"
      },
      "outputs": [],
      "source": [
        "#Your code goes here 🔧"
      ]
    },
    {
      "cell_type": "markdown",
      "metadata": {
        "id": "Y0JcQPPe2iNx"
      },
      "source": [
        "\n",
        "### 🔧 Try It Yourself - Task 2 - Introduce derived columns.\n",
        "- 2.1 Create a new column power_to_weight_ratio as hp / wt (horsepower divided by weight)."
      ]
    },
    {
      "cell_type": "code",
      "execution_count": null,
      "metadata": {
        "id": "Yo0X2bcK2iNx"
      },
      "outputs": [],
      "source": [
        "#Your code goes here🔧"
      ]
    },
    {
      "cell_type": "markdown",
      "metadata": {
        "id": "8Gu2Af0_2iNx"
      },
      "source": [
        "### 🔧 Try It Yourself - Task 3 - Summarize data.\n",
        "- 3.1 Group the data by the number of cylinders (cyl) and calculate the average mpg for each group.\n",
        "- 3.2 Find the maximum horsepower (hp) for cars in each gear group."
      ]
    },
    {
      "cell_type": "code",
      "execution_count": null,
      "metadata": {
        "id": "7DvPIR0_2iNx"
      },
      "outputs": [],
      "source": [
        "#Your code goes here🔧"
      ]
    },
    {
      "cell_type": "markdown",
      "metadata": {
        "id": "C-ttRfAv2iNx"
      },
      "source": [
        "### 🔧 Try It Yourself - Task 4 - Sorting Data\n",
        "- 4.1 Sort the dataframe by mpg in descending order.\n",
        "- 4.2 Sort the dataframe first by cyl and then by hp."
      ]
    },
    {
      "cell_type": "code",
      "execution_count": null,
      "metadata": {
        "id": "rAFjOGyT2iNx"
      },
      "outputs": [],
      "source": [
        "#Your code goes here🔧"
      ]
    },
    {
      "cell_type": "markdown",
      "metadata": {
        "id": "umV_paiU2iNx"
      },
      "source": [
        "## Export Your Notebook to Submit in Canvas\n",
        "- In the top menu, go to File > Download, click \"Download .ipynb\". Save the file locally with the name *lab_01_LastnameFirstname.ipynb*\n",
        "- In the left side menu, click the Folder icon, then click the \"Upload to Session Storage\" icon, and select the above saved file to add it to Colab's temporary Virtual Machine (VM) that allows us to work on our files in Colab.\n",
        "- Convert the file to HTML using the code below.  You may be asked to approve access to the files\n",
        "- Find the output file under Files in the left side menu\n",
        "- Download your HTML file (*lab_01_LastnameFirstname.html*) as your completed lab, to be uploaded to Canvas"
      ]
    },
    {
      "cell_type": "code",
      "execution_count": null,
      "metadata": {
        "id": "nvyphTKy2iNx"
      },
      "outputs": [],
      "source": [
        "!jupyter nbconvert --to html \"lab_01_LastnameFirstname.ipynb\""
      ]
    },
    {
      "cell_type": "markdown",
      "metadata": {
        "id": "v2AkerW32iNy"
      },
      "source": [
        "## Submit your assignment\n",
        "\n",
        "- Make sure that all of your output is shown.  If you get the “unable to render code block” error, try refreshing the cache or downloading raw data to manually upload into Colab as a workaround.\n",
        "- Upload your HTML file to Canvas\n",
        "- Optionally, save your file in your own GitHub account for future use\n"
      ]
    }
  ],
  "metadata": {
    "colab": {
      "provenance": []
    },
    "kernelspec": {
      "display_name": "Python 3",
      "name": "python3"
    },
    "language_info": {
      "name": "python"
    }
  },
  "nbformat": 4,
  "nbformat_minor": 0
}
