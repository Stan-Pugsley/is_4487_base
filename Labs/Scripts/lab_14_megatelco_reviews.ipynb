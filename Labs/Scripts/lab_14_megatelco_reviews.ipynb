{
  "cells": [
    {
      "cell_type": "markdown",
      "metadata": {
        "id": "gsE58ctCNFm_"
      },
      "source": [
        "# IS 4487 Lab 14\n",
        "\n",
        "## Outline\n",
        "\n",
        "1. Import customer reviews\n",
        "2. Create prompts for LLM \n",
        "3. Summarize Customer Reviews\n",
        "\n",
        "\n",
        "<a href=\"https://colab.research.google.com/github/Stan-Pugsley/is_4487_base/blob/main/Labs/Scripts/lab_14_megatelco_reviews.ipynb\" target=\"_parent\"><img src=\"https://colab.research.google.com/assets/colab-badge.svg\" alt=\"Open In Colab\"/></a>\n"
      ]
    },
    {
      "cell_type": "markdown",
      "metadata": {},
      "source": [
        "## Install and Load Libraries"
      ]
    },
    {
      "cell_type": "code",
      "execution_count": null,
      "metadata": {
        "id": "mUapi621OqPA"
      },
      "outputs": [],
      "source": [
        "!pip install google-generativeai"
      ]
    },
    {
      "cell_type": "code",
      "execution_count": null,
      "metadata": {
        "id": "QfiSLm4kMTmm"
      },
      "outputs": [],
      "source": [
        "pip install itables"
      ]
    },
    {
      "cell_type": "code",
      "execution_count": null,
      "metadata": {
        "id": "-BiHHJXsG1jC"
      },
      "outputs": [],
      "source": [
        "import google.generativeai as palm\n",
        "import pandas as pd\n",
        "from itables import show"
      ]
    },
    {
      "cell_type": "markdown",
      "metadata": {},
      "source": [
        "#Create and Set the API Key  \n",
        "- Go to https://aistudio.google.com/app/apikey \n",
        "- Click Get API Key\n",
        "- Copy the key into the space below  (replace all of the pound/hash characters)"
      ]
    },
    {
      "cell_type": "code",
      "execution_count": null,
      "metadata": {
        "id": "FQIQEoMLN1Bs"
      },
      "outputs": [],
      "source": [
        "palm.configure(api_key=\"####################\") # Replace with your API Key\n",
        "model = genai.GenerativeModel('models/gemini-1.5-pro-latest')"
      ]
    },
    {
      "cell_type": "markdown",
      "metadata": {},
      "source": [
        "##Get Reviews"
      ]
    },
    {
      "cell_type": "code",
      "execution_count": null,
      "metadata": {
        "id": "YVhlOg01LWq_"
      },
      "outputs": [],
      "source": [
        "reviews_data = {\n",
        "    'Date': ['2023-12-01', '2023-12-03', '2023-12-05', '2023-12-08', '2023-12-10', '2023-12-12', '2023-12-15', '2023-12-18', '2023-12-20', '2023-12-22'],\n",
        "    'Stars': [4, 3, 5, 4, 2, 5, 3, 4, 1, 5],\n",
        "    'Review': [\n",
        "        \"I purchased a Megatelco phone last week, and I'm impressed with its sleek design and powerful performance. The camera quality is exceptional, and the battery life is commendable. Overall, a solid 4-star experience.\",\n",
        "        \"My Megatelco phone arrived promptly, but I've noticed some issues with the software. It tends to lag at times, affecting the user experience. Customer support was helpful, but I expected better performance. 3 stars.\",\n",
        "        \"Megatelco offers top-notch phones! I'm thrilled with the features and the smooth interface. The camera takes stunning photos, and the battery lasts all day. 5 stars without a doubt!\",\n",
        "        \"I've been using Megatelco phones for a while now, and they never disappoint. The latest model I purchased is no exception. Great performance, stylish design, and excellent customer service. 4 stars from a satisfied customer.\",\n",
        "        \"Regrettably, my experience with Megatelco was not as expected. The phone had constant connectivity issues, and the support team couldn't provide a solution. Disappointed and only giving it 2 stars.\",\n",
        "        \"Megatelco's latest phone exceeded my expectations! It's packed with innovative features, and the customer service team was quick to address a minor concern I had. Solid 5-star rating!\",\n",
        "        \"I had a mixed experience with Megatelco. The phone's performance is decent, but I encountered some software glitches. Customer support was responsive but couldn't entirely resolve the issue. 3 stars.\",\n",
        "        \"Megatelco phones are reliable and offer great value. The user-friendly interface, coupled with impressive features, makes them a top choice. I'm giving it 4 stars for its overall quality.\",\n",
        "        \"My Megatelco phone started malfunctioning within a week of purchase. The touch screen became unresponsive, and customer support was unable to provide a quick solution. Unfortunately, a 1-star rating.\",\n",
        "        \"I recently upgraded to the latest Megatelco phone, and it's fantastic! The speed, camera quality, and battery life are exceptional. The sleek design is a bonus. Easy 5 stars!\"\n",
        "    ]\n",
        "}\n",
        "\n",
        "# Creating the DataFrame\n",
        "df = pd.DataFrame(reviews_data)\n",
        "show(df)\n",
        "print(df['Review'].iloc[:1])"
      ]
    },
    {
      "cell_type": "markdown",
      "metadata": {},
      "source": [
        "##Create Prompts and Send to Model"
      ]
    },
    {
      "cell_type": "code",
      "execution_count": null,
      "metadata": {
        "id": "pSoFFl_FN4F6"
      },
      "outputs": [],
      "source": [
        "review = df['Review'].values[0]\n",
        "prompt = \"Summarize the sentiment and most important points in the following user review for a phone company named Megatelco. Format the output in a table. \"\n",
        "prompt = prompt + review \n",
        "print(prompt)"
      ]
    },
    {
      "cell_type": "code",
      "execution_count": null,
      "metadata": {
        "id": "BE2F-S7TO9Cz"
      },
      "outputs": [],
      "source": [
        "response = model.generate_content(prompt)"
      ]
    },
    {
      "cell_type": "markdown",
      "metadata": {},
      "source": [
        "## Display Response"
      ]
    },
    {
      "cell_type": "code",
      "execution_count": null,
      "metadata": {
        "id": "hwIQ9nHwPXwZ"
      },
      "outputs": [],
      "source": [
        "print(response.candidates[0].content.parts[0].text)"
      ]
    },
    {
      "cell_type": "markdown",
      "metadata": {},
      "source": [
        "## Create a Loop to Submit Reviews\n",
        "\n",
        "➡️ Assignment Tasks\n",
        "- Create a FOR loop to iterate through reviews\n",
        "- Collect the responses in a single datafram"
      ]
    },
    {
      "cell_type": "code",
      "execution_count": null,
      "metadata": {},
      "outputs": [],
      "source": [
        "#loop and collect responses"
      ]
    },
    {
      "cell_type": "markdown",
      "metadata": {},
      "source": [
        "## Summarize the Responses\n",
        "\n",
        "➡️ Assignment Tasks\n",
        "- Create at least two visualizations to show the most important themes and sentinment of the reviews"
      ]
    },
    {
      "cell_type": "code",
      "execution_count": null,
      "metadata": {},
      "outputs": [],
      "source": [
        "#themes"
      ]
    },
    {
      "cell_type": "code",
      "execution_count": null,
      "metadata": {},
      "outputs": [],
      "source": [
        "#sentiment frequency"
      ]
    }
  ],
  "metadata": {
    "colab": {
      "authorship_tag": "ABX9TyNl7IA+mYxrUNEV5UuYvdpc",
      "include_colab_link": true,
      "provenance": []
    },
    "kernelspec": {
      "display_name": "Python 3",
      "name": "python3"
    },
    "language_info": {
      "name": "python"
    }
  },
  "nbformat": 4,
  "nbformat_minor": 0
}
