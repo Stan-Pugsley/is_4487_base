{
 "cells": [
  {
   "cell_type": "markdown",
   "metadata": {},
   "source": [
    "# IS 4487 Lab 13\n",
    "\n",
    "## Learning Objectives\n",
    "1. Select appropriate variables for a cluster analysis\n",
    "2. Learn to fit and adjust a cluster analysis model based on similar customer behavioural patterns.\n",
    "3. Interpret the output of the model\n",
    "\n",
    "## Lab Tasks\n",
    "1. Import and prepare data using the *SuperStore Retail Orders* dataset\n",
    "2. Convert categorical variables to numbers or boolean\n",
    "3. Fit a K-means model with 5 clusters \n",
    "4. Display and analyze the results\n",
    "\n",
    "<a href=\"https://colab.research.google.com/github/Stan-Pugsley/is_4487_base/blob/main/Labs/Scripts/lab_13_retailer_cluster_analysis.ipynb\" target=\"_parent\"><img src=\"https://colab.research.google.com/assets/colab-badge.svg\" alt=\"Open In Colab\"/></a> \n"
   ]
  },
  {
   "cell_type": "markdown",
   "metadata": {},
   "source": [
    "## Superstore Data Dictionary \n",
    "\n",
    " ORDER VARIABLES:\n",
    " - Order ID\n",
    " - Order Date\n",
    " - Order Year Month - Year and month of the order\n",
    " - Order Type - Was the order completed at a store or online? (Retail, Online)\n",
    " - Quantity - Quantity ordered for the product\n",
    "\n",
    " CUSTOMER VARIABLES:\n",
    " - Customer Name\n",
    " - City\n",
    " - State Province\n",
    " - Email\n",
    "\n",
    "\n",
    "PRODUCT VARIABLES:\n",
    " - Product Name\n",
    " - Product Line - Category of the product (i.e. Bikes Phones)\n",
    " - Product Price - Price in US Dollars\n",
    " - Product Status - Current status of the product (Active, Inactive)"
   ]
  },
  {
   "cell_type": "markdown",
   "metadata": {},
   "source": [
    "## Load Libraries\n",
    "\n",
    "➡️ Assignment Tasks\n",
    "- Load any other necessary libraries, in addition to those below"
   ]
  },
  {
   "cell_type": "code",
   "execution_count": null,
   "metadata": {
    "vscode": {
     "languageId": "plaintext"
    }
   },
   "outputs": [],
   "source": [
    "import pandas as pd\n",
    "from sklearn.preprocessing import OneHotEncoder\n",
    "from sklearn.cluster import KMeans"
   ]
  },
  {
   "cell_type": "markdown",
   "metadata": {},
   "source": [
    "## Import Data into Dataframe\n",
    "\n",
    "➡️ Assignment Tasks\n",
    "- Import data from the SuperStore retail dataset into a dataframe (in GitHub go to Labs > DataSets)\n",
    "- Describe or profile the dataframe"
   ]
  },
  {
   "cell_type": "code",
   "execution_count": null,
   "metadata": {
    "vscode": {
     "languageId": "plaintext"
    }
   },
   "outputs": [],
   "source": []
  },
  {
   "cell_type": "markdown",
   "metadata": {},
   "source": [
    "## Prepare Data\n",
    "Note that K-Means requires that all variables be numbers or boolean.  No categorical variables are allowed.\n",
    "\n",
    "➡️ Assignment Tasks\n",
    "- Copy your dataframe into a new version, so that the original data is still available\n",
    "- Create any needed variables, such as month of year and total_amount.  \n",
    "- Filter out any incomplete orders \n",
    "- Convert the OrderType and Product Line variables to multiple one-hot variables using OneHotEncoder (one variable for each value)\n",
    "- Remove any variables that will be not be included (hint: only numeric variables are allowed)\n",
    "- Remove any outliers that will cause a cluster to be created for the few records with the outlier value (pay close attention to dates, quantities and prices)\n",
    "\n",
    "*Notes:* \n",
    "- There is no need to split the data for cluster analysis.  Why is that the case?\n",
    "- You should think carefully about which variables to include.  They should be independent and numeric, and have some behavioural aspect for customers.  A date, for example, cannot be used unless it is somehow converted to a number.  "
   ]
  },
  {
   "cell_type": "code",
   "execution_count": null,
   "metadata": {
    "vscode": {
     "languageId": "plaintext"
    }
   },
   "outputs": [],
   "source": [
    "#create new dataframe and do any number conversion"
   ]
  },
  {
   "cell_type": "code",
   "execution_count": null,
   "metadata": {
    "vscode": {
     "languageId": "plaintext"
    }
   },
   "outputs": [],
   "source": [
    "#filter records with incomplete or invalid data"
   ]
  },
  {
   "cell_type": "code",
   "execution_count": null,
   "metadata": {
    "vscode": {
     "languageId": "plaintext"
    }
   },
   "outputs": [],
   "source": [
    "#one-hot encoding"
   ]
  },
  {
   "cell_type": "code",
   "execution_count": null,
   "metadata": {
    "vscode": {
     "languageId": "plaintext"
    }
   },
   "outputs": [],
   "source": [
    "#remove outliers "
   ]
  },
  {
   "cell_type": "code",
   "execution_count": null,
   "metadata": {
    "vscode": {
     "languageId": "plaintext"
    }
   },
   "outputs": [],
   "source": [
    "#eliminate any variables that you don't want to use in the model (select your final variable set)  "
   ]
  },
  {
   "cell_type": "markdown",
   "metadata": {},
   "source": [
    "## Create Model\n",
    "\n",
    "For more info on K-means in python, see: https://realpython.com/k-means-clustering-python/ \n",
    "\n",
    "➡️ Assignment Tasks\n",
    "- Fit the K-means model using the Kmeans method\n",
    "- Use 5 clusters"
   ]
  },
  {
   "cell_type": "code",
   "execution_count": null,
   "metadata": {
    "vscode": {
     "languageId": "plaintext"
    }
   },
   "outputs": [],
   "source": [
    "#create and fit model"
   ]
  },
  {
   "cell_type": "markdown",
   "metadata": {},
   "source": [
    "## Analyze the Clusters\n",
    "\n",
    "➡️ Assignment Tasks\n",
    "- create at least two visualizations to show the clusters (try a Bar Chart, Pair Plot or Scatter Plot)\n",
    "- Display the cluster and mean values for each of the variables"
   ]
  },
  {
   "cell_type": "code",
   "execution_count": null,
   "metadata": {
    "vscode": {
     "languageId": "plaintext"
    }
   },
   "outputs": [],
   "source": [
    "#visualization #1"
   ]
  },
  {
   "cell_type": "code",
   "execution_count": null,
   "metadata": {
    "vscode": {
     "languageId": "plaintext"
    }
   },
   "outputs": [],
   "source": [
    "#visualization #2"
   ]
  },
  {
   "cell_type": "code",
   "execution_count": null,
   "metadata": {
    "vscode": {
     "languageId": "plaintext"
    }
   },
   "outputs": [],
   "source": [
    "#cluster summary statistics\n"
   ]
  }
 ],
 "metadata": {
  "language_info": {
   "name": "python"
  }
 },
 "nbformat": 4,
 "nbformat_minor": 2
}
