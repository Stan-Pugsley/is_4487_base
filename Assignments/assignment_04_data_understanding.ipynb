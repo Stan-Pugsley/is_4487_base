{
 "cells": [
  {
   "cell_type": "markdown",
   "metadata": {
    "id": "p_Yu45OYdj3Y"
   },
   "source": [
    "# IS4487 Week 4 - Assignment\n",
    "\n",
    "### Outline\n",
    "\n",
    "Our Goals with this Project:\n",
    "\n",
    "1. Import and review the data\n",
    "2. Perform EDA and Clean Data\n",
    "\n",
    "<a href=\"https://colab.research.google.com/github/Stan-Pugsley/is_4487_base/blob/main/Assignments/assignment_4_data_understanding.ipynb\" target=\"_parent\"><img src=\"https://colab.research.google.com/assets/colab-badge.svg\" alt=\"Open In Colab\"/></a>"
   ]
  },
  {
   "cell_type": "markdown",
   "metadata": {
    "id": "OZrtT0lUaEUT"
   },
   "source": [
    "### AdviseInvest Data Dictionary\n",
    "\n",
    "Variable    |Description |Type    |Code\n",
    "---- | ------- | ------ | -----\n",
    "Answered       | Customer response |    Binary    |0: customer did not answer scheduled call; 1: customer answered scheduled call\n",
    "Income       | Customer income in US dollars|\tNumeric\n",
    "Female       | Customer gender|\tBinary\t0: female; 1: male\n",
    "Age\t         | Age in years|\tNumeric\n",
    "Job          | Nature of job|\tCategorical|\t0 : unemployed; 1 : entry level position; 2 : midlevel position; 3 : management/ self-employed/ highly qualified employee/ officer\n",
    "Num_dependents | Number of people for whom the customer provides maintenance|\tNumeric\n",
    "Rent\t| Customer rents\t|Binary\t|0: no; 1: yes\n",
    "Own_res\t| Customer owns residence|\tBinary|\t0: no; 1: yes\n",
    "New_car| Recent new car purchase\t|Binary|\tNew car purchase in the last 3 months: 0: no, 1: yes\n",
    "Chk_acct | Checking account status\t|Categorical|\t0 : no checking account; 1: checking < 200 USD; 2 : 200 < checking < 2000 USD; 3: 2000 < checking < 35000 USD; 4: >= 3500 USD\n",
    "Sav_acct\t| Average balance in savings account|\tCategorical|\t0 : no savings account; 1 : 100 <= savings < 500 USD; 2 : 500 <= savings < 2000 USD; 3 : 2000 < savings < 35000 USD; 4: >= 3500 USD\n",
    "Num_accts\t| Number of accounts owned by customer\t|Numeric\n",
    "Mobile\t| Mobile phone\t|Binary\t|0: customer provided non‐mobile phone for follow‐up call; 1: customer provided mobile phone for follow‐up call\n",
    "Product| Type of product purchased after conversation with sales rep\t|Categorical|\t0: customer did not answer call; 1: customer answered but did not purchase a product; 2: customer answered and purchased Beginner plan; 3: customer answered and purchased Intermediate plan; 4: customer answered and purchased Advanced plan\n"
   ]
  },
  {
   "cell_type": "markdown",
   "metadata": {
    "id": "UE93RwXhgiJS"
   },
   "source": [
    "### Load Libraries\n",
    "\n",
    "Import the libraries you will need, such as:\n",
    "- Pandas\n",
    "- Sklearn\n",
    "- Matplotlib\n"
   ]
  },
  {
   "cell_type": "code",
   "execution_count": null,
   "metadata": {
    "id": "JYRZY5n0gfNe"
   },
   "outputs": [],
   "source": [
    "#Import libraries\n"
   ]
  },
  {
   "cell_type": "markdown",
   "metadata": {
    "id": "bREaXo8jfu-O"
   },
   "source": [
    "## Step 1: Initial Data Understanding\n",
    "\n",
    " - Import data from the AdviseInvest historical dataset into a dataframe (in GitHub go to Assignments > DataSets)\n",
    " - Describe or profile the dataframe\n",
    " - Look for any outliers, missing values, or duplicates"
   ]
  },
  {
   "cell_type": "code",
   "execution_count": null,
   "metadata": {
    "id": "6_FwprxVgR0e"
   },
   "outputs": [],
   "source": [
    "#Import the data"
   ]
  },
  {
   "cell_type": "code",
   "execution_count": null,
   "metadata": {
    "id": "0wkRD0aBa_H7"
   },
   "outputs": [],
   "source": [
    "#View the datatypes"
   ]
  },
  {
   "cell_type": "code",
   "execution_count": null,
   "metadata": {
    "id": "QkKLnfFrbEOS"
   },
   "outputs": [],
   "source": [
    "#Describe the data"
   ]
  },
  {
   "cell_type": "markdown",
   "metadata": {},
   "source": [
    "# Step 2: Exploratory Data Analysis (EDA)\n",
    "- Explore the relationships between the target and independent variables\n",
    "- Create at least five charts to show the relationships, using different chart types that are approriate to the analysis\n",
    "- Ensure that all charts are clearly labeled and formatted"
   ]
  },
  {
   "cell_type": "code",
   "execution_count": null,
   "metadata": {
    "id": "b-wswJqUjsYK"
   },
   "outputs": [],
   "source": [
    "# Chart 1\n"
   ]
  },
  {
   "cell_type": "code",
   "execution_count": null,
   "metadata": {},
   "outputs": [],
   "source": [
    "# Chart 2"
   ]
  },
  {
   "cell_type": "code",
   "execution_count": null,
   "metadata": {},
   "outputs": [],
   "source": [
    "# Chart 3"
   ]
  },
  {
   "cell_type": "code",
   "execution_count": null,
   "metadata": {},
   "outputs": [],
   "source": [
    "# Chart 4"
   ]
  },
  {
   "cell_type": "code",
   "execution_count": null,
   "metadata": {},
   "outputs": [],
   "source": [
    "# Chart 5"
   ]
  },
  {
   "cell_type": "markdown",
   "metadata": {
    "id": "MzLoM10Eo2j3"
   },
   "source": [
    "# Step 3: Summarize Your Findings\n",
    "### 3.1: Are all of the variables useful and applicable to the business need?  (you should reference the target variable and whether other variables have are likely to be correlated with the target) "
   ]
  },
  {
   "cell_type": "markdown",
   "metadata": {},
   "source": [
    "Write your response below:"
   ]
  },
  {
   "cell_type": "markdown",
   "metadata": {},
   "source": [
    "### 3.2: In what ways could the dataset be improved?  Are there any data quality issues or data types that should be fixed?\n",
    "\n",
    "Write your response below:"
   ]
  },
  {
   "cell_type": "markdown",
   "metadata": {},
   "source": []
  }
 ],
 "metadata": {
  "colab": {
   "include_colab_link": true,
   "provenance": []
  },
  "kernelspec": {
   "display_name": "Python 3",
   "name": "python3"
  },
  "language_info": {
   "name": "python"
  }
 },
 "nbformat": 4,
 "nbformat_minor": 0
}
