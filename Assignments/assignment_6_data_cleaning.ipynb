{
  "nbformat": 4,
  "nbformat_minor": 0,
  "metadata": {
    "colab": {
      "provenance": []
    },
    "kernelspec": {
      "name": "python3",
      "display_name": "Python 3"
    },
    "language_info": {
      "name": "python"
    }
  },
  "cells": [
    {
      "cell_type": "markdown",
      "source": [
        "# IS 4487 Assignment 6: Data Cleaning with Airbnb Listings\n",
        "\n",
        "In this assignment, you will:\n",
        "- Load a raw Airbnb listings dataset\n",
        "- Identify and resolve missing or inconsistent data\n",
        "- Decide what data to drop, keep, or clean\n",
        "- Save a clean dataset to use in Assignment 7\n",
        "\n",
        "## Why This Matters\n",
        "\n",
        "Data cleaning is one of the most important steps in any analysis — but it's often the least visible. Airbnb hosts, managers, and policy teams rely on clean data to make decisions. This assignment gives you experience cleaning raw data and justifying your choices so others can understand your process.\n",
        "\n",
        "<a href=\"https://colab.research.google.com/github/Stan-Pugsley/is_4487_base/blob/main/Assignments/assignment_6_data_cleaning.ipynb\" target=\"_parent\">\n",
        "  <img src=\"https://colab.research.google.com/assets/colab-badge.svg\" alt=\"Open In Colab\"/>\n",
        "</a>\n",
        "\n"
      ],
      "metadata": {
        "id": "avCbnNj5RTDb"
      }
    },
    {
      "cell_type": "markdown",
      "source": [
        "## Dataset Description\n",
        "\n",
        "The dataset you'll be using is a **detailed Airbnb listing file**, available from [Inside Airbnb](https://insideairbnb.com/get-the-data/).\n",
        "\n",
        "Each row represents one property listing. The columns include:\n",
        "\n",
        "- **Host attributes** (e.g., host ID, host name, host response time)\n",
        "- **Listing details** (e.g., price, room type, minimum nights, availability)\n",
        "- **Location data** (e.g., neighborhood, latitude/longitude)\n",
        "- **Property characteristics** (e.g., number of bedrooms, amenities, accommodates)\n",
        "- **Calendar/booking variables** (e.g., last review date, number of reviews)\n",
        "\n",
        "📌 The schema is consistent across cities, so you can expect similar columns regardless of the location you choose.\n"
      ],
      "metadata": {
        "id": "-YtEOclERnZ8"
      }
    },
    {
      "cell_type": "markdown",
      "source": [
        "## 1. Choose a City & Upload Your Dataset\n",
        "\n",
        "📥 Follow these steps:\n",
        "\n",
        "1. Go to: [https://insideairbnb.com/get-the-data/](https://insideairbnb.com/get-the-data/)\n",
        "2. Choose a city you’re interested in.\n",
        "3. Download the file named: **`listings.csv.gz`** under that city.\n",
        "4. In your notebook:\n",
        "   - Open the left sidebar\n",
        "   - Click the folder icon 📁\n",
        "   - Click the upload icon ⬆️ and choose your `listings.csv.gz` file\n",
        "5. Use the file path `/content/listings.csv.gz` when loading your data.\n",
        "6. Import standard libraries (`pandas`, `numpy`, `seaborn`, `matplotlib`)\n"
      ],
      "metadata": {
        "id": "Rl-WZK3kRs_9"
      }
    },
    {
      "cell_type": "code",
      "execution_count": null,
      "metadata": {
        "id": "j1o2VjQNRLI1"
      },
      "outputs": [],
      "source": [
        "# Import necessary libraries\n"
      ]
    },
    {
      "cell_type": "code",
      "source": [
        "# Load your uploaded file (path \"/content/listings.csv.gz\")\n"
      ],
      "metadata": {
        "id": "05dzhQHzR0vt"
      },
      "execution_count": null,
      "outputs": []
    },
    {
      "cell_type": "markdown",
      "source": [
        "## 2. Explore Missing Values\n",
        "\n",
        "Business framing:  \n",
        "\n",
        "Stakeholders don’t like surprises in the data. Missing values can break dashboards, confuse pricing models, or create blind spots for host managers.\n",
        "\n",
        "Explore how complete your dataset is:\n",
        "\n",
        "- Count missing values in each column\n",
        "- Visualize missingness if helpful (e.g., heatmap, barplot)\n",
        "- Flag columns that might not be usable due to missing data\n",
        "\n",
        "### In your markdown:\n",
        "1. What are the top 3 columns with the most missing values?\n",
        "2. Which ones are likely to create business issues?\n",
        "3. Which could be safely ignored or dropped?\n",
        "\n"
      ],
      "metadata": {
        "id": "aKeLPILuR6J8"
      }
    },
    {
      "cell_type": "code",
      "source": [
        "# Add code here\n"
      ],
      "metadata": {
        "id": "W8HxUf-YR5o5"
      },
      "execution_count": null,
      "outputs": []
    },
    {
      "cell_type": "markdown",
      "source": [
        "### ✍️ Your Response:\n",
        "1.\n",
        "\n",
        "2.\n",
        "\n",
        "3.\n"
      ],
      "metadata": {
        "id": "2R5FRgTbGY9G"
      }
    },
    {
      "cell_type": "markdown",
      "source": [
        "## 3. Drop Columns That Aren’t Useful\n",
        "\n",
        "Business framing:  \n",
        "\n",
        "Not every column adds value. Analysts often remove columns that are too empty, irrelevant, or repetitive — especially when preparing data for others.\n",
        "\n",
        "Make a decision:\n",
        "\n",
        "- Choose 2–4 columns to drop from your dataset\n",
        "- Document your reasons for each one\n",
        "- Confirm they're gone with `.head()` or `.info()`\n",
        "\n",
        "### In your markdown:\n",
        "1. Which columns did you drop?\n",
        "2. Why were they not useful from a business perspective?\n",
        "3. What could go wrong if you left them in?\n",
        "\n"
      ],
      "metadata": {
        "id": "4LCyzSZ8R-MI"
      }
    },
    {
      "cell_type": "code",
      "source": [
        "# Add code here"
      ],
      "metadata": {
        "id": "GvQDqSfPSD-3"
      },
      "execution_count": null,
      "outputs": []
    },
    {
      "cell_type": "markdown",
      "source": [
        "### ✍️ Your Response:\n",
        "1.\n",
        "\n",
        "2.\n",
        "\n",
        "3.\n",
        "\n"
      ],
      "metadata": {
        "id": "WWR4HiV9GJVY"
      }
    },
    {
      "cell_type": "markdown",
      "source": [
        "## 4. Fill or Fix Values in Key Columns\n",
        "\n",
        "Business framing:  \n",
        "\n",
        "Let’s say your manager wants to see a map of listings with prices and review scores. If key fields are blank, the map won’t work. But not all missing values should be filled the same way.\n",
        "\n",
        "- Choose 2 columns with missing values\n",
        "- Use a strategy to fill or flag those values\n",
        "  - (e.g., median, “unknown”, forward-fill, or a placeholder)\n",
        "- Explain what you did and why\n",
        "\n",
        "### In your markdown:\n",
        "1. What two columns did you clean?\n",
        "2. What method did you use for each, and why?\n",
        "3. What risks are there in how you filled the data?"
      ],
      "metadata": {
        "id": "0CtWLg_LSHNd"
      }
    },
    {
      "cell_type": "code",
      "source": [
        "# Your code for converting column data types\n"
      ],
      "metadata": {
        "id": "AfoW3qQeSJuB"
      },
      "execution_count": null,
      "outputs": []
    },
    {
      "cell_type": "markdown",
      "source": [
        "### ✍️ Your Response:\n",
        "1.\n",
        "\n",
        "2.\n",
        "\n",
        "3.\n"
      ],
      "metadata": {
        "id": "u1B2QQbZNoSj"
      }
    },
    {
      "cell_type": "markdown",
      "source": [
        "## 5. Convert and Clean Data Types\n",
        "\n",
        "Business framing:  \n",
        "\n",
        "Sometimes columns that look like numbers are actually stored as text — which breaks calculations and slows down analysis. Common examples are price columns with dollar signs or availability stored as strings.\n",
        "\n",
        "- Identify one column with the wrong data type\n",
        "- Clean and convert it into a usable format (e.g., from string to number)\n",
        "- Check your work by summarizing or plotting the cleaned column\n",
        "\n",
        "### In your markdown:\n",
        "1. What column did you fix?\n",
        "2. What cleaning steps did you apply?\n",
        "3. How does this help prepare the data for later use?\n"
      ],
      "metadata": {
        "id": "YmpUrgLVSNcl"
      }
    },
    {
      "cell_type": "code",
      "source": [
        "# Clean or adjust your dataset\n"
      ],
      "metadata": {
        "id": "y637bPKuSNOL"
      },
      "execution_count": null,
      "outputs": []
    },
    {
      "cell_type": "markdown",
      "source": [
        "### ✍️ Your Response:\n",
        "1.\n",
        "\n",
        "2.\n",
        "\n",
        "3."
      ],
      "metadata": {
        "id": "2QznnHuPGxdq"
      }
    },
    {
      "cell_type": "markdown",
      "source": [
        "## 6. Remove Duplicate Records\n",
        "\n",
        "Business framing:  \n",
        "\n",
        "If a listing appears twice, it could inflate revenue estimates or confuse users. Airbnb needs each listing to be unique and accurate.\n",
        "\n",
        "- Check for exact duplicate rows\n",
        "- Also check for duplicate IDs if a unique ID column exists\n",
        "- Remove duplicates if found and explain your reasoning\n",
        "\n",
        "### In your markdown:\n",
        "1. Did you find duplicates?\n",
        "2. How did you decide what to drop or keep?\n",
        "3. Why are duplicates risky for Airbnb teams?\n"
      ],
      "metadata": {
        "id": "Zvsas_ckG6-u"
      }
    },
    {
      "cell_type": "code",
      "source": [
        "# Add code here"
      ],
      "metadata": {
        "id": "0KyeZUR0G_Tk"
      },
      "execution_count": null,
      "outputs": []
    },
    {
      "cell_type": "markdown",
      "source": [
        "### ✍️ Your Response:\n",
        "1.\n",
        "\n",
        "2.\n",
        "\n",
        "3."
      ],
      "metadata": {
        "id": "OuTQ2nMAHBIO"
      }
    },
    {
      "cell_type": "markdown",
      "source": [
        "## 7. Export Cleaned Data\n",
        "\n",
        "Before wrapping up, export your cleaned Airbnb dataset to a CSV file. You'll need this file for **Assignment 7**, where you'll perform data transformation techniques.\n",
        "\n",
        "Make sure your data has:\n",
        "- Cleaned and consistent column values\n",
        "- Proper data types for each column\n",
        "- Any unnecessary columns removed\n",
        "\n",
        "This file should be the version of your dataset that you’d feel confident sharing with a teammate or using for deeper analysis.\n",
        "\n",
        "\n",
        "\n",
        "```\n",
        "# Make sure your cleaned DataFrame is named appropriately\n",
        "# For example, if your cleaned dataset is stored in a DataFrame called 'df_cleaned':\n",
        "\n",
        "# Export the cleaned DataFrame to a CSV file\n",
        "df_cleaned.to_csv(\"cleaned_airbnb_data.csv\", index=False)\n",
        "\n",
        "# Explanation:\n",
        "# - \"cleaned_airbnb_data.csv\" is the name of the file that will be saved\n",
        "# - index=False prevents pandas from writing row numbers into the CSV\n",
        "# - The file will be saved to your working directory (in Colab, you'll need to download it manually)\n",
        "\n",
        "```\n",
        "\n",
        "\n",
        "\n"
      ],
      "metadata": {
        "id": "6a8Rc945m9PQ"
      }
    },
    {
      "cell_type": "code",
      "source": [
        "# export csv here"
      ],
      "metadata": {
        "id": "SYjYwyYonTi9"
      },
      "execution_count": null,
      "outputs": []
    },
    {
      "cell_type": "markdown",
      "source": [
        "## 8. Final Reflection\n",
        "\n",
        "You’ve just cleaned a real-world Airbnb dataset — the kind of work that happens every day in analyst and data science roles.\n",
        "\n",
        "Before you move on to data transformation in Assignment 7, take a few moments to reflect on the decisions you made and what you learned.\n",
        "\n",
        "### In your markdown:\n",
        "1. What was the most surprising or challenging part of cleaning this dataset?\n",
        "2. How did you decide which data to drop, fix, or keep?\n",
        "3. What’s one way a business team (e.g., hosts, pricing analysts, platform ops) might benefit from the cleaned version of this data?\n",
        "4. If you had more time, what would you explore or clean further?\n",
        "\n",
        "\n",
        "Write your response clearly in full sentences. No more than a few sentences required per response.\n"
      ],
      "metadata": {
        "id": "HrhzfHDRSfkr"
      }
    },
    {
      "cell_type": "markdown",
      "source": [
        "### ✍️ Your Response:\n",
        "\n",
        "1. __  \n",
        "2. __  \n",
        "3. __  \n",
        "4. __  \n"
      ],
      "metadata": {
        "id": "oAFnMYRqSd7A"
      }
    },
    {
      "cell_type": "markdown",
      "source": [
        "## Submission Instructions\n",
        "✅ Checklist:\n",
        "- All code cells run without error\n",
        "- All markdown responses are complete\n",
        "- Submit on Canvas as instructed"
      ],
      "metadata": {
        "id": "MIzm-EIeS065"
      }
    }
  ]
}
