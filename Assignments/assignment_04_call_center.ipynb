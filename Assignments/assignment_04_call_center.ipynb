{
 "cells": [
  {
   "cell_type": "markdown",
   "metadata": {
    "id": "p_Yu45OYdj3Y"
   },
   "source": [
    "# AdviseInvest\n",
    "\n",
    "### Outline\n",
    "\n",
    "Our Goals with this Project:\n",
    "\n",
    "1. Import and review the data\n",
    "2. Perform EDA and Clean Data\n",
    "3. Fit a model\n",
    "4. Test the accuracy of the model\n",
    "6.  Use the model to predict on a new dataset (without the target)\n",
    "\n",
    "<a href=\"https://colab.research.google.com/github/Stan-Pugsley/is_4487_base/blob/main/Assignments/Scripts/advise_invest_template.ipynb\" target=\"_parent\"><img src=\"https://colab.research.google.com/assets/colab-badge.svg\" alt=\"Open In Colab\"/></a>"
   ]
  },
  {
   "cell_type": "markdown",
   "metadata": {
    "id": "OZrtT0lUaEUT"
   },
   "source": [
    "### AdviseInvest Data Dictionary\n",
    "\n",
    "Variable    |Description |Type    |Code\n",
    "---- | ------- | ------ | -----\n",
    "Answered       | Customer response |    Binary    |0: customer did not answer scheduled call; 1: customer answered scheduled call\n",
    "Income       | Customer income in US dollars|\tNumeric\n",
    "Female       | Customer gender|\tBinary\t0: female; 1: male\n",
    "Age\t         | Age in years|\tNumeric\n",
    "Job          | Nature of job|\tCategorical|\t0 : unemployed; 1 : entry level position; 2 : midlevel position; 3 : management/ self-employed/ highly qualified employee/ officer\n",
    "Num_dependents | Number of people for whom the customer provides maintenance|\tNumeric\n",
    "Rent\t| Customer rents\t|Binary\t|0: no; 1: yes\n",
    "Own_res\t| Customer owns residence|\tBinary|\t0: no; 1: yes\n",
    "New_car| Recent new car purchase\t|Binary|\tNew car purchase in the last 3 months: 0: no, 1: yes\n",
    "Chk_acct | Checking account status\t|Categorical|\t0 : no checking account; 1: checking < 200 USD; 2 : 200 < checking < 2000 USD; 3: 2000 < checking < 35000 USD; 4: >= 3500 USD\n",
    "Sav_acct\t| Average balance in savings account|\tCategorical|\t0 : no savings account; 1 : 100 <= savings < 500 USD; 2 : 500 <= savings < 2000 USD; 3 : 2000 < savings < 35000 USD; 4: >= 3500 USD\n",
    "Num_accts\t| Number of accounts owned by customer\t|Numeric\n",
    "Mobile\t| Mobile phone\t|Binary\t|0: customer provided non‐mobile phone for follow‐up call; 1: customer provided mobile phone for follow‐up call\n",
    "Product| Type of product purchased after conversation with sales rep\t|Categorical|\t0: customer did not answer call; 1: customer answered but did not purchase a product; 2: customer answered and purchased Beginner plan; 3: customer answered and purchased Intermediate plan; 4: customer answered and purchased Advanced plan\n",
    "\n"
   ]
  },
  {
   "cell_type": "markdown",
   "metadata": {
    "id": "UE93RwXhgiJS"
   },
   "source": [
    "### Load Libraries\n",
    "\n",
    "In this class we will be using\n",
    "- Pandas\n",
    "- Scikitlearn\n",
    "- Matplotlib\n"
   ]
  },
  {
   "cell_type": "code",
   "execution_count": null,
   "metadata": {
    "id": "JYRZY5n0gfNe"
   },
   "outputs": [],
   "source": [
    "import pandas as pd\n",
    "import matplotlib as mpl\n",
    "import seaborn as sns\n",
    "\n",
    "from sklearn.model_selection import train_test_split\n",
    "from sklearn.tree import DecisionTreeClassifier, export_graphviz # Import Decision Tree Classifier\n",
    "from sklearn import metrics  #Import scikit-learn metrics module for accuracy calculation\n",
    "from sklearn.metrics import confusion_matrix\n",
    "import matplotlib.pyplot as plt\n"
   ]
  },
  {
   "cell_type": "markdown",
   "metadata": {
    "id": "bREaXo8jfu-O"
   },
   "source": [
    "## Step 1: Initial Data Understanding\n",
    "\n",
    " - Import data from the AdviseInvest historical dataset into a dataframe (in GitHub go to Assignments > DataSets)\n",
    " - Describe or profile the dataframe\n",
    " - Look for any outliers, missing values, or duplicates"
   ]
  },
  {
   "cell_type": "code",
   "execution_count": null,
   "metadata": {
    "id": "6_FwprxVgR0e"
   },
   "outputs": [],
   "source": [
    "#Import the data"
   ]
  },
  {
   "cell_type": "code",
   "execution_count": null,
   "metadata": {
    "id": "0wkRD0aBa_H7"
   },
   "outputs": [],
   "source": [
    "#View the datatypes"
   ]
  },
  {
   "cell_type": "code",
   "execution_count": null,
   "metadata": {
    "id": "QkKLnfFrbEOS"
   },
   "outputs": [],
   "source": [
    "#Describe the data"
   ]
  },
  {
   "cell_type": "markdown",
   "metadata": {
    "id": "BtxOWvFlKzgE"
   },
   "source": [
    "## Step 2: Data Preparation\n",
    "\n",
    "### 2.1: Data Cleanup\n",
    "- Remove any variables that are not relevant to our analysis (if they relate to activity after the answer).\n",
    "- Clean up the data and put it in a new datafram named \"df_clean\"\n"
   ]
  },
  {
   "cell_type": "code",
   "execution_count": null,
   "metadata": {
    "id": "7KXLvMcBK8Za"
   },
   "outputs": [],
   "source": [
    "#delete outliers"
   ]
  },
  {
   "cell_type": "code",
   "execution_count": null,
   "metadata": {},
   "outputs": [],
   "source": [
    "#remove variables that are not helpful"
   ]
  },
  {
   "cell_type": "code",
   "execution_count": null,
   "metadata": {},
   "outputs": [],
   "source": [
    "#cleanup any missing or non-standardized data"
   ]
  },
  {
   "cell_type": "markdown",
   "metadata": {
    "id": "Zp7wGDqJ4iuL"
   },
   "source": [
    "### 2.2: Standardize variables\n",
    "\n",
    " - Change \"answered\" to yes/no and make it categorical\n",
    " - Convert any variables that should be an integer into an integer"
   ]
  },
  {
   "cell_type": "code",
   "execution_count": null,
   "metadata": {
    "id": "gvMekcKg4y5X"
   },
   "outputs": [],
   "source": [
    "# Convert answered to categorical\n",
    " "
   ]
  },
  {
   "cell_type": "code",
   "execution_count": null,
   "metadata": {},
   "outputs": [],
   "source": [
    "# Convert variables to integer data type"
   ]
  },
  {
   "cell_type": "markdown",
   "metadata": {
    "id": "AuB0G9gJt7gn"
   },
   "source": [
    "### 2.3 Convert variables to categorical\n",
    "\n",
    "- Find at least 8 variables that would be appropriate to convert to categories"
   ]
  },
  {
   "cell_type": "code",
   "execution_count": null,
   "metadata": {
    "id": "CaT_JTHOdeoF"
   },
   "outputs": [],
   "source": [
    "#Convert categorical variables"
   ]
  },
  {
   "cell_type": "markdown",
   "metadata": {},
   "source": [
    "# Step 3: Exploratory Data Analysis (EDA)\n",
    "- Explore the relationships between the target and independent variables\n",
    "- Create at least five charts to show the relationships, using different chart types that are approriate to the analysis\n",
    "- Ensure that all charts are clearly labeled and formatted"
   ]
  },
  {
   "cell_type": "code",
   "execution_count": null,
   "metadata": {
    "id": "b-wswJqUjsYK"
   },
   "outputs": [],
   "source": [
    "# Chart 1\n"
   ]
  },
  {
   "cell_type": "code",
   "execution_count": null,
   "metadata": {},
   "outputs": [],
   "source": [
    "# Chart 2"
   ]
  },
  {
   "cell_type": "code",
   "execution_count": null,
   "metadata": {},
   "outputs": [],
   "source": [
    "# Chart 3"
   ]
  },
  {
   "cell_type": "code",
   "execution_count": null,
   "metadata": {},
   "outputs": [],
   "source": [
    "# Chart 4"
   ]
  },
  {
   "cell_type": "code",
   "execution_count": null,
   "metadata": {},
   "outputs": [],
   "source": [
    "# Chart 5"
   ]
  },
  {
   "cell_type": "markdown",
   "metadata": {
    "id": "SoJLJMlceORN"
   },
   "source": [
    "## Step 4: Modeling\n",
    "\n",
    "### 4.1: Calculate the base probability of answering\n",
    "\n",
    "If we use no model at all, how good is our chance of predicting someone leaving?"
   ]
  },
  {
   "cell_type": "code",
   "execution_count": null,
   "metadata": {},
   "outputs": [],
   "source": [
    "#get the default probability"
   ]
  },
  {
   "cell_type": "markdown",
   "metadata": {},
   "source": [
    "### 4.2: Split the training and testing datasets\n",
    "\n",
    "- split df_clean using train_test_split function\n",
    "- all variables except answered should be in the x variable\n",
    "- answered is in the y variable\n"
   ]
  },
  {
   "cell_type": "code",
   "execution_count": null,
   "metadata": {},
   "outputs": [],
   "source": [
    "# Split data into training and testing sets\n"
   ]
  },
  {
   "cell_type": "markdown",
   "metadata": {},
   "source": [
    "### 4.3: Create a Decision Tree\n",
    "- Use all available attributes (except those that were eliminated in step 3)\n",
    "- It is recommended to use the type \"entropy\" and a max_depth of 4 "
   ]
  },
  {
   "cell_type": "code",
   "execution_count": null,
   "metadata": {
    "id": "WBH7aRXbOUf4"
   },
   "outputs": [],
   "source": [
    "#create a tree "
   ]
  },
  {
   "cell_type": "code",
   "execution_count": null,
   "metadata": {},
   "outputs": [],
   "source": [
    "#display (visualize) the tree"
   ]
  },
  {
   "cell_type": "markdown",
   "metadata": {
    "id": "kS4-f2osS0s0"
   },
   "source": [
    "### 4.4: What is the accuracy?\n",
    "\n",
    "This should be better than the base probability, or you have failed in your objective"
   ]
  },
  {
   "cell_type": "code",
   "execution_count": null,
   "metadata": {
    "id": "kl_KUqeqS6Nf"
   },
   "outputs": [],
   "source": [
    "#calculate the probability for your tree"
   ]
  },
  {
   "cell_type": "markdown",
   "metadata": {
    "id": "-I66jKusS_Xe"
   },
   "source": [
    "### 4.5: Create a confusion matrix\n",
    "\n",
    "This will show false positives, true positives, etc."
   ]
  },
  {
   "cell_type": "code",
   "execution_count": null,
   "metadata": {
    "id": "l_dKmgjmTGsj"
   },
   "outputs": [],
   "source": [
    "#create a basic confusion matrix\n"
   ]
  },
  {
   "cell_type": "markdown",
   "metadata": {
    "id": "K9VwS6ziiwx7"
   },
   "source": [
    "Create a more visual, interpretable version of the matrix"
   ]
  },
  {
   "cell_type": "code",
   "execution_count": null,
   "metadata": {
    "id": "z1MOx-sCi4kF"
   },
   "outputs": [],
   "source": [
    "#Create a beautiful matrix; hint - try using Seaborn Heatmap"
   ]
  },
  {
   "cell_type": "markdown",
   "metadata": {
    "id": "vTC161_b9kWm"
   },
   "source": [
    "# Step 5: Evaluate the Model\n",
    "\n",
    "**Assumptions**\n",
    "\n",
    "One of the simplifying assumptions we will make in this project is that all the customers who answer the phone will purchase a product. (This assumption is actually verified by the data.) To model \"answered\" in this case is therefore equivalent to modeling \"purchased.\"\n",
    "\n",
    "There are costs and benefits in this case. We will assume that customers purchase a product for 100 dollars. This was the average cost of AdviseInvest products, according to the Director of Sales.  Also, as we learned in the interview, the agent time to make the sale is worth 25 dollars. Profit would therefore be \\$75 dollars for an answered call and a purchase. In sum:\n",
    "\n",
    "**Benefit**: True positive. The customer is predicted to answer, does answer, and purchases a product for 100 dollars for a profit of 100 - 25 = 75.\n",
    "\n",
    "**Cost**: False positive. The customer is predicted to answer, but does not answer, so there is a loss of 25. (We assume the agent cannot schedule another call at the last minute, or spends the entire time slot trying to make the call.)\n",
    "\n",
    "When you create a calculation you can use: \n",
    "- True answered * 75 -> These people purchased\n",
    "- False answered * 25 -> You can't schedule another call\n",
    "\n",
    "For this exercise, we propose that customers who are not predicted to answer will not be called, so there would be no benefits and no costs for them.  \n",
    "\n",
    "### 5.1 Calculate the Profit Using the Model"
   ]
  },
  {
   "cell_type": "code",
   "execution_count": null,
   "metadata": {
    "id": "y3BHSJu-9s8z"
   },
   "outputs": [],
   "source": [
    "# Write a calcuation for the profit from your model"
   ]
  },
  {
   "cell_type": "markdown",
   "metadata": {
    "id": "GrqwIDNXmwN8"
   },
   "source": [
    "### 5.2 Compare to the Default Profit\n",
    "\n",
    "How much profit (revenue - costs) could be expected if all customers are called? We can consider this a baseline case for profit since it does not require a model.\n",
    "\n",
    "In other words, to calculate profit in this baseline scenario treat the customers who answer as true positives treat the customers who do not answer as false positives."
   ]
  },
  {
   "cell_type": "code",
   "execution_count": null,
   "metadata": {
    "id": "ak1I_A2HmvUF"
   },
   "outputs": [],
   "source": [
    "#Write a calculation for the overall profit without using the model (default)"
   ]
  },
  {
   "cell_type": "markdown",
   "metadata": {},
   "source": [
    "### 5.3 Tune the Model\n",
    "- Adjust the size or shape of the tree, then test the accuracy\n",
    "- Continue to make changes until you find a set of hyperparameters that improves the accuracy compared to the initial model"
   ]
  },
  {
   "cell_type": "code",
   "execution_count": null,
   "metadata": {},
   "outputs": [],
   "source": [
    "# Create a new version of the tree with new parameters"
   ]
  },
  {
   "cell_type": "code",
   "execution_count": null,
   "metadata": {},
   "outputs": [],
   "source": [
    "# Calculate a new probability"
   ]
  },
  {
   "cell_type": "markdown",
   "metadata": {},
   "source": [
    "### 5.4 Apply the Model to New Customers\n",
    "- Import the \"adviseinvest_new_customer_data.csv\" file\n",
    "- Using the tree model, predict each customer for the target variable"
   ]
  },
  {
   "cell_type": "code",
   "execution_count": null,
   "metadata": {},
   "outputs": [],
   "source": [
    "#Import new customer data into a new data frame"
   ]
  },
  {
   "cell_type": "code",
   "execution_count": null,
   "metadata": {},
   "outputs": [],
   "source": [
    "#Predict the number of customers who will be yes/no for the target variable"
   ]
  },
  {
   "cell_type": "markdown",
   "metadata": {
    "id": "MzLoM10Eo2j3"
   },
   "source": [
    "# Step 6: Plan for Deployment\n",
    "### 6.1: Did we improve our profit using the model?  "
   ]
  },
  {
   "cell_type": "markdown",
   "metadata": {},
   "source": [
    "Write your conclusion notes below:"
   ]
  },
  {
   "cell_type": "markdown",
   "metadata": {},
   "source": [
    "### 6.2: How should the model be deployed?\n",
    "\n",
    "Write your recommendations below:"
   ]
  },
  {
   "cell_type": "markdown",
   "metadata": {},
   "source": []
  }
 ],
 "metadata": {
  "colab": {
   "include_colab_link": true,
   "provenance": []
  },
  "kernelspec": {
   "display_name": "Python 3",
   "name": "python3"
  },
  "language_info": {
   "name": "python"
  }
 },
 "nbformat": 4,
 "nbformat_minor": 0
}
