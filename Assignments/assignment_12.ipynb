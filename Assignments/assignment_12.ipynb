{
 "cells": [
  {
   "cell_type": "markdown",
   "metadata": {
    "id": "p_Yu45OYdj3Y"
   },
   "source": [
    "# IS4487 Week ## - Assignment\n",
    "\n",
    "### Outline\n",
    "\n",
    "Our Goals with this Project:\n",
    "\n",
    "1. Import and review the data\n",
    "2. Perform EDA and Clean Data\n",
    "3. Fit a model\n",
    "4. Test the accuracy of the model\n",
    "6.  Use the model to predict on a new dataset (without the target)\n",
    "\n",
    "\n",
    "<a href=\"https://colab.research.google.com/github/Stan-Pugsley/is_4487_base/blob/main/Assignments/Scripts/advise_invest_template.ipynb\" target=\"_parent\"><img src=\"https://colab.research.google.com/assets/colab-badge.svg\" alt=\"Open In Colab\"/></a>"
   ]
  },
  {
   "cell_type": "markdown",
   "metadata": {
    "id": "OZrtT0lUaEUT"
   },
   "source": [
    "### Data Set Overview\n",
    "\n",
    "\n",
    "We will use the following file:\n",
    "\n",
    "The variables used in the data set are:\n",
    "- TBD"
   ]
  },
  {
   "cell_type": "markdown",
   "metadata": {
    "id": "UE93RwXhgiJS"
   },
   "source": [
    "### Load Libraries\n"
   ]
  },
  {
   "cell_type": "code",
   "execution_count": null,
   "metadata": {
    "id": "JYRZY5n0gfNe"
   },
   "outputs": [],
   "source": []
  },
  {
   "cell_type": "markdown",
   "metadata": {
    "id": "bREaXo8jfu-O"
   },
   "source": [
    "## Step 1: Initial Data Understanding\n",
    "\n",
    " - Import data from the Adataset into a dataframe (in GitHub go to DataSets)\n",
    " - Describe or profile the dataframe\n",
    " - Look for any outliers, missing values, or duplicates"
   ]
  },
  {
   "cell_type": "code",
   "execution_count": null,
   "metadata": {
    "id": "QkKLnfFrbEOS"
   },
   "outputs": [],
   "source": []
  },
  {
   "cell_type": "markdown",
   "metadata": {
    "id": "BtxOWvFlKzgE"
   },
   "source": [
    "## Step 2: Data Preparation\n",
    "\n",
    "- Clean up the data and put it in a new dataframe  \n",
    "- Deal with outliers or missing values\n",
    "- Remove any variables that are not relevant to our analysis (if they relate to activity after the answer).\n",
    "\n"
   ]
  },
  {
   "cell_type": "code",
   "execution_count": null,
   "metadata": {
    "id": "7KXLvMcBK8Za"
   },
   "outputs": [],
   "source": []
  },
  {
   "cell_type": "markdown",
   "metadata": {
    "id": "Zp7wGDqJ4iuL"
   },
   "source": [
    "Standardize variables\n",
    "\n",
    " - Convert or standardize any variables that need improvement\n",
    " - Convert any appropriate variables into categorical type"
   ]
  },
  {
   "cell_type": "code",
   "execution_count": null,
   "metadata": {
    "id": "gvMekcKg4y5X"
   },
   "outputs": [],
   "source": []
  },
  {
   "cell_type": "markdown",
   "metadata": {},
   "source": [
    "# Step 3: Exploratory Data Analysis (EDA)\n",
    "- Explore the relationships between the target and independent variables\n",
    "- Create at least five charts to show the relationships, using different chart types that are approriate to the analysis\n",
    "- Ensure that all charts are clearly labeled and formatted"
   ]
  },
  {
   "cell_type": "code",
   "execution_count": null,
   "metadata": {
    "id": "b-wswJqUjsYK"
   },
   "outputs": [],
   "source": [
    "# Chart 1\n"
   ]
  },
  {
   "cell_type": "code",
   "execution_count": null,
   "metadata": {},
   "outputs": [],
   "source": [
    "# Chart 2"
   ]
  },
  {
   "cell_type": "code",
   "execution_count": null,
   "metadata": {},
   "outputs": [],
   "source": [
    "# Chart 3"
   ]
  },
  {
   "cell_type": "code",
   "execution_count": null,
   "metadata": {},
   "outputs": [],
   "source": [
    "# Chart 4"
   ]
  },
  {
   "cell_type": "code",
   "execution_count": null,
   "metadata": {},
   "outputs": [],
   "source": [
    "# Chart 5"
   ]
  },
  {
   "cell_type": "markdown",
   "metadata": {
    "id": "SoJLJMlceORN"
   },
   "source": [
    "## Step 4: Modeling\n",
    "\n",
    "### 4.1: Calculate the base probability\n",
    "\n",
    "If we use no model at all, how good is our chance of predicting a response?"
   ]
  },
  {
   "cell_type": "code",
   "execution_count": null,
   "metadata": {},
   "outputs": [],
   "source": [
    "#get the default probability"
   ]
  },
  {
   "cell_type": "markdown",
   "metadata": {},
   "source": [
    "### 4.2: Split the training and testing datasets\n",
    "\n",
    "- split df_clean using the \"train_test_split\" function\n",
    "- all variables except the target should be in the x variable\n",
    "- the target variable is in the y variable\n"
   ]
  },
  {
   "cell_type": "code",
   "execution_count": null,
   "metadata": {},
   "outputs": [],
   "source": [
    "# Split data into training and testing sets\n"
   ]
  },
  {
   "cell_type": "markdown",
   "metadata": {},
   "source": [
    "### 4.3: Create a Model\n",
    "- TBD"
   ]
  },
  {
   "cell_type": "code",
   "execution_count": null,
   "metadata": {},
   "outputs": [],
   "source": []
  },
  {
   "cell_type": "markdown",
   "metadata": {
    "id": "kS4-f2osS0s0"
   },
   "source": [
    "### 4.4: What is the accuracy?\n",
    "\n",
    "This should be better than the base probability, or you have failed in your objective"
   ]
  },
  {
   "cell_type": "code",
   "execution_count": null,
   "metadata": {
    "id": "kl_KUqeqS6Nf"
   },
   "outputs": [],
   "source": [
    "#calculate the probability for your tree"
   ]
  },
  {
   "cell_type": "markdown",
   "metadata": {
    "id": "MzLoM10Eo2j3"
   },
   "source": [
    "# Conclusion:\n",
    "\n",
    "➡️ What would be the a business benefit from using this model?\n",
    "\n",
    "Write your conclusion notes below:"
   ]
  },
  {
   "cell_type": "markdown",
   "metadata": {},
   "source": [
    "➡️ How should the model be deployed?\n",
    "\n",
    "Write your recommendations below:"
   ]
  },
  {
   "cell_type": "markdown",
   "metadata": {},
   "source": []
  }
 ],
 "metadata": {
  "colab": {
   "include_colab_link": true,
   "provenance": []
  },
  "kernelspec": {
   "display_name": "Python 3",
   "name": "python3"
  },
  "language_info": {
   "name": "python"
  }
 },
 "nbformat": 4,
 "nbformat_minor": 0
}
