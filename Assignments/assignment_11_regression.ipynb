{
  "nbformat": 4,
  "nbformat_minor": 0,
  "metadata": {
    "colab": {
      "provenance": []
    },
    "kernelspec": {
      "name": "python3",
      "display_name": "Python 3"
    },
    "language_info": {
      "name": "python"
    }
  },
  "cells": [
    {
      "cell_type": "markdown",
      "source": [
        "# IS 4487 Assignment 11: Predicting Airbnb Prices with Regression\n",
        "\n",
        "In this assignment, you will:\n",
        "- Load the Airbnb dataset you cleaned and transformed in Assignment 7\n",
        "- Build a linear regression model to predict listing price\n",
        "- Interpret which features most affect price\n",
        "- Try to improve your model using only the most impactful predictors\n",
        "- Practice explaining your findings to a business audience like a host, pricing strategist, or city partner\n",
        "\n",
        "## Why This Matters\n",
        "\n",
        "Pricing is one of the most important levers for hosts and Airbnb’s business teams. Understanding what drives price — and being able to predict it accurately — helps improve search results, revenue management, and guest satisfaction.\n",
        "\n",
        "This assignment gives you hands-on practice turning a cleaned dataset into a predictive model. You’ll focus not just on code, but on what the results mean and how you’d communicate them to stakeholders.\n",
        "\n",
        "<a href=\"https://colab.research.google.com/github/Stan-Pugsley/is_4487_base/blob/main/Assignments/assignment_11_regression.ipynb\" target=\"_parent\">\n",
        "  <img src=\"https://colab.research.google.com/assets/colab-badge.svg\" alt=\"Open In Colab\"/>\n",
        "</a>\n",
        "\n"
      ],
      "metadata": {
        "id": "y9i7SyaBDpBZ"
      }
    },
    {
      "cell_type": "markdown",
      "source": [
        "## Original Source: Dataset Description\n",
        "\n",
        "The dataset you'll be using is a **detailed Airbnb listing file**, available from [Inside Airbnb](https://insideairbnb.com/get-the-data/).\n",
        "\n",
        "Each row represents one property listing. The columns include:\n",
        "\n",
        "- **Host attributes** (e.g., host ID, host name, host response time)\n",
        "- **Listing details** (e.g., price, room type, minimum nights, availability)\n",
        "- **Location data** (e.g., neighborhood, latitude/longitude)\n",
        "- **Property characteristics** (e.g., number of bedrooms, amenities, accommodates)\n",
        "- **Calendar/booking variables** (e.g., last review date, number of reviews)\n",
        "\n",
        "The schema is consistent across cities, so you can expect similar columns regardless of the location you choose."
      ],
      "metadata": {
        "id": "y8gtyYACEylm"
      }
    },
    {
      "cell_type": "code",
      "source": [
        "import pandas as pd\n",
        "import matplotlib.pyplot as plt\n",
        "import seaborn as sns\n",
        "\n",
        "from sklearn.linear_model import LinearRegression\n",
        "from sklearn.model_selection import train_test_split\n",
        "from sklearn.metrics import mean_squared_error, r2_score\n"
      ],
      "metadata": {
        "id": "Oyy6j6XEEs4-"
      },
      "execution_count": null,
      "outputs": []
    },
    {
      "cell_type": "markdown",
      "source": [
        "## 1. Load Your Transformed Airbnb Dataset\n",
        "\n",
        "**Business framing:**  \n",
        "Before building any models, we must start with clean, prepared data. In Assignment 7, you exported a cleaned version of your Airbnb dataset. You’ll now import that file for analysis.\n",
        "\n",
        "### Do the following:\n",
        "- Import your CSV file called `airbnb_cleaned.csv`\n",
        "- Use `pandas` to load and preview the dataset\n",
        "\n",
        "### In your markdown:\n",
        "1. What does the dataset include?\n",
        "2. How many rows and columns are present?\n"
      ],
      "metadata": {
        "id": "MALLBb48E6i9"
      }
    },
    {
      "cell_type": "code",
      "source": [
        "# Add code here"
      ],
      "metadata": {
        "id": "ranNIERQE6NT"
      },
      "execution_count": null,
      "outputs": []
    },
    {
      "cell_type": "markdown",
      "source": [
        "### ✍️ Your Response:\n",
        "1.\n",
        "\n",
        "2."
      ],
      "metadata": {
        "id": "ESy28NoUvevq"
      }
    },
    {
      "cell_type": "markdown",
      "source": [
        "## 2. Drop Columns Not Useful for Modeling\n",
        "\n",
        "**Business framing:**  \n",
        "Some columns — like post IDs or text — may not help us predict price and could add noise or bias.\n",
        "\n",
        "### Do the following:\n",
        "- Drop columns like `post_id`, `title`, `descr`, `details`, and `address` if they’re still in your dataset\n",
        "\n",
        "### In your markdown:\n",
        "1. What columns did you drop, and why?\n",
        "2. What risks might occur if you included them in your model?\n"
      ],
      "metadata": {
        "id": "vV9quVraFGVs"
      }
    },
    {
      "cell_type": "code",
      "execution_count": null,
      "metadata": {
        "id": "xoa9buvjjeMY"
      },
      "outputs": [],
      "source": [
        "# Add code here"
      ]
    },
    {
      "cell_type": "markdown",
      "source": [
        "### ✍️ Your Response:\n",
        "1.\n",
        "\n",
        "2."
      ],
      "metadata": {
        "id": "lTAqQWMiFKDY"
      }
    },
    {
      "cell_type": "markdown",
      "source": [
        "## 3. Explore Relationships Between Numeric Features\n",
        "\n",
        "**Business framing:**  \n",
        "Understanding how features relate to each other — and to the target — helps guide feature selection and modeling.\n",
        "\n",
        "### Do the following:\n",
        "- Generate a correlation matrix\n",
        "- Identify which variables are strongly related to `price`\n",
        "\n",
        "### In your markdown:\n",
        "1. Which variables had the strongest positive or negative correlation with price?\n",
        "2. Which variables might be useful predictors?\n"
      ],
      "metadata": {
        "id": "Ksh4ABk1FRP2"
      }
    },
    {
      "cell_type": "code",
      "source": [
        "# Add code here"
      ],
      "metadata": {
        "id": "79TpxW9YFSYP"
      },
      "execution_count": null,
      "outputs": []
    },
    {
      "cell_type": "markdown",
      "source": [
        "### ✍️ Your Response:\n",
        "1.\n",
        "\n",
        "2."
      ],
      "metadata": {
        "id": "TXTIvKQiFVGZ"
      }
    },
    {
      "cell_type": "markdown",
      "source": [
        "## 4. Define Features and Target Variable\n",
        "\n",
        "**Business framing:**  \n",
        "To build a regression model, you need to define what you’re predicting (target) and what you’re using to make that prediction (features).\n",
        "\n",
        "### Do the following:\n",
        "- Set `price` as your target variable\n",
        "- Remove `price` from your predictors\n",
        "\n",
        "### In your markdown:\n",
        "1. What features are you using?\n",
        "2. Why is this a regression problem and not a classification problem?\n"
      ],
      "metadata": {
        "id": "C73pyGVbFaSc"
      }
    },
    {
      "cell_type": "code",
      "source": [
        "# Add code here"
      ],
      "metadata": {
        "id": "PB1YE7cwFWEa"
      },
      "execution_count": null,
      "outputs": []
    },
    {
      "cell_type": "markdown",
      "source": [
        "### ✍️ Your Response:\n",
        "1.\n",
        "\n",
        "2."
      ],
      "metadata": {
        "id": "tQTaA4HwFdF5"
      }
    },
    {
      "cell_type": "markdown",
      "source": [
        "## 5. Split Data into Training and Testing Sets\n",
        "\n",
        "**Business framing:**  \n",
        "Splitting your data lets you train a model and test how well it performs on new, unseen data.\n",
        "\n",
        "### Do the following:\n",
        "- Use `train_test_split()` to split into 80% training, 20% testing\n",
        "\n"
      ],
      "metadata": {
        "id": "j0lfAEc-Fg1I"
      }
    },
    {
      "cell_type": "code",
      "source": [
        "# Add code here"
      ],
      "metadata": {
        "id": "9Pc99l8aFlqI"
      },
      "execution_count": null,
      "outputs": []
    },
    {
      "cell_type": "markdown",
      "source": [
        "## 6. Fit a Linear Regression Model\n",
        "\n",
        "**Business framing:**  \n",
        "Linear regression helps you quantify the impact of each feature on price and make predictions for new listings.\n",
        "\n",
        "### Do the following:\n",
        "- Fit a linear regression model to your training data\n",
        "- Use it to predict prices for the test set\n",
        "\n"
      ],
      "metadata": {
        "id": "iZrRzqL9FvFN"
      }
    },
    {
      "cell_type": "code",
      "source": [
        "# Add code here"
      ],
      "metadata": {
        "id": "bGe9L1MdFwAf"
      },
      "execution_count": null,
      "outputs": []
    },
    {
      "cell_type": "markdown",
      "source": [
        "## 7. Evaluate Model Performance\n",
        "\n",
        "**Business framing:**  \n",
        "A good model should make accurate predictions. We’ll use Mean Squared Error (MSE) and R² to evaluate how close our predictions were to the actual prices.\n",
        "\n",
        "### Do the following:\n",
        "- Print MSE and R² score for your model\n",
        "\n",
        "### In your markdown:\n",
        "1. What is your R² score? How well does your model explain price variation?\n",
        "2. Is your MSE large or small? What could you do to improve it?\n"
      ],
      "metadata": {
        "id": "zVYC4YHdFxKm"
      }
    },
    {
      "cell_type": "code",
      "source": [
        "# Add code here"
      ],
      "metadata": {
        "id": "GsDKY5ljF4sJ"
      },
      "execution_count": null,
      "outputs": []
    },
    {
      "cell_type": "markdown",
      "source": [
        "### ✍️ Your Response:\n",
        "1.\n",
        "\n",
        "2."
      ],
      "metadata": {
        "id": "KnXQlpTBF56d"
      }
    },
    {
      "cell_type": "markdown",
      "source": [
        "## 8. Interpret Model Coefficients\n",
        "\n",
        "**Business framing:**  \n",
        "The regression coefficients tell you how each feature impacts price. This can help Airbnb guide hosts and partners.\n",
        "\n",
        "### Do the following:\n",
        "- Create a table showing feature names and coefficients\n",
        "- Sort by the most impactful features\n",
        "\n",
        "### In your markdown:\n",
        "1. Which features increased price the most?\n",
        "2. Were any surprisingly negative?\n",
        "3. What business insight could you draw from this?\n"
      ],
      "metadata": {
        "id": "e6ythEUuGAOP"
      }
    },
    {
      "cell_type": "code",
      "source": [
        "# Add code here"
      ],
      "metadata": {
        "id": "6WMhWBJ7GGyt"
      },
      "execution_count": null,
      "outputs": []
    },
    {
      "cell_type": "markdown",
      "source": [
        "### ✍️ Your Response:\n",
        "1.\n",
        "\n",
        "2.\n",
        "\n",
        "3.\n"
      ],
      "metadata": {
        "id": "v79vfbo6GDGr"
      }
    },
    {
      "cell_type": "markdown",
      "source": [
        "## 9. Try to Improve the Linear Regression Model\n",
        "\n",
        "**Business framing:**  \n",
        "The first version of your model included all available features — but not all features are equally useful. Removing weak or noisy predictors can often improve performance and interpretation.\n",
        "\n",
        "### Do the following:\n",
        "1. Choose your top 3–5 features with the strongest absolute coefficients\n",
        "2. Rebuild the regression model using just those features\n",
        "3. Compare MSE and R² between the baseline and refined model\n",
        "\n",
        "### In your markdown:\n",
        "1. What features did you keep in the refined model, and why?\n",
        "2. Did model performance improve? Why or why not?\n",
        "3. Which model would you recommend to stakeholders?\n"
      ],
      "metadata": {
        "id": "KbW7It9lGMgh"
      }
    },
    {
      "cell_type": "code",
      "source": [
        "# Add code here"
      ],
      "metadata": {
        "id": "8DYlTDONGVdd"
      },
      "execution_count": null,
      "outputs": []
    },
    {
      "cell_type": "markdown",
      "source": [
        "### ✍️ Your Response:\n",
        "1.\n",
        "\n",
        "2.\n",
        "\n",
        "3.\n"
      ],
      "metadata": {
        "id": "RrEHrfPMGXJT"
      }
    },
    {
      "cell_type": "markdown",
      "source": [
        "## 10. Reflect and Recommend\n",
        "\n",
        "**Business framing:**  \n",
        "Ultimately, the value of your model comes from how well it can guide business decisions. Use your results to make real-world recommendations.\n",
        "\n",
        "### In your markdown:\n",
        "1. What business question did your model help answer?\n",
        "2. What would you recommend to Airbnb or its hosts?\n",
        "3. What could you do next to improve this model or make it more useful?\n"
      ],
      "metadata": {
        "id": "CragVN9WGaCT"
      }
    },
    {
      "cell_type": "markdown",
      "source": [
        "### ✍️ Your Response:\n",
        "1.\n",
        "\n",
        "2.\n",
        "\n",
        "3."
      ],
      "metadata": {
        "id": "q8D6DL1DGeD-"
      }
    }
  ]
}