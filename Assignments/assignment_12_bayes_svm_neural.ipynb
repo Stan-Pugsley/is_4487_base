{
  "nbformat": 4,
  "nbformat_minor": 0,
  "metadata": {
    "colab": {
      "provenance": []
    },
    "kernelspec": {
      "name": "python3",
      "display_name": "Python 3"
    },
    "language_info": {
      "name": "python"
    }
  },
  "cells": [
    {
      "cell_type": "markdown",
      "source": [
        "# Assignment 12: Predicting Hotel Booking Cancellations  \n",
        "## Models: Naïve Bayes, Support Vector Machine (SVM), and Neural Network\n",
        "\n",
        "**Objectives:**\n",
        "- Understand how to use classification models (Naïve Bayes, SVM, Neural Networks) to predict hotel cancellations.\n",
        "- Compare models in terms of accuracy, complexity, and business relevance.\n",
        "- Interpret and communicate model results from a business perspective.\n",
        "\n",
        "## Business Scenario\n",
        "\n",
        "You work as a data analyst for a hospitality group that manages both **Resort** and **City Hotels**. One major challenge in operations is the unpredictability of **booking cancellations**, which affects staffing, inventory, and revenue planning.\n",
        "\n",
        "You’ve been asked to use historical booking data to predict whether a future booking will be canceled. Your insights will help management plan more effectively.\n",
        "\n",
        "\n",
        "Your task is to:\n",
        "1. Build and evaluate three models: Naïve Bayes, SVM, and Neural Network.\n",
        "2. Compare performance.\n",
        "3. Recommend which model is best suited for the business needs.\n",
        "\n",
        "<a href=\"https://colab.research.google.com/github/Stan-Pugsley/is_4487_base/blob/main/Assignments/assignment_12_bayes_svm_neural.ipynb\" target=\"_parent\">\n",
        "  <img src=\"https://colab.research.google.com/assets/colab-badge.svg\" alt=\"Open In Colab\"/>\n",
        "</a>\n"
      ],
      "metadata": {
        "id": "R1SKdBXl6lPz"
      }
    },
    {
      "cell_type": "markdown",
      "source": [
        "## Dataset Description: Hotel Bookings\n",
        "\n",
        "This dataset contains booking information for two types of hotels: a **city hotel** and a **resort hotel**. Each record corresponds to a single booking and includes various details about the reservation, customer demographics, booking source, and whether the booking was canceled.\n",
        "\n",
        "**Source**: [GitHub - TidyTuesday: Hotel Bookings](https://github.com/rfordatascience/tidytuesday/blob/master/data/2020/2020-02-11/readme.md)\n",
        "\n",
        "### Key Use Cases\n",
        "- Understand customer booking behavior\n",
        "- Explore factors related to cancellations\n",
        "- Segment guests based on booking characteristics\n",
        "- Compare city vs. resort hotel performance\n",
        "\n",
        "### Data Dictionary\n",
        "\n",
        "| Variable | Type | Description |\n",
        "|----------|------|-------------|\n",
        "| `hotel` | character | Hotel type: City or Resort |\n",
        "| `is_canceled` | integer | 1 = Canceled, 0 = Not Canceled |\n",
        "| `lead_time` | integer | Days between booking and arrival |\n",
        "| `arrival_date_year` | integer | Year of arrival |\n",
        "| `arrival_date_month` | character | Month of arrival |\n",
        "| `stays_in_weekend_nights` | integer | Nights stayed on weekends |\n",
        "| `stays_in_week_nights` | integer | Nights stayed on weekdays |\n",
        "| `adults` | integer | Number of adults |\n",
        "| `children` | integer | Number of children |\n",
        "| `babies` | integer | Number of babies |\n",
        "| `meal` | character | Type of meal booked |\n",
        "| `country` | character | Country code of origin |\n",
        "| `market_segment` | character | Booking source (e.g., Direct, Online TA) |\n",
        "| `distribution_channel` | character | Booking channel used |\n",
        "| `is_repeated_guest` | integer | 1 = Repeated guest, 0 = New guest |\n",
        "| `previous_cancellations` | integer | Past booking cancellations |\n",
        "| `previous_bookings_not_canceled` | integer | Past bookings not canceled |\n",
        "| `reserved_room_type` | character | Initially reserved room type |\n",
        "| `assigned_room_type` | character | Room type assigned at check-in |\n",
        "| `booking_changes` | integer | Number of booking modifications |\n",
        "| `deposit_type` | character | Deposit type (No Deposit, Non-Refund, etc.) |\n",
        "| `agent` | character | Agent ID who made the booking |\n",
        "| `company` | character | Company ID (if booking through company) |\n",
        "| `days_in_waiting_list` | integer | Days on the waiting list |\n",
        "| `customer_type` | character | Booking type: Contract, Transient, etc. |\n",
        "| `adr` | float | Average Daily Rate (price per night) |\n",
        "| `required_car_parking_spaces` | integer | Requested parking spots |\n",
        "| `total_of_special_requests` | integer | Number of special requests made |\n",
        "| `reservation_status` | character | Final status (Canceled, No-Show, Check-Out) |\n",
        "| `reservation_status_date` | date | Date of the last status update |\n",
        "\n",
        "This dataset is ideal for classification, segmentation, and trend analysis exercises.\n"
      ],
      "metadata": {
        "id": "JhFn2i156aZz"
      }
    },
    {
      "cell_type": "markdown",
      "source": [
        "## 1. Load and Prepare the Hotel Booking Dataset\n",
        "\n",
        "**Business framing:**  \n",
        "Your hotel client wants to understand which bookings are most at risk of being canceled. But before modeling, your job is to prepare the data to ensure clean and reliable input.\n",
        "\n",
        "### Do the following:\n",
        "- Load the `hotels.csv` file\n",
        "- Remove or impute missing values\n",
        "- Encode categorical variables\n",
        "- Create your `X` (features) and `y` (target = `is_canceled`)\n",
        "- Split the data into training and test sets (70/30)\n",
        "\n",
        "### In your markdown:\n",
        "1. How many total rows and columns are in the dataset?\n",
        "2. What types of features (categorical, numerical) are included?\n",
        "3. What steps did you take to clean or prepare the data?\n"
      ],
      "metadata": {
        "id": "xuLnp9NW60ga"
      }
    },
    {
      "cell_type": "code",
      "source": [
        "# Add code here"
      ],
      "metadata": {
        "id": "9aW_4Kup75Fe"
      },
      "execution_count": null,
      "outputs": []
    },
    {
      "cell_type": "markdown",
      "source": [
        "### ✍️ Your Response:\n",
        "1.\n",
        "\n",
        "2.\n",
        "\n",
        "3."
      ],
      "metadata": {
        "id": "FIjkqBr975N5"
      }
    },
    {
      "cell_type": "markdown",
      "source": [
        "## 2. Build a Naïve Bayes Model\n",
        "\n",
        "**Business framing:**  \n",
        "Naïve Bayes is a quick, baseline model often used for early testing or simple classification problems.\n",
        "\n",
        "### Do the following:\n",
        "- Train a Naïve Bayes classifier on your training data\n",
        "- Use it to predict on your test data\n",
        "- Print a classification report and confusion matrix\n",
        "\n",
        "### In your markdown:\n",
        "1. How accurate is this model?\n",
        "2. Where might this model be useful for the hotel (e.g. real-time alerts, operational decisions)?\n"
      ],
      "metadata": {
        "id": "o7kYLDd37jb2"
      }
    },
    {
      "cell_type": "code",
      "source": [
        "# Add code here"
      ],
      "metadata": {
        "id": "qhdXaDOv790n"
      },
      "execution_count": null,
      "outputs": []
    },
    {
      "cell_type": "markdown",
      "source": [
        "### ✍️ Your Response:\n",
        "1.\n",
        "\n",
        "2."
      ],
      "metadata": {
        "id": "Tye9Jpkp7-RQ"
      }
    },
    {
      "cell_type": "markdown",
      "source": [
        "## 3. Build a Support Vector Machine (SVM) Model\n",
        "\n",
        "**Business framing:**  \n",
        "SVM can model more complex relationships and is useful when customer behavior patterns aren't linear or obvious.\n",
        "\n",
        "### Do the following:\n",
        "- Train an SVM classifier (use RBF kernel)\n",
        "- Make predictions and evaluate with classification metrics\n",
        "\n",
        "### In your markdown:\n",
        "1. How well does the model perform?\n",
        "2. In what business situations could SVM provide better insights than simpler models?\n"
      ],
      "metadata": {
        "id": "2JCON2FZ7mCh"
      }
    },
    {
      "cell_type": "code",
      "source": [
        "# Add code here"
      ],
      "metadata": {
        "id": "_NRUJ09E8Cfo"
      },
      "execution_count": null,
      "outputs": []
    },
    {
      "cell_type": "markdown",
      "source": [
        "### ✍️ Your Response:\n",
        "1.\n",
        "\n",
        "2."
      ],
      "metadata": {
        "id": "82rLQlfL8C5M"
      }
    },
    {
      "cell_type": "markdown",
      "source": [
        "## 4. Build a Neural Network Model\n",
        "\n",
        "**Business framing:**  \n",
        "Neural networks are flexible and powerful, though they are harder to explain. They may work well when subtle patterns exist in the data.\n",
        "\n",
        "### Do the following:\n",
        "- Build a neural network using `MLPClassifier`\n",
        "- Choose a simple architecture (e.g., 2 hidden layers)\n",
        "- Evaluate accuracy and performance\n",
        "\n",
        "### In your markdown:\n",
        "1. How does this model compare to the others?\n",
        "2. Would the business be comfortable using a “black box” model like this? Why or why not?\n"
      ],
      "metadata": {
        "id": "jrtjL41z7oMf"
      }
    },
    {
      "cell_type": "code",
      "source": [
        "# Add code here"
      ],
      "metadata": {
        "id": "4Td5awh38GsD"
      },
      "execution_count": null,
      "outputs": []
    },
    {
      "cell_type": "markdown",
      "source": [
        "### ✍️ Your Response:\n",
        "1.\n",
        "\n",
        "2."
      ],
      "metadata": {
        "id": "3vpFx5YK8IKM"
      }
    },
    {
      "cell_type": "markdown",
      "source": [
        "## 5. Compare All Three Models\n",
        "\n",
        "### Do the following:\n",
        "- Print and compare the accuracy of Naïve Bayes, SVM, and Neural Network models\n",
        "- Summarize which model performed best\n",
        "\n",
        "### In your markdown:\n",
        "1. Which model would you recommend for deployment, and why?\n",
        "2. Consider accuracy, training time, interpretability, and ease of use.\n"
      ],
      "metadata": {
        "id": "BhhTjrAi7qYG"
      }
    },
    {
      "cell_type": "code",
      "source": [
        "# Add code here"
      ],
      "metadata": {
        "id": "XjxJKIU18OGh"
      },
      "execution_count": null,
      "outputs": []
    },
    {
      "cell_type": "markdown",
      "source": [
        "### ✍️ Your Response:\n",
        "1.\n",
        "\n",
        "2."
      ],
      "metadata": {
        "id": "O_u8OnK-8OTh"
      }
    },
    {
      "cell_type": "markdown",
      "source": [
        "## 6. Final Business Recommendation\n",
        "\n",
        "### In your markdown:\n",
        "In 100 words or less, write a short recommendation to hotel management based on your analysis.\n",
        "\n",
        "Possible info to include:\n",
        "- Which model do you recommend implementing?\n",
        "- What business problem does it help solve?\n",
        "- Are there any risks or limitations?\n",
        "- What additional data might improve the results in the future?\n"
      ],
      "metadata": {
        "id": "hrTu2yAG7tWx"
      }
    },
    {
      "cell_type": "markdown",
      "source": [
        "### ✍️ Your Response:\n",
        "1.\n",
        "\n",
        "2."
      ],
      "metadata": {
        "id": "S7xzbER18WBS"
      }
    }
  ]
}