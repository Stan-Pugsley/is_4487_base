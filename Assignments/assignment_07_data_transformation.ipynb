{
  "cells": [
    {
      "cell_type": "markdown",
      "metadata": {
        "id": "vgGEFsf2omI3"
      },
      "source": [
        "# IS 4487 Assignment 7: Data Transformation with Airbnb Listings\n",
        "\n",
        "In this assignment, you will:\n",
        "- Load the Airbnb dataset you cleaned in Assignment 6\n",
        "- Apply data transformation techniques like scaling, binning, encoding, and feature creation\n",
        "- Make the dataset easier to use for tasks like pricing analysis, guest segmentation, or listing recommendations\n",
        "- Practice writing up your analysis clearly so a business audience — like a host, marketing manager, or city partner — could understand it\n",
        "\n",
        "## Why This Matters\n",
        "\n",
        "Airbnb analysts, hosts, and city partners rely on clean and well-structured data to make smart decisions. Whether they’re adjusting prices, identifying high-performing listings, or designing better guest experiences, they need data that’s transformed, organized, and ready for use.\n",
        "\n",
        "This assignment helps you practice that kind of real-world thinking: taking messy real data and getting it ready for action.\n",
        "\n",
        "<a href=\"https://colab.research.google.com/github/Stan-Pugsley/is_4487_base/blob/main/Assignments/assignment_07_data_transformation.ipynb\" target=\"_parent\">\n",
        "  <img src=\"https://colab.research.google.com/assets/colab-badge.svg\" alt=\"Open In Colab\"/>\n",
        "</a>\n",
        "\n"
      ]
    },
    {
      "cell_type": "markdown",
      "metadata": {
        "id": "TpUh_f5Gny85"
      },
      "source": [
        "## Dataset Description\n",
        "\n",
        "The dataset you'll be using is a **detailed Airbnb listing file**, available from [Inside Airbnb](https://insideairbnb.com/get-the-data/).\n",
        "\n",
        "Each row represents one property listing. The columns include:\n",
        "\n",
        "- **Host attributes** (e.g., host ID, host name, host response time)\n",
        "- **Listing details** (e.g., price, room type, minimum nights, availability)\n",
        "- **Location data** (e.g., neighborhood, latitude/longitude)\n",
        "- **Property characteristics** (e.g., number of bedrooms, amenities, accommodates)\n",
        "- **Calendar/booking variables** (e.g., last review date, number of reviews)\n",
        "\n",
        "The schema is consistent across cities, so you can expect similar columns regardless of the location you choose."
      ]
    },
    {
      "cell_type": "markdown",
      "metadata": {
        "id": "zqwM6oP8nzJZ"
      },
      "source": [
        "## 1. Setup and Load Your Data\n",
        "\n",
        "You'll be working with the `cleaned_airbnb_data_6.csv` file you exported from Assignment 6. (Note: If you had significant errors with assignment 6, you can use the file named \"airbnb_listings.csv\" in the DataSets folder on GitHub as a backup starting point.)\n",
        "\n",
        "📌 In Google Colab:\n",
        "- Click the folder icon on the left sidebar\n",
        "- Use the upload button to add your CSV file to the session\n",
        "- Then use the code block below to read it into your notebook\n",
        "\n",
        "Before getting started, make sure you import the libraries you'll need for this assignment:\n",
        "- `pandas`, `numpy` for data manipulation\n",
        "- `matplotlib.pyplot`, `seaborn` for visualizations\n"
      ]
    },
    {
      "cell_type": "code",
      "execution_count": null,
      "metadata": {
        "id": "wN5pSvLRmvsW"
      },
      "outputs": [],
      "source": [
        "# Add code here 🔧"
      ]
    },
    {
      "cell_type": "markdown",
      "metadata": {
        "id": "E_9LKnaqqowA"
      },
      "source": [
        "## 2. Check for Skew in a Numeric Column\n",
        "\n",
        "Business framing:  \n",
        "\n",
        "Airbnb listings can have a wide range of values for things like price, availability, or reviews. These kinds of distributions can be hard to visualize, summarize, or model.\n",
        "\n",
        "Choose one **numeric column** that appears skewed and do the following:\n",
        "- Plot a histogram\n",
        "- Apply a transformation (e.g., log or other method)\n",
        "- Plot again to compare\n",
        "\n",
        "\n",
        "### In Your Response: \n",
        "1. What column did you examine?\n",
        "2. What transformation did you try, and why?\n",
        "3. How did the transformed version help make the data more usable for analysis or stakeholder review?\n",
        "\n"
      ]
    },
    {
      "cell_type": "code",
      "execution_count": null,
      "metadata": {
        "id": "jrnGKhtWqs-O"
      },
      "outputs": [],
      "source": [
        "# Add code here 🔧"
      ]
    },
    {
      "cell_type": "markdown",
      "metadata": {
        "id": "AhlhDkPCqtlJ"
      },
      "source": [
        "### ✍️ Your Response: 🔧\n",
        "1.\n",
        "\n",
        "2.\n",
        "\n",
        "3."
      ]
    },
    {
      "cell_type": "markdown",
      "metadata": {
        "id": "suJWVn_MsG8O"
      },
      "source": [
        "## 3. Scale Two Numeric Columns\n",
        "\n",
        "Business framing:\n",
        "\n",
        "If an analyst wanted to compare listing price to number of nights required, or create a model that weighs both, those values need to be on a similar scale.\n",
        "\n",
        "Follow these steps:\n",
        "- Pick two numeric columns with different value ranges (e.g. one column may have a min of 0 and a max of 255; another column may have a min of 100 and a max of 400) \n",
        "- Use Min-Max scaling on one column (the range should be “shrinked” down to just 0-1) \n",
        "- Use Z-score Normalization (aka standardization) on the other column.\n",
        "- Add 2 new columns to the dataset. These 2 new columns should be the ones you just created. \n",
        "\n",
        "### In Your Response: \n",
        "1. What two columns did you scale, and which methods did you use?\n",
        "2. When might these scaled values be more useful than the originals?\n",
        "3. Who at Airbnb might benefit from this transformation and why?"
      ]
    },
    {
      "cell_type": "code",
      "execution_count": null,
      "metadata": {
        "id": "bw813GgcsGZU"
      },
      "outputs": [],
      "source": [
        "from sklearn.preprocessing import MinMaxScaler, StandardScaler\n",
        "\n",
        "# Min-Max scale\n",
        "\n",
        "\n",
        "# Z-score scale\n",
        "\n"
      ]
    },
    {
      "cell_type": "markdown",
      "metadata": {
        "id": "TLcNZiFTshxf"
      },
      "source": [
        "### ✍️ Your Response: 🔧\n",
        "1.\n",
        "\n",
        "2.\n",
        "\n",
        "3."
      ]
    },
    {
      "cell_type": "markdown",
      "metadata": {
        "id": "pmE4YNuXswVv"
      },
      "source": [
        "## 4. Group a Numeric Column into Categories\n",
        "\n",
        "Business framing:  \n",
        "\n",
        "Let’s say an Airbnb marketing team wants to segment listings by review activity. They don’t want exact numbers — they just want to know if a listing has “low,” “medium,” or “high” review volume.\n",
        "\n",
        "Follow these steps:\n",
        "\n",
        "- Choose a numeric column that could be grouped (e.g., reviews, availability).\n",
        "- You’ll want to group the values of this column into 3 or 4 bins\n",
        "- Create a new column. The values of this column will be the labels: “Low”, “Medium”, and “High.” These labels should correspond to your bins. \n",
        "\n",
        "### In Your Response: \n",
        "1. What column did you group, and how many categories did you use?\n",
        "2. Why might someone prefer this grouped view over raw numbers?\n",
        "3. Who would this help at Airbnb, and how?\n"
      ]
    },
    {
      "cell_type": "code",
      "execution_count": null,
      "metadata": {
        "id": "VvuEmQS0s4mN"
      },
      "outputs": [],
      "source": [
        "# Add code here 🔧"
      ]
    },
    {
      "cell_type": "markdown",
      "metadata": {
        "id": "I_QWkf3vs6Td"
      },
      "source": [
        "### ✍️ Your Response: 🔧\n",
        "1.\n",
        "\n",
        "2.\n",
        "\n",
        "3."
      ]
    },
    {
      "cell_type": "markdown",
      "metadata": {
        "id": "9uvs7gFmvE1C"
      },
      "source": [
        "## 5. Create Two New Business-Relevant Variables\n",
        "\n",
        "Business framing:  \n",
        "\n",
        "Stakeholders often want to know things like: What’s the cost per night? Are listings geared toward long-term stays? These kinds of features aren’t always in the dataset — analysts create them.\n",
        "\n",
        "Follow these steps:\n",
        "\n",
        "- Think of two new columns you can create using the data you already have.\n",
        "  - One might be a ratio or interaction between columns (e.g., price ÷ nights).\n",
        "  - The other might be a flag based on a condition (e.g., stays longer than 30 days).\n",
        "- Add the new columns to your DataFrame.\n",
        "\n",
        "### In Your Response: \n",
        "1. What two new columns did you create?\n",
        "2. Who would use them (e.g., host, manager, or platform)?\n",
        "3. How could they help someone make a better decision?"
      ]
    },
    {
      "cell_type": "code",
      "execution_count": null,
      "metadata": {
        "id": "njqZvPNtvh7K"
      },
      "outputs": [],
      "source": [
        "# Add code here 🔧"
      ]
    },
    {
      "cell_type": "markdown",
      "metadata": {
        "id": "-BUYMsxYviaQ"
      },
      "source": [
        "### ✍️ Your Response: 🔧 🔧\n",
        "1.\n",
        "\n",
        "2.\n",
        "\n",
        "3.\n",
        "\n"
      ]
    },
    {
      "cell_type": "markdown",
      "metadata": {
        "id": "zM-IqX-Qvvpn"
      },
      "source": [
        "## 6. Encode a Categorical Column\n",
        "\n",
        "Business framing:  \n",
        "\n",
        "Let’s say you’re helping the Airbnb data science team build a model to predict booking rates. Categorical columns like `room_type`, `neighbourhood`, or `cancellation_policy` can’t be used in models unless they’re converted to numbers.\n",
        "\n",
        "- Choose one categorical column from your dataset (e.g., room type or neighborhood group)\n",
        "- Decide on an encoding method:\n",
        "  - Use one-hot encoding for nominal (unordered) categories\n",
        "  - Use ordinal encoding (a ranking) only if the categories have a clear order\n",
        "- Apply the encoding using `pandas` or another tool\n",
        "- Add the new encoded column(s) to your DataFrame\n",
        "\n",
        "### ✍️ In your markdown:\n",
        "1. What column did you encode and why?\n",
        "2. What encoding method did you use?\n",
        "3. How could this transformation help a pricing model, dashboard, or business report?\n",
        "\n"
      ]
    },
    {
      "cell_type": "code",
      "execution_count": null,
      "metadata": {
        "id": "h4sCLvAIv-Xj"
      },
      "outputs": [],
      "source": [
        "# Add code here 🔧"
      ]
    },
    {
      "cell_type": "markdown",
      "metadata": {
        "id": "Vpv-zfdOv_gE"
      },
      "source": [
        "### ✍️ Your Response: 🔧\n",
        "1.\n",
        "2.\n",
        "3."
      ]
    },
    {
      "cell_type": "markdown",
      "metadata": {},
      "source": [
        "## 7. Export Cleaned Data\n",
        "\n",
        "Before wrapping up, export your cleaned Airbnb dataset to a CSV file. You'll need this file for **Assignment 11**, where you'll use the data in a regression model.\n",
        "\n",
        "Make sure your data has:\n",
        "- Cleaned and consistent column values\n",
        "- Proper data types for each column\n",
        "- Any unnecessary columns removed\n",
        "\n",
        "This file should be the version of your dataset that you’d feel confident sharing with a teammate or using for deeper analysis.\n",
        "\n",
        "\n",
        "\n",
        "```\n",
        "# Explanation:\n",
        "# - \"cleaned_airbnb_data_7.csv\" is the name of the file that will be saved\n",
        "# - index=False prevents pandas from writing row numbers into the CSV\n",
        "# - The file will be saved to your working directory (in Colab, you'll need to download it manually. Once you see the data in your files tab, just click on the three dots, then click “download”) \n",
        "# - YOU MAY NEED TO PRESS “RUN” MULTIPLE TIMES IN ORDER FOR IT TO SHOW UP \n",
        "# - FOR SOME DEVICES, IT MAY TAKE A FEW MINUTES BEFORE YOUR FILE SHOWS UP \n",
        "\n",
        "```"
      ]
    },
    {
      "cell_type": "code",
      "execution_count": null,
      "metadata": {},
      "outputs": [],
      "source": [
        "# export csv here 🔧"
      ]
    },
    {
      "cell_type": "markdown",
      "metadata": {
        "id": "wPm5yuDPwMSA"
      },
      "source": [
        "## 8. Reflection\n",
        "\n",
        "You’ve applied the same kinds of transformation techniques used in real Airbnb analytics projects — from pricing engines to host tools to tourism dashboards.\n",
        "\n",
        "Now step back and reflect.\n",
        "\n",
        "### In Your Response: \n",
        "1. What transformation step felt most important or interesting?\n",
        "2. Which of your changes would be most useful to a host, analyst, or city planner?\n",
        "3. If you were going to build a tool or dashboard, what would you do next with this data?\n",
        "4. How does this relate to your customized learning outcome you created in canvas?\n",
        "\n"
      ]
    },
    {
      "cell_type": "markdown",
      "metadata": {
        "id": "3OnJiBFcwTBn"
      },
      "source": [
        "### ✍️ Your Response: 🔧\n",
        "\n",
        "1.\n",
        "\n",
        "2.\n",
        "\n",
        "3.\n",
        "4.\n",
        "\n"
      ]
    },
    {
      "cell_type": "markdown",
      "metadata": {},
      "source": [
        "## Submission Instructions\n",
        "✅ Checklist:\n",
        "- All code cells run without error\n",
        "- All markdown responses are complete\n",
        "- Submit on Canvas as instructed"
      ]
    },
    {
      "cell_type": "code",
      "execution_count": null,
      "metadata": {},
      "outputs": [],
      "source": [
        "!jupyter nbconvert --to html \"assignment_07_LastnameFirstname.ipynb\""
      ]
    }
  ],
  "metadata": {
    "colab": {
      "provenance": []
    },
    "kernelspec": {
      "display_name": "Python 3",
      "name": "python3"
    },
    "language_info": {
      "name": "python"
    }
  },
  "nbformat": 4,
  "nbformat_minor": 0
}
