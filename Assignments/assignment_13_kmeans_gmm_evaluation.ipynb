{
  "cells": [
    {
      "cell_type": "markdown",
      "metadata": {
        "id": "yAhioaHYVOXE"
      },
      "source": [
        "# IS 4487 Assignment 13: Customer Segmentation with K-Means and GMM\n",
        "\n",
        "In this assignment, you will:\n",
        "- Segment customers using real bank data (credit, behavior, and usage)\n",
        "- Apply K-Means and Gaussian Mixture Model (GMM) clustering\n",
        "- Evaluate clusters using silhouette and Davies-Bouldin scores\n",
        "- Recommend strategies for retention, loyalty, or upselling\n",
        "\n",
        "## Why This Matters\n",
        "\n",
        "Banks and financial institutions serve thousands of customers with varying behaviors and risk profiles. Clustering allows analysts to group similar customers for tailored marketing, credit offerings, and service strategies. This hands-on assignment prepares you to identify patterns in customer usage and translate them into actionable business insights.\n",
        "\n",
        "<a href=\"https://colab.research.google.com/github/leemr0903/IS4487-Datasets/blob/main/assignment_13_kmeans_gmm_evaluation.ipynb\" target=\"_parent\">\n",
        "  <img src=\"https://colab.research.google.com/assets/colab-badge.svg\" alt=\"Open In Colab\"/>\n",
        "</a>\n"
      ]
    },
    {
      "cell_type": "markdown",
      "metadata": {
        "id": "lBnu-6xTWgL9"
      },
      "source": [
        "## Dataset Description: Bank Credit Card Customer Data\n",
        "\n",
        "From: [Kaggle - Credit Card Customers Dataset](https://www.kaggle.com/datasets/sakshigoyal7/credit-card-customers)  \n",
        "Access File From Class GitHub:  \n",
        "📂 https://github.com/leemr0903/IS4487-Datasets/blob/main/BankChurners.csv\n",
        "\n",
        "---\n",
        "\n",
        "This dataset contains information on over **10,000 credit card customers**, including demographics, account activity, and spending behavior. It was originally used for churn prediction, but in this assignment, you’ll cluster customers **without labels** to uncover natural segments.\n",
        "\n",
        "### Key Numeric Columns:\n",
        "- `Customer_Age`: Age of the account holder\n",
        "- `Credit_Limit`: Customer’s assigned credit limit\n",
        "- `Total_Trans_Amt`: Total transaction amount in the past year\n",
        "- `Total_Trans_Ct`: Total number of transactions in the past year\n",
        "- `Avg_Utilization_Ratio`: Utilization of credit (0 to 1)\n",
        "- `Avg_Open_To_Buy`: Available amount on the credit line\n",
        "- `Total_Amt_Chng_Q4_Q1`: % change in transaction amount Q4 vs. Q1\n",
        "\n",
        "---\n",
        "\n",
        "| Column Name               | Type     | Description |\n",
        "|---------------------------|----------|-------------|\n",
        "| `CLIENTNUM`               | int64    | Unique customer ID *(drop this column)* |\n",
        "| `Attrition_Flag`          | object   | Whether the customer churned *(not used in clustering)* |\n",
        "| `Customer_Age`            | int64    | Age of the customer |\n",
        "| `Gender`                  | object   | M or F |\n",
        "| `Dependent_count`         | int64    | Number of dependents |\n",
        "| `Education_Level`         | object   | Education category |\n",
        "| `Marital_Status`          | object   | Marital status |\n",
        "| `Income_Category`         | object   | Income bracket |\n",
        "| `Card_Category`           | object   | Card type (e.g., Blue, Gold) |\n",
        "| `Months_on_book`          | int64    | How long they've had the account |\n",
        "| `Total_Relationship_Count`| int64    | Number of products used |\n",
        "| `Months_Inactive_12_mon`  | int64    | Months inactive in last year |\n",
        "| `Contacts_Count_12_mon`   | int64    | Customer service interactions |\n",
        "| `Credit_Limit`            | float64  | Assigned credit limit |\n",
        "| `Total_Revolving_Bal`     | int64    | Balance that rolls over month to month |\n",
        "| `Avg_Open_To_Buy`         | float64  | Available credit left to spend |\n",
        "| `Total_Amt_Chng_Q4_Q1`    | float64  | Change in transaction volume (Q4 vs Q1) |\n",
        "| `Total_Trans_Amt`         | int64    | Total amount spent |\n",
        "| `Total_Trans_Ct`          | int64    | Number of transactions |\n",
        "| `Total_Ct_Chng_Q4_Q1`     | float64  | Change in transaction count |\n",
        "| `Avg_Utilization_Ratio`   | float64  | Credit usage rate |\n",
        "| `Naive_Bayes_..._1`       | float64  | Auto-generated churn score *(drop this)* |\n",
        "| `Naive_Bayes_..._2`       | float64  | Auto-generated churn score *(drop this)* |\n",
        "\n",
        "You’ll focus your clustering on **numeric features** related to spending, credit usage, and engagement. Drop any ID or model output columns before starting.\n",
        "\n",
        "---\n"
      ]
    },
    {
      "cell_type": "markdown",
      "metadata": {
        "id": "6ohvPLylXJfU"
      },
      "source": [
        "## 1. Load and Explore the Data\n",
        "\n",
        "Business framing:  \n",
        "Always start by understanding your data. Let’s load the dataset and take a quick look at the structure and variables.\n",
        "\n",
        "Follow these steps:\n",
        "- Load the dataset directly from GitHub\n",
        "  - url = \"https://raw.githubusercontent.com/Stan-Pugsley/is_4487_base/main/DataSets/BankChurners.csv\"\n",
        "- Display `.info()`, `.describe()`, and `.head()`\n",
        "\n",
        "### In your markdown:\n",
        "1. What types of features are included? (numeric, categorical)\n",
        "2. What might you be able to learn by clustering these customers?\n"
      ]
    },
    {
      "cell_type": "code",
      "execution_count": null,
      "metadata": {
        "id": "GDO3e48IXJAl"
      },
      "outputs": [],
      "source": [
        "# Add code here 🔧"
      ]
    },
    {
      "cell_type": "markdown",
      "metadata": {
        "id": "waqsm8x0Xg7u"
      },
      "source": [
        "### ✍️ Your Response: 🔧\n",
        "1.\n",
        "\n",
        "2."
      ]
    },
    {
      "cell_type": "markdown",
      "metadata": {
        "id": "oaeOT7_rXfD3"
      },
      "source": [
        "## 2. Drop Unnecessary Columns and Choose Features\n",
        "\n",
        "Business framing:  \n",
        "Not every column adds value. Drop ID columns and model outputs that don’t help with unsupervised clustering.\n",
        "\n",
        "Tasks:\n",
        "- Drop: `CLIENTNUM`, and all columns starting with `Naive_Bayes_`\n",
        "- Choose at least 5–7 numeric features that describe usage or spending behavior\n",
        "\n",
        "### In your markdown:\n",
        "1. Which features did you choose and why?\n"
      ]
    },
    {
      "cell_type": "code",
      "execution_count": null,
      "metadata": {
        "id": "fB6y5Q8CVN1Y"
      },
      "outputs": [],
      "source": [
        "# Add code here 🔧"
      ]
    },
    {
      "cell_type": "markdown",
      "metadata": {
        "id": "safysOUMX1Q0"
      },
      "source": [
        "### ✍️ Your Response: 🔧\n",
        "1.\n"
      ]
    },
    {
      "cell_type": "markdown",
      "metadata": {
        "id": "DuUaeV2yX4vc"
      },
      "source": [
        "## 3. Scale Your Features\n",
        "\n",
        "Business framing:\n",
        "\n",
        "Clustering depends on distance, so you need to scale features to ensure fairness across different units (dollars vs. percentages).\n",
        "\n",
        "Tasks:\n",
        "- Use `StandardScaler` to standardize your selected features\n",
        "\n",
        "\n"
      ]
    },
    {
      "cell_type": "code",
      "execution_count": null,
      "metadata": {
        "id": "ZZLMa3Q-Us3Q"
      },
      "outputs": [],
      "source": [
        "# Add code here 🔧"
      ]
    },
    {
      "cell_type": "markdown",
      "metadata": {
        "id": "Fi2vrpGqYJ6w"
      },
      "source": [
        "## 4. Determine the Optimal Number of Clusters (k)\n",
        "\n",
        "Business framing:  \n",
        "We don’t want to guess how many clusters there are — the elbow method helps identify where adding more clusters stops improving performance.\n",
        "\n",
        "Tasks:\n",
        "- Use the **Elbow Method** to find the best `k` between 2–10\n",
        "- Plot inertia (SSE) vs. k\n",
        "\n",
        "### In your markdown:\n",
        "1. What value of `k` did you choose and why?\n"
      ]
    },
    {
      "cell_type": "code",
      "execution_count": null,
      "metadata": {
        "id": "dD_CWkVzYJaO"
      },
      "outputs": [],
      "source": [
        "# Add code here 🔧"
      ]
    },
    {
      "cell_type": "markdown",
      "metadata": {
        "id": "GgyDk3KSYQYN"
      },
      "source": [
        "### ✍️ Your Response: 🔧\n",
        "1.\n"
      ]
    },
    {
      "cell_type": "markdown",
      "metadata": {
        "id": "F-iOzm_JYS3j"
      },
      "source": [
        "## 5. Apply K-Means Clustering\n",
        "\n",
        "Business framing:  \n",
        "K-Means helps us assign each customer to the closest cluster center. Then we can analyze the common behaviors in each group.\n",
        "\n",
        "Tasks:\n",
        "- Fit a KMeans model with your selected `k`\n",
        "- Assign cluster labels to the dataframe\n",
        "- Evaluate with **Silhouette Score** and **Davies-Bouldin Index**\n",
        "\n",
        "### In your markdown:\n",
        "1. How well did the clusters perform?\n",
        "2. What are the average behaviors for each group?\n"
      ]
    },
    {
      "cell_type": "code",
      "execution_count": null,
      "metadata": {
        "id": "E8Lm09MGYSas"
      },
      "outputs": [],
      "source": [
        "# Add code here 🔧"
      ]
    },
    {
      "cell_type": "markdown",
      "metadata": {
        "id": "zN7FPHEzYdL8"
      },
      "source": [
        "### ✍️ Your Response: 🔧\n",
        "1.\n",
        "\n",
        "2."
      ]
    },
    {
      "cell_type": "markdown",
      "metadata": {
        "id": "y6hWLVmOYhhI"
      },
      "source": [
        "## 6. Apply Gaussian Mixture Model (GMM)\n",
        "\n",
        "Business framing:  \n",
        "GMM allows for softer boundaries — a customer can partially belong to multiple clusters. This makes it more flexible than K-Means.\n",
        "\n",
        "Tasks:\n",
        "- Fit a `GaussianMixture` model with the same `k`\n",
        "- Assign GMM cluster labels to the dataframe\n",
        "- Evaluate GMM using silhouette and Davies-Bouldin scores\n",
        "\n",
        "### In your markdown:\n",
        "1. How does GMM compare to K-Means?\n",
        "2. Which method produced more useful clusters?\n"
      ]
    },
    {
      "cell_type": "code",
      "execution_count": null,
      "metadata": {
        "id": "7J-JL35vYngZ"
      },
      "outputs": [],
      "source": [
        "# Add code here 🔧"
      ]
    },
    {
      "cell_type": "markdown",
      "metadata": {
        "id": "uo-DEILTYqqQ"
      },
      "source": [
        "### ✍️ Your Response: 🔧\n",
        "1.\n",
        "\n",
        "2."
      ]
    },
    {
      "cell_type": "markdown",
      "metadata": {
        "id": "ygR2XIC8YuSj"
      },
      "source": [
        "## Final Reflection: Turning Clusters into Strategy\n",
        "\n",
        "Clustering is only useful if it leads to better decisions. Now that you've grouped customers based on their credit behavior and engagement, your job is to translate those segments into insights that a marketing or product team could act on.\n",
        "\n",
        "Reflect on what your clustering revealed:\n",
        "- What patterns or behaviors stand out in each group?\n",
        "- Which groups show signs of disengagement or risk?\n",
        "- Who are your most valuable or loyal customers?\n",
        "\n",
        "In your markdown, answer the following:\n",
        "1. Briefly describe the behavioral traits of each cluster in plain language  \n",
        "   (e.g., “High Spenders with Low Credit Utilization” or “Low Activity, High Limit”)\n",
        "2. Assign each cluster a **persona label** (e.g., “Loyal High Rollers”, “At-Risk Minimalists”)\n",
        "3. Recommend at least one **business action** per group  \n",
        "   (e.g., retention offers, increased credit line, outreach campaigns, etc.\n",
        ")\n",
        "4. How does this relate to your customized learning outcome you created in canvas?  \n"
      ]
    },
    {
      "cell_type": "markdown",
      "metadata": {
        "id": "LAKLwQ_0ZFog"
      },
      "source": [
        "### ✍️ Your Response: 🔧\n",
        "1.\n",
        "\n",
        "2.\n",
        "\n",
        "3.\n",
        "4."
      ]
    },
    {
      "cell_type": "markdown",
      "metadata": {},
      "source": [
        "## Submission Instructions\n",
        "✅ Checklist:\n",
        "- All code cells run without error\n",
        "- All markdown responses are complete\n",
        "- Submit on Canvas as instructed"
      ]
    },
    {
      "cell_type": "code",
      "execution_count": null,
      "metadata": {},
      "outputs": [],
      "source": [
        "!jupyter nbconvert --to html \"assignment_13_LastnameFirstname.ipynb\""
      ]
    }
  ],
  "metadata": {
    "colab": {
      "provenance": []
    },
    "kernelspec": {
      "display_name": "Python 3",
      "name": "python3"
    },
    "language_info": {
      "name": "python"
    }
  },
  "nbformat": 4,
  "nbformat_minor": 0
}
