{
  "cells": [
    {
      "cell_type": "markdown",
      "id": "KStEt_5pa5Sd",
      "metadata": {
        "id": "KStEt_5pa5Sd"
      },
      "source": [
        "# IS 4487 Assignment 18: Exploring APIs with yfinance\n",
        "\n",
        "In this assignment, you will:\n",
        "- Choose an industry you're interested in (such as tech, airlines, or retail)\n",
        "- Use the `yfinance` Python package as an API to collect historical stock price data\n",
        "- Clean and prepare the data for analysis\n",
        "- Explore trends, volatility, and relationships between companies\n",
        "- Summarize your findings and recommendation in a business memo\n",
        "\n",
        "## Why This Matters\n",
        "\n",
        "APIs (Application Programming Interfaces) allow businesses to pull live, real-world data from external sources directly into their analytics tools. Financial analysts, investment firms, and business leaders use APIs like `yfinance` to monitor company performance, assess market trends, and build models based on dynamic data.\n",
        "\n",
        "This assignment helps you gain hands-on experience with one of the most common API workflows in business analytics: fetching, cleaning, analyzing, and interpreting financial data to support better decision-making.\n",
        "\n",
        "<a href=\"https://colab.research.google.com/github/your-org-or-user/your-repo/blob/main/assignment_18_yfinance_api.ipynb\" target=\"_parent\">\n",
        "  <img src=\"https://colab.research.google.com/assets/colab-badge.svg\" alt=\"Open in Colab\"/>\n",
        "</a>\n"
      ]
    },
    {
      "cell_type": "markdown",
      "id": "TZfSh-I6bg0q",
      "metadata": {
        "id": "TZfSh-I6bg0q"
      },
      "source": [
        "## Step 1: Choose an Industry and Find Company Ticker Symbols\n",
        "\n",
        "Visit the following website to explore U.S. stock sectors and industries:  \n",
        "https://www.tradingview.com/markets/stocks-usa/sector/\n",
        "\n",
        "Choose one industry you are interested in (for example: Airlines, Technology, Fast Food, Retail, Energy, etc.).  \n",
        "Write the names and ticker symbols of 4 public companies in that industry.\n",
        "\n",
        "📝 Example:  \n",
        "Industry: Technology  \n",
        "Tickers: AAPL, MSFT, GOOGL, AMZN\n"
      ]
    },
    {
      "cell_type": "code",
      "execution_count": null,
      "id": "mC0lLGjxbnuQ",
      "metadata": {
        "id": "mC0lLGjxbnuQ"
      },
      "outputs": [],
      "source": [
        "# Replace this list with your selected tickers\n",
        "tickers = ['', '', '', '']"
      ]
    },
    {
      "cell_type": "markdown",
      "id": "WIUjEKArboD4",
      "metadata": {
        "id": "WIUjEKArboD4"
      },
      "source": [
        "## Step 2: Use yfinance to Collect Historical Stock Data\n",
        "\n",
        "Follow the steps below to use the `yfinance` API to collect historical stock price data.\n",
        "\n",
        "### Instructions\n",
        "\n",
        "1. Make sure the `yfinance` package is installed by running the code cell below.\n",
        "2. Import the necessary Python libraries.\n",
        "3. Use the `yf.download()` function to pull **5 years of daily adjusted close prices** for the companies you selected in Step 1.\n",
        "    - Choose a start date and an end date that span the past 5 years (e.g., `\"2019-01-01\"` to `\"2024-12-31\"`).\n",
        "    - Only select the **'Adj Close'** column.\n",
        "4. Preview the first few rows of the dataset using `.head()` to confirm that the data has loaded correctly.\n",
        "\n"
      ]
    },
    {
      "cell_type": "code",
      "execution_count": null,
      "id": "PNQIkXZKb1Yj",
      "metadata": {
        "id": "PNQIkXZKb1Yj"
      },
      "outputs": [],
      "source": [
        "!pip install yfinance\n",
        "\n",
        "import yfinance as yf\n",
        "import pandas as pd\n",
        "\n",
        "# Download adjusted close prices\n",
        "data = yf.download(tickers, start=\"yyyy-mm-dd\", end=\"yyyy-mm-dd\")['Adj Close']\n",
        "\n",
        "# Preview the first few rows"
      ]
    },
    {
      "cell_type": "markdown",
      "id": "w0ILjgTJckbx",
      "metadata": {
        "id": "w0ILjgTJckbx"
      },
      "source": [
        "## Step 3: Clean the Data\n",
        "\n",
        "The data you pulled may contain missing values. Follow these steps:\n",
        "\n",
        "1. Check the dataset for missing values using `.isnull().sum()`.\n",
        "2. Fill any missing values using a forward fill method.\n",
        "3. Recheck for missing values to confirm they have been handled.\n",
        "\n"
      ]
    },
    {
      "cell_type": "code",
      "execution_count": null,
      "id": "-gOSVHmacnTB",
      "metadata": {
        "id": "-gOSVHmacnTB"
      },
      "outputs": [],
      "source": [
        "# add code here"
      ]
    },
    {
      "cell_type": "markdown",
      "id": "gR2i4IcQc5Yb",
      "metadata": {
        "id": "gR2i4IcQc5Yb"
      },
      "source": [
        "## Step 4: Calculate Daily Returns\n",
        "\n",
        "To better understand price movement, calculate the daily percentage change for each stock.\n",
        "\n",
        "1. Use the `.pct_change()` method to calculate daily returns.\n",
        "2. Drop any rows with missing values that may result from this calculation.\n",
        "3. Preview the returns DataFrame to confirm it's correct.\n"
      ]
    },
    {
      "cell_type": "code",
      "execution_count": null,
      "id": "6qOFSKx-c7H0",
      "metadata": {
        "id": "6qOFSKx-c7H0"
      },
      "outputs": [],
      "source": [
        "# add code here"
      ]
    },
    {
      "cell_type": "markdown",
      "id": "opUPxJIXc-xW",
      "metadata": {
        "id": "opUPxJIXc-xW"
      },
      "source": [
        "## Step 5: Explore the Data Visually and Statistically\n",
        "\n",
        "In this step, you will create visualizations and metrics to help understand stock behavior. Don’t interpret or explain anything here — just create the outputs so you can use them in your reflection later.\n",
        "\n",
        "1. Create a line chart showing stock prices over the 5-year period.\n",
        "2. Calculate the standard deviation of daily returns for each stock (volatility).\n",
        "3. Create a correlation matrix of the daily returns between companies.\n",
        "\n",
        "\n"
      ]
    },
    {
      "cell_type": "code",
      "execution_count": null,
      "id": "9QVjboF9dY13",
      "metadata": {
        "id": "9QVjboF9dY13"
      },
      "outputs": [],
      "source": [
        "# add code here"
      ]
    },
    {
      "cell_type": "markdown",
      "id": "GhN2YBwFehAa",
      "metadata": {
        "id": "GhN2YBwFehAa"
      },
      "source": [
        "## Step 6: Write a Stakeholder Recommendation Memo\n",
        "\n",
        "Now that you’ve completed your analysis, it’s time to turn your work into a clear, professional memo for a business audience.\n",
        "\n",
        "### Scenario\n",
        "\n",
        "You’ve been asked by a stakeholder (an investor, executive, or client) to evaluate whether it's a good time to invest in a particular industry. They’ve asked you to use recent stock performance data from several leading companies in that industry to help guide their decision.\n",
        "\n",
        "### Your Task\n",
        "\n",
        "Use the results from your code in Steps 2–5 to write a **multi-paragraph business memo** that:\n",
        "\n",
        "1. **Introduces the industry you analyzed** and names the companies you included.\n",
        "2. **Summarizes major trends** you observed in the stock prices over the last 5 years.\n",
        "3. **Discusses key metrics**, such as volatility and correlations between companies.\n",
        "4. **Presents your investment recommendation** — based on your evidence — and explains why you would or wouldn’t advise investing in this industry now.\n",
        "5. **Suggests future analytics or data sources** that could strengthen or update your recommendation going forward.\n",
        "\n",
        "This final section should show that you understand how real-world decisions evolve. Think about:\n",
        "- What **additional data** might help (e.g., earnings reports, economic indicators, sentiment analysis)?\n",
        "- What **types of models** could be applied (e.g., forecasting, classification, risk modeling)?\n",
        "- How often should the analysis be updated?\n",
        "\n",
        "### Format & Expectations\n",
        "\n",
        "- Write **2–4 paragraphs** in business memo format (not bullet points).\n",
        "- Use **specific, data-driven evidence** from your own analysis.\n",
        "- Keep your writing professional and clear — imagine your reader is a client or executive, not a data analyst.\n",
        "- Your memo should be written **entirely in your own words**. Do not copy from examples, online sources, or AI tools. Your writing should reflect your understanding and your interpretation of the results.\n",
        "- You do not need to include charts in the memo — the code cells above already display them.\n",
        "\n"
      ]
    },
    {
      "cell_type": "markdown",
      "id": "pHdAMOg8e5ON",
      "metadata": {
        "id": "pHdAMOg8e5ON"
      },
      "source": [
        "### Add memo here:"
      ]
    },
    {
      "cell_type": "markdown",
      "id": "19e5b933",
      "metadata": {},
      "source": [
        "## Submission Instructions\n",
        "✅ Checklist:\n",
        "- All code cells run without error\n",
        "- All markdown responses are complete\n",
        "- Submit on Canvas as instructed"
      ]
    },
    {
      "cell_type": "code",
      "execution_count": null,
      "id": "f6c9c6ec",
      "metadata": {},
      "outputs": [],
      "source": [
        "!jupyter nbconvert --to html \"assignment_14_LastnameFirstname.ipynb\""
      ]
    }
  ],
  "metadata": {
    "colab": {
      "provenance": []
    },
    "kernelspec": {
      "display_name": "Python 3",
      "name": "python3"
    },
    "language_info": {
      "name": "python"
    }
  },
  "nbformat": 4,
  "nbformat_minor": 5
}
