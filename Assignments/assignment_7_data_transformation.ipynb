{
  "nbformat": 4,
  "nbformat_minor": 0,
  "metadata": {
    "colab": {
      "provenance": []
    },
    "kernelspec": {
      "name": "python3",
      "display_name": "Python 3"
    },
    "language_info": {
      "name": "python"
    }
  },
  "cells": [
    {
      "cell_type": "markdown",
      "source": [
        "# IS 4487 Assignment 7: Data Transformation with Airbnb Listings\n",
        "\n",
        "In this assignment, you will:\n",
        "- Load the Airbnb dataset you cleaned in Assignment 6\n",
        "- Apply data transformation techniques like scaling, binning, encoding, and feature creation\n",
        "- Make the dataset easier to use for tasks like pricing analysis, guest segmentation, or listing recommendations\n",
        "- Practice writing up your analysis clearly so a business audience — like a host, marketing manager, or city partner — could understand it\n",
        "\n",
        "## Why This Matters\n",
        "\n",
        "Airbnb analysts, hosts, and city partners rely on clean and well-structured data to make smart decisions. Whether they’re adjusting prices, identifying high-performing listings, or designing better guest experiences, they need data that’s transformed, organized, and ready for use.\n",
        "\n",
        "This assignment helps you practice that kind of real-world thinking: taking messy real data and getting it ready for action.\n",
        "\n",
        "<a href=\"https://colab.research.google.com/github/Stan-Pugsley/is_4487_base/blob/main/Assignments/assignment_7_data_transformation.ipynb\" target=\"_parent\">\n",
        "  <img src=\"https://colab.research.google.com/assets/colab-badge.svg\" alt=\"Open In Colab\"/>\n",
        "</a>\n",
        "\n"
      ],
      "metadata": {
        "id": "vgGEFsf2omI3"
      }
    },
    {
      "cell_type": "markdown",
      "source": [
        "## Dataset Description\n",
        "\n",
        "The dataset you'll be using is a **detailed Airbnb listing file**, available from [Inside Airbnb](https://insideairbnb.com/get-the-data/).\n",
        "\n",
        "Each row represents one property listing. The columns include:\n",
        "\n",
        "- **Host attributes** (e.g., host ID, host name, host response time)\n",
        "- **Listing details** (e.g., price, room type, minimum nights, availability)\n",
        "- **Location data** (e.g., neighborhood, latitude/longitude)\n",
        "- **Property characteristics** (e.g., number of bedrooms, amenities, accommodates)\n",
        "- **Calendar/booking variables** (e.g., last review date, number of reviews)\n",
        "\n",
        "The schema is consistent across cities, so you can expect similar columns regardless of the location you choose."
      ],
      "metadata": {
        "id": "TpUh_f5Gny85"
      }
    },
    {
      "cell_type": "markdown",
      "source": [
        "## 1. Setup and Load Your Data\n",
        "\n",
        "You'll be working with the `cleaned_airbnb_data.csv` file you exported from Assignment 6.\n",
        "\n",
        "📌 In Google Colab:\n",
        "- Click the folder icon on the left sidebar\n",
        "- Use the upload button to add your CSV file to the session\n",
        "- Then use the code block below to read it into your notebook\n",
        "\n",
        "Before getting started, make sure you import the libraries you'll need for this assignment:\n",
        "- `pandas`, `numpy` for data manipulation\n",
        "- `matplotlib.pyplot`, `seaborn` for visualizations\n"
      ],
      "metadata": {
        "id": "zqwM6oP8nzJZ"
      }
    },
    {
      "cell_type": "code",
      "execution_count": null,
      "metadata": {
        "id": "wN5pSvLRmvsW"
      },
      "outputs": [],
      "source": [
        "# add code here"
      ]
    },
    {
      "cell_type": "markdown",
      "source": [
        "## 2. Check for Skew in a Numeric Column\n",
        "\n",
        "Business framing:  \n",
        "\n",
        "Airbnb listings can have a wide range of values for things like price, availability, or reviews. These kinds of distributions can be hard to visualize, summarize, or model.\n",
        "\n",
        "Choose one **numeric column** that appears skewed and do the following:\n",
        "- Plot a histogram\n",
        "- Apply a transformation (e.g., log or other method)\n",
        "- Plot again to compare\n",
        "\n",
        "\n",
        "### In your markdown:\n",
        "1. What column did you examine?\n",
        "2. What transformation did you try, and why?\n",
        "3. How did the transformed version help make the data more usable for analysis or stakeholder review?\n",
        "\n"
      ],
      "metadata": {
        "id": "E_9LKnaqqowA"
      }
    },
    {
      "cell_type": "code",
      "source": [
        "# add code here"
      ],
      "metadata": {
        "id": "jrnGKhtWqs-O"
      },
      "execution_count": null,
      "outputs": []
    },
    {
      "cell_type": "markdown",
      "source": [
        "### ✍️ Your Response:\n",
        "1.\n",
        "\n",
        "2.\n",
        "\n",
        "3."
      ],
      "metadata": {
        "id": "AhlhDkPCqtlJ"
      }
    },
    {
      "cell_type": "markdown",
      "source": [
        "## 3. Scale Two Numeric Columns\n",
        "\n",
        "Business framing:  \n",
        "\n",
        "If an analyst wanted to compare listing price to number of nights required, or create a model that weighs both, those values need to be on a similar scale.\n",
        "\n",
        "Follow these steps:\n",
        "\n",
        "- Pick two numeric columns with different value ranges.\n",
        "- Use Min-Max scaling on one column.\n",
        "- Use Z-score (standardization) on the other.\n",
        "- Create new columns for each scaled version.\n",
        "\n",
        "\n",
        "\n",
        "### In your markdown:\n",
        "1. What two columns did you scale, and which methods did you use?\n",
        "2. When might these scaled values be more useful than the originals?\n",
        "3. Who at Airbnb might benefit from this transformation and why?"
      ],
      "metadata": {
        "id": "suJWVn_MsG8O"
      }
    },
    {
      "cell_type": "code",
      "source": [
        "from sklearn.preprocessing import MinMaxScaler, StandardScaler\n",
        "\n",
        "# Min-Max scale\n",
        "\n",
        "\n",
        "# Z-score scale\n",
        "\n"
      ],
      "metadata": {
        "id": "bw813GgcsGZU"
      },
      "execution_count": null,
      "outputs": []
    },
    {
      "cell_type": "markdown",
      "source": [
        "### ✍️ Your Response:\n",
        "1.\n",
        "\n",
        "2.\n",
        "\n",
        "3."
      ],
      "metadata": {
        "id": "TLcNZiFTshxf"
      }
    },
    {
      "cell_type": "markdown",
      "source": [
        "## 4. Group a Numeric Column into Categories\n",
        "\n",
        "Business framing:  \n",
        "\n",
        "Let’s say an Airbnb marketing team wants to segment listings by review activity. They don’t want exact numbers — they just want to know if a listing has “low,” “medium,” or “high” review volume.\n",
        "\n",
        "Follow these steps:\n",
        "\n",
        "- Choose a numeric column that could be grouped (e.g., reviews, availability).\n",
        "- Decide how many bins (groups) to create (e.g., 3 or 4).\n",
        "- Create a new column using labels like “Low,” “Medium,” and “High.”\n",
        "\n",
        "### In your markdown:\n",
        "1. What column did you group, and how many categories did you use?\n",
        "2. Why might someone prefer this grouped view over raw numbers?\n",
        "3. Who would this help at Airbnb, and how?\n"
      ],
      "metadata": {
        "id": "pmE4YNuXswVv"
      }
    },
    {
      "cell_type": "code",
      "source": [
        "# add code here"
      ],
      "metadata": {
        "id": "VvuEmQS0s4mN"
      },
      "execution_count": null,
      "outputs": []
    },
    {
      "cell_type": "markdown",
      "source": [
        "### ✍️ Your Response:\n",
        "1.\n",
        "\n",
        "2.\n",
        "\n",
        "3."
      ],
      "metadata": {
        "id": "I_QWkf3vs6Td"
      }
    },
    {
      "cell_type": "markdown",
      "source": [
        "## 5. Create Two New Business-Relevant Variables\n",
        "\n",
        "Business framing:  \n",
        "\n",
        "Stakeholders often want to know things like: What’s the cost per night? Are listings geared toward long-term stays? These kinds of features aren’t always in the dataset — analysts create them.\n",
        "\n",
        "Follow these steps:\n",
        "\n",
        "- Think of two new columns you can create using the data you already have.\n",
        "  - One might be a ratio or interaction between columns (e.g., price ÷ nights).\n",
        "  - The other might be a flag based on a condition (e.g., stays longer than 30 days).\n",
        "- Add the new columns to your DataFrame.\n",
        "\n",
        "### In your markdown:\n",
        "1. What two new columns did you create?\n",
        "2. Who would use them (e.g., host, manager, or platform)?\n",
        "3. How could they help someone make a better decision?"
      ],
      "metadata": {
        "id": "9uvs7gFmvE1C"
      }
    },
    {
      "cell_type": "code",
      "source": [
        "# add code here"
      ],
      "metadata": {
        "id": "njqZvPNtvh7K"
      },
      "execution_count": null,
      "outputs": []
    },
    {
      "cell_type": "markdown",
      "source": [
        "### ✍️ Your Response:\n",
        "1.\n",
        "\n",
        "2.\n",
        "\n",
        "3.\n",
        "\n"
      ],
      "metadata": {
        "id": "-BUYMsxYviaQ"
      }
    },
    {
      "cell_type": "markdown",
      "source": [
        "## 6. Encode a Categorical Column\n",
        "\n",
        "Business framing:  \n",
        "\n",
        "Let’s say you’re helping the Airbnb data science team build a model to predict booking rates. Categorical columns like `room_type`, `neighbourhood`, or `cancellation_policy` can’t be used in models unless they’re converted to numbers.\n",
        "\n",
        "- Choose one categorical column from your dataset (e.g., room type or neighborhood group)\n",
        "- Decide on an encoding method:\n",
        "  - Use one-hot encoding for nominal (unordered) categories\n",
        "  - Use ordinal encoding (a ranking) only if the categories have a clear order\n",
        "- Apply the encoding using `pandas` or another tool\n",
        "- Add the new encoded version to your DataFrame\n",
        "\n",
        "### ✍️ In your markdown:\n",
        "1. What column did you encode and why?\n",
        "2. What encoding method did you use?\n",
        "3. How could this transformation help a pricing model, dashboard, or business report?\n",
        "\n"
      ],
      "metadata": {
        "id": "zM-IqX-Qvvpn"
      }
    },
    {
      "cell_type": "code",
      "source": [
        "# add code here"
      ],
      "metadata": {
        "id": "h4sCLvAIv-Xj"
      },
      "execution_count": null,
      "outputs": []
    },
    {
      "cell_type": "markdown",
      "source": [
        "### ✍️ Your Response:\n",
        "1.\n",
        "2.\n",
        "3."
      ],
      "metadata": {
        "id": "Vpv-zfdOv_gE"
      }
    },
    {
      "cell_type": "markdown",
      "source": [
        "## 7. Reflection\n",
        "\n",
        "You’ve applied the same kinds of transformation techniques used in real Airbnb analytics projects — from pricing engines to host tools to tourism dashboards.\n",
        "\n",
        "Now step back and reflect.\n",
        "\n",
        "### In your markdown:\n",
        "1. What transformation step felt most important or interesting?\n",
        "2. Which of your changes would be most useful to a host, analyst, or city planner?\n",
        "3. If you were going to build a tool or dashboard, what would you do next with this data?\n",
        "4. How does this relate to your customized learning outcome you created in canvas?\n",
        "\n"
      ],
      "metadata": {
        "id": "wPm5yuDPwMSA"
      }
    },
    {
      "cell_type": "markdown",
      "source": [
        "### ✍️ Your Response:\n",
        "\n",
        "1.\n",
        "\n",
        "2.\n",
        "\n",
        "3.\n",
        "4.\n",
        "\n"
      ],
      "metadata": {
        "id": "3OnJiBFcwTBn"
      }
    }
  ]
}
