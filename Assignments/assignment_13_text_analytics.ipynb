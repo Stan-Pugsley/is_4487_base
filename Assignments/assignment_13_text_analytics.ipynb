{
  "cells": [
    {
      "cell_type": "markdown",
      "metadata": {},
      "source": [
        "# Assignment 13 Text Analytics\n",
        "\n",
        "In this assignment, you will:\n",
        "- Load and inspect a real-world business reviews dataset.\n",
        "- Preprocess review text for NLP (tokenization, stopwords, lemmatization).\n",
        "- Run sentiment analysis (rule-based and classifier-based) and compare to star ratings.\n",
        "- Extract main topics from reviews using LDA and (optional) BERTopic.\n",
        "- Interpret results in a business context (actionable insights).\n",
        "\n",
        "## Why This Matters\n",
        "\n",
        "Customer Reviews are critical for the survival of any business, but especially for restaurants.  Restaurants compete with not only all of the other restaurants in local area, but also with the option for customers to stay home and cook their own food.  Chefs and restaurant owners must monitor customer feedback to see if they should make changes to their pricing, menu options, restaurant amenities and seating/serving process.\n",
        "\n",
        "You have been given 100 customer reviews.  Your job is to look for main topics that are mentioned, and whether those reviews have a postive, neutral or negative tone (sentiment).  \n",
        "\n",
        "<a href=\"https://colab.research.google.com/github/Stan-Pugsley/is_4487_base/blob/main/Assignments/assignment_13_text_analytics.ipynb\" target=\"_parent\">\n",
        "  <img src=\"https://colab.research.google.com/assets/colab-badge.svg\" alt=\"Open In Colab\"/>\n",
        "</a>\n",
        "\n"
      ]
    },
    {
      "cell_type": "markdown",
      "metadata": {},
      "source": [
        "## Original Source: Dataset Description\n",
        "\n",
        "The dataset you'll be using is a set of **restaurant reviews**, available from [Kaggle](https://www.kaggle.com/datasets/pruthvirajgshitole/e-commerce-purchases-and-reviews?utm_source=chatgpt.com&select=customer_purchase_data.csv).\n",
        "\n",
        "Each row represents one customer review. The columns include:\n",
        "\n",
        "- **Review** - text of the customer review\n",
        "- **Liked** - indicates if the customer likes (1) or does not like (0) the restaurant\n",
        "\n",
        "Please note that some reviews have commas and apostrophes, which can prevent the record from loading correctly.  You should verify that you have 1,000 reviews total.  "
      ]
    },
    {
      "cell_type": "markdown",
      "metadata": {},
      "source": [
        "## 1. Load and Preview the Data\n",
        "\n",
        "### Do the following:\n",
        "- Import your TSV file called `Restaurant_Reviews.tsv`.  Note that TSV is for Tab Separated Values.  This file does not use commas as a delimiter. \n",
        "- Use `pandas` to load and preview the dataset\n",
        "\n",
        "### Do the following \n",
        "1. Check that all 1,000 rows were imported correctly\n",
        "2. Calculate the overall percentage of reviews that \"Liked\" the restaurant\n",
        "3. Create a visualization to show the percentage of likes versus non-likes\n"
      ]
    },
    {
      "cell_type": "code",
      "execution_count": null,
      "metadata": {},
      "outputs": [],
      "source": [
        "import pandas as pd\n",
        "import csv\n",
        "\n",
        "# Load the reviews\n",
        "url = \"https://raw.githubusercontent.com/Stan-Pugsley/is_4487_base/refs/heads/main/DataSets/Restaurant_Reviews.tsv\"\n",
        "df = pd.read_csv(url, sep='\\t', quoting=csv.QUOTE_MINIMAL)\n",
        "\n",
        "df.head()"
      ]
    },
    {
      "cell_type": "code",
      "execution_count": null,
      "metadata": {},
      "outputs": [],
      "source": [
        "# Add code here 🔧"
      ]
    },
    {
      "cell_type": "markdown",
      "metadata": {},
      "source": [
        "## 2. Drop Columns Not Useful for Modeling\n",
        "\n",
        "**Business framing:**  \n",
        "To do text analysis, we need to remove all of the junk in the reviews.  This would include anything like punctuation, website URLs, emojis, etc.\n",
        "\n",
        "### Do the following:\n",
        "- Change all of the reviews to lowercase\n",
        "- Remove anything that looks like a URL or that isn't a regular character (A to Z) or number (1-9)\n",
        "- Remove punctuation\n",
        "\n",
        "### In Your Response: \n",
        "1. What risks might occur if you included the review \"junk\" in your model?\n"
      ]
    },
    {
      "cell_type": "code",
      "execution_count": null,
      "metadata": {},
      "outputs": [],
      "source": [
        "# Add code here 🔧"
      ]
    },
    {
      "cell_type": "markdown",
      "metadata": {},
      "source": [
        "### ✍️ Your Response: 🔧\n",
        "1."
      ]
    },
    {
      "cell_type": "markdown",
      "metadata": {},
      "source": [
        "## 3. Sentiment Analysis\n",
        "\n",
        "**Business framing:**  \n",
        "A \"Like\" is not as insightful as a star rating, such as 5 stars. It only has two values. But we can attempt to understand more nuance in the reviews by looking a positive/neutral/negative tone (sentiment) in the text.   Then we can compare that to the \"Likes\" to see if they match.  \n",
        "\n",
        "### Do the following:\n",
        "- Install the vaderSentiment library\n",
        "- Import the SentimentIntensityAnalyzer from vaderSentiment \n",
        "- Calculate the sentiment percentages\n",
        "\n",
        "### In Your Response: \n",
        "1. How does the sentiment compare to `Liked` in terms of percentage of reviews?\n",
        "2. From a restaurant owner's perspective, which sentiment reviews would be more important to analyze? (positive, negative or neutral)\n"
      ]
    },
    {
      "cell_type": "code",
      "execution_count": null,
      "metadata": {},
      "outputs": [],
      "source": [
        "# Add code here 🔧"
      ]
    },
    {
      "cell_type": "markdown",
      "metadata": {},
      "source": [
        "### ✍️ Your Response: 🔧\n",
        "1.\n",
        "\n",
        "2."
      ]
    },
    {
      "cell_type": "markdown",
      "metadata": {},
      "source": [
        "## 4. Topic Analysis - Text Preprocessing\n",
        "\n",
        "**Business framing:**  \n",
        "To build a topic analysis model, we need to clean and prepare the review text\n",
        "\n",
        "### Do the following:\n",
        "- Import the NLTK library\n",
        "- Download the NLTK corpora\n",
        "- Preprocess the text using tokenization and lemmatization\n",
        "- Display the first 10 processed reviews\n",
        "\n",
        "### In Your Response: \n",
        "1. What is a corpora and how is it used for text analysis?\n",
        "2. What would be the tokens in the first review? \"Wow... Loved this place.\"\n",
        "3. What does lemmatization do?  How will it help in this process?\n"
      ]
    },
    {
      "cell_type": "code",
      "execution_count": null,
      "metadata": {},
      "outputs": [],
      "source": [
        "# Add code here 🔧"
      ]
    },
    {
      "cell_type": "markdown",
      "metadata": {},
      "source": [
        "### ✍️ Your Response: 🔧\n",
        "1.\n",
        "\n",
        "2.\n",
        "\n",
        "3. "
      ]
    },
    {
      "cell_type": "markdown",
      "metadata": {},
      "source": [
        "## 5. Topic Analysis - Dictionary and Corpus\n",
        "\n",
        "**Objective:**  \n",
        "Convert the preprocessed text into a dictionary and a bag-of-words corpus, which are required formats for LDA\n",
        "\n",
        "### Do the following:\n",
        "- Import Dictionary and Corpus from the Genism library\n",
        "- Create a dictionary\n",
        "- Create a corpus\n",
        "- Display a summary of the dictionary and corpus\n",
        "\n",
        "### In Your Response: \n",
        "1. What is a corpus and how is it useful?\n",
        "2. How is a dictionary different from a corpus? "
      ]
    },
    {
      "cell_type": "code",
      "execution_count": null,
      "metadata": {},
      "outputs": [],
      "source": [
        "# Add code here 🔧"
      ]
    },
    {
      "cell_type": "markdown",
      "metadata": {},
      "source": [
        "### ✍️ Your Response: 🔧\n",
        "1.\n",
        "\n",
        "2."
      ]
    },
    {
      "cell_type": "markdown",
      "metadata": {},
      "source": [
        "## 6. Topic Analysis - Build LDA Model\n",
        "\n",
        "**Objective:**  \n",
        "Apply the LDA model to the corpus to identify main topics.\n",
        "\n",
        "### Do the following:\n",
        "- Import LdaModel from Genism\n",
        "- Select the number of topics (5 is a good starting point)\n",
        "- Create the LDA model\n",
        "\n",
        "### In Your Response: \n",
        "1. In what cases would you want to use more than 5 topics?  \n",
        "2. How would you know if you have too many topics?\n",
        "\n",
        "NOTE: You may receive an error about training \"not converging\".  You can ignore that error for this assignment. (Let's keep it simple)\n"
      ]
    },
    {
      "cell_type": "code",
      "execution_count": null,
      "metadata": {},
      "outputs": [],
      "source": [
        "# Add code here 🔧"
      ]
    },
    {
      "cell_type": "markdown",
      "metadata": {},
      "source": [
        "### ✍️ Your Response: 🔧\n",
        "1.\n",
        "\n",
        "2."
      ]
    },
    {
      "cell_type": "markdown",
      "metadata": {},
      "source": [
        "## 7. Summarize the Topics\n",
        "\n",
        "**Business framing:**  \n",
        "Now comes one of the most challenging steps.  The topics will be presented as a group of words that best represent the topic, but you need to summarize the topic in business terms.   \n",
        "\n",
        "### Do the following:\n",
        "- Print the topics and top 10 words in the topic\n",
        "- Calculate the frequency the each topic appears in the reviews\n",
        "- Attempt at least one visual display of the topics, such as a word cloud.  (Make sure to remove any extra code or unhelpful Python messages (we don't want code junk here)\n",
        "- Summarize the sentiment by topic (percentage postitive/neutral/negative for each topic)\n",
        "\n",
        "### In Your Response: \n",
        "1. Give each topic a 2-3 word name.  You should list the topic number and a name that you will create that summarize the words used.  For example, \"Topic #1 - Slow Service\"\n"
      ]
    },
    {
      "cell_type": "code",
      "execution_count": null,
      "metadata": {},
      "outputs": [],
      "source": [
        "# Add code here 🔧"
      ]
    },
    {
      "cell_type": "markdown",
      "metadata": {},
      "source": [
        "### ✍️ Your Response: 🔧\n",
        "List your topics and names here:\n"
      ]
    },
    {
      "cell_type": "markdown",
      "metadata": {},
      "source": [
        "## 10. Reflect and Recommend\n",
        "\n",
        "**Business framing:**  \n",
        "Ultimately, the value of your model comes from how well it can guide business decisions. Use your results to make real-world recommendations.\n",
        "\n",
        "### In Your Response: \n",
        "1. What business question did your model help answer?\n",
        "2. What would you recommend to this restaurant to improve customer satisfaction?\n",
        "3. What could you do next to improve this model or make it more useful?\n",
        "4. How does this relate to your customized learning outcome you created in canvas?\n"
      ]
    },
    {
      "cell_type": "markdown",
      "metadata": {},
      "source": [
        "### ✍️ Your Response: 🔧\n",
        "1.\n",
        "\n",
        "2.\n",
        "\n",
        "3.\n",
        "\n",
        "4."
      ]
    },
    {
      "cell_type": "markdown",
      "metadata": {},
      "source": [
        "## Submission Instructions\n",
        "✅ Checklist:\n",
        "- All code cells run without error\n",
        "- All markdown responses are complete\n",
        "- Submit on Canvas as instructed"
      ]
    },
    {
      "cell_type": "code",
      "execution_count": null,
      "metadata": {},
      "outputs": [],
      "source": [
        "!jupyter nbconvert --to html \"assignment_11_LastnameFirstname.ipynb\""
      ]
    }
  ],
  "metadata": {
    "colab": {
      "provenance": []
    },
    "kernelspec": {
      "display_name": "Python 3",
      "name": "python3"
    },
    "language_info": {
      "name": "python"
    }
  },
  "nbformat": 4,
  "nbformat_minor": 0
}
