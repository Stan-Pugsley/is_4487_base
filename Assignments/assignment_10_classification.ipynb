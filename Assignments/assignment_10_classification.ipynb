{
 "cells": [
  {
   "cell_type": "markdown",
   "metadata": {},
   "source": [
    "# IS4487 Week 10 - Assignment\n",
    "\n",
    "### Outline\n",
    "\n",
    "Our Goals with this Project:\n",
    "\n",
    "1. Import and review the data\n",
    "2. Perform EDA and Clean Data\n",
    "3. Fit a model\n",
    "4. Test the accuracy of the model\n",
    "6.  Use the model to predict on a new dataset (without the target)\n",
    "\n",
    "<a href=\"https://colab.research.google.com/github/Stan-Pugsley/is_4487_base/blob/main/Assignments/assignment_10_classification.ipynb\" target=\"_parent\"><img src=\"https://colab.research.google.com/assets/colab-badge.svg\" alt=\"Open In Colab\"/></a>"
   ]
  },
  {
   "cell_type": "markdown",
   "metadata": {},
   "source": [
    "## Business Case: AdviseInvest\n",
    "You work on a small team of data analysts at AdviseInvest, a venture-backed startup. The Director of Sales at AdviseInvest has approached your team asking for help solving a staffing problem.\n",
    "\n",
    "### The Company\n",
    "The company's mission is to provide tools and support to help ordinary people gain control of their personal finances. The company leverages technology to provide affordable financial advice to a national client base.\n",
    "\n",
    "Customers who reach AdviseInvest's website go through five steps:\n",
    "\n",
    "- Open an account.\n",
    "- Complete a customer profile form with basic information about their background and finances.\n",
    "- Schedule a free phone conversation with a sales representative during a 1-hour window of time.\n",
    "- Attend the free phone conversation.\n",
    "- Buy a financial plan.\n",
    "- There are three types of financial plans: Beginner, Intermediate, and Advanced. Each is sold at a different price, and there are varying degrees of personalization. After a customer purchases a financial plan, the customer is assigned a financial planner who helps determine the customer's goals and advises the customer on spending decisions.\n",
    "\n",
    "### The Problem\n",
    "Some customers are lost at each stage of the process. Steps 3 and 4 are particularly challenging because approximately 50% of those who schedule a phone conversation fail to pick up the call. This leads to inefficiencies from a staffing perspective.\n",
    "\n",
    "AdviseInvest has 4 sales reps on staff during each particular 1-hour window. Each of the 4 reps is assigned 2 prospective customers per hour, which means that the company schedules a total of 8 phone calls per hour. The calls are outgoing: sales reps call customers who scheduled a phone conversation during that hour window.\n",
    "\n",
    "Unfortunately, as noted above, many of the customers who scheduled a call do not answer. As a consequence, sales reps are often left underutilized. Moreover, they are underutilized unevenly. For example, it is possible that one sales rep will not do any sales calls during that hour, whereas another will be busy the entire hour with two calls. Sales reps have nothing to do when customers do not answer the scheduled phone call.\n",
    "\n",
    "### AdviseInvest Data Dictionary\n",
    "\n",
    "\n",
    "| Variable | Description | Type | Code |\n",
    "|:---|:---|:---|:---|\n",
    "| Answered | Customer response | Binary | 0: customer did not answer scheduled call; 1: customer answered scheduled call |\n",
    "| Income | Customer income in US dollars | Numeric | |\n",
    "| Female | Customer gender | Binary | 0: female; 1: male |\n",
    "| Age | Age in years | Numeric | |\n",
    "| Job | Nature of job | Categorical | 0 : unemployed; 1 : entry level position; 2 : midlevel position; 3 : management/ self-employed/ highly qualified employee/ officer |\n",
    "| Num_dependents | Number of people for whom the customer provides maintenance | Numeric | |\n",
    "| Rent | Customer rents | Binary | 0: no; 1: yes |\n",
    "| Own_res | Customer owns residence | Binary | 0: no; 1: yes |\n",
    "| New_car | Recent new car purchase | Binary | New car purchase in the last 3 months: 0: no, 1: yes |\n",
    "| Chk_acct | Checking account status | Categorical | 0 : no checking account; 1: checking < 200 USD; 2 : 200 < checking < 2000 USD; 3: 2000 < checking < 35000 USD; 4: >= 3500 USD |\n",
    "| Sav_acct | Average balance in savings account | Categorical | 0 : no savings account; 1 : 100 <= savings < 500 USD; 2 : 500 <= savings < 2000 USD; 3 : 2000 < savings < 35000 USD; 4: >= 3500 USD |\n",
    "| Num_accts | Number of accounts owned by customer | Numeric | |\n",
    "| Mobile | Mobile phone | Binary | 0: customer provided non‐mobile phone for follow‐up call; 1: customer provided mobile phone for follow‐up call |\n",
    "| Product | Type of product purchased after conversation with sales rep | Categorical | 0: customer did not answer call; 1: customer answered but did not purchase a product; 2: customer answered and purchased Beginner plan; 3: customer answered and purchased Intermediate plan; 4: customer answered and purchased Advanced plan |"
   ]
  },
  {
   "cell_type": "markdown",
   "metadata": {},
   "source": [
    "### Load Libraries\n",
    "\n",
    "Import the libraries you will need, such as:\n",
    "- Pandas\n",
    "- Sklearn\n",
    "- Matplotlib\n"
   ]
  },
  {
   "cell_type": "code",
   "execution_count": null,
   "metadata": {},
   "outputs": [],
   "source": [
    "#Import libraries  🔧\n"
   ]
  },
  {
   "cell_type": "markdown",
   "metadata": {},
   "source": [
    "## Step 1: Initial Data Understanding\n",
    "\n",
    "### Do the following:\n",
    " - Import data from the AdviseInvest historical dataset into a dataframe (in GitHub go to Assignments > DataSets)\n",
    " - Describe or profile the dataframe\n",
    " - Look for any outliers, missing values, or duplicates"
   ]
  },
  {
   "cell_type": "code",
   "execution_count": null,
   "metadata": {},
   "outputs": [],
   "source": [
    "#Import the data 🔧"
   ]
  },
  {
   "cell_type": "code",
   "execution_count": null,
   "metadata": {},
   "outputs": [],
   "source": [
    "#View the datatypes 🔧"
   ]
  },
  {
   "cell_type": "code",
   "execution_count": null,
   "metadata": {},
   "outputs": [],
   "source": [
    "#Describe the data 🔧"
   ]
  },
  {
   "cell_type": "markdown",
   "metadata": {},
   "source": [
    "## Step 2: Data Preparation\n",
    "\n",
    "### 2.1: Data Cleanup\n",
    "- Remove any variables that are not relevant to our analysis (be sure not to delete too many variables, you may need them in the near future!) \n",
    "- Clean up the data and put it in a new datafram named \"df_clean\"\n"
   ]
  },
  {
   "cell_type": "code",
   "execution_count": null,
   "metadata": {},
   "outputs": [],
   "source": [
    "#delete outliers 🔧"
   ]
  },
  {
   "cell_type": "code",
   "execution_count": null,
   "metadata": {},
   "outputs": [],
   "source": [
    "#remove variables that are not helpful 🔧"
   ]
  },
  {
   "cell_type": "code",
   "execution_count": null,
   "metadata": {},
   "outputs": [],
   "source": [
    "#cleanup any missing or non-standardized data 🔧"
   ]
  },
  {
   "cell_type": "markdown",
   "metadata": {},
   "source": [
    "### 2.2: Standardize variables\n",
    "\n",
    " - Change \"answered\" to yes/no and make it categorical\n",
    " - Convert any variables that should be an integer into an integer"
   ]
  },
  {
   "cell_type": "code",
   "execution_count": null,
   "metadata": {},
   "outputs": [],
   "source": [
    "# Convert answered to categorical 🔧\n",
    " "
   ]
  },
  {
   "cell_type": "code",
   "execution_count": null,
   "metadata": {},
   "outputs": [],
   "source": [
    "# Convert variables to integer data type 🔧"
   ]
  },
  {
   "cell_type": "markdown",
   "metadata": {},
   "source": [
    "### 2.3 Convert variables to categorical\n",
    "\n",
    "- Find at least 8 variables that would be appropriate to convert to categories"
   ]
  },
  {
   "cell_type": "code",
   "execution_count": null,
   "metadata": {},
   "outputs": [],
   "source": [
    "#Convert categorical variables 🔧"
   ]
  },
  {
   "cell_type": "markdown",
   "metadata": {},
   "source": [
    "# Step 3: Exploratory Data Analysis (EDA)\n",
    "\n",
    "### Do the following:\n",
    "- Explore the relationships between the target and independent variables\n",
    "- Create at least five charts to show the relationships, using different chart types that are approriate to the analysis\n",
    "- Ensure that all charts are clearly labeled and formatted\n",
    "\n"
   ]
  },
  {
   "cell_type": "code",
   "execution_count": null,
   "metadata": {},
   "outputs": [],
   "source": [
    "# Chart 1 🔧\n"
   ]
  },
  {
   "cell_type": "code",
   "execution_count": null,
   "metadata": {},
   "outputs": [],
   "source": [
    "# Chart 2 🔧"
   ]
  },
  {
   "cell_type": "code",
   "execution_count": null,
   "metadata": {},
   "outputs": [],
   "source": [
    "# Chart 3 🔧"
   ]
  },
  {
   "cell_type": "code",
   "execution_count": null,
   "metadata": {},
   "outputs": [],
   "source": [
    "# Chart 4 🔧"
   ]
  },
  {
   "cell_type": "code",
   "execution_count": null,
   "metadata": {},
   "outputs": [],
   "source": [
    "# Chart 5 🔧"
   ]
  },
  {
   "cell_type": "markdown",
   "metadata": {},
   "source": [
    "## Step 4: Modeling\n",
    "\n",
    "### 4.1: Calculate the base probability of answering\n",
    "\n",
    "If we use no model at all, how good is our chance of predicting someone leaving?  Use a calculation to find the chances of someone leaving. "
   ]
  },
  {
   "cell_type": "code",
   "execution_count": null,
   "metadata": {},
   "outputs": [],
   "source": [
    "#get the default probability 🔧"
   ]
  },
  {
   "cell_type": "markdown",
   "metadata": {},
   "source": [
    "### 4.2: Split the training and testing datasets\n",
    "\n",
    "- split df_clean using train_test_split function\n",
    "- all variables except answered should be in the x variable\n",
    "- answered is in the y variable\n"
   ]
  },
  {
   "cell_type": "code",
   "execution_count": null,
   "metadata": {},
   "outputs": [],
   "source": [
    "# Split data into training and testing sets 🔧\n"
   ]
  },
  {
   "cell_type": "markdown",
   "metadata": {},
   "source": [
    "### 4.3: Create a Decision Tree\n",
    "- Use all available attributes (except those that were eliminated in step 3)\n",
    "- It is recommended to use the type \"entropy\" and a max_depth of 4 "
   ]
  },
  {
   "cell_type": "code",
   "execution_count": null,
   "metadata": {},
   "outputs": [],
   "source": [
    "#create a tree  🔧"
   ]
  },
  {
   "cell_type": "code",
   "execution_count": null,
   "metadata": {},
   "outputs": [],
   "source": [
    "#display (visualize) the tree 🔧"
   ]
  },
  {
   "cell_type": "markdown",
   "metadata": {},
   "source": [
    "### 4.4: What is the accuracy?\n",
    "\n",
    "This should be better than the base probability, or you have failed in your objective"
   ]
  },
  {
   "cell_type": "code",
   "execution_count": null,
   "metadata": {},
   "outputs": [],
   "source": [
    "#calculate the probability for your tree 🔧"
   ]
  },
  {
   "cell_type": "markdown",
   "metadata": {},
   "source": [
    "### 4.5: Create a confusion matrix\n",
    "\n",
    "This will show false positives, true positives, etc."
   ]
  },
  {
   "cell_type": "code",
   "execution_count": null,
   "metadata": {},
   "outputs": [],
   "source": [
    "#create a basic confusion matrix 🔧\n"
   ]
  },
  {
   "cell_type": "markdown",
   "metadata": {},
   "source": [
    "Create a more visual, interpretable version of the matrix"
   ]
  },
  {
   "cell_type": "code",
   "execution_count": null,
   "metadata": {},
   "outputs": [],
   "source": [
    "#Create a beautiful matrix; hint - try using Seaborn Heatmap 🔧"
   ]
  },
  {
   "cell_type": "markdown",
   "metadata": {},
   "source": [
    "# Step 5: Evaluate the Model\n",
    "\n",
    "**Assumptions**\n",
    "\n",
    "One of the simplifying assumptions we will make in this project is that all the customers who answer the phone will purchase a product. (This assumption is actually verified by the data.) To model \"answered\" in this case is therefore equivalent to modeling \"purchased.\"\n",
    "\n",
    "There are costs and benefits in this case. We will assume that customers purchase a product for 100 dollars. This was the average cost of AdviseInvest products, according to the Director of Sales.  Also, as we learned in the interview, the agent time to make the sale is worth 25 dollars. Profit would therefore be \\$75 dollars for an answered call and a purchase. In sum:\n",
    "\n",
    "**Benefit**: True positive. The customer is predicted to answer, does answer, and purchases a product for 100 dollars for a profit of 100 - 25 = 75.\n",
    "\n",
    "**Cost**: False positive. The customer is predicted to answer, but does not answer, so there is a loss of 25. (We assume the agent cannot schedule another call at the last minute, or spends the entire time slot trying to make the call.)\n",
    "\n",
    "When you create a calculation you can use: \n",
    "- True answered * 75 -> These people purchased\n",
    "- False answered * 25 -> You can't schedule another call\n",
    "\n",
    "For this exercise, we propose that customers who are not predicted to answer will not be called, so there would be no benefits and no costs for them.  \n",
    "\n",
    "### 5.1 Calculate the Profit Using the Model"
   ]
  },
  {
   "cell_type": "code",
   "execution_count": null,
   "metadata": {},
   "outputs": [],
   "source": [
    "# Write a calcuation for the profit from your model 🔧"
   ]
  },
  {
   "cell_type": "markdown",
   "metadata": {},
   "source": [
    "### 5.2 Compare to the Default Profit\n",
    "\n",
    "How much profit (revenue - costs) could be expected if all customers are called? We can consider this a baseline case for profit since it does not require a model.\n",
    "\n",
    "In other words, to calculate profit in this baseline scenario treat the customers who answer as true positives treat the customers who do not answer as false positives."
   ]
  },
  {
   "cell_type": "code",
   "execution_count": null,
   "metadata": {},
   "outputs": [],
   "source": [
    "#Write a calculation for the overall profit without using the model (default) 🔧"
   ]
  },
  {
   "cell_type": "markdown",
   "metadata": {},
   "source": [
    "### 5.3 Tune the Model\n",
    "- Adjust the size or shape of the tree, then test the accuracy\n",
    "- Keep changing these parameters until you end up with a tree with accuracy that is better than the initial model"
   ]
  },
  {
   "cell_type": "code",
   "execution_count": null,
   "metadata": {},
   "outputs": [],
   "source": [
    "# Create a new version of the tree with new parameters 🔧"
   ]
  },
  {
   "cell_type": "code",
   "execution_count": null,
   "metadata": {},
   "outputs": [],
   "source": [
    "# Calculate a new probability 🔧"
   ]
  },
  {
   "cell_type": "markdown",
   "metadata": {},
   "source": [
    "### 5.4 Apply the Model to New Customers\n",
    "- Import the \"adviseinvest_new_customer_data.csv\" file\n",
    "- Using the tree model, predict each customer for the target variable  by feeding the new customer data into the model "
   ]
  },
  {
   "cell_type": "code",
   "execution_count": null,
   "metadata": {},
   "outputs": [],
   "source": [
    "#Import new customer data into a new data frame 🔧"
   ]
  },
  {
   "cell_type": "code",
   "execution_count": null,
   "metadata": {},
   "outputs": [],
   "source": [
    "#Predict the number of customers who will be yes/no for the target variable 🔧"
   ]
  },
  {
   "cell_type": "markdown",
   "metadata": {},
   "source": [
    "# Step 6: Conclusion\n",
    "### 6.1: Did we improve our profit using the model?  "
   ]
  },
  {
   "cell_type": "markdown",
   "metadata": {},
   "source": [
    "Write your conclusion notes below:  🔧"
   ]
  },
  {
   "cell_type": "markdown",
   "metadata": {},
   "source": [
    "### 6.2: How could the model be utilized by the business?\n",
    "\n",
    "Write your recommendations below:  🔧"
   ]
  },
  {
   "cell_type": "markdown",
   "metadata": {},
   "source": []
  },
  {
   "cell_type": "markdown",
   "metadata": {},
   "source": [
    "## Submission Instructions\n",
    "✅ Checklist:\n",
    "- All code cells run without error\n",
    "- All markdown responses are complete\n",
    "- Submit on Canvas as instructed"
   ]
  },
  {
   "cell_type": "code",
   "execution_count": null,
   "metadata": {},
   "outputs": [],
   "source": [
    "!jupyter nbconvert --to html \"assignment_10_LastnameFirstname.ipynb\""
   ]
  }
 ],
 "metadata": {
  "colab": {
   "include_colab_link": true,
   "provenance": []
  },
  "kernelspec": {
   "display_name": "Python 3",
   "name": "python3"
  },
  "language_info": {
   "name": "python"
  }
 },
 "nbformat": 4,
 "nbformat_minor": 0
}
