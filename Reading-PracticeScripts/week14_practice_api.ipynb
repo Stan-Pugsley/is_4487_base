{
 "cells": [
  {
   "cell_type": "markdown",
   "metadata": {},
   "source": [
    "# 🧠 Predict Exam Scores with FastAPI in Google Colab"
   ]
  },
  {
   "cell_type": "markdown",
   "metadata": {},
   "source": [
    "In this notebook, you'll:\n",
    "- 📊 **Part 1**: Generate and train a machine learning model\n",
    "- 🌐 **Part 2**: Serve it with FastAPI in the background using `uvicorn`\n",
    "- 🧪 **Part 3**: Test the live API from Colab using HTTP requests\n",
    "\n",
    "<a href=\"https://colab.research.google.com/github/Stan-Pugsley/is_4487_base/blob/main/Reading-PracticeScripts/week14_practice_api.ipynb\" target=\"_parent\"><img src=\"https://colab.research.google.com/assets/colab-badge.svg\" alt=\"Open In Colab\"/></a>"
   ]
  },
  {
   "cell_type": "markdown",
   "metadata": {},
   "source": [
    "## 📊 Part 1: Generate and Train the Model\n",
    "**Goal:** Create synthetic data, train a linear regression model, and save it for use in the API."
   ]
  },
  {
   "cell_type": "code",
   "execution_count": null,
   "metadata": {},
   "outputs": [],
   "source": [
    "# Install package needed for saving the model\n",
    "!pip install joblib"
   ]
  },
  {
   "cell_type": "code",
   "execution_count": null,
   "metadata": {},
   "outputs": [],
   "source": [
    "# Step 1: Generate synthetic data and train a model\n",
    "import numpy as np\n",
    "import pandas as pd\n",
    "from sklearn.linear_model import LinearRegression\n",
    "from sklearn.model_selection import train_test_split\n",
    "from sklearn.metrics import r2_score\n",
    "import joblib\n",
    "\n",
    "# Generate data\n",
    "np.random.seed(42)\n",
    "hours = np.random.uniform(1, 10, 100)\n",
    "noise = np.random.normal(0, 5, 100)\n",
    "scores = 10 * hours + 30 + noise\n",
    "\n",
    "# Create DataFrame\n",
    "data = pd.DataFrame({'Hours_Studied': hours, 'Exam_Score': scores})\n",
    "X = data[['Hours_Studied']]\n",
    "y = data['Exam_Score']\n",
    "\n",
    "# Train/test split and model training\n",
    "X_train, X_test, y_train, y_test = train_test_split(X, y, test_size=0.2, random_state=42)\n",
    "model = LinearRegression()\n",
    "model.fit(X_train, y_train)\n",
    "\n",
    "# Evaluate model\n",
    "y_pred = model.predict(X_test)\n",
    "print(f\"Model R² Score: {r2_score(y_test, y_pred):.2f}\")\n",
    "\n",
    "# Save model\n",
    "joblib.dump(model, 'exam_score_model.pkl')"
   ]
  },
  {
   "cell_type": "markdown",
   "metadata": {},
   "source": [
    "## 🌐 Part 2: Deploy the Model as an API\n",
    "**Goal:** Use FastAPI to create a REST API and expose it publicly using ngrok."
   ]
  },
  {
   "cell_type": "markdown",
   "metadata": {},
   "source": [
    "**Step 1: Install required packages and set your ngrok authtoken**\n",
    "\n",
    "1. Sign up at https://dashboard.ngrok.com/signup if you haven't already.\n",
    "2. Copy your authtoken from https://dashboard.ngrok.com/get-started/your-authtoken\n",
    "3. Paste it into the cell below where it says `YOUR_AUTHTOKEN`."
   ]
  },
  {
   "cell_type": "code",
   "execution_count": null,
   "metadata": {},
   "outputs": [],
   "source": [
    "!pip install fastapi uvicorn nest-asyncio pyngrok"
   ]
  },
  {
   "cell_type": "code",
   "execution_count": null,
   "metadata": {},
   "outputs": [
    {
     "name": "stdout",
     "output_type": "stream",
     "text": []
    }
   ],
   "source": [
    "from pyngrok import ngrok\n",
    "# Paste your ngrok auth token below\n",
    "ngrok.set_auth_token(\"2vKth5KZ3aVArYtk01cC83dAAww_532dvLUksZ41Hun9pBe7W\")  # ← Replace this with your token"
   ]
  },
  {
   "cell_type": "code",
   "execution_count": null,
   "metadata": {},
   "outputs": [],
   "source": [
    "# Step 2: Create and launch the FastAPI app in the background\n",
    "import nest_asyncio\n",
    "import uvicorn\n",
    "from fastapi import FastAPI\n",
    "from pydantic import BaseModel\n",
    "import joblib\n",
    "import numpy as np\n",
    "import threading\n",
    "\n",
    "# Load the saved model\n",
    "model = joblib.load(\"exam_score_model.pkl\")\n",
    "\n",
    "# Define the FastAPI app\n",
    "app = FastAPI()\n",
    "nest_asyncio.apply()\n",
    "\n",
    "# Define input data model\n",
    "class StudyInput(BaseModel):\n",
    "    Hours_Studied: float\n",
    "\n",
    "# Define prediction endpoint\n",
    "@app.post(\"/predict\")\n",
    "def predict(input_data: StudyInput):\n",
    "    prediction = model.predict(np.array([[input_data.Hours_Studied]]))[0]\n",
    "    return {\"Predicted_Exam_Score\": prediction}\n",
    "\n",
    "# Create public URL\n",
    "public_url = ngrok.connect(8000)\n",
    "print(f\"🚀 FastAPI is running at: {public_url}/docs\")\n",
    "\n",
    "# Run FastAPI in background\n",
    "def run():\n",
    "    uvicorn.run(app, host=\"0.0.0.0\", port=8000)\n",
    "\n",
    "thread = threading.Thread(target=run)\n",
    "thread.start()"
   ]
  },
  {
   "cell_type": "markdown",
   "metadata": {},
   "source": [
    "## 🧪 Part 3: Test the Live API\n",
    "**Goal:** Send a POST request to the `/predict` endpoint and get the predicted exam score."
   ]
  },
  {
   "cell_type": "code",
   "execution_count": null,
   "metadata": {},
   "outputs": [],
   "source": [
    "# Step 3: Make a test request to your API\n",
    "# Replace <your-ngrok-url> with the printed URL above\n",
    "import requests\n",
    "\n",
    "url = \"ADD_URL_HERE_FROM_ABOVE/predict\"  # Example: https://xxxx.ngrok.io/predict\n",
    "response = requests.post(url, json={\"Hours_Studied\": 6})\n",
    "print(\"Status Code:\", response.status_code)\n",
    "print(\"Response:\", response.json())"
   ]
  }
 ],
 "metadata": {
  "language_info": {
   "name": "python"
  }
 },
 "nbformat": 4,
 "nbformat_minor": 2
}
