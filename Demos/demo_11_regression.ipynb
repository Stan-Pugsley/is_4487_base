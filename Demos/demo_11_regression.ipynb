{
 "cells": [
  {
   "cell_type": "markdown",
   "id": "c4acbe2e",
   "metadata": {},
   "source": [
    "# IS4487 Week 11 - Practice Code\n",
    "\n",
    "This notebook is designed to help you follow along with the **Week 11 Lecture and Reading**, introducing you to Regression.\n",
    "\n",
    "The practice code demos are intended to give you a chance to see working code and can be a source for your lap and assignment work.  Each section contains short explanations and annotated code that reflect the steps in the reading.\n",
    "\n",
    "### Topics for this demo:\n",
    "- Create a linear regression to predict a numeric value\n",
    "- Visualize the regression line\n",
    "\n",
    "<a href=\"https://colab.research.google.com/github/Stan-Pugsley/is_4487_base/blob/main/Demos/demo_11_regression.ipynb\" target=\"_parent\"><img src=\"https://colab.research.google.com/assets/colab-badge.svg\" alt=\"Open In Colab\"/></a>\n"
   ]
  },
  {
   "cell_type": "markdown",
   "id": "7b1d6517",
   "metadata": {},
   "source": [
    "### Context: Apple (AAPL) Stock Price Prediction\n",
    "We will use historical stock prices, in addition to two calculated metrics, to predict the stock price on the following day of trading. \n",
    "\n",
    "Variables include:\n",
    "\n",
    "| Feature     | Description                                          | Type        |\n",
    "| ----------- | ---------------------------------------------------- | ----------- |\n",
    "| `Open`       | Beginning stock price on the given day                                  | Numeric     |\n",
    "| `High`       | Maximum stock price on the given day     | Numeric |\n",
    "| `Low`   | Minimum  stock price on the given day              | Numeric |\n",
    "| `Close` | Closing stock price on the given day | Numeric |\n",
    "| `Volume`   |  Number of shared traded on the given day                           | Numeric |\n",
    "| `Direction`   | Comparison of open to close price                         | Numeric |\n",
    "| `RSI`      | Relative Strength Index.  RSI compares the average gains to the average losses in the last 14 trading days                        | Numeric |\n",
    "| `SMA_5`   | 5-period Simple Moving Average     | Numeric     |\n",
    "| `Next_Day_Closing`   | Closing stock price on the next trading day         | Numeric |\n",
    "\n",
    "\n",
    "Your task is to predict the balance of the customer account using all other variables. "
   ]
  },
  {
   "cell_type": "markdown",
   "id": "6e1d7419",
   "metadata": {},
   "source": [
    "### Linear Regression\n",
    "\n",
    "This model will predict the account balance, then compare the prediction to the actual values in a plot."
   ]
  },
  {
   "cell_type": "code",
   "execution_count": null,
   "id": "e2b970cf",
   "metadata": {},
   "outputs": [],
   "source": [
    "import pandas as pd\n",
    "from sklearn.linear_model import LinearRegression\n",
    "from sklearn.model_selection import train_test_split\n",
    "from sklearn.metrics import r2_score, mean_squared_error\n",
    "import matplotlib.pyplot as plt\n",
    "\n",
    "# Load the dataset\n",
    "url = \"https://raw.githubusercontent.com/Stan-Pugsley/is_4487_base/refs/heads/main/DataSets/aapl_stock_prices.csv\"\n",
    "df = pd.read_csv(url, sep=',')"
   ]
  },
  {
   "cell_type": "code",
   "execution_count": null,
   "id": "c4309df8",
   "metadata": {},
   "outputs": [],
   "source": [
    "#Preview the data\n",
    "df.head()"
   ]
  },
  {
   "cell_type": "markdown",
   "id": "5b4575f4",
   "metadata": {},
   "source": [
    "Prepare Data"
   ]
  },
  {
   "cell_type": "code",
   "execution_count": null,
   "id": "31548496",
   "metadata": {},
   "outputs": [],
   "source": [
    "# Select features and target for stock price prediction\n",
    "features = ['Open', 'High', 'Low', 'Close', 'Volume', 'SMA_5', 'RSI']\n",
    "target = 'Next_Day_Closing'\n",
    "\n",
    "# Drop rows with missing values in selected features or target\n",
    "df_cleaned = df.dropna(subset=features + [target])\n",
    "\n",
    "# Define features (X) and target (y)\n",
    "X = df_cleaned[features]\n",
    "y = df_cleaned[target]\n",
    "\n",
    "# Split the data into training and testing sets\n",
    "X_train, X_test, y_train, y_test = train_test_split(X, y, test_size=0.2, random_state=42)\n",
    "\n",
    "# Display the shapes of the resulting datasets\n",
    "print(\"X_train shape:\", X_train.shape)\n",
    "print(\"X_test shape:\", X_test.shape)\n",
    "print(\"y_train shape:\", y_train.shape)\n",
    "print(\"y_test shape:\", y_test.shape)"
   ]
  },
  {
   "cell_type": "markdown",
   "id": "a0c8e39e",
   "metadata": {},
   "source": [
    "Create Model"
   ]
  },
  {
   "cell_type": "code",
   "execution_count": null,
   "id": "b732c952",
   "metadata": {},
   "outputs": [],
   "source": [
    "# Create and train Linear Regression model\n",
    "model = LinearRegression()\n",
    "model.fit(X_train, y_train)\n",
    "\n",
    "# Predict\n",
    "y_pred = model.predict(X_test)"
   ]
  },
  {
   "cell_type": "markdown",
   "id": "e27ba1ec",
   "metadata": {},
   "source": [
    "Evaluate Model"
   ]
  },
  {
   "cell_type": "code",
   "execution_count": null,
   "id": "1d999818",
   "metadata": {},
   "outputs": [],
   "source": [
    "# Evaluate\n",
    "r2 = r2_score(y_test, y_pred)\n",
    "mse = mean_squared_error(y_test, y_pred)\n",
    "\n",
    "print(f\"R² score: {r2:.2f}\")\n",
    "print(f\"Mean Squared Error: {mse:.2f}\")"
   ]
  },
  {
   "cell_type": "markdown",
   "id": "db5fdbd4",
   "metadata": {},
   "source": [
    "Create Visualization"
   ]
  },
  {
   "cell_type": "code",
   "execution_count": null,
   "id": "9bbd6cd2",
   "metadata": {},
   "outputs": [],
   "source": [
    "# Plot actual vs predicted balances\n",
    "plt.figure(figsize=(8, 5))\n",
    "plt.scatter(y_test, y_pred, alpha=0.5)\n",
    "plt.xlabel('Actual Balance')\n",
    "plt.ylabel('Predicted Balance')\n",
    "plt.title('Actual vs Predicted Stock Prices')\n",
    "plt.plot([y_test.min(), y_test.max()], [y_test.min(), y_test.max()], color='red', linestyle='--')\n",
    "plt.tight_layout()\n",
    "plt.show()"
   ]
  }
 ],
 "metadata": {
  "language_info": {
   "name": "python"
  }
 },
 "nbformat": 4,
 "nbformat_minor": 5
}
