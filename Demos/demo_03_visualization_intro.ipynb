{
 "cells": [
  {
   "cell_type": "markdown",
   "id": "4a493380",
   "metadata": {},
   "source": [
    "# IS4487 Week 3 - Practice Code\n",
    "\n",
    "This notebook is designed to help you follow along with the **Week 3 Lecture and Reading** \n",
    "\n",
    "The practice code demos are intended to give you a chance to see working code and can be a source for your lap and assignment work.  Each section contains short explanations and annotated code that reflect the steps in the reading.\n",
    "\n",
    "### Topics for this demo:\n",
    "- Create charts from full dataframe\n",
    "- Aggregate data for a chart\n",
    "\n",
    "<a href=\"https://colab.research.google.com/github/Stan-Pugsley/is_4487_base/blob/main/Demos/demo_03_visualization_intro.ipynb\" target=\"_parent\"><img src=\"https://colab.research.google.com/assets/colab-badge.svg\" alt=\"Open In Colab\"/></a>\n"
   ]
  },
  {
   "cell_type": "markdown",
   "id": "c04090df",
   "metadata": {},
   "source": [
    "### Context: Motor Trend Car Road Tests\n",
    "This example uses a small set of data from the 1970s with road tests from cars.  This is the classic dataset that statisticians have been using for the last 50 years to learn to work with data.  \n",
    "\n",
    "| Column | Description                              |\n",
    "| ------ | ---------------------------------------- |\n",
    "| mpg    | Miles per gallon (fuel efficiency)       |\n",
    "| cyl    | Number of cylinders                      |\n",
    "| disp   | Displacement (cu. in.)                   |\n",
    "| hp     | Gross horsepower                         |\n",
    "| drat   | Rear axle ratio                          |\n",
    "| wt     | Weight (1000 lbs)                        |\n",
    "| qsec   | ¼ mile time                              |\n",
    "| vs     | Engine type (0 = V-shaped, 1 = straight) |\n",
    "| am     | Transmission (0 = automatic, 1 = manual) |\n",
    "| gear   | Number of forward gears                  |\n",
    "| carb   | Number of carburetors                    |\n",
    "\n",
    "\n",
    "Your task is to visualize the data using Python functions. "
   ]
  },
  {
   "cell_type": "markdown",
   "id": "9d50b81b",
   "metadata": {},
   "source": [
    "### Import libraries\n",
    " \n",
    "We will import two libraries\n",
    "- Pandas, which is like Excel for Python.  It creates 2-dimensional data frames and lets you work with the rows and columns.  \n",
    "- StatsModels has sample data for use in experimenting with Python"
   ]
  },
  {
   "cell_type": "code",
   "execution_count": null,
   "id": "4630f356",
   "metadata": {},
   "outputs": [],
   "source": [
    "import pandas as pd\n",
    "import statsmodels.api as sm"
   ]
  },
  {
   "cell_type": "markdown",
   "id": "f4528a1c",
   "metadata": {},
   "source": [
    "### Import Sample Data\n",
    "\n",
    "Import the data that was used in lab 1"
   ]
  },
  {
   "cell_type": "code",
   "execution_count": null,
   "id": "577c29d2",
   "metadata": {},
   "outputs": [],
   "source": [
    "mtcars = sm.datasets.get_rdataset(\"mtcars\", \"datasets\", cache=True).data\n",
    "df = pd.DataFrame(mtcars)\n",
    "df['carmodel'] = df.index\n",
    "print(df)"
   ]
  },
  {
   "cell_type": "markdown",
   "id": "49431e93",
   "metadata": {},
   "source": [
    "### Create a Chart\n",
    "\n",
    "We will create a line chart using Pandas.   Is a line chart the best way to present this data?  What would be a better chart to use?"
   ]
  },
  {
   "cell_type": "code",
   "execution_count": null,
   "id": "b14b52e2",
   "metadata": {},
   "outputs": [],
   "source": [
    "#Line chart\n",
    "df.plot(x='carmodel', y='mpg', kind='line', title=\"MPG by Car\") "
   ]
  },
  {
   "cell_type": "markdown",
   "id": "ad32164a",
   "metadata": {},
   "source": [
    "### Aggregate Data for a Summary Chart\n",
    "\n",
    "Next we will summarize the data into a new dataframe.   Then create a chart with the aggregated data."
   ]
  },
  {
   "cell_type": "code",
   "execution_count": null,
   "id": "8f1eb913",
   "metadata": {},
   "outputs": [],
   "source": [
    "df2 = df['cyl'].value_counts()\n",
    "print(df2)"
   ]
  },
  {
   "cell_type": "code",
   "execution_count": null,
   "id": "353a4056",
   "metadata": {},
   "outputs": [],
   "source": [
    "df2.plot(kind='pie', title='Distribution of Cars by Cylinders')"
   ]
  }
 ],
 "metadata": {
  "language_info": {
   "name": "python"
  }
 },
 "nbformat": 4,
 "nbformat_minor": 5
}
