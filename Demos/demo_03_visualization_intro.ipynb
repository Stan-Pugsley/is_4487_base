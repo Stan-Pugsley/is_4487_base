{
 "cells": [
  {
   "cell_type": "markdown",
   "id": "4a493380",
   "metadata": {},
   "source": [
    "# IS4487 Week 3 - Practice Code\n",
    "\n",
    "This notebook is designed to help you follow along with the **Week 3 Lecture and Reading** \n",
    "\n",
    "The practice code demos are intended to give you a chance to see working code and can be a source for your lap and assignment work.  Each section contains short explanations and annotated code that reflect the steps in the reading.\n",
    "\n",
    "### Topics for this demo:\n",
    "- Create charts from full dataframe\n",
    "- Aggregate data for a chart\n",
    "\n",
    "<a href=\"https://colab.research.google.com/github/Stan-Pugsley/is_4487_base/blob/main/Demos/demo_03_visualization_intro.ipynb\" target=\"_parent\"><img src=\"https://colab.research.google.com/assets/colab-badge.svg\" alt=\"Open In Colab\"/></a>\n"
   ]
  },
  {
   "cell_type": "markdown",
   "id": "9d50b81b",
   "metadata": {},
   "source": [
    "### Import libraries\n",
    " \n",
    "We will import two libraries\n",
    "- Pandas, which is like Excel for Python.  It creates 2-dimensional data frames and lets you work with the rows and columns.  \n",
    "- StatsModels has sample data for use in experimenting with Python"
   ]
  },
  {
   "cell_type": "code",
   "execution_count": null,
   "id": "4630f356",
   "metadata": {},
   "outputs": [],
   "source": [
    "import pandas as pd\n",
    "import statsmodels.api as sm"
   ]
  },
  {
   "cell_type": "markdown",
   "id": "f4528a1c",
   "metadata": {},
   "source": [
    "### Import Sample Data\n",
    "\n",
    "Import the data that was used in lab 1"
   ]
  },
  {
   "cell_type": "code",
   "execution_count": null,
   "id": "577c29d2",
   "metadata": {},
   "outputs": [],
   "source": [
    "mtcars = sm.datasets.get_rdataset(\"mtcars\", \"datasets\", cache=True).data\n",
    "df = pd.DataFrame(mtcars)\n",
    "df['carmodel'] = df.index\n",
    "print(df)"
   ]
  },
  {
   "cell_type": "markdown",
   "id": "49431e93",
   "metadata": {},
   "source": [
    "### Create a Chart\n",
    "\n",
    "We will create a line chart using Pandas"
   ]
  },
  {
   "cell_type": "code",
   "execution_count": null,
   "id": "b14b52e2",
   "metadata": {},
   "outputs": [],
   "source": [
    "#Line chart\n",
    "df.plot(x='carmodel', y='mpg', kind='line', title=\"MPG by Car\") "
   ]
  }
 ],
 "metadata": {
  "language_info": {
   "name": "python"
  }
 },
 "nbformat": 4,
 "nbformat_minor": 5
}
