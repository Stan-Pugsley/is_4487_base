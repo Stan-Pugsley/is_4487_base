{
 "cells": [
  {
   "cell_type": "markdown",
   "id": "4a493380",
   "metadata": {},
   "source": [
    "# IS4487 Week 9 - Practice Code\n",
    "\n",
    "This notebook is designed to help you follow along with the **Week 9 Lecture and Reading**, introducing you to segmentation through clustering.\n",
    "\n",
    "The practice code demos are intended to give you a chance to see working code and can be a source for your lap and assignment work.  Each section contains short explanations and annotated code that reflect the steps in the reading.\n",
    "\n",
    "### Topics for this demo:\n",
    "- Use K-Means for Segmentation\n",
    "- Plot the results\n",
    "\n",
    "<a href=\"https://colab.research.google.com/github/Stan-Pugsley/is_4487_base/blob/main/Demos/demo_09_clustering.ipynb\" target=\"_parent\"><img src=\"https://colab.research.google.com/assets/colab-badge.svg\" alt=\"Open In Colab\"/></a>\n"
   ]
  },
  {
   "cell_type": "markdown",
   "id": "43ee5bfd",
   "metadata": {},
   "source": [
    "### Context: Customer Segmentation\n",
    "We will use a simple dataset using the following retail shopper characteristics\n",
    "\n",
    "| Feature     | Description                                          | Type        |\n",
    "| ----------- | ---------------------------------------------------- | ----------- |\n",
    "| `visits`       | Number of visits in the last 2 years        | Numeric     |\n",
    "| `spending`   | Total amount spent in the last 2 years           | Numeric |\n",
    "| `annual income`   | Annual income in thousands of dollars             | Numeric     |\n",
    "| `customer ID`   | customer ID number                        | Numeric |\n",
    "\n",
    "There is no target variable!  You will be grouping the customers "
   ]
  },
  {
   "cell_type": "markdown",
   "id": "50934fdf",
   "metadata": {},
   "source": [
    "### KMeans Segmentation\n",
    "\n",
    "K-Means is an unsupervised learning algorithm that groups data into k clusters by minimizing the distance between points and their cluster’s center. It iteratively assigns points to the nearest centroid and updates centroids until the solution stabilizes."
   ]
  },
  {
   "cell_type": "code",
   "execution_count": null,
   "id": "6d6b7dcd",
   "metadata": {},
   "outputs": [],
   "source": [
    "import pandas as pd\n",
    "import matplotlib.pyplot as plt\n",
    "from sklearn.cluster import KMeans\n",
    "from sklearn.preprocessing import StandardScaler\n",
    "\n",
    "# Sample customer data\n",
    "data = {\n",
    "    'CustomerID': [1, 2, 3, 4, 5, 6, 7, 8, 9, 10, 11, 12, 13, 14, 15],\n",
    "    'Spending': [300, 450, 290, 1600, 1700, 1720, 700, 500, 900, 1000, 705, 790, 410, 520, 850],\n",
    "    'Visits': [3,4,3,16,17,17,7,5,8,9,7,8,4,5,9],\n",
    "    'Annual Income (k$)': [60, 82, 85, 220, 200, 210, 150, 142, 180, 205, 144, 160, 80, 104, 145]\n",
    "}\n",
    "\n",
    "\n",
    "# Create DataFrame\n",
    "df = pd.DataFrame(data)"
   ]
  },
  {
   "cell_type": "markdown",
   "id": "5353e540",
   "metadata": {},
   "source": [
    "Prepare Data"
   ]
  },
  {
   "cell_type": "code",
   "execution_count": null,
   "id": "fd6eee1b",
   "metadata": {},
   "outputs": [],
   "source": [
    "\n",
    "# Features for clustering\n",
    "X = df[['Annual Income (k$)', 'Spending', 'Visits']]\n",
    "\n",
    "# Scale features\n",
    "scaler = StandardScaler()\n",
    "X_scaled = scaler.fit_transform(X)"
   ]
  },
  {
   "cell_type": "markdown",
   "id": "82c4afd0",
   "metadata": {},
   "source": [
    "Create Model"
   ]
  },
  {
   "cell_type": "code",
   "execution_count": null,
   "id": "02d62cc3",
   "metadata": {},
   "outputs": [],
   "source": [
    "# Apply K-Means\n",
    "kmeans = KMeans(n_clusters=3, random_state=42)\n",
    "df['Cluster'] = kmeans.fit_predict(X_scaled)"
   ]
  },
  {
   "cell_type": "markdown",
   "id": "86d2ca49",
   "metadata": {},
   "source": [
    "Visualize Model"
   ]
  },
  {
   "cell_type": "code",
   "execution_count": null,
   "id": "cdf1ef42",
   "metadata": {},
   "outputs": [],
   "source": [
    "# Plot clusters in using Age and Income\n",
    "plt.figure(figsize=(8, 5))\n",
    "for cluster in df['Cluster'].unique():\n",
    "    cluster_data = df[df['Cluster'] == cluster]\n",
    "    plt.scatter(cluster_data['Annual Income (k$)'], cluster_data['Visits'], label=f'Cluster {cluster}')\n",
    "\n",
    "plt.xlabel('Annual Income (k$)')\n",
    "plt.ylabel('Spending')\n",
    "plt.title('Customer Segmentation (by Visits, Income, Spending)')\n",
    "plt.legend()\n",
    "plt.grid(True)\n",
    "plt.tight_layout()\n",
    "plt.show()"
   ]
  },
  {
   "cell_type": "markdown",
   "id": "24d43618",
   "metadata": {},
   "source": [
    "Visualize Model Again with Centroids"
   ]
  },
  {
   "cell_type": "code",
   "execution_count": null,
   "id": "24dc00a1",
   "metadata": {},
   "outputs": [],
   "source": [
    "import numpy as np\n",
    "from matplotlib.patches import Circle\n",
    "\n",
    "# Plot clusters in using Age and Income\n",
    "plt.figure(figsize=(8, 5))\n",
    "ax = plt.gca() # Get the current axes for adding patches\n",
    "\n",
    "for cluster in df['Cluster'].unique():\n",
    "    cluster_data = df[df['Cluster'] == cluster]\n",
    "    plt.scatter(cluster_data['Annual Income (k$)'], cluster_data['Visits'], label=f'Cluster {cluster}')\n",
    "\n",
    "    # Calculate the center and standard deviation for each cluster\n",
    "    center_x = cluster_data['Annual Income (k$)'].mean()\n",
    "    center_y = cluster_data['Visits'].mean()\n",
    "    radius_x = cluster_data['Annual Income (k$)'].std()\n",
    "    radius_y = cluster_data['Visits'].std()\n",
    "\n",
    "    # Use the larger standard deviation as the radius for a circle\n",
    "    radius = max(radius_x, radius_y)\n",
    "\n",
    "    # Create a circle patch\n",
    "    circle = Circle((center_x, center_y), radius=radius, edgecolor='black', fc='None', lw=2)\n",
    "    ax.add_patch(circle)\n",
    "\n",
    "\n",
    "# Plot centroids\n",
    "centroids = kmeans.cluster_centers_\n",
    "plt.scatter(scaler.inverse_transform(centroids)[:, 0], scaler.inverse_transform(centroids)[:, 2], marker='x', s=100, color='red', label='Centroids')\n",
    "\n",
    "plt.xlabel('Annual Income (k$)')\n",
    "plt.ylabel('Spending')\n",
    "plt.title('Customer Segmentation (by Visits, Income, Spending)')\n",
    "plt.legend()\n",
    "plt.grid(True)\n",
    "plt.tight_layout()\n",
    "plt.show()"
   ]
  }
 ],
 "metadata": {
  "language_info": {
   "name": "python"
  }
 },
 "nbformat": 4,
 "nbformat_minor": 5
}
