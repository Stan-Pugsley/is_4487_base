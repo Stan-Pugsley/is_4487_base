{
 "cells": [
  {
   "cell_type": "markdown",
   "id": "73982c02",
   "metadata": {},
   "source": [
    "# IS4487 Week 5 - Practice Code\n",
    "\n",
    "This notebook is designed to help you follow along with the **Week 4 Lecture and Reading** \n",
    "\n",
    "The practice code demos are intended to give you a chance to see working code and can be a source for your lap and assignment work.  Each section contains short explanations and annotated code that reflect the steps in the reading.\n",
    "\n",
    "### Topics for this demo:\n",
    "- Univariate analysis\n",
    "- Multi-variate analysis\n",
    "\n",
    "<a href=\"https://colab.research.google.com/github/Stan-Pugsley/is_4487_base/blob/main/Demos/demo_05_eda.ipynb\" target=\"_parent\"><img src=\"https://colab.research.google.com/assets/colab-badge.svg\" alt=\"Open In Colab\"/></a>\n"
   ]
  },
  {
   "cell_type": "markdown",
   "id": "f24fa3f4",
   "metadata": {},
   "source": [
    "### Context: e-Commerce Retail Sales\n",
    "This example uses a small set of customer orders available on an e-commerce website\n",
    "- **Order** - OrderDate, OrderId, Quantity\n",
    "- **Customer** - CustomerID\n",
    "- **Product** - Product, Category\n",
    "\n",
    "Your task is to explore the data to understand how each variable behaves in the retail sales process. "
   ]
  },
  {
   "cell_type": "code",
   "execution_count": null,
   "id": "2445a48d",
   "metadata": {},
   "outputs": [],
   "source": [
    "import pandas as pd\n",
    "import matplotlib.pyplot as plt\n",
    "import seaborn as sns\n",
    "\n",
    "data = {\n",
    "    \"OrderID\": [1001, 1002, 1003, 1004, 1005],\n",
    "    \"CustomerID\": [1, 2, 3, 1, 2],\n",
    "    \"Product\": [\"Laptop\", \"Mouse\", \"Keyboard\", \"Mouse\", \"Monitor\"],\n",
    "    \"Category\": [\"Electronics\", \"Accessories\", \"Accessories\", \"Accessories\", \"Electronics\"],\n",
    "    \"Quantity\": [1, 2, 1, 1, 1],\n",
    "    \"Price\": [1200.00, 25.00, 50.00, 25.00, 300.00],\n",
    "    \"OrderDate\": [\"2025-06-01\", \"2025-06-02\", \"2025-06-03\", \"2025-06-01\", \"2025-06-03\"]\n",
    "}\n",
    "\n",
    "# Convert the dataset into a Pandas DataFrame\n",
    "df = pd.DataFrame(data)"
   ]
  },
  {
   "cell_type": "markdown",
   "id": "9850675b",
   "metadata": {},
   "source": [
    "Inspect the Data"
   ]
  },
  {
   "cell_type": "code",
   "execution_count": null,
   "id": "8cc87388",
   "metadata": {},
   "outputs": [],
   "source": [
    "print(df)"
   ]
  },
  {
   "cell_type": "code",
   "execution_count": null,
   "id": "35646001",
   "metadata": {},
   "outputs": [],
   "source": [
    "df.info()"
   ]
  },
  {
   "cell_type": "code",
   "execution_count": null,
   "id": "45ec3dc3",
   "metadata": {},
   "outputs": [],
   "source": [
    "df.describe()"
   ]
  },
  {
   "cell_type": "markdown",
   "id": "fb0ce06e",
   "metadata": {},
   "source": [
    "**Univariate Analysis** (one variable at a time)"
   ]
  },
  {
   "cell_type": "code",
   "execution_count": null,
   "id": "57b825ae",
   "metadata": {},
   "outputs": [],
   "source": [
    "# Product frequency\n",
    "print(df['Product'].value_counts())"
   ]
  },
  {
   "cell_type": "code",
   "execution_count": null,
   "id": "22488bd5",
   "metadata": {},
   "outputs": [],
   "source": [
    "# Unique customers\n",
    "print(\"Unique Customers:\", df['CustomerID'].nunique())"
   ]
  },
  {
   "cell_type": "code",
   "execution_count": null,
   "id": "8bcb376f",
   "metadata": {},
   "outputs": [],
   "source": [
    "# Price historgram\n",
    "plt.figure(figsize=(6, 4))\n",
    "sns.histplot(df['Price'], bins=5, kde=True)\n",
    "plt.title('Distribution of Price')\n",
    "plt.xlabel('Price')\n",
    "plt.ylabel('Density')\n",
    "plt.show()"
   ]
  },
  {
   "cell_type": "markdown",
   "id": "deb8e397",
   "metadata": {},
   "source": [
    "**Bivariate Analysis** (correlation between two variables)"
   ]
  },
  {
   "cell_type": "code",
   "execution_count": null,
   "id": "ba9ebc4a",
   "metadata": {},
   "outputs": [],
   "source": [
    "# Correlation between Quantity and Price\n",
    "correlation = df[['Quantity', 'Price']].corr()\n",
    "print(correlation)"
   ]
  },
  {
   "cell_type": "code",
   "execution_count": null,
   "id": "40ea24a4",
   "metadata": {},
   "outputs": [],
   "source": [
    "# Scatter plot of quantity vs. price\n",
    "plt.figure(figsize=(6, 4))\n",
    "sns.scatterplot(data=df, x='Quantity', y='Price')\n",
    "plt.title('Quantity vs. Price')\n",
    "plt.show()"
   ]
  }
 ],
 "metadata": {
  "language_info": {
   "name": "python"
  }
 },
 "nbformat": 4,
 "nbformat_minor": 5
}
