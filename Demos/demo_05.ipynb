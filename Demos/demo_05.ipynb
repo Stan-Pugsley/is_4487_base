{
 "cells": [
  {
   "cell_type": "markdown",
   "id": "4a493380",
   "metadata": {},
   "source": [
    "# IS4487 Week ## - Practice Code\n",
    "\n",
    "This notebook is designed to help you follow along with the **Week ## Lecture and Reading**, introducing you to Python.\n",
    "\n",
    "The practice code demos are intended to give you a chance to see working code and can be a source for your lap and assignment work.  Each section contains short explanations and annotated code that reflect the steps in the reading.\n",
    "\n",
    "### Topics for this demo:\n",
    "- TBD\n",
    "\n",
    "<a href=\"https://colab.research.google.com/github/Stan-Pugsley/is_4487_base/blob/main/Demos/demo_01_python_intro.ipynb\" target=\"_parent\"><img src=\"https://colab.research.google.com/assets/colab-badge.svg\" alt=\"Open In Colab\"/></a>\n"
   ]
  },
  {
   "cell_type": "code",
   "execution_count": null,
   "id": "ffbeac76",
   "metadata": {},
   "outputs": [],
   "source": [
    "# This is a code cell.  It has code for Python. \n",
    "# If the code starts with a hash/pound, then it is a comment and will be ignored"
   ]
  },
  {
   "cell_type": "markdown",
   "id": "f762c1ce",
   "metadata": {},
   "source": [
    "### Sample Python Code\n",
    "\n",
    "This first example prints a message"
   ]
  },
  {
   "cell_type": "code",
   "execution_count": null,
   "id": "6d6b7dcd",
   "metadata": {},
   "outputs": [],
   "source": [
    "print(\"Hello, World!\")"
   ]
  },
  {
   "cell_type": "markdown",
   "id": "9d50b81b",
   "metadata": {},
   "source": [
    "This next example creates a variable and then prints the value of the variable"
   ]
  },
  {
   "cell_type": "code",
   "execution_count": null,
   "id": "577c29d2",
   "metadata": {},
   "outputs": [],
   "source": [
    "my_variable = \"Hello, World!\"\n",
    "print(my_variable)"
   ]
  },
  {
   "cell_type": "markdown",
   "id": "81006ee9",
   "metadata": {},
   "source": [
    "This last example imports a library to create an artistic version of the message"
   ]
  },
  {
   "cell_type": "code",
   "execution_count": null,
   "id": "62880720",
   "metadata": {},
   "outputs": [],
   "source": [
    "# Install the art library\n",
    "!pip install art\n",
    "\n",
    "# Import the library\n",
    "from art import text2art\n",
    "\n",
    "# Create a variable called my_art, with some text in it\n",
    "my_art = text2art(\"Hello, World!\")\n",
    "\n",
    "# Print variable\n",
    "print(my_art)"
   ]
  }
 ],
 "metadata": {
  "language_info": {
   "name": "python"
  }
 },
 "nbformat": 4,
 "nbformat_minor": 5
}
