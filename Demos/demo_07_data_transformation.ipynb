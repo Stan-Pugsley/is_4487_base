{
 "cells": [
  {
   "cell_type": "markdown",
   "id": "4a493380",
   "metadata": {},
   "source": [
    "# IS4487 Week 7 - Data Transformation\n",
    "\n",
    "This notebook is designed to help you follow along with the **Week 7 Lecture and Reading**, introducing you to Python.\n",
    "\n",
    "The practice code demos are intended to give you a chance to see working code and can be a source for your lap and assignment work.  Each section contains short explanations and annotated code that reflect the steps in the reading.\n",
    "\n",
    "### Topics for this demo:\n",
    "- Preview complex, non-standardized data\n",
    "- Find opportunities for standardization\n",
    "\n",
    "<a href=\"https://colab.research.google.com/github/Stan-Pugsley/is_4487_base/blob/main/Demos/demo_07_data_transformation.ipynb\" target=\"_parent\"><img src=\"https://colab.research.google.com/assets/colab-badge.svg\" alt=\"Open In Colab\"/></a>\n"
   ]
  },
  {
   "cell_type": "markdown",
   "id": "d0b901c1",
   "metadata": {},
   "source": [
    "### Context: X Posts\n",
    "This is a collection of posts from X during the Superbowl Football game.  \n",
    "\n",
    "Important variables include:\n",
    "- **created_at** - date and time of the post\n",
    "- **text** - full text of the post, including any hashtags\n",
    "- **retweet_count** - number of retweets\n",
    "- **reply_count** - number of replies\n",
    "- **like_count** - number of likes\n",
    "\n",
    "Other variables are less useful in their current form.  Your task would be to look for opportunities to extract useful information from those other variables. "
   ]
  },
  {
   "cell_type": "markdown",
   "id": "f762c1ce",
   "metadata": {},
   "source": [
    "#### Import the data into a dataframe"
   ]
  },
  {
   "cell_type": "code",
   "execution_count": null,
   "id": "6d6b7dcd",
   "metadata": {},
   "outputs": [],
   "source": [
    "import pandas as pd \n",
    "df = pd.read_csv('https://github.com/Stan-Pugsley/is_4487_base/blob/main/DataSets/x_superbowl.csv?raw=true')\n",
    "print (df)"
   ]
  },
  {
   "cell_type": "markdown",
   "id": "d85fda1c",
   "metadata": {},
   "source": [
    "#### Explore the data"
   ]
  },
  {
   "cell_type": "code",
   "execution_count": null,
   "id": "34ab6c45",
   "metadata": {},
   "outputs": [],
   "source": [
    "print (df)"
   ]
  },
  {
   "cell_type": "code",
   "execution_count": null,
   "id": "a6dc13cb",
   "metadata": {},
   "outputs": [],
   "source": [
    "df.describe()"
   ]
  },
  {
   "cell_type": "markdown",
   "id": "7cd9ad33",
   "metadata": {},
   "source": [
    "The formatting is so difficult that we will try another Python function to try to preview the posts"
   ]
  },
  {
   "cell_type": "code",
   "execution_count": null,
   "id": "5d9feea0",
   "metadata": {},
   "outputs": [],
   "source": [
    "from IPython.display import display\n",
    "display(df.head(10))"
   ]
  },
  {
   "cell_type": "markdown",
   "id": "db987724",
   "metadata": {},
   "source": [
    "#### **Questions:**\n",
    "- What could we do with the hashtags variable to make it more usable?\n",
    "- How can we clean up the text variable?"
   ]
  }
 ],
 "metadata": {
  "language_info": {
   "name": "python"
  }
 },
 "nbformat": 4,
 "nbformat_minor": 5
}
