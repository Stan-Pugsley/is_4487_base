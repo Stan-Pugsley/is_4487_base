{
 "cells": [
  {
   "cell_type": "markdown",
   "id": "4a493380",
   "metadata": {},
   "source": [
    "# IS4487 Week 6 - Data Cleaning\n",
    "\n",
    "This notebook is designed to help you follow along with the **Week 6 Lecture and Reading**, introducing you to Python.\n",
    "\n",
    "The practice code demos are intended to give you a chance to see working code and can be a source for your lap and assignment work.  Each section contains short explanations and annotated code that reflect the steps in the reading.\n",
    "\n",
    "### Topics for this demo:\n",
    "- View a real-world data file (from epa.gov)\n",
    "- Look for incomplete, outlier, or unusable variables\n",
    "\n",
    "<a href=\"https://colab.research.google.com/github/Stan-Pugsley/is_4487_base/blob/main/Demos/demo_06_data_cleaning.ipynb\" target=\"_parent\"><img src=\"https://colab.research.google.com/assets/colab-badge.svg\" alt=\"Open In Colab\"/></a>\n"
   ]
  },
  {
   "cell_type": "markdown",
   "id": "f762c1ce",
   "metadata": {},
   "source": [
    "### Import the data\n",
    "\n",
    "Import the data into a dataframe"
   ]
  },
  {
   "cell_type": "code",
   "execution_count": null,
   "id": "6d6b7dcd",
   "metadata": {},
   "outputs": [],
   "source": [
    "import pandas as pd \n",
    "df = pd.read_csv('https://github.com/Stan-Pugsley/is_4487_base/blob/main/DataSets/air_quality_by_county.csv?raw=true')\n",
    "print (df)"
   ]
  },
  {
   "cell_type": "markdown",
   "id": "cd7ad954",
   "metadata": {},
   "source": [
    "Get descriptive statistics for the dataset"
   ]
  },
  {
   "cell_type": "code",
   "execution_count": null,
   "id": "1e5e4737",
   "metadata": {},
   "outputs": [],
   "source": [
    "df.describe()"
   ]
  },
  {
   "cell_type": "markdown",
   "id": "bee98d19",
   "metadata": {},
   "source": [
    "Check if all 50 states are included"
   ]
  },
  {
   "cell_type": "code",
   "execution_count": null,
   "id": "ab043bee",
   "metadata": {},
   "outputs": [],
   "source": [
    "df['State'].value_counts()"
   ]
  },
  {
   "cell_type": "markdown",
   "id": "817062c0",
   "metadata": {},
   "source": [
    "**Questions:**\n",
    "- Are there some counties with too few days to be considered a valid sample?\n",
    "- Are there any outliers?  How should we handle them?\n",
    "- Are there null/NA values?"
   ]
  }
 ],
 "metadata": {
  "language_info": {
   "name": "python"
  }
 },
 "nbformat": 4,
 "nbformat_minor": 5
}
