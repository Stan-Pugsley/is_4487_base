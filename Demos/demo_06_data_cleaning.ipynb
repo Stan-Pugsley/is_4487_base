{
 "cells": [
  {
   "cell_type": "markdown",
   "id": "4a493380",
   "metadata": {},
   "source": [
    "# IS4487 Week 6 - Data Cleaning\n",
    "\n",
    "This notebook is designed to help you follow along with the **Week 6 Lecture and Reading**, introducing you to Python.\n",
    "\n",
    "The practice code demos are intended to give you a chance to see working code and can be a source for your lap and assignment work.  Each section contains short explanations and annotated code that reflect the steps in the reading.\n",
    "\n",
    "### Topics for this demo:\n",
    "- View a real-world data file (from epa.gov)\n",
    "- Look for incomplete, outlier, or unusable variables\n",
    "\n",
    "<a href=\"https://colab.research.google.com/github/Stan-Pugsley/is_4487_base/blob/main/Demos/demo_06_data_cleaning.ipynb\" target=\"_parent\"><img src=\"https://colab.research.google.com/assets/colab-badge.svg\" alt=\"Open In Colab\"/></a>\n"
   ]
  },
  {
   "cell_type": "markdown",
   "id": "2a61349e",
   "metadata": {},
   "source": [
    "### Context: Air Quality Data\n",
    "This example uses real-world data from the US Environmental Protection Agency (EPA)\n",
    "- **Geography** - State, County\n",
    "- **Day Counts** - Good Days, Moderate Days, Unhealthy Days, etc.\n",
    "- **Statistics** - Max AQI, 90th % AQI, Median AQI\n",
    "- **Defining Pollutant** - Days CO, Days NO2, Days Ozone, Days PM2.5, Days PM10.   (This is the polutant that is highest or dominant on a particular day)\n",
    "\n",
    "\n",
    "\n",
    "| **AQI Range** | **Category**                   | **Color** | **Health Implications**                                                                 |\n",
    "| ------------- | ------------------------------ | --------- | --------------------------------------------------------------------------------------- |\n",
    "| 0 – 50        | Good                           | Green     | Air quality is considered satisfactory, and air pollution poses little or no risk.      |\n",
    "| 51 – 100      | Moderate                       | Yellow    | Acceptable; some pollutants may be a concern for very sensitive individuals.            |\n",
    "| 101 – 150     | Unhealthy for Sensitive Groups | Orange    | Sensitive groups (children, elderly, etc.) may experience health effects.               |\n",
    "| 151 – 200     | Unhealthy                      | Red       | Everyone may begin to experience health effects; sensitive groups may feel more severe. |\n",
    "| 201 – 300     | Very Unhealthy                 | Purple    | Health alert: everyone may experience more serious health effects.                      |\n",
    "| 301 – 500     | Hazardous                      | Maroon    | Health warnings of emergency conditions. The entire population is more likely affected. |\n",
    "\n",
    "Your task is to look for data quality issues and identify ways to clean them "
   ]
  },
  {
   "cell_type": "markdown",
   "id": "f762c1ce",
   "metadata": {},
   "source": [
    "### Import the data\n",
    "\n",
    "Import the data into a dataframe"
   ]
  },
  {
   "cell_type": "code",
   "execution_count": null,
   "id": "6d6b7dcd",
   "metadata": {},
   "outputs": [],
   "source": [
    "import pandas as pd \n",
    "df = pd.read_csv('https://github.com/Stan-Pugsley/is_4487_base/blob/main/DataSets/air_quality_by_county.csv?raw=true')\n",
    "print (df)"
   ]
  },
  {
   "cell_type": "markdown",
   "id": "cd7ad954",
   "metadata": {},
   "source": [
    "Get descriptive statistics for the dataset"
   ]
  },
  {
   "cell_type": "code",
   "execution_count": null,
   "id": "1e5e4737",
   "metadata": {},
   "outputs": [],
   "source": [
    "df.describe()"
   ]
  },
  {
   "cell_type": "markdown",
   "id": "bee98d19",
   "metadata": {},
   "source": [
    "Check if all 50 states are included"
   ]
  },
  {
   "cell_type": "code",
   "execution_count": null,
   "id": "ab043bee",
   "metadata": {},
   "outputs": [],
   "source": [
    "df['State'].value_counts()"
   ]
  },
  {
   "cell_type": "markdown",
   "id": "817062c0",
   "metadata": {},
   "source": [
    "**Questions:**\n",
    "- Are there some counties with too few days to be considered a valid sample?\n",
    "- Are there any outliers?  How should we handle them?\n",
    "- Are there null/NA values?"
   ]
  },
  {
   "cell_type": "code",
   "execution_count": null,
   "id": "eff34538",
   "metadata": {},
   "outputs": [],
   "source": [
    "# remove records with a missing county\n",
    "df = df[df['County'].notna()] "
   ]
  },
  {
   "cell_type": "code",
   "execution_count": null,
   "id": "52d9f042",
   "metadata": {},
   "outputs": [],
   "source": [
    "# remove records with less than a specified number of days\n",
    "df_filtered = df[df['Days with AQI'] >= 500]"
   ]
  }
 ],
 "metadata": {
  "language_info": {
   "name": "python"
  }
 },
 "nbformat": 4,
 "nbformat_minor": 5
}
