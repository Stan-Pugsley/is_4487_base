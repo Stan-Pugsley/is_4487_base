{
 "cells": [
  {
   "cell_type": "markdown",
   "id": "19ffd76f",
   "metadata": {},
   "source": [
    "# IS4487 Week 10 - Practice Code\n",
    "\n",
    "This notebook is designed to help you follow along with the **Week 10 Lecture and Reading**, introducing you to Classification.\n",
    "\n",
    "The practice code demos are intended to give you a chance to see working code and can be a source for your lap and assignment work.  Each section contains short explanations and annotated code that reflect the steps in the reading.\n",
    "\n",
    "### Topics for this demo:\n",
    "- Create a classification tree\n",
    "- Visualize the tree output\n",
    "\n",
    "<a href=\"https://colab.research.google.com/github/Stan-Pugsley/is_4487_base/blob/main/Demos/demo_10_classification.ipynb\" target=\"_parent\"><img src=\"https://colab.research.google.com/assets/colab-badge.svg\" alt=\"Open In Colab\"/></a>\n"
   ]
  },
  {
   "cell_type": "markdown",
   "id": "f94c974a",
   "metadata": {},
   "source": [
    "### Context: Financial Services Marketing\n",
    "We will use a classic UCI banking dataset.  Variables include:\n",
    "\n",
    "| Feature     | Description                                          | Type        |\n",
    "| ----------- | ---------------------------------------------------- | ----------- |\n",
    "| `age`       | Age of the client                                    | Numeric     |\n",
    "| `default`   | Has credit in default? (yes/no)                      | Categorical |\n",
    "| `balance`   | Average yearly account balance in euros              | Numeric     |\n",
    "| `housing`   | Has housing loan? (yes/no)                           | Categorical |\n",
    "| `loan`      | Has personal loan? (yes/no)                          | Categorical |\n",
    "| `y`         | Target: Subscribed to term deposit? (yes/no)         | Categorical |\n",
    "\n",
    "Your task is to predict whether a client will subscribe to a term deposit (yes/no) based on various attributes from a bank marketing campaign.  A `term deposit` is a fixed-timeframe investment like a CD or bond."
   ]
  },
  {
   "cell_type": "markdown",
   "id": "baa821b0",
   "metadata": {},
   "source": [
    "### Classification Tree\n",
    "\n",
    "This model will evaluate each variable to determine the best split and order to predict the target variable."
   ]
  },
  {
   "cell_type": "code",
   "execution_count": null,
   "id": "d349916c",
   "metadata": {},
   "outputs": [],
   "source": [
    "import pandas as pd\n",
    "from sklearn.model_selection import train_test_split\n",
    "from sklearn.tree import DecisionTreeClassifier, plot_tree\n",
    "from sklearn.metrics import accuracy_score\n",
    "import matplotlib.pyplot as plt\n",
    "\n",
    "# Load dataset with a semi column separator\n",
    "url = \"https://raw.githubusercontent.com/Stan-Pugsley/is_4487_base/refs/heads/main/DataSets/bank_subscription.csv\"\n",
    "df = pd.read_csv(url, sep=';')"
   ]
  },
  {
   "cell_type": "markdown",
   "id": "aeb8a122",
   "metadata": {},
   "source": [
    "Prepare Data, Split Dataset"
   ]
  },
  {
   "cell_type": "code",
   "execution_count": null,
   "id": "0e4df561",
   "metadata": {},
   "outputs": [],
   "source": [
    "# Columns to use\n",
    "features = ['age', 'default', 'balance', 'housing', 'loan']\n",
    "target = 'y'\n",
    "\n",
    "# Replace 'yes'/'no' with 1/0 in features and target\n",
    "binary_cols = ['default', 'housing', 'loan', 'y']\n",
    "df[binary_cols] = df[binary_cols].replace({'yes': 1, 'no': 0})\n",
    "\n",
    "# Features and label\n",
    "X = df[features]\n",
    "y = df[target]\n",
    "\n",
    "# Train/test split\n",
    "X_train, X_test, y_train, y_test = train_test_split(X, y, test_size=0.2, random_state=42)"
   ]
  },
  {
   "cell_type": "markdown",
   "id": "f8eb0e23",
   "metadata": {},
   "source": [
    "Create Model"
   ]
  },
  {
   "cell_type": "code",
   "execution_count": null,
   "id": "f9840ffe",
   "metadata": {},
   "outputs": [],
   "source": [
    "# Train decision tree\n",
    "clf = DecisionTreeClassifier(max_depth=4, random_state=42)\n",
    "clf.fit(X_train, y_train)"
   ]
  },
  {
   "cell_type": "markdown",
   "id": "6678b3b1",
   "metadata": {},
   "source": [
    "Create Visualization"
   ]
  },
  {
   "cell_type": "code",
   "execution_count": null,
   "id": "6205df7c",
   "metadata": {},
   "outputs": [],
   "source": [
    "# Plot decision tree\n",
    "plt.figure(figsize=(12, 6))\n",
    "plot_tree(clf, filled=True, feature_names=X.columns, class_names=[\"No\", \"Yes\"])\n",
    "plt.title(\"Decision Tree: Predicting Term Deposit Subscription\")\n",
    "plt.show()"
   ]
  },
  {
   "cell_type": "markdown",
   "id": "a0f01cf1",
   "metadata": {},
   "source": [
    "Evaluate the Tree"
   ]
  },
  {
   "cell_type": "code",
   "execution_count": null,
   "id": "649fd155",
   "metadata": {},
   "outputs": [],
   "source": [
    "from sklearn.metrics import precision_score, recall_score, f1_score\n",
    "\n",
    "# Calculate precision, recall, and F1-score\n",
    "precision = precision_score(y_test, y_pred)\n",
    "recall = recall_score(y_test, y_pred)\n",
    "f1 = f1_score(y_test, y_pred)\n",
    "y_pred = clf.predict(X_test)\n",
    "\n",
    "\n",
    "# Display the metrics\n",
    "print(f\"Precision: {precision:.2f}\")\n",
    "print(f\"Recall: {recall:.2f}\")\n",
    "print(f\"F1-score: {f1:.2f}\")\n",
    "print(f\"Accuracy: {accuracy_score(y_test, y_pred):.2f}\")"
   ]
  }
 ],
 "metadata": {
  "language_info": {
   "name": "python"
  }
 },
 "nbformat": 4,
 "nbformat_minor": 5
}
