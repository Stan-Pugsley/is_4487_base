{
 "cells": [
  {
   "cell_type": "markdown",
   "id": "4a493380",
   "metadata": {},
   "source": [
    "# IS4487 Week 4 - Practice Code\n",
    "\n",
    "This notebook is designed to help you follow along with the **Week 4 Lecture and Reading** \n",
    "\n",
    "The practice code demos are intended to give you a chance to see working code and can be a source for your lap and assignment work.  Each section contains short explanations and annotated code that reflect the steps in the reading.\n",
    "\n",
    "### Topics for this demo:\n",
    "- Import libraries\n",
    "- Profile the data\n",
    "- Do basic data exploration\n",
    "\n",
    "<a href=\"https://colab.research.google.com/github/Stan-Pugsley/is_4487_base/blob/main/Demos/demo_01_python_intro.ipynb\" target=\"_parent\"><img src=\"https://colab.research.google.com/assets/colab-badge.svg\" alt=\"Open In Colab\"/></a>\n"
   ]
  },
  {
   "cell_type": "markdown",
   "id": "81006ee9",
   "metadata": {},
   "source": [
    "Import libraries"
   ]
  },
  {
   "cell_type": "code",
   "execution_count": null,
   "id": "7928b385",
   "metadata": {},
   "outputs": [],
   "source": [
    "import pandas as pd"
   ]
  },
  {
   "cell_type": "markdown",
   "id": "99d6e212",
   "metadata": {},
   "source": [
    "Import Data"
   ]
  },
  {
   "cell_type": "code",
   "execution_count": null,
   "id": "62880720",
   "metadata": {},
   "outputs": [],
   "source": [
    "data = {\n",
    "    \"OrderID\": [1001, 1002, 1003, 1004, 1005],\n",
    "    \"CustomerID\": [1, 2, 3, 1, 2],\n",
    "    \"Product\": [\"Laptop\", \"Mouse\", \"Keyboard\", \"Mouse\", \"Monitor\"],\n",
    "    \"Category\": [\"Electronics\", \"Accessories\", \"Accessories\", \"Accessories\", \"Electronics\"],\n",
    "    \"Quantity\": [1, 2, 1, 1, 1],\n",
    "    \"Price\": [1200.00, 25.00, 50.00, 25.00, 300.00],\n",
    "    \"OrderDate\": [\"2025-06-01\", \"2025-06-02\", \"2025-06-03\", \"2025-06-01\", \"2025-06-03\"]\n",
    "}\n",
    "\n",
    "# Convert the dataset into a Pandas DataFrame\n",
    "df = pd.DataFrame(data)"
   ]
  },
  {
   "cell_type": "markdown",
   "id": "8aa3ac31",
   "metadata": {},
   "source": [
    "Inspect the Data"
   ]
  },
  {
   "cell_type": "code",
   "execution_count": null,
   "id": "d0f882c5",
   "metadata": {},
   "outputs": [],
   "source": [
    "print(df)"
   ]
  },
  {
   "cell_type": "code",
   "execution_count": null,
   "id": "11c0337f",
   "metadata": {},
   "outputs": [],
   "source": [
    "df.info()"
   ]
  },
  {
   "cell_type": "code",
   "execution_count": null,
   "id": "03ed182f",
   "metadata": {},
   "outputs": [],
   "source": [
    "df.describe()"
   ]
  },
  {
   "cell_type": "markdown",
   "id": "c41e8dae",
   "metadata": {},
   "source": [
    "Basic Data Exploration"
   ]
  },
  {
   "cell_type": "code",
   "execution_count": null,
   "id": "b1c8204f",
   "metadata": {},
   "outputs": [],
   "source": [
    "#Total sales per product\"\n",
    "df.groupby(\"Product\")[\"Price\"].sum()"
   ]
  },
  {
   "cell_type": "code",
   "execution_count": null,
   "id": "2f13dc84",
   "metadata": {},
   "outputs": [],
   "source": [
    "#Average quantity purchased by category:\")\n",
    "df.groupby(\"Category\")[\"Quantity\"].mean()"
   ]
  }
 ],
 "metadata": {
  "language_info": {
   "name": "python"
  }
 },
 "nbformat": 4,
 "nbformat_minor": 5
}
