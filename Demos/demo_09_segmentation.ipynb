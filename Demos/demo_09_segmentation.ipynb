{
 "cells": [
  {
   "cell_type": "markdown",
   "id": "4a493380",
   "metadata": {},
   "source": [
    "# IS4487 Week 9 - Practice Code\n",
    "\n",
    "This notebook is designed to help you follow along with the **Week 9 Lecture and Reading**, introducing you to segmentation\n",
    "\n",
    "The practice code demos are intended to give you a chance to see working code and can be a source for your lap and assignment work.  Each section contains short explanations and annotated code that reflect the steps in the reading.\n",
    "\n",
    "### Topics for this demo:\n",
    "- Use K-Means for Segmentation\n",
    "- Plot the results\n",
    "\n",
    "<a href=\"https://colab.research.google.com/github/Stan-Pugsley/is_4487_base/blob/main/Demos/demo_09_segmentation.ipynb\" target=\"_parent\"><img src=\"https://colab.research.google.com/assets/colab-badge.svg\" alt=\"Open In Colab\"/></a>\n"
   ]
  },
  {
   "cell_type": "markdown",
   "id": "43ee5bfd",
   "metadata": {},
   "source": [
    "### Context: Customer Segmentation\n",
    "We will use a simple dataset using the following retail shopper characteristics\n",
    "\n",
    "| Feature     | Description                                          | Type        |\n",
    "| ----------- | ---------------------------------------------------- | ----------- |\n",
    "| `age`       | Age of the customer                                    | Numeric     |\n",
    "| `gender`   | Gencer (male/female)               | Categorical |\n",
    "| `annual income`   | Annual income in thousands of dollars             | Numeric     |\n",
    "| `customer ID`   | customer ID number                        | Numeric |\n",
    "\n",
    "There is no target variable!  You will be grouping the customers "
   ]
  },
  {
   "cell_type": "markdown",
   "id": "50934fdf",
   "metadata": {},
   "source": [
    "### KMeans Segmentation\n",
    "\n",
    "K-Means is an unsupervised learning algorithm that groups data into k clusters by minimizing the distance between points and their cluster’s center. It iteratively assigns points to the nearest centroid and updates centroids until the solution stabilizes."
   ]
  },
  {
   "cell_type": "code",
   "execution_count": null,
   "id": "6d6b7dcd",
   "metadata": {},
   "outputs": [],
   "source": [
    "import pandas as pd\n",
    "import matplotlib.pyplot as plt\n",
    "from sklearn.cluster import KMeans\n",
    "from sklearn.preprocessing import StandardScaler\n",
    "\n",
    "# Sample customer data\n",
    "data = {\n",
    "    'CustomerID': [1, 2, 3, 4, 5, 6, 7, 8, 9, 10],\n",
    "    'Gender': ['Male', 'Female', 'Female', 'Male', 'Female', 'Male', 'Female', 'Male', 'Male', 'Female'],\n",
    "    'Age': [23, 45, 31, 22, 41, 36, 29, 48, 50, 27],\n",
    "    'Annual Income (k$)': [15, 16, 17, 18, 100, 110, 120, 130, 140, 150]\n",
    "}\n",
    "\n",
    "# Create DataFrame\n",
    "df = pd.DataFrame(data)"
   ]
  },
  {
   "cell_type": "markdown",
   "id": "5353e540",
   "metadata": {},
   "source": [
    "Prepare Data"
   ]
  },
  {
   "cell_type": "code",
   "execution_count": null,
   "id": "fd6eee1b",
   "metadata": {},
   "outputs": [],
   "source": [
    "# Convert gender to numeric\n",
    "df['Gender'] = df['Gender'].replace({'Male': 0, 'Female': 1})\n",
    "\n",
    "# Features for clustering\n",
    "X = df[['Annual Income (k$)', 'Age', 'Gender']]\n",
    "\n",
    "# Scale features\n",
    "scaler = StandardScaler()\n",
    "X_scaled = scaler.fit_transform(X)"
   ]
  },
  {
   "cell_type": "markdown",
   "id": "82c4afd0",
   "metadata": {},
   "source": [
    "Create Model"
   ]
  },
  {
   "cell_type": "code",
   "execution_count": null,
   "id": "02d62cc3",
   "metadata": {},
   "outputs": [],
   "source": [
    "# Apply K-Means\n",
    "kmeans = KMeans(n_clusters=3, random_state=42)\n",
    "df['Cluster'] = kmeans.fit_predict(X_scaled)"
   ]
  },
  {
   "cell_type": "markdown",
   "id": "86d2ca49",
   "metadata": {},
   "source": [
    "Visualize Model"
   ]
  },
  {
   "cell_type": "code",
   "execution_count": null,
   "id": "cdf1ef42",
   "metadata": {},
   "outputs": [],
   "source": [
    "# Plot clusters in using Age and Income\n",
    "plt.figure(figsize=(8, 5))\n",
    "for cluster in df['Cluster'].unique():\n",
    "    cluster_data = df[df['Cluster'] == cluster]\n",
    "    plt.scatter(cluster_data['Annual Income (k$)'], cluster_data['Age'], label=f'Cluster {cluster}')\n",
    "\n",
    "plt.xlabel('Annual Income (k$)')\n",
    "plt.ylabel('Age')\n",
    "plt.title('Customer Segmentation (by Age, Income, Gender)')\n",
    "plt.legend()\n",
    "plt.grid(True)\n",
    "plt.tight_layout()\n",
    "plt.show()"
   ]
  }
 ],
 "metadata": {
  "language_info": {
   "name": "python"
  }
 },
 "nbformat": 4,
 "nbformat_minor": 5
}
