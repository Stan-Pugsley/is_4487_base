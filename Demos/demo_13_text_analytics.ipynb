{
 "cells": [
  {
   "cell_type": "markdown",
   "metadata": {},
   "source": [
    "# IS4487 Week 13 - Practice Code\n",
    "\n",
    "This notebook accompanies the **Week 13 Reading** on unsupervised learning. It provides hands-on Python code to follow along with the clustering techniques covered in the reading:\n",
    "\n",
    "Coming soon...\n",
    "\n",
    "<a href=\"https://colab.research.google.com/github/Stan-Pugsley/is_4487_base/blob/main/Demos/demo_13_text_analytics.ipynb\" target=\"_parent\"><img src=\"https://colab.research.google.com/assets/colab-badge.svg\" alt=\"Open In Colab\"/></a>\n",
    "\n"
   ]
  }
 ],
 "metadata": {
  "language_info": {
   "name": "python"
  }
 },
 "nbformat": 4,
 "nbformat_minor": 2
}
