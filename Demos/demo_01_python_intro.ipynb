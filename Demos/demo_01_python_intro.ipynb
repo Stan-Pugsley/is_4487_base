{
 "cells": [
  {
   "cell_type": "markdown",
   "id": "4a493380",
   "metadata": {},
   "source": [
    "# IS4487 Week 1 - Practice Code\n",
    "\n",
    "This notebook is designed to help you follow along with the **Week 1 Lecture and Reading**, introducing you to Python.\n",
    "\n",
    "The practice code demos are intended to give you a chance to see working code and can be a source for your lap and assignment work.  Each section contains short explanations and annotated code that reflect the steps in the reading.\n",
    "\n",
    "### Topics for this demo:\n",
    "- How to use Colab\n",
    "- Importing libraries\n",
    "- Creating a simple output from Python\n",
    "- Save your output to PDF\n",
    "\n",
    "<a href=\"https://colab.research.google.com/github/Stan-Pugsley/is_4487_base/blob/main/Demos/demo_01_python_intro.ipynb\" target=\"_parent\"><img src=\"https://colab.research.google.com/assets/colab-badge.svg\" alt=\"Open In Colab\"/></a>\n"
   ]
  },
  {
   "cell_type": "markdown",
   "id": "201472fc",
   "metadata": {},
   "source": [
    "### This is a \"Markdown\" cell\n",
    "\n",
    "You can use this type of box to give descriptions of what you are trying to accomplish\n"
   ]
  },
  {
   "cell_type": "code",
   "execution_count": null,
   "id": "ffbeac76",
   "metadata": {},
   "outputs": [],
   "source": [
    "# This is a code cell.  It has code for Python. \n",
    "# If the code starts with a hash/pound, then it is a comment and will be ignored"
   ]
  },
  {
   "cell_type": "markdown",
   "id": "f762c1ce",
   "metadata": {},
   "source": [
    "### Sample Python Code\n",
    "\n",
    "This code will show some basic commands in Python"
   ]
  },
  {
   "cell_type": "code",
   "execution_count": null,
   "id": "62880720",
   "metadata": {},
   "outputs": [],
   "source": [
    "# Import a library\n",
    "import pyfiglet\n",
    "\n",
    "# Create a variable called my_art, with some text in it\n",
    "my_art = pyfiglet.figlet_format(\"Hello, World!\")\n",
    "\n",
    "# Print variable\n",
    "print(my_art)"
   ]
  },
  {
   "cell_type": "markdown",
   "id": "a6a8b4cc",
   "metadata": {},
   "source": [
    "## Export Your Notebook to Submit in Canvas\n",
    "- Go to File > Download\n",
    "- Click \"Upload to Session Storage\" icon\n",
    "- Convert the file to HTML using the code below.  You can find the output file in your Google Drive under the Colab Notebooks folder.  This is the file for you to upload to Canvas.\n",
    "- Download your HTML file as your completed assignment"
   ]
  },
  {
   "cell_type": "code",
   "execution_count": null,
   "id": "dc36a7e3",
   "metadata": {},
   "outputs": [],
   "source": [
    "from google.colab import drive\n",
    "drive.mount('/content/drive')\n",
    "\n",
    "!jupyter nbconvert --to html \"demo_01_python_intro.ipynb\""
   ]
  }
 ],
 "metadata": {
  "language_info": {
   "name": "python"
  }
 },
 "nbformat": 4,
 "nbformat_minor": 5
}
