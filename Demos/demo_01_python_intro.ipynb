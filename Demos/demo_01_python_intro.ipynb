{
  "cells": [
    {
      "cell_type": "markdown",
      "id": "4a493380",
      "metadata": {
        "id": "4a493380"
      },
      "source": [
        "# IS4487 Week 1 - Practice Code\n",
        "\n",
        "This notebook is designed to help you follow along with the **Week 1 Lecture and Reading**, introducing you to Python.\n",
        "\n",
        "The practice code demos are intended to give you a chance to see working code and can be a source for your lab and assignment work.  Each section contains short explanations and annotated code that reflect the steps in the reading.\n",
        "\n",
        "### Topics for this demo:\n",
        "- How to use Colab\n",
        "- Importing libraries\n",
        "- Creating a simple output from Python\n",
        "\n",
        "<a href=\"https://colab.research.google.com/github/vandanara/UofUtah_IS4487/blob/main/Demos/demo_01_python_intro.ipynb\" target=\"_parent\"><img src=\"https://colab.research.google.com/assets/colab-badge.svg\" alt=\"Open In Colab\"/></a>\n"
      ]
    },
    {
      "cell_type": "markdown",
      "id": "201472fc",
      "metadata": {
        "id": "201472fc"
      },
      "source": [
        "### This is a \"Markdown\" cell\n",
        "\n",
        "You can use this type of box to give descriptions of what you are trying to accomplish\n"
      ]
    },
    {
      "cell_type": "code",
      "execution_count": null,
      "id": "ffbeac76",
      "metadata": {
        "id": "ffbeac76"
      },
      "outputs": [],
      "source": [
        "# This is a code cell.  It has code for Python.\n",
        "# If the code starts with a hash/pound, then it is a comment and will be ignored"
      ]
    },
    {
      "cell_type": "markdown",
      "id": "f762c1ce",
      "metadata": {
        "id": "f762c1ce"
      },
      "source": [
        "### Sample Python Code\n",
        "\n",
        "This first example prints a message"
      ]
    },
    {
      "cell_type": "code",
      "execution_count": null,
      "id": "6d6b7dcd",
      "metadata": {
        "id": "6d6b7dcd"
      },
      "outputs": [],
      "source": [
        "print(\"Hello, World!\")"
      ]
    },
    {
      "cell_type": "markdown",
      "id": "9d50b81b",
      "metadata": {
        "id": "9d50b81b"
      },
      "source": [
        "### Import libraries\n",
        "\n",
        "We will import two libraries\n",
        "- Pandas, which is like Excel for Python.  It creates 2-dimensional data frames and lets you work with the rows and columns.  \n",
        "- StatsModels has sample data for use in experimenting with Python"
      ]
    },
    {
      "cell_type": "code",
      "execution_count": null,
      "id": "4630f356",
      "metadata": {
        "id": "4630f356"
      },
      "outputs": [],
      "source": [
        "import pandas as pd\n",
        "import statsmodels.api as sm"
      ]
    },
    {
      "cell_type": "markdown",
      "id": "f4528a1c",
      "metadata": {
        "id": "f4528a1c"
      },
      "source": [
        "### Import Sample Data\n",
        "\n",
        "We will import some sample data that will be used in Lab 1.  \n",
        "\n",
        "In the code cell below, you will see lines that start with pound/hashtag that are comments"
      ]
    },
    {
      "cell_type": "code",
      "execution_count": null,
      "id": "577c29d2",
      "metadata": {
        "id": "577c29d2"
      },
      "outputs": [],
      "source": [
        "# don't worry about the details of this first line.  It is importing data into a variable called \"mtcars\"\n",
        "mtcars = sm.datasets.get_rdataset(\"mtcars\", \"datasets\", cache=True).data\n",
        "\n",
        "# convert the data into a DataFrame called \"df\"\n",
        "df = pd.DataFrame(mtcars)\n",
        "\n",
        "# print the DataFrame\n",
        "print(df)"
      ]
    }
  ],
  "metadata": {
    "language_info": {
      "name": "python"
    },
    "colab": {
      "provenance": []
    }
  },
  "nbformat": 4,
  "nbformat_minor": 5
}