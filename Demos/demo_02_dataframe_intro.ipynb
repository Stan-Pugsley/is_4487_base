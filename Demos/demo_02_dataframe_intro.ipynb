{
  "cells": [
    {
      "cell_type": "markdown",
      "id": "4a493380",
      "metadata": {
        "id": "4a493380"
      },
      "source": [
        "# IS4487 Week 2 - Practice Code\n",
        "\n",
        "This notebook is designed to help you follow along with the **Week 2 Lecture and Reading**\n",
        "\n",
        "The practice code demos are intended to give you a chance to see working code and can be a source for your lab and assignment work.  Each section contains short explanations and annotated code that reflect the steps in the reading.\n",
        "\n",
        "### Topics for this demo:\n",
        "- Importing data to a dataframe\n",
        "- Filtering columns in a dataframe\n",
        "- Filtering rows in a dataframe\n",
        "- Aggregating data\n",
        "\n",
        "<a href=\"https://colab.research.google.com/github/Stan-Pugsley/is_4487_base/blob/main/Demos/demo_02_dataframe_intro.ipynb\" target=\"_parent\"><img src=\"https://colab.research.google.com/assets/colab-badge.svg\" alt=\"Open In Colab\"/></a>\n",
        "\n",
        "More information:\n",
        "- Learn more about Colab here:  https://research.google.com/colaboratory/faq.html\n",
        "- Learn more about Pandas here: https://pandas.pydata.org/docs/user_guide/10min.html\n"
      ]
    },
    {
      "cell_type": "markdown",
      "id": "8cfa8673",
      "metadata": {
        "id": "8cfa8673"
      },
      "source": [
        "### Context: Motor Trend Car Road Tests\n",
        "This example uses a small set of data from the 1970s with road tests from cars.  This is the classic dataset that statisticians have been using for the last 50 years to learn to work with data.  \n",
        "\n",
        "| Column | Description                              |\n",
        "| ------ | ---------------------------------------- |\n",
        "| mpg    | Miles per gallon (fuel efficiency)       |\n",
        "| cyl    | Number of cylinders                      |\n",
        "| disp   | Displacement (cu. in.)                   |\n",
        "| hp     | Gross horsepower                         |\n",
        "| drat   | Rear axle ratio                          |\n",
        "| wt     | Weight (1000 lbs)                        |\n",
        "| qsec   | ¼ mile time                              |\n",
        "| vs     | Engine type (0 = V-shaped, 1 = straight) |\n",
        "| am     | Transmission (0 = automatic, 1 = manual) |\n",
        "| gear   | Number of forward gears                  |\n",
        "| carb   | Number of carburetors                    |\n",
        "\n",
        "\n",
        "Your task is to import the data into a dataframe and learn to work with it as you would an Excel sheet."
      ]
    },
    {
      "cell_type": "markdown",
      "id": "9d50b81b",
      "metadata": {
        "id": "9d50b81b"
      },
      "source": [
        "### Import libraries\n",
        "\n",
        "We will import two libraries\n",
        "- Pandas, which is like Excel for Python.  It creates 2-dimensional data frames and lets you work with the rows and columns.  \n",
        "- StatsModels has sample data for use in experimenting with Python"
      ]
    },
    {
      "cell_type": "code",
      "execution_count": null,
      "id": "4630f356",
      "metadata": {
        "id": "4630f356"
      },
      "outputs": [],
      "source": [
        "import pandas as pd\n",
        "import statsmodels.api as sm"
      ]
    },
    {
      "cell_type": "markdown",
      "id": "f4528a1c",
      "metadata": {
        "id": "f4528a1c"
      },
      "source": [
        "### Import Sample Data\n",
        "\n",
        "Use the data from Lab 1"
      ]
    },
    {
      "cell_type": "code",
      "execution_count": null,
      "id": "577c29d2",
      "metadata": {
        "id": "577c29d2"
      },
      "outputs": [],
      "source": [
        "mtcars = sm.datasets.get_rdataset(\"mtcars\", \"datasets\", cache=True).data\n",
        "df = pd.DataFrame(mtcars)\n",
        "print(df)"
      ]
    },
    {
      "cell_type": "markdown",
      "id": "2e371dda",
      "metadata": {
        "id": "2e371dda"
      },
      "source": [
        "### Create Summary Statistics\n",
        "\n",
        "We will use Pandas functions to preview the data"
      ]
    },
    {
      "cell_type": "code",
      "execution_count": null,
      "id": "6681aeb0",
      "metadata": {
        "id": "6681aeb0"
      },
      "outputs": [],
      "source": [
        "df.info()"
      ]
    },
    {
      "cell_type": "code",
      "execution_count": null,
      "id": "638c14ec",
      "metadata": {
        "id": "638c14ec"
      },
      "outputs": [],
      "source": [
        "df.describe()"
      ]
    },
    {
      "cell_type": "markdown",
      "id": "f2b69435",
      "metadata": {
        "id": "f2b69435"
      },
      "source": [
        "### Work with the DataFrame\n",
        "\n",
        "We will filter and reshape the dataset"
      ]
    },
    {
      "cell_type": "code",
      "execution_count": null,
      "id": "238629db",
      "metadata": {
        "id": "238629db"
      },
      "outputs": [],
      "source": [
        "#remove the Toyota Corolla row\n",
        "df2 = df[df.index != 'Toyota Corolla']\n",
        "print(df2)"
      ]
    },
    {
      "cell_type": "code",
      "execution_count": null,
      "id": "32dd4967",
      "metadata": {
        "id": "32dd4967"
      },
      "outputs": [],
      "source": [
        "#create a new dataframe with the first two columns\n",
        "df3 = df2[['mpg', 'cyl']]\n",
        "print(df3)"
      ]
    },
    {
      "cell_type": "code",
      "execution_count": null,
      "id": "0d2a4ef2",
      "metadata": {
        "id": "0d2a4ef2"
      },
      "outputs": [],
      "source": [
        "\n",
        "#sort the rows by mpg\n",
        "df3.sort_values(by=['mpg'], inplace=True)\n",
        "print(df3)"
      ]
    },
    {
      "cell_type": "code",
      "execution_count": null,
      "id": "238330c4",
      "metadata": {
        "id": "238330c4"
      },
      "outputs": [],
      "source": [
        "#aggregate the data to get the number of cars with each cylinder count\n",
        "df4 = df3.groupby('cyl').size().reset_index(name='count')\n",
        "print(df4)"
      ]
    }
  ],
  "metadata": {
    "language_info": {
      "name": "python"
    },
    "colab": {
      "provenance": []
    },
    "kernelspec": {
      "name": "python3",
      "display_name": "Python 3"
    }
  },
  "nbformat": 4,
  "nbformat_minor": 5
}