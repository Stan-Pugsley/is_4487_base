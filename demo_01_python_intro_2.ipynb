{
  "cells": [
    {
      "cell_type": "markdown",
      "metadata": {
        "id": "view-in-github",
        "colab_type": "text"
      },
      "source": [
        "<a href=\"https://colab.research.google.com/github/vandanara/UofUtah_IS4487/blob/main/demo_01_python_intro_2.ipynb\" target=\"_parent\"><img src=\"https://colab.research.google.com/assets/colab-badge.svg\" alt=\"Open In Colab\"/></a>"
      ]
    },
    {
      "cell_type": "markdown",
      "id": "4a493380",
      "metadata": {
        "id": "4a493380"
      },
      "source": [
        "# IS4487 Week 1 - Practice Code\n",
        "\n",
        "This notebook is designed to help you follow along with the **Week 1 Lecture and Reading**, introducing you to Python.\n",
        "\n",
        "The practice code demos are intended to give you a chance to see working code and can be a source for your lab and assignment work.  Each section contains short explanations and annotated code that reflect the steps in the reading.\n",
        "\n",
        "### Topics for this demo:\n",
        "- How to use Colab\n",
        "- Importing libraries\n",
        "- Creating a simple output from Python\n",
        "- Obtaining data from built-in data sources for our use\n",
        "\n",
        "<a href=\"https://colab.research.google.com/github/vandanara/UofUtah_IS4487/blob/main/Demos/demo_01_python_intro.ipynb\" target=\"_parent\"><img src=\"https://colab.research.google.com/assets/colab-badge.svg\" alt=\"Open In Colab\"/></a>\n",
        "\n",
        "---"
      ]
    },
    {
      "cell_type": "markdown",
      "id": "201472fc",
      "metadata": {
        "id": "201472fc"
      },
      "source": [
        "### This is a \"Markdown\" cell and this line is a L3 heading\n",
        "\n",
        "You can use this type of box to give descriptions of what you are trying to accomplish. \\\n",
        "Double-click on this cell to see how the Markdown is written.\n"
      ]
    },
    {
      "cell_type": "code",
      "execution_count": null,
      "id": "ffbeac76",
      "metadata": {
        "id": "ffbeac76"
      },
      "outputs": [],
      "source": [
        "# This is a code cell.  It has code for Python.\n",
        "# If the code starts with a hash/pound, then it is a comment and will be ignored"
      ]
    },
    {
      "cell_type": "markdown",
      "id": "f762c1ce",
      "metadata": {
        "id": "f762c1ce"
      },
      "source": [
        "### Sample Python Code\n",
        "\n",
        "This first example prints a message"
      ]
    },
    {
      "cell_type": "code",
      "execution_count": null,
      "id": "6d6b7dcd",
      "metadata": {
        "id": "6d6b7dcd"
      },
      "outputs": [],
      "source": [
        "print(\"Hello, World!\")"
      ]
    },
    {
      "cell_type": "markdown",
      "source": [
        "This second example creates a variable and saves a value in it. Calling the variable prints its stored value.\n",
        "\n"
      ],
      "metadata": {
        "id": "4ml0CeDcr1hR"
      },
      "id": "4ml0CeDcr1hR"
    },
    {
      "cell_type": "code",
      "source": [
        "var = 10\n",
        "var"
      ],
      "metadata": {
        "id": "CYYVwsSRr0bs"
      },
      "id": "CYYVwsSRr0bs",
      "execution_count": null,
      "outputs": []
    },
    {
      "cell_type": "markdown",
      "id": "9d50b81b",
      "metadata": {
        "id": "9d50b81b"
      },
      "source": [
        "### Import libraries\n",
        "\n",
        "We will import two libraries.\n",
        "\n",
        "- **Pandas**, which is like Excel for Python.  It creates 2-dimensional table called *Dataframes* and lets you work with the rows and columns. Rows are indexed 0,1,... and columns have labels.\n",
        "- **StatsModels**, has functions for estimating many statistical models, and also has sample data for use as examples in experimenting with Python data analytics.\n",
        "\n",
        "After importing the libraries we will give them short names using `as` for convenience."
      ]
    },
    {
      "cell_type": "code",
      "execution_count": null,
      "id": "4630f356",
      "metadata": {
        "id": "4630f356"
      },
      "outputs": [],
      "source": [
        "import pandas as pd\n",
        "import statsmodels.api as sm"
      ]
    },
    {
      "cell_type": "markdown",
      "id": "f4528a1c",
      "metadata": {
        "id": "f4528a1c"
      },
      "source": [
        "### Obtain Sample Data\n",
        "\n",
        "We will obtain some sample data from built-in sources for us to use.  \n",
        "\n",
        "The mtcars dataset contains data extracted from the 1974 Motor Trend US magazine, comprising fuel consumption and 10 aspects of automobile design and performance for 32 automobiles (1973–74 models)\n",
        "\n",
        "In the code cell below, you will see lines that start with pound/hashtag that are comments."
      ]
    },
    {
      "cell_type": "code",
      "execution_count": null,
      "id": "577c29d2",
      "metadata": {
        "id": "577c29d2",
        "outputId": "be606751-6863-4bea-faf1-9e10b24a0e3d",
        "colab": {
          "base_uri": "https://localhost:8080/"
        }
      },
      "outputs": [
        {
          "output_type": "stream",
          "name": "stdout",
          "text": [
            "<class 'statsmodels.datasets.utils.Dataset'>\n",
            "<class 'pandas.core.frame.DataFrame'>\n"
          ]
        }
      ],
      "source": [
        "# don't worry about the details of this first line.  It is obtaining a dataset\n",
        "# called \"mtcars\" from a package called \"datasets\" and storing into a variable called \"mtcars_dataset\".\n",
        "# Sfter getting the data, saves to cache on local machine, to make it faster to access\n",
        "mtcars_dataset = sm.datasets.get_rdataset(\"mtcars\", \"datasets\", cache=True)\n",
        "\n",
        "# we then extract just the data from the dataset using .data\n",
        "mtcars_df = mtcars_dataset.data\n",
        "\n",
        "# let's see what kind of objects are stored in these two variables\n",
        "print(type(mtcars_dataset))\n",
        "print(type(mtcars_df))\n",
        "\n",
        "# can explicitly convert the data into a DataFrame called \"df\"\n",
        "df = pd.DataFrame(mtcars_df)\n"
      ]
    },
    {
      "cell_type": "code",
      "source": [
        "# print the DataFrame - we will view only the head - meaning top 5 rows by default\n",
        "print(df.head())"
      ],
      "metadata": {
        "id": "a4brXnl-8scJ",
        "outputId": "bbfd93e9-9720-4a3f-fd73-144b6ceb1d76",
        "colab": {
          "base_uri": "https://localhost:8080/"
        }
      },
      "id": "a4brXnl-8scJ",
      "execution_count": null,
      "outputs": [
        {
          "output_type": "stream",
          "name": "stdout",
          "text": [
            "                    mpg  cyl   disp   hp  drat     wt   qsec  vs  am  gear  carb\n",
            "rownames                                                                        \n",
            "Mazda RX4          21.0    6  160.0  110  3.90  2.620  16.46   0   1     4     4\n",
            "Mazda RX4 Wag      21.0    6  160.0  110  3.90  2.875  17.02   0   1     4     4\n",
            "Datsun 710         22.8    4  108.0   93  3.85  2.320  18.61   1   1     4     1\n",
            "Hornet 4 Drive     21.4    6  258.0  110  3.08  3.215  19.44   1   0     3     1\n",
            "Hornet Sportabout  18.7    8  360.0  175  3.15  3.440  17.02   0   0     3     2\n"
          ]
        }
      ]
    },
    {
      "cell_type": "code",
      "source": [
        "# Set display width of Pandas outputs to a larger number to prevent wrapping\n",
        "pd.set_option('display.width', 1000)\n",
        "pd.set_option('display.max_columns', None) # Display all columns without truncation"
      ],
      "metadata": {
        "id": "bE3S1uAftsOG"
      },
      "id": "bE3S1uAftsOG",
      "execution_count": null,
      "outputs": []
    },
    {
      "cell_type": "code",
      "source": [
        "print(df.head(10))"
      ],
      "metadata": {
        "id": "EIPknwlQ5rml",
        "outputId": "36e00f4f-e6ff-441b-8a81-d30b91882d99",
        "colab": {
          "base_uri": "https://localhost:8080/"
        }
      },
      "id": "EIPknwlQ5rml",
      "execution_count": null,
      "outputs": [
        {
          "output_type": "stream",
          "name": "stdout",
          "text": [
            "                    mpg  cyl   disp   hp  drat     wt   qsec  vs  am  gear  carb\n",
            "rownames                                                                        \n",
            "Mazda RX4          21.0    6  160.0  110  3.90  2.620  16.46   0   1     4     4\n",
            "Mazda RX4 Wag      21.0    6  160.0  110  3.90  2.875  17.02   0   1     4     4\n",
            "Datsun 710         22.8    4  108.0   93  3.85  2.320  18.61   1   1     4     1\n",
            "Hornet 4 Drive     21.4    6  258.0  110  3.08  3.215  19.44   1   0     3     1\n",
            "Hornet Sportabout  18.7    8  360.0  175  3.15  3.440  17.02   0   0     3     2\n",
            "Valiant            18.1    6  225.0  105  2.76  3.460  20.22   1   0     3     1\n",
            "Duster 360         14.3    8  360.0  245  3.21  3.570  15.84   0   0     3     4\n",
            "Merc 240D          24.4    4  146.7   62  3.69  3.190  20.00   1   0     4     2\n",
            "Merc 230           22.8    4  140.8   95  3.92  3.150  22.90   1   0     4     2\n",
            "Merc 280           19.2    6  167.6  123  3.92  3.440  18.30   1   0     4     4\n"
          ]
        }
      ]
    },
    {
      "cell_type": "code",
      "source": [
        "# to know more about the dataset, we can use .__doc__ attribute\n",
        "print(mtcars_dataset.__doc__)"
      ],
      "metadata": {
        "id": "_dsAO-st5wFj",
        "outputId": "050eb207-0417-471f-dafd-d036c4b2b9c0",
        "colab": {
          "base_uri": "https://localhost:8080/"
        }
      },
      "id": "_dsAO-st5wFj",
      "execution_count": null,
      "outputs": [
        {
          "output_type": "stream",
          "name": "stdout",
          "text": [
            ".. container::\n",
            "\n",
            "   .. container::\n",
            "\n",
            "      ====== ===============\n",
            "      mtcars R Documentation\n",
            "      ====== ===============\n",
            "\n",
            "      .. rubric:: Motor Trend Car Road Tests\n",
            "         :name: motor-trend-car-road-tests\n",
            "\n",
            "      .. rubric:: Description\n",
            "         :name: description\n",
            "\n",
            "      The data was extracted from the 1974 *Motor Trend* US magazine,\n",
            "      and comprises fuel consumption and 10 aspects of automobile design\n",
            "      and performance for 32 automobiles (1973–74 models).\n",
            "\n",
            "      .. rubric:: Usage\n",
            "         :name: usage\n",
            "\n",
            "      .. code:: R\n",
            "\n",
            "         mtcars\n",
            "\n",
            "      .. rubric:: Format\n",
            "         :name: format\n",
            "\n",
            "      A data frame with 32 observations on 11 (numeric) variables.\n",
            "\n",
            "      ===== ======== ========================================\n",
            "      [, 1] ``mpg``  Miles/(US) gallon\n",
            "      [, 2] ``cyl``  Number of cylinders\n",
            "      [, 3] ``disp`` Displacement (cu.in.)\n",
            "      [, 4] ``hp``   Gross horsepower\n",
            "      [, 5] ``drat`` Rear axle ratio\n",
            "      [, 6] ``wt``   Weight (1000 lbs)\n",
            "      [, 7] ``qsec`` 1/4 mile time\n",
            "      [, 8] ``vs``   Engine (0 = V-shaped, 1 = straight)\n",
            "      [, 9] ``am``   Transmission (0 = automatic, 1 = manual)\n",
            "      [,10] ``gear`` Number of forward gears\n",
            "      [,11] ``carb`` Number of carburetors\n",
            "      ===== ======== ========================================\n",
            "\n",
            "      .. rubric:: Note\n",
            "         :name: note\n",
            "\n",
            "      Henderson and Velleman (1981) comment in a footnote to Table 1:\n",
            "      ‘Hocking [original transcriber]'s noncrucial coding of the Mazda's\n",
            "      rotary engine as a straight six-cylinder engine and the Porsche's\n",
            "      flat engine as a V engine, as well as the inclusion of the diesel\n",
            "      Mercedes 240D, have been retained to enable direct comparisons to\n",
            "      be made with previous analyses.’\n",
            "\n",
            "      .. rubric:: Source\n",
            "         :name: source\n",
            "\n",
            "      Henderson and Velleman (1981), Building multiple regression models\n",
            "      interactively. *Biometrics*, **37**, 391–411.\n",
            "\n",
            "      .. rubric:: Examples\n",
            "         :name: examples\n",
            "\n",
            "      .. code:: R\n",
            "\n",
            "         require(graphics)\n",
            "         pairs(mtcars, main = \"mtcars data\", gap = 1/4)\n",
            "         coplot(mpg ~ disp | as.factor(cyl), data = mtcars,\n",
            "                panel = panel.smooth, rows = 1)\n",
            "         ## possibly more meaningful, e.g., for summary() or bivariate plots:\n",
            "         mtcars2 <- within(mtcars, {\n",
            "            vs <- factor(vs, labels = c(\"V\", \"S\"))\n",
            "            am <- factor(am, labels = c(\"automatic\", \"manual\"))\n",
            "            cyl  <- ordered(cyl)\n",
            "            gear <- ordered(gear)\n",
            "            carb <- ordered(carb)\n",
            "         })\n",
            "         summary(mtcars2)\n",
            "\n"
          ]
        }
      ]
    },
    {
      "cell_type": "code",
      "source": [
        "sm.datasets."
      ],
      "metadata": {
        "id": "TWAH3Q2U576q",
        "outputId": "766900e4-62e3-4289-bccd-9e974a671772",
        "colab": {
          "base_uri": "https://localhost:8080/",
          "height": 143
        }
      },
      "id": "TWAH3Q2U576q",
      "execution_count": null,
      "outputs": [
        {
          "output_type": "error",
          "ename": "AttributeError",
          "evalue": "module 'statsmodels.datasets' has no attribute 'mtcars'",
          "traceback": [
            "\u001b[0;31m---------------------------------------------------------------------------\u001b[0m",
            "\u001b[0;31mAttributeError\u001b[0m                            Traceback (most recent call last)",
            "\u001b[0;32m/tmp/ipython-input-1392892026.py\u001b[0m in \u001b[0;36m<cell line: 0>\u001b[0;34m()\u001b[0m\n\u001b[0;32m----> 1\u001b[0;31m \u001b[0msm\u001b[0m\u001b[0;34m.\u001b[0m\u001b[0mdatasets\u001b[0m\u001b[0;34m.\u001b[0m\u001b[0mmtcars\u001b[0m\u001b[0;34m.\u001b[0m\u001b[0mload_pandas\u001b[0m\u001b[0;34m(\u001b[0m\u001b[0;34m)\u001b[0m\u001b[0;34m\u001b[0m\u001b[0;34m\u001b[0m\u001b[0m\n\u001b[0m",
            "\u001b[0;31mAttributeError\u001b[0m: module 'statsmodels.datasets' has no attribute 'mtcars'"
          ]
        }
      ]
    },
    {
      "cell_type": "code",
      "source": [],
      "metadata": {
        "id": "lMhuw5fN65ka"
      },
      "id": "lMhuw5fN65ka",
      "execution_count": null,
      "outputs": []
    }
  ],
  "metadata": {
    "language_info": {
      "name": "python"
    },
    "colab": {
      "provenance": [],
      "include_colab_link": true
    },
    "kernelspec": {
      "name": "python3",
      "display_name": "Python 3"
    }
  },
  "nbformat": 4,
  "nbformat_minor": 5
}