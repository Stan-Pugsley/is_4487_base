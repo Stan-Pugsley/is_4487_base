{
  "cells": [
    {
      "cell_type": "markdown",
      "metadata": {
        "id": "view-in-github",
        "colab_type": "text"
      },
      "source": [
        "<a href=\"https://colab.research.google.com/github/vandanara/UofUtah_IS4487/blob/main/demo_01_python_intro_2.ipynb\" target=\"_parent\"><img src=\"https://colab.research.google.com/assets/colab-badge.svg\" alt=\"Open In Colab\"/></a>"
      ]
    },
    {
      "cell_type": "markdown",
      "id": "4a493380",
      "metadata": {
        "id": "4a493380"
      },
      "source": [
        "# IS4487 Week 1 - Practice Code\n",
        "\n",
        "This notebook is designed to help you follow along with the **Week 1 Lecture and Reading**, introducing you to Python.\n",
        "\n",
        "The practice code demos are intended to give you a chance to see working code and can be a source for your lab and assignment work.  Each section contains short explanations and annotated code that reflect the steps in the reading.\n",
        "\n",
        "### Topics for this demo:\n",
        "- How to use Colab\n",
        "- Importing libraries\n",
        "- Creating a simple output from Python\n",
        "- Obtaining data from built-in data sources for our use\n",
        "\n",
        "<a href=\"https://colab.research.google.com/github/vandanara/UofUtah_IS4487/blob/main/Demos/demo_01_python_intro_2.ipynb\" target=\"_parent\"><img src=\"https://colab.research.google.com/assets/colab-badge.svg\" alt=\"Open In Colab\"/></a>\n",
        "\n",
        "---"
      ]
    },
    {
      "cell_type": "markdown",
      "id": "201472fc",
      "metadata": {
        "id": "201472fc"
      },
      "source": [
        "### This is a \"Markdown\" cell and this line is a L3 heading\n",
        "\n",
        "You can use this type of box to give descriptions of what you are trying to accomplish. \\\n",
        "Double-click on this cell to see how the Markdown is written.\n"
      ]
    },
    {
      "cell_type": "code",
      "execution_count": null,
      "id": "ffbeac76",
      "metadata": {
        "id": "ffbeac76"
      },
      "outputs": [],
      "source": [
        "# This is a code cell.  It has code for Python.\n",
        "# If the code starts with a hash/pound, then it is a comment and will be ignored"
      ]
    },
    {
      "cell_type": "markdown",
      "id": "f762c1ce",
      "metadata": {
        "id": "f762c1ce"
      },
      "source": [
        "### Sample Python Code\n",
        "\n",
        "This first example prints a message"
      ]
    },
    {
      "cell_type": "code",
      "execution_count": null,
      "id": "6d6b7dcd",
      "metadata": {
        "id": "6d6b7dcd"
      },
      "outputs": [],
      "source": [
        "print(\"Hello, World!\")"
      ]
    },
    {
      "cell_type": "markdown",
      "source": [
        "This second example creates a variable and saves a value in it. Calling the variable prints its stored value.\n",
        "\n"
      ],
      "metadata": {
        "id": "4ml0CeDcr1hR"
      },
      "id": "4ml0CeDcr1hR"
    },
    {
      "cell_type": "code",
      "source": [
        "var = 10\n",
        "var"
      ],
      "metadata": {
        "id": "CYYVwsSRr0bs"
      },
      "id": "CYYVwsSRr0bs",
      "execution_count": null,
      "outputs": []
    },
    {
      "cell_type": "markdown",
      "id": "9d50b81b",
      "metadata": {
        "id": "9d50b81b"
      },
      "source": [
        "### Import libraries\n",
        "\n",
        "We will import two libraries.\n",
        "\n",
        "- **Pandas**, which is like Excel for Python.  It creates 2-dimensional table called *Dataframes* and lets you work with the rows and columns. Rows are indexed 0,1,... and columns have labels.\n",
        "- **StatsModels**, has functions for estimating many statistical models, and also has sample data for use as examples in experimenting with Python data analytics. We will import a sub-package `statsmodels.api` - which is the main entry point for most of the functionality in statsmodels.\n",
        "\n",
        "After importing the libraries we will give them short names using `as` for convenience."
      ]
    },
    {
      "cell_type": "code",
      "execution_count": null,
      "id": "4630f356",
      "metadata": {
        "id": "4630f356"
      },
      "outputs": [],
      "source": [
        "import pandas as pd\n",
        "import statsmodels.api as sm"
      ]
    },
    {
      "cell_type": "markdown",
      "id": "f4528a1c",
      "metadata": {
        "id": "f4528a1c"
      },
      "source": [
        "### Obtain Sample Data\n",
        "\n",
        "We will obtain some sample data. Datasets available in R’s core datasets package are available to statsmodels by using the `get_rdataset` function. The actual data is accessible by the `data` attribute.\n",
        "\n",
        "The mtcars dataset contains data extracted from the 1974 Motor Trend US magazine, comprising fuel consumption and 10 aspects of automobile design and performance for 32 automobiles (1973–74 models)\n",
        "\n",
        "In the code cell below, you will see lines that start with pound/hashtag that are comments."
      ]
    },
    {
      "cell_type": "code",
      "execution_count": null,
      "id": "577c29d2",
      "metadata": {
        "id": "577c29d2"
      },
      "outputs": [],
      "source": [
        "# don't worry about the details of this first line.  It is obtaining a dataset\n",
        "# called \"mtcars\" from a package called \"datasets\" and storing into a variable called \"mtcars_dataset\".\n",
        "# Sfter getting the data, saves to cache on local machine, to make it faster to access\n",
        "mtcars_dataset = sm.datasets.get_rdataset(\"mtcars\", \"datasets\", cache=True)\n",
        "\n",
        "# we then extract just the data from the dataset using .data\n",
        "mtcars_df = mtcars_dataset.data\n",
        "\n",
        "# let's see what kind of objects are stored in these two variables\n",
        "print(type(mtcars_dataset))\n",
        "print(type(mtcars_df))\n",
        "\n",
        "# can explicitly convert the data into a DataFrame called \"df\"\n",
        "df = pd.DataFrame(mtcars_df)\n"
      ]
    },
    {
      "cell_type": "code",
      "source": [
        "# print the DataFrame - we will view only the head - meaning top 5 rows by default\n",
        "print(df.head())"
      ],
      "metadata": {
        "id": "a4brXnl-8scJ"
      },
      "id": "a4brXnl-8scJ",
      "execution_count": null,
      "outputs": []
    },
    {
      "cell_type": "code",
      "source": [
        "# Set display width of Pandas outputs to a larger number to prevent wrapping\n",
        "pd.set_option('display.width', 1000)\n",
        "pd.set_option('display.max_columns', None) # Display all columns without truncation"
      ],
      "metadata": {
        "id": "bE3S1uAftsOG"
      },
      "id": "bE3S1uAftsOG",
      "execution_count": null,
      "outputs": []
    },
    {
      "cell_type": "code",
      "source": [
        "print(df.head(10))"
      ],
      "metadata": {
        "id": "EIPknwlQ5rml"
      },
      "id": "EIPknwlQ5rml",
      "execution_count": null,
      "outputs": []
    },
    {
      "cell_type": "code",
      "source": [
        "# to know more about the dataset, we can use .__doc__ attribute\n",
        "print(mtcars_dataset.__doc__)"
      ],
      "metadata": {
        "id": "_dsAO-st5wFj"
      },
      "id": "_dsAO-st5wFj",
      "execution_count": null,
      "outputs": []
    }
  ],
  "metadata": {
    "language_info": {
      "name": "python"
    },
    "colab": {
      "provenance": [],
      "include_colab_link": true
    },
    "kernelspec": {
      "name": "python3",
      "display_name": "Python 3"
    }
  },
  "nbformat": 4,
  "nbformat_minor": 5
}